{
  "nbformat": 4,
  "nbformat_minor": 0,
  "metadata": {
    "colab": {
      "provenance": []
    },
    "kernelspec": {
      "name": "python3",
      "display_name": "Python 3"
    },
    "language_info": {
      "name": "python"
    }
  },
  "cells": [
    {
      "cell_type": "markdown",
      "source": [
        "# INTRODUCTION\n",
        "\n",
        "Inability to pay the loan has been an issue which the banks are facing since years worlwide. What happens exactly is, the customer agrees to pay a certain amount on interest on the \"Amount Funded\" to the banks which is made as an agreement before the loan is sanctioned. Due to unforeseen events like jos-loss or death of the customer, the customer or the joint agreed members are unable to pay the loan/EMI on time for months or years, or sometimes, it may be intentional as well.\n",
        "\n",
        "<br>\n",
        "\n"
      ],
      "metadata": {
        "id": "yR8Tqqu1ntTP"
      }
    },
    {
      "cell_type": "markdown",
      "source": [
        "#PROBLEM STATEMENT:<br>\n",
        "Due to this non-repayment of loans, it has different impact on the banks as well as the customers:<br>\n",
        "\n",
        "1. For the customers, the customer's financial score reduces as a result they are not able to apply for further loans with other banks or financial institutions or sometimes, they even need to surrender the asset being financed. <br>\n",
        "\n",
        "2. For the bank, the non-repayment of loan comes with increased NPAs(Non-Performing Assets) which leads to surge in annual losses for the bank, eventually leading to lesser Stakeholder's dividend.<br>\n",
        "\n",
        "In order to tackle this situation, we are using the given dataset to foresee the bank loan defaulters. We will build a model by using the given data in the respective columns like funded amount, tenure of the loan, interest rate and delinquency. Building the model will anticipate whether the customer will default in the loan in the future.<br>\n",
        "\n",
        "Working on these models, it will be beneficial for the banks to mitigate the risk. As a result of this, the economy of the country would also be impacted in a positive way.<br>\n",
        "The data set was downloded from kaggle:- https://www.kaggle.com/datasets/hemanthsai7/loandefault\n"
      ],
      "metadata": {
        "id": "U2XqhvIMF3Jq"
      }
    },
    {
      "cell_type": "markdown",
      "source": [
        "# Importing Libraries"
      ],
      "metadata": {
        "id": "EbfnWzbzzKcX"
      }
    },
    {
      "cell_type": "code",
      "execution_count": null,
      "metadata": {
        "id": "Okv55L5fXFPj"
      },
      "outputs": [],
      "source": [
        "import pandas as pd\n",
        "import matplotlib.pyplot as plt\n",
        "import seaborn as sns\n",
        "import sklearn\n",
        "from sklearn.model_selection import train_test_split"
      ]
    },
    {
      "cell_type": "markdown",
      "source": [
        "# Reading data"
      ],
      "metadata": {
        "id": "FZEsQwYwzQ0b"
      }
    },
    {
      "cell_type": "code",
      "source": [
        "default_fin_df = pd.read_csv(\"train.csv\")\n",
        "default_fin_df.head()"
      ],
      "metadata": {
        "colab": {
          "base_uri": "https://localhost:8080/",
          "height": 307
        },
        "id": "F6JeTa3rY0V7",
        "outputId": "b293c857-41f8-4157-96c1-c6b684a1d5fc"
      },
      "execution_count": null,
      "outputs": [
        {
          "output_type": "execute_result",
          "data": {
            "text/plain": [
              "         ID  Loan Amount  Funded Amount  Funded Amount Investor  Term  \\\n",
              "0  65087372        10000          32236             12329.36286    59   \n",
              "1   1450153         3609          11940             12191.99692    59   \n",
              "2   1969101        28276           9311             21603.22455    59   \n",
              "3   6651430        11170           6954             17877.15585    59   \n",
              "4  14354669        16890          13226             13539.92667    59   \n",
              "\n",
              "  Batch Enrolled  Interest Rate Grade Sub Grade Employment Duration  ...  \\\n",
              "0     BAT2522922      11.135007     B        C4            MORTGAGE  ...   \n",
              "1     BAT1586599      12.237563     C        D3                RENT  ...   \n",
              "2     BAT2136391      12.545884     F        D4            MORTGAGE  ...   \n",
              "3     BAT2428731      16.731201     C        C3            MORTGAGE  ...   \n",
              "4     BAT5341619      15.008300     C        D4            MORTGAGE  ...   \n",
              "\n",
              "    Recoveries Collection Recovery Fee Collection 12 months Medical  \\\n",
              "0     2.498291                0.793724                            0   \n",
              "1     2.377215                0.974821                            0   \n",
              "2     4.316277                1.020075                            0   \n",
              "3     0.107020                0.749971                            0   \n",
              "4  1294.818751                0.368953                            0   \n",
              "\n",
              "  Application Type  Last week Pay  Accounts Delinquent  \\\n",
              "0       INDIVIDUAL             49                    0   \n",
              "1       INDIVIDUAL            109                    0   \n",
              "2       INDIVIDUAL             66                    0   \n",
              "3       INDIVIDUAL             39                    0   \n",
              "4       INDIVIDUAL             18                    0   \n",
              "\n",
              "   Total Collection Amount  Total Current Balance  \\\n",
              "0                       31                 311301   \n",
              "1                       53                 182610   \n",
              "2                       34                  89801   \n",
              "3                       40                   9189   \n",
              "4                      430                 126029   \n",
              "\n",
              "   Total Revolving Credit Limit  Loan Status  \n",
              "0                          6619            0  \n",
              "1                         20885            0  \n",
              "2                         26155            0  \n",
              "3                         60214            0  \n",
              "4                         22579            0  \n",
              "\n",
              "[5 rows x 35 columns]"
            ],
            "text/html": [
              "\n",
              "  <div id=\"df-89caf634-512b-425f-8a87-a3322b4ef33b\" class=\"colab-df-container\">\n",
              "    <div>\n",
              "<style scoped>\n",
              "    .dataframe tbody tr th:only-of-type {\n",
              "        vertical-align: middle;\n",
              "    }\n",
              "\n",
              "    .dataframe tbody tr th {\n",
              "        vertical-align: top;\n",
              "    }\n",
              "\n",
              "    .dataframe thead th {\n",
              "        text-align: right;\n",
              "    }\n",
              "</style>\n",
              "<table border=\"1\" class=\"dataframe\">\n",
              "  <thead>\n",
              "    <tr style=\"text-align: right;\">\n",
              "      <th></th>\n",
              "      <th>ID</th>\n",
              "      <th>Loan Amount</th>\n",
              "      <th>Funded Amount</th>\n",
              "      <th>Funded Amount Investor</th>\n",
              "      <th>Term</th>\n",
              "      <th>Batch Enrolled</th>\n",
              "      <th>Interest Rate</th>\n",
              "      <th>Grade</th>\n",
              "      <th>Sub Grade</th>\n",
              "      <th>Employment Duration</th>\n",
              "      <th>...</th>\n",
              "      <th>Recoveries</th>\n",
              "      <th>Collection Recovery Fee</th>\n",
              "      <th>Collection 12 months Medical</th>\n",
              "      <th>Application Type</th>\n",
              "      <th>Last week Pay</th>\n",
              "      <th>Accounts Delinquent</th>\n",
              "      <th>Total Collection Amount</th>\n",
              "      <th>Total Current Balance</th>\n",
              "      <th>Total Revolving Credit Limit</th>\n",
              "      <th>Loan Status</th>\n",
              "    </tr>\n",
              "  </thead>\n",
              "  <tbody>\n",
              "    <tr>\n",
              "      <th>0</th>\n",
              "      <td>65087372</td>\n",
              "      <td>10000</td>\n",
              "      <td>32236</td>\n",
              "      <td>12329.36286</td>\n",
              "      <td>59</td>\n",
              "      <td>BAT2522922</td>\n",
              "      <td>11.135007</td>\n",
              "      <td>B</td>\n",
              "      <td>C4</td>\n",
              "      <td>MORTGAGE</td>\n",
              "      <td>...</td>\n",
              "      <td>2.498291</td>\n",
              "      <td>0.793724</td>\n",
              "      <td>0</td>\n",
              "      <td>INDIVIDUAL</td>\n",
              "      <td>49</td>\n",
              "      <td>0</td>\n",
              "      <td>31</td>\n",
              "      <td>311301</td>\n",
              "      <td>6619</td>\n",
              "      <td>0</td>\n",
              "    </tr>\n",
              "    <tr>\n",
              "      <th>1</th>\n",
              "      <td>1450153</td>\n",
              "      <td>3609</td>\n",
              "      <td>11940</td>\n",
              "      <td>12191.99692</td>\n",
              "      <td>59</td>\n",
              "      <td>BAT1586599</td>\n",
              "      <td>12.237563</td>\n",
              "      <td>C</td>\n",
              "      <td>D3</td>\n",
              "      <td>RENT</td>\n",
              "      <td>...</td>\n",
              "      <td>2.377215</td>\n",
              "      <td>0.974821</td>\n",
              "      <td>0</td>\n",
              "      <td>INDIVIDUAL</td>\n",
              "      <td>109</td>\n",
              "      <td>0</td>\n",
              "      <td>53</td>\n",
              "      <td>182610</td>\n",
              "      <td>20885</td>\n",
              "      <td>0</td>\n",
              "    </tr>\n",
              "    <tr>\n",
              "      <th>2</th>\n",
              "      <td>1969101</td>\n",
              "      <td>28276</td>\n",
              "      <td>9311</td>\n",
              "      <td>21603.22455</td>\n",
              "      <td>59</td>\n",
              "      <td>BAT2136391</td>\n",
              "      <td>12.545884</td>\n",
              "      <td>F</td>\n",
              "      <td>D4</td>\n",
              "      <td>MORTGAGE</td>\n",
              "      <td>...</td>\n",
              "      <td>4.316277</td>\n",
              "      <td>1.020075</td>\n",
              "      <td>0</td>\n",
              "      <td>INDIVIDUAL</td>\n",
              "      <td>66</td>\n",
              "      <td>0</td>\n",
              "      <td>34</td>\n",
              "      <td>89801</td>\n",
              "      <td>26155</td>\n",
              "      <td>0</td>\n",
              "    </tr>\n",
              "    <tr>\n",
              "      <th>3</th>\n",
              "      <td>6651430</td>\n",
              "      <td>11170</td>\n",
              "      <td>6954</td>\n",
              "      <td>17877.15585</td>\n",
              "      <td>59</td>\n",
              "      <td>BAT2428731</td>\n",
              "      <td>16.731201</td>\n",
              "      <td>C</td>\n",
              "      <td>C3</td>\n",
              "      <td>MORTGAGE</td>\n",
              "      <td>...</td>\n",
              "      <td>0.107020</td>\n",
              "      <td>0.749971</td>\n",
              "      <td>0</td>\n",
              "      <td>INDIVIDUAL</td>\n",
              "      <td>39</td>\n",
              "      <td>0</td>\n",
              "      <td>40</td>\n",
              "      <td>9189</td>\n",
              "      <td>60214</td>\n",
              "      <td>0</td>\n",
              "    </tr>\n",
              "    <tr>\n",
              "      <th>4</th>\n",
              "      <td>14354669</td>\n",
              "      <td>16890</td>\n",
              "      <td>13226</td>\n",
              "      <td>13539.92667</td>\n",
              "      <td>59</td>\n",
              "      <td>BAT5341619</td>\n",
              "      <td>15.008300</td>\n",
              "      <td>C</td>\n",
              "      <td>D4</td>\n",
              "      <td>MORTGAGE</td>\n",
              "      <td>...</td>\n",
              "      <td>1294.818751</td>\n",
              "      <td>0.368953</td>\n",
              "      <td>0</td>\n",
              "      <td>INDIVIDUAL</td>\n",
              "      <td>18</td>\n",
              "      <td>0</td>\n",
              "      <td>430</td>\n",
              "      <td>126029</td>\n",
              "      <td>22579</td>\n",
              "      <td>0</td>\n",
              "    </tr>\n",
              "  </tbody>\n",
              "</table>\n",
              "<p>5 rows × 35 columns</p>\n",
              "</div>\n",
              "    <div class=\"colab-df-buttons\">\n",
              "\n",
              "  <div class=\"colab-df-container\">\n",
              "    <button class=\"colab-df-convert\" onclick=\"convertToInteractive('df-89caf634-512b-425f-8a87-a3322b4ef33b')\"\n",
              "            title=\"Convert this dataframe to an interactive table.\"\n",
              "            style=\"display:none;\">\n",
              "\n",
              "  <svg xmlns=\"http://www.w3.org/2000/svg\" height=\"24px\" viewBox=\"0 -960 960 960\">\n",
              "    <path d=\"M120-120v-720h720v720H120Zm60-500h600v-160H180v160Zm220 220h160v-160H400v160Zm0 220h160v-160H400v160ZM180-400h160v-160H180v160Zm440 0h160v-160H620v160ZM180-180h160v-160H180v160Zm440 0h160v-160H620v160Z\"/>\n",
              "  </svg>\n",
              "    </button>\n",
              "\n",
              "  <style>\n",
              "    .colab-df-container {\n",
              "      display:flex;\n",
              "      gap: 12px;\n",
              "    }\n",
              "\n",
              "    .colab-df-convert {\n",
              "      background-color: #E8F0FE;\n",
              "      border: none;\n",
              "      border-radius: 50%;\n",
              "      cursor: pointer;\n",
              "      display: none;\n",
              "      fill: #1967D2;\n",
              "      height: 32px;\n",
              "      padding: 0 0 0 0;\n",
              "      width: 32px;\n",
              "    }\n",
              "\n",
              "    .colab-df-convert:hover {\n",
              "      background-color: #E2EBFA;\n",
              "      box-shadow: 0px 1px 2px rgba(60, 64, 67, 0.3), 0px 1px 3px 1px rgba(60, 64, 67, 0.15);\n",
              "      fill: #174EA6;\n",
              "    }\n",
              "\n",
              "    .colab-df-buttons div {\n",
              "      margin-bottom: 4px;\n",
              "    }\n",
              "\n",
              "    [theme=dark] .colab-df-convert {\n",
              "      background-color: #3B4455;\n",
              "      fill: #D2E3FC;\n",
              "    }\n",
              "\n",
              "    [theme=dark] .colab-df-convert:hover {\n",
              "      background-color: #434B5C;\n",
              "      box-shadow: 0px 1px 3px 1px rgba(0, 0, 0, 0.15);\n",
              "      filter: drop-shadow(0px 1px 2px rgba(0, 0, 0, 0.3));\n",
              "      fill: #FFFFFF;\n",
              "    }\n",
              "  </style>\n",
              "\n",
              "    <script>\n",
              "      const buttonEl =\n",
              "        document.querySelector('#df-89caf634-512b-425f-8a87-a3322b4ef33b button.colab-df-convert');\n",
              "      buttonEl.style.display =\n",
              "        google.colab.kernel.accessAllowed ? 'block' : 'none';\n",
              "\n",
              "      async function convertToInteractive(key) {\n",
              "        const element = document.querySelector('#df-89caf634-512b-425f-8a87-a3322b4ef33b');\n",
              "        const dataTable =\n",
              "          await google.colab.kernel.invokeFunction('convertToInteractive',\n",
              "                                                    [key], {});\n",
              "        if (!dataTable) return;\n",
              "\n",
              "        const docLinkHtml = 'Like what you see? Visit the ' +\n",
              "          '<a target=\"_blank\" href=https://colab.research.google.com/notebooks/data_table.ipynb>data table notebook</a>'\n",
              "          + ' to learn more about interactive tables.';\n",
              "        element.innerHTML = '';\n",
              "        dataTable['output_type'] = 'display_data';\n",
              "        await google.colab.output.renderOutput(dataTable, element);\n",
              "        const docLink = document.createElement('div');\n",
              "        docLink.innerHTML = docLinkHtml;\n",
              "        element.appendChild(docLink);\n",
              "      }\n",
              "    </script>\n",
              "  </div>\n",
              "\n",
              "\n",
              "<div id=\"df-994e3f55-dd2d-4608-93f1-0f6bc6722b6f\">\n",
              "  <button class=\"colab-df-quickchart\" onclick=\"quickchart('df-994e3f55-dd2d-4608-93f1-0f6bc6722b6f')\"\n",
              "            title=\"Suggest charts.\"\n",
              "            style=\"display:none;\">\n",
              "\n",
              "<svg xmlns=\"http://www.w3.org/2000/svg\" height=\"24px\"viewBox=\"0 0 24 24\"\n",
              "     width=\"24px\">\n",
              "    <g>\n",
              "        <path d=\"M19 3H5c-1.1 0-2 .9-2 2v14c0 1.1.9 2 2 2h14c1.1 0 2-.9 2-2V5c0-1.1-.9-2-2-2zM9 17H7v-7h2v7zm4 0h-2V7h2v10zm4 0h-2v-4h2v4z\"/>\n",
              "    </g>\n",
              "</svg>\n",
              "  </button>\n",
              "\n",
              "<style>\n",
              "  .colab-df-quickchart {\n",
              "      --bg-color: #E8F0FE;\n",
              "      --fill-color: #1967D2;\n",
              "      --hover-bg-color: #E2EBFA;\n",
              "      --hover-fill-color: #174EA6;\n",
              "      --disabled-fill-color: #AAA;\n",
              "      --disabled-bg-color: #DDD;\n",
              "  }\n",
              "\n",
              "  [theme=dark] .colab-df-quickchart {\n",
              "      --bg-color: #3B4455;\n",
              "      --fill-color: #D2E3FC;\n",
              "      --hover-bg-color: #434B5C;\n",
              "      --hover-fill-color: #FFFFFF;\n",
              "      --disabled-bg-color: #3B4455;\n",
              "      --disabled-fill-color: #666;\n",
              "  }\n",
              "\n",
              "  .colab-df-quickchart {\n",
              "    background-color: var(--bg-color);\n",
              "    border: none;\n",
              "    border-radius: 50%;\n",
              "    cursor: pointer;\n",
              "    display: none;\n",
              "    fill: var(--fill-color);\n",
              "    height: 32px;\n",
              "    padding: 0;\n",
              "    width: 32px;\n",
              "  }\n",
              "\n",
              "  .colab-df-quickchart:hover {\n",
              "    background-color: var(--hover-bg-color);\n",
              "    box-shadow: 0 1px 2px rgba(60, 64, 67, 0.3), 0 1px 3px 1px rgba(60, 64, 67, 0.15);\n",
              "    fill: var(--button-hover-fill-color);\n",
              "  }\n",
              "\n",
              "  .colab-df-quickchart-complete:disabled,\n",
              "  .colab-df-quickchart-complete:disabled:hover {\n",
              "    background-color: var(--disabled-bg-color);\n",
              "    fill: var(--disabled-fill-color);\n",
              "    box-shadow: none;\n",
              "  }\n",
              "\n",
              "  .colab-df-spinner {\n",
              "    border: 2px solid var(--fill-color);\n",
              "    border-color: transparent;\n",
              "    border-bottom-color: var(--fill-color);\n",
              "    animation:\n",
              "      spin 1s steps(1) infinite;\n",
              "  }\n",
              "\n",
              "  @keyframes spin {\n",
              "    0% {\n",
              "      border-color: transparent;\n",
              "      border-bottom-color: var(--fill-color);\n",
              "      border-left-color: var(--fill-color);\n",
              "    }\n",
              "    20% {\n",
              "      border-color: transparent;\n",
              "      border-left-color: var(--fill-color);\n",
              "      border-top-color: var(--fill-color);\n",
              "    }\n",
              "    30% {\n",
              "      border-color: transparent;\n",
              "      border-left-color: var(--fill-color);\n",
              "      border-top-color: var(--fill-color);\n",
              "      border-right-color: var(--fill-color);\n",
              "    }\n",
              "    40% {\n",
              "      border-color: transparent;\n",
              "      border-right-color: var(--fill-color);\n",
              "      border-top-color: var(--fill-color);\n",
              "    }\n",
              "    60% {\n",
              "      border-color: transparent;\n",
              "      border-right-color: var(--fill-color);\n",
              "    }\n",
              "    80% {\n",
              "      border-color: transparent;\n",
              "      border-right-color: var(--fill-color);\n",
              "      border-bottom-color: var(--fill-color);\n",
              "    }\n",
              "    90% {\n",
              "      border-color: transparent;\n",
              "      border-bottom-color: var(--fill-color);\n",
              "    }\n",
              "  }\n",
              "</style>\n",
              "\n",
              "  <script>\n",
              "    async function quickchart(key) {\n",
              "      const quickchartButtonEl =\n",
              "        document.querySelector('#' + key + ' button');\n",
              "      quickchartButtonEl.disabled = true;  // To prevent multiple clicks.\n",
              "      quickchartButtonEl.classList.add('colab-df-spinner');\n",
              "      try {\n",
              "        const charts = await google.colab.kernel.invokeFunction(\n",
              "            'suggestCharts', [key], {});\n",
              "      } catch (error) {\n",
              "        console.error('Error during call to suggestCharts:', error);\n",
              "      }\n",
              "      quickchartButtonEl.classList.remove('colab-df-spinner');\n",
              "      quickchartButtonEl.classList.add('colab-df-quickchart-complete');\n",
              "    }\n",
              "    (() => {\n",
              "      let quickchartButtonEl =\n",
              "        document.querySelector('#df-994e3f55-dd2d-4608-93f1-0f6bc6722b6f button');\n",
              "      quickchartButtonEl.style.display =\n",
              "        google.colab.kernel.accessAllowed ? 'block' : 'none';\n",
              "    })();\n",
              "  </script>\n",
              "</div>\n",
              "    </div>\n",
              "  </div>\n"
            ]
          },
          "metadata": {},
          "execution_count": 2
        }
      ]
    },
    {
      "cell_type": "markdown",
      "source": [
        "Checking if their is any null value included in the data set"
      ],
      "metadata": {
        "id": "1BRm7BvUzUQZ"
      }
    },
    {
      "cell_type": "code",
      "source": [
        "default_fin_df.isnull().sum()"
      ],
      "metadata": {
        "colab": {
          "base_uri": "https://localhost:8080/"
        },
        "id": "nQBSNivGZp-4",
        "outputId": "2c09046d-0be0-4790-c2c8-8d325739c523"
      },
      "execution_count": null,
      "outputs": [
        {
          "output_type": "execute_result",
          "data": {
            "text/plain": [
              "ID                              0\n",
              "Loan Amount                     0\n",
              "Funded Amount                   0\n",
              "Funded Amount Investor          0\n",
              "Term                            0\n",
              "Batch Enrolled                  0\n",
              "Interest Rate                   0\n",
              "Grade                           0\n",
              "Sub Grade                       0\n",
              "Employment Duration             0\n",
              "Home Ownership                  0\n",
              "Verification Status             0\n",
              "Payment Plan                    0\n",
              "Loan Title                      0\n",
              "Debit to Income                 0\n",
              "Delinquency - two years         0\n",
              "Inquires - six months           0\n",
              "Open Account                    0\n",
              "Public Record                   0\n",
              "Revolving Balance               0\n",
              "Revolving Utilities             0\n",
              "Total Accounts                  0\n",
              "Initial List Status             0\n",
              "Total Received Interest         0\n",
              "Total Received Late Fee         0\n",
              "Recoveries                      0\n",
              "Collection Recovery Fee         0\n",
              "Collection 12 months Medical    0\n",
              "Application Type                0\n",
              "Last week Pay                   0\n",
              "Accounts Delinquent             0\n",
              "Total Collection Amount         0\n",
              "Total Current Balance           0\n",
              "Total Revolving Credit Limit    0\n",
              "Loan Status                     0\n",
              "dtype: int64"
            ]
          },
          "metadata": {},
          "execution_count": 3
        }
      ]
    },
    {
      "cell_type": "markdown",
      "source": [
        "All the columns have zero null values"
      ],
      "metadata": {
        "id": "H-Ksm08BzZ3k"
      }
    },
    {
      "cell_type": "code",
      "source": [
        "default_fin_df.info()"
      ],
      "metadata": {
        "colab": {
          "base_uri": "https://localhost:8080/"
        },
        "id": "1TvFSoQFesmx",
        "outputId": "18c9c8f7-d5ea-4ee0-d0b4-1ad21d3a3db8"
      },
      "execution_count": null,
      "outputs": [
        {
          "output_type": "stream",
          "name": "stdout",
          "text": [
            "<class 'pandas.core.frame.DataFrame'>\n",
            "RangeIndex: 67463 entries, 0 to 67462\n",
            "Data columns (total 35 columns):\n",
            " #   Column                        Non-Null Count  Dtype  \n",
            "---  ------                        --------------  -----  \n",
            " 0   ID                            67463 non-null  int64  \n",
            " 1   Loan Amount                   67463 non-null  int64  \n",
            " 2   Funded Amount                 67463 non-null  int64  \n",
            " 3   Funded Amount Investor        67463 non-null  float64\n",
            " 4   Term                          67463 non-null  int64  \n",
            " 5   Batch Enrolled                67463 non-null  object \n",
            " 6   Interest Rate                 67463 non-null  float64\n",
            " 7   Grade                         67463 non-null  object \n",
            " 8   Sub Grade                     67463 non-null  object \n",
            " 9   Employment Duration           67463 non-null  object \n",
            " 10  Home Ownership                67463 non-null  float64\n",
            " 11  Verification Status           67463 non-null  object \n",
            " 12  Payment Plan                  67463 non-null  object \n",
            " 13  Loan Title                    67463 non-null  object \n",
            " 14  Debit to Income               67463 non-null  float64\n",
            " 15  Delinquency - two years       67463 non-null  int64  \n",
            " 16  Inquires - six months         67463 non-null  int64  \n",
            " 17  Open Account                  67463 non-null  int64  \n",
            " 18  Public Record                 67463 non-null  int64  \n",
            " 19  Revolving Balance             67463 non-null  int64  \n",
            " 20  Revolving Utilities           67463 non-null  float64\n",
            " 21  Total Accounts                67463 non-null  int64  \n",
            " 22  Initial List Status           67463 non-null  object \n",
            " 23  Total Received Interest       67463 non-null  float64\n",
            " 24  Total Received Late Fee       67463 non-null  float64\n",
            " 25  Recoveries                    67463 non-null  float64\n",
            " 26  Collection Recovery Fee       67463 non-null  float64\n",
            " 27  Collection 12 months Medical  67463 non-null  int64  \n",
            " 28  Application Type              67463 non-null  object \n",
            " 29  Last week Pay                 67463 non-null  int64  \n",
            " 30  Accounts Delinquent           67463 non-null  int64  \n",
            " 31  Total Collection Amount       67463 non-null  int64  \n",
            " 32  Total Current Balance         67463 non-null  int64  \n",
            " 33  Total Revolving Credit Limit  67463 non-null  int64  \n",
            " 34  Loan Status                   67463 non-null  int64  \n",
            "dtypes: float64(9), int64(17), object(9)\n",
            "memory usage: 18.0+ MB\n"
          ]
        }
      ]
    },
    {
      "cell_type": "code",
      "source": [
        "default_fin_df.describe()"
      ],
      "metadata": {
        "colab": {
          "base_uri": "https://localhost:8080/",
          "height": 384
        },
        "id": "LVXRStdM_OIJ",
        "outputId": "d692cd1f-3819-4f5b-ca90-7638f3000046"
      },
      "execution_count": null,
      "outputs": [
        {
          "output_type": "execute_result",
          "data": {
            "text/plain": [
              "                 ID   Loan Amount  Funded Amount  Funded Amount Investor  \\\n",
              "count  6.746300e+04  67463.000000   67463.000000            67463.000000   \n",
              "mean   2.562761e+07  16848.902776   15770.599114            14621.799323   \n",
              "std    2.109155e+07   8367.865726    8150.992662             6785.345170   \n",
              "min    1.297933e+06   1014.000000    1014.000000             1114.590204   \n",
              "25%    6.570288e+06  10012.000000    9266.500000             9831.684984   \n",
              "50%    1.791565e+07  16073.000000   13042.000000            12793.682170   \n",
              "75%    4.271521e+07  22106.000000   21793.000000            17807.594120   \n",
              "max    7.224578e+07  35000.000000   34999.000000            34999.746430   \n",
              "\n",
              "               Term  Interest Rate  Home Ownership  Debit to Income  \\\n",
              "count  67463.000000   67463.000000    67463.000000     67463.000000   \n",
              "mean      58.173814      11.846258    80541.502522        23.299241   \n",
              "std        3.327441       3.718629    45029.120366         8.451824   \n",
              "min       36.000000       5.320006    14573.537170         0.675299   \n",
              "25%       58.000000       9.297147    51689.843335        16.756416   \n",
              "50%       59.000000      11.377696    69335.832680        22.656658   \n",
              "75%       59.000000      14.193533    94623.322785        30.048400   \n",
              "max       59.000000      27.182348   406561.536400        39.629862   \n",
              "\n",
              "       Delinquency - two years  Inquires - six months  ...  \\\n",
              "count             67463.000000           67463.000000  ...   \n",
              "mean                  0.327127               0.145754  ...   \n",
              "std                   0.800888               0.473291  ...   \n",
              "min                   0.000000               0.000000  ...   \n",
              "25%                   0.000000               0.000000  ...   \n",
              "50%                   0.000000               0.000000  ...   \n",
              "75%                   0.000000               0.000000  ...   \n",
              "max                   8.000000               5.000000  ...   \n",
              "\n",
              "       Total Received Late Fee    Recoveries  Collection Recovery Fee  \\\n",
              "count             67463.000000  67463.000000             67463.000000   \n",
              "mean                  1.143969     59.691578                 1.125141   \n",
              "std                   5.244365    357.026346                 3.489885   \n",
              "min                   0.000003      0.000036                 0.000036   \n",
              "25%                   0.021114      1.629818                 0.476259   \n",
              "50%                   0.043398      3.344524                 0.780141   \n",
              "75%                   0.071884      5.453727                 1.070566   \n",
              "max                  42.618882   4354.467419               166.833000   \n",
              "\n",
              "       Collection 12 months Medical  Last week Pay  Accounts Delinquent  \\\n",
              "count                  67463.000000   67463.000000              67463.0   \n",
              "mean                       0.021301      71.163260                  0.0   \n",
              "std                        0.144385      43.315845                  0.0   \n",
              "min                        0.000000       0.000000                  0.0   \n",
              "25%                        0.000000      35.000000                  0.0   \n",
              "50%                        0.000000      68.000000                  0.0   \n",
              "75%                        0.000000     105.000000                  0.0   \n",
              "max                        1.000000     161.000000                  0.0   \n",
              "\n",
              "       Total Collection Amount  Total Current Balance  \\\n",
              "count             67463.000000           6.746300e+04   \n",
              "mean                146.467990           1.595739e+05   \n",
              "std                 744.382233           1.390332e+05   \n",
              "min                   1.000000           6.170000e+02   \n",
              "25%                  24.000000           5.037900e+04   \n",
              "50%                  36.000000           1.183690e+05   \n",
              "75%                  46.000000           2.283750e+05   \n",
              "max               16421.000000           1.177412e+06   \n",
              "\n",
              "       Total Revolving Credit Limit   Loan Status  \n",
              "count                  67463.000000  67463.000000  \n",
              "mean                   23123.005544      0.092510  \n",
              "std                    20916.699999      0.289747  \n",
              "min                     1000.000000      0.000000  \n",
              "25%                     8155.500000      0.000000  \n",
              "50%                    16733.000000      0.000000  \n",
              "75%                    32146.500000      0.000000  \n",
              "max                   201169.000000      1.000000  \n",
              "\n",
              "[8 rows x 26 columns]"
            ],
            "text/html": [
              "\n",
              "  <div id=\"df-9043b7d6-1007-4308-a8c9-97795bce89fe\" class=\"colab-df-container\">\n",
              "    <div>\n",
              "<style scoped>\n",
              "    .dataframe tbody tr th:only-of-type {\n",
              "        vertical-align: middle;\n",
              "    }\n",
              "\n",
              "    .dataframe tbody tr th {\n",
              "        vertical-align: top;\n",
              "    }\n",
              "\n",
              "    .dataframe thead th {\n",
              "        text-align: right;\n",
              "    }\n",
              "</style>\n",
              "<table border=\"1\" class=\"dataframe\">\n",
              "  <thead>\n",
              "    <tr style=\"text-align: right;\">\n",
              "      <th></th>\n",
              "      <th>ID</th>\n",
              "      <th>Loan Amount</th>\n",
              "      <th>Funded Amount</th>\n",
              "      <th>Funded Amount Investor</th>\n",
              "      <th>Term</th>\n",
              "      <th>Interest Rate</th>\n",
              "      <th>Home Ownership</th>\n",
              "      <th>Debit to Income</th>\n",
              "      <th>Delinquency - two years</th>\n",
              "      <th>Inquires - six months</th>\n",
              "      <th>...</th>\n",
              "      <th>Total Received Late Fee</th>\n",
              "      <th>Recoveries</th>\n",
              "      <th>Collection Recovery Fee</th>\n",
              "      <th>Collection 12 months Medical</th>\n",
              "      <th>Last week Pay</th>\n",
              "      <th>Accounts Delinquent</th>\n",
              "      <th>Total Collection Amount</th>\n",
              "      <th>Total Current Balance</th>\n",
              "      <th>Total Revolving Credit Limit</th>\n",
              "      <th>Loan Status</th>\n",
              "    </tr>\n",
              "  </thead>\n",
              "  <tbody>\n",
              "    <tr>\n",
              "      <th>count</th>\n",
              "      <td>6.746300e+04</td>\n",
              "      <td>67463.000000</td>\n",
              "      <td>67463.000000</td>\n",
              "      <td>67463.000000</td>\n",
              "      <td>67463.000000</td>\n",
              "      <td>67463.000000</td>\n",
              "      <td>67463.000000</td>\n",
              "      <td>67463.000000</td>\n",
              "      <td>67463.000000</td>\n",
              "      <td>67463.000000</td>\n",
              "      <td>...</td>\n",
              "      <td>67463.000000</td>\n",
              "      <td>67463.000000</td>\n",
              "      <td>67463.000000</td>\n",
              "      <td>67463.000000</td>\n",
              "      <td>67463.000000</td>\n",
              "      <td>67463.0</td>\n",
              "      <td>67463.000000</td>\n",
              "      <td>6.746300e+04</td>\n",
              "      <td>67463.000000</td>\n",
              "      <td>67463.000000</td>\n",
              "    </tr>\n",
              "    <tr>\n",
              "      <th>mean</th>\n",
              "      <td>2.562761e+07</td>\n",
              "      <td>16848.902776</td>\n",
              "      <td>15770.599114</td>\n",
              "      <td>14621.799323</td>\n",
              "      <td>58.173814</td>\n",
              "      <td>11.846258</td>\n",
              "      <td>80541.502522</td>\n",
              "      <td>23.299241</td>\n",
              "      <td>0.327127</td>\n",
              "      <td>0.145754</td>\n",
              "      <td>...</td>\n",
              "      <td>1.143969</td>\n",
              "      <td>59.691578</td>\n",
              "      <td>1.125141</td>\n",
              "      <td>0.021301</td>\n",
              "      <td>71.163260</td>\n",
              "      <td>0.0</td>\n",
              "      <td>146.467990</td>\n",
              "      <td>1.595739e+05</td>\n",
              "      <td>23123.005544</td>\n",
              "      <td>0.092510</td>\n",
              "    </tr>\n",
              "    <tr>\n",
              "      <th>std</th>\n",
              "      <td>2.109155e+07</td>\n",
              "      <td>8367.865726</td>\n",
              "      <td>8150.992662</td>\n",
              "      <td>6785.345170</td>\n",
              "      <td>3.327441</td>\n",
              "      <td>3.718629</td>\n",
              "      <td>45029.120366</td>\n",
              "      <td>8.451824</td>\n",
              "      <td>0.800888</td>\n",
              "      <td>0.473291</td>\n",
              "      <td>...</td>\n",
              "      <td>5.244365</td>\n",
              "      <td>357.026346</td>\n",
              "      <td>3.489885</td>\n",
              "      <td>0.144385</td>\n",
              "      <td>43.315845</td>\n",
              "      <td>0.0</td>\n",
              "      <td>744.382233</td>\n",
              "      <td>1.390332e+05</td>\n",
              "      <td>20916.699999</td>\n",
              "      <td>0.289747</td>\n",
              "    </tr>\n",
              "    <tr>\n",
              "      <th>min</th>\n",
              "      <td>1.297933e+06</td>\n",
              "      <td>1014.000000</td>\n",
              "      <td>1014.000000</td>\n",
              "      <td>1114.590204</td>\n",
              "      <td>36.000000</td>\n",
              "      <td>5.320006</td>\n",
              "      <td>14573.537170</td>\n",
              "      <td>0.675299</td>\n",
              "      <td>0.000000</td>\n",
              "      <td>0.000000</td>\n",
              "      <td>...</td>\n",
              "      <td>0.000003</td>\n",
              "      <td>0.000036</td>\n",
              "      <td>0.000036</td>\n",
              "      <td>0.000000</td>\n",
              "      <td>0.000000</td>\n",
              "      <td>0.0</td>\n",
              "      <td>1.000000</td>\n",
              "      <td>6.170000e+02</td>\n",
              "      <td>1000.000000</td>\n",
              "      <td>0.000000</td>\n",
              "    </tr>\n",
              "    <tr>\n",
              "      <th>25%</th>\n",
              "      <td>6.570288e+06</td>\n",
              "      <td>10012.000000</td>\n",
              "      <td>9266.500000</td>\n",
              "      <td>9831.684984</td>\n",
              "      <td>58.000000</td>\n",
              "      <td>9.297147</td>\n",
              "      <td>51689.843335</td>\n",
              "      <td>16.756416</td>\n",
              "      <td>0.000000</td>\n",
              "      <td>0.000000</td>\n",
              "      <td>...</td>\n",
              "      <td>0.021114</td>\n",
              "      <td>1.629818</td>\n",
              "      <td>0.476259</td>\n",
              "      <td>0.000000</td>\n",
              "      <td>35.000000</td>\n",
              "      <td>0.0</td>\n",
              "      <td>24.000000</td>\n",
              "      <td>5.037900e+04</td>\n",
              "      <td>8155.500000</td>\n",
              "      <td>0.000000</td>\n",
              "    </tr>\n",
              "    <tr>\n",
              "      <th>50%</th>\n",
              "      <td>1.791565e+07</td>\n",
              "      <td>16073.000000</td>\n",
              "      <td>13042.000000</td>\n",
              "      <td>12793.682170</td>\n",
              "      <td>59.000000</td>\n",
              "      <td>11.377696</td>\n",
              "      <td>69335.832680</td>\n",
              "      <td>22.656658</td>\n",
              "      <td>0.000000</td>\n",
              "      <td>0.000000</td>\n",
              "      <td>...</td>\n",
              "      <td>0.043398</td>\n",
              "      <td>3.344524</td>\n",
              "      <td>0.780141</td>\n",
              "      <td>0.000000</td>\n",
              "      <td>68.000000</td>\n",
              "      <td>0.0</td>\n",
              "      <td>36.000000</td>\n",
              "      <td>1.183690e+05</td>\n",
              "      <td>16733.000000</td>\n",
              "      <td>0.000000</td>\n",
              "    </tr>\n",
              "    <tr>\n",
              "      <th>75%</th>\n",
              "      <td>4.271521e+07</td>\n",
              "      <td>22106.000000</td>\n",
              "      <td>21793.000000</td>\n",
              "      <td>17807.594120</td>\n",
              "      <td>59.000000</td>\n",
              "      <td>14.193533</td>\n",
              "      <td>94623.322785</td>\n",
              "      <td>30.048400</td>\n",
              "      <td>0.000000</td>\n",
              "      <td>0.000000</td>\n",
              "      <td>...</td>\n",
              "      <td>0.071884</td>\n",
              "      <td>5.453727</td>\n",
              "      <td>1.070566</td>\n",
              "      <td>0.000000</td>\n",
              "      <td>105.000000</td>\n",
              "      <td>0.0</td>\n",
              "      <td>46.000000</td>\n",
              "      <td>2.283750e+05</td>\n",
              "      <td>32146.500000</td>\n",
              "      <td>0.000000</td>\n",
              "    </tr>\n",
              "    <tr>\n",
              "      <th>max</th>\n",
              "      <td>7.224578e+07</td>\n",
              "      <td>35000.000000</td>\n",
              "      <td>34999.000000</td>\n",
              "      <td>34999.746430</td>\n",
              "      <td>59.000000</td>\n",
              "      <td>27.182348</td>\n",
              "      <td>406561.536400</td>\n",
              "      <td>39.629862</td>\n",
              "      <td>8.000000</td>\n",
              "      <td>5.000000</td>\n",
              "      <td>...</td>\n",
              "      <td>42.618882</td>\n",
              "      <td>4354.467419</td>\n",
              "      <td>166.833000</td>\n",
              "      <td>1.000000</td>\n",
              "      <td>161.000000</td>\n",
              "      <td>0.0</td>\n",
              "      <td>16421.000000</td>\n",
              "      <td>1.177412e+06</td>\n",
              "      <td>201169.000000</td>\n",
              "      <td>1.000000</td>\n",
              "    </tr>\n",
              "  </tbody>\n",
              "</table>\n",
              "<p>8 rows × 26 columns</p>\n",
              "</div>\n",
              "    <div class=\"colab-df-buttons\">\n",
              "\n",
              "  <div class=\"colab-df-container\">\n",
              "    <button class=\"colab-df-convert\" onclick=\"convertToInteractive('df-9043b7d6-1007-4308-a8c9-97795bce89fe')\"\n",
              "            title=\"Convert this dataframe to an interactive table.\"\n",
              "            style=\"display:none;\">\n",
              "\n",
              "  <svg xmlns=\"http://www.w3.org/2000/svg\" height=\"24px\" viewBox=\"0 -960 960 960\">\n",
              "    <path d=\"M120-120v-720h720v720H120Zm60-500h600v-160H180v160Zm220 220h160v-160H400v160Zm0 220h160v-160H400v160ZM180-400h160v-160H180v160Zm440 0h160v-160H620v160ZM180-180h160v-160H180v160Zm440 0h160v-160H620v160Z\"/>\n",
              "  </svg>\n",
              "    </button>\n",
              "\n",
              "  <style>\n",
              "    .colab-df-container {\n",
              "      display:flex;\n",
              "      gap: 12px;\n",
              "    }\n",
              "\n",
              "    .colab-df-convert {\n",
              "      background-color: #E8F0FE;\n",
              "      border: none;\n",
              "      border-radius: 50%;\n",
              "      cursor: pointer;\n",
              "      display: none;\n",
              "      fill: #1967D2;\n",
              "      height: 32px;\n",
              "      padding: 0 0 0 0;\n",
              "      width: 32px;\n",
              "    }\n",
              "\n",
              "    .colab-df-convert:hover {\n",
              "      background-color: #E2EBFA;\n",
              "      box-shadow: 0px 1px 2px rgba(60, 64, 67, 0.3), 0px 1px 3px 1px rgba(60, 64, 67, 0.15);\n",
              "      fill: #174EA6;\n",
              "    }\n",
              "\n",
              "    .colab-df-buttons div {\n",
              "      margin-bottom: 4px;\n",
              "    }\n",
              "\n",
              "    [theme=dark] .colab-df-convert {\n",
              "      background-color: #3B4455;\n",
              "      fill: #D2E3FC;\n",
              "    }\n",
              "\n",
              "    [theme=dark] .colab-df-convert:hover {\n",
              "      background-color: #434B5C;\n",
              "      box-shadow: 0px 1px 3px 1px rgba(0, 0, 0, 0.15);\n",
              "      filter: drop-shadow(0px 1px 2px rgba(0, 0, 0, 0.3));\n",
              "      fill: #FFFFFF;\n",
              "    }\n",
              "  </style>\n",
              "\n",
              "    <script>\n",
              "      const buttonEl =\n",
              "        document.querySelector('#df-9043b7d6-1007-4308-a8c9-97795bce89fe button.colab-df-convert');\n",
              "      buttonEl.style.display =\n",
              "        google.colab.kernel.accessAllowed ? 'block' : 'none';\n",
              "\n",
              "      async function convertToInteractive(key) {\n",
              "        const element = document.querySelector('#df-9043b7d6-1007-4308-a8c9-97795bce89fe');\n",
              "        const dataTable =\n",
              "          await google.colab.kernel.invokeFunction('convertToInteractive',\n",
              "                                                    [key], {});\n",
              "        if (!dataTable) return;\n",
              "\n",
              "        const docLinkHtml = 'Like what you see? Visit the ' +\n",
              "          '<a target=\"_blank\" href=https://colab.research.google.com/notebooks/data_table.ipynb>data table notebook</a>'\n",
              "          + ' to learn more about interactive tables.';\n",
              "        element.innerHTML = '';\n",
              "        dataTable['output_type'] = 'display_data';\n",
              "        await google.colab.output.renderOutput(dataTable, element);\n",
              "        const docLink = document.createElement('div');\n",
              "        docLink.innerHTML = docLinkHtml;\n",
              "        element.appendChild(docLink);\n",
              "      }\n",
              "    </script>\n",
              "  </div>\n",
              "\n",
              "\n",
              "<div id=\"df-f8bb535f-713f-4f14-8840-3d7f1ca10c82\">\n",
              "  <button class=\"colab-df-quickchart\" onclick=\"quickchart('df-f8bb535f-713f-4f14-8840-3d7f1ca10c82')\"\n",
              "            title=\"Suggest charts.\"\n",
              "            style=\"display:none;\">\n",
              "\n",
              "<svg xmlns=\"http://www.w3.org/2000/svg\" height=\"24px\"viewBox=\"0 0 24 24\"\n",
              "     width=\"24px\">\n",
              "    <g>\n",
              "        <path d=\"M19 3H5c-1.1 0-2 .9-2 2v14c0 1.1.9 2 2 2h14c1.1 0 2-.9 2-2V5c0-1.1-.9-2-2-2zM9 17H7v-7h2v7zm4 0h-2V7h2v10zm4 0h-2v-4h2v4z\"/>\n",
              "    </g>\n",
              "</svg>\n",
              "  </button>\n",
              "\n",
              "<style>\n",
              "  .colab-df-quickchart {\n",
              "      --bg-color: #E8F0FE;\n",
              "      --fill-color: #1967D2;\n",
              "      --hover-bg-color: #E2EBFA;\n",
              "      --hover-fill-color: #174EA6;\n",
              "      --disabled-fill-color: #AAA;\n",
              "      --disabled-bg-color: #DDD;\n",
              "  }\n",
              "\n",
              "  [theme=dark] .colab-df-quickchart {\n",
              "      --bg-color: #3B4455;\n",
              "      --fill-color: #D2E3FC;\n",
              "      --hover-bg-color: #434B5C;\n",
              "      --hover-fill-color: #FFFFFF;\n",
              "      --disabled-bg-color: #3B4455;\n",
              "      --disabled-fill-color: #666;\n",
              "  }\n",
              "\n",
              "  .colab-df-quickchart {\n",
              "    background-color: var(--bg-color);\n",
              "    border: none;\n",
              "    border-radius: 50%;\n",
              "    cursor: pointer;\n",
              "    display: none;\n",
              "    fill: var(--fill-color);\n",
              "    height: 32px;\n",
              "    padding: 0;\n",
              "    width: 32px;\n",
              "  }\n",
              "\n",
              "  .colab-df-quickchart:hover {\n",
              "    background-color: var(--hover-bg-color);\n",
              "    box-shadow: 0 1px 2px rgba(60, 64, 67, 0.3), 0 1px 3px 1px rgba(60, 64, 67, 0.15);\n",
              "    fill: var(--button-hover-fill-color);\n",
              "  }\n",
              "\n",
              "  .colab-df-quickchart-complete:disabled,\n",
              "  .colab-df-quickchart-complete:disabled:hover {\n",
              "    background-color: var(--disabled-bg-color);\n",
              "    fill: var(--disabled-fill-color);\n",
              "    box-shadow: none;\n",
              "  }\n",
              "\n",
              "  .colab-df-spinner {\n",
              "    border: 2px solid var(--fill-color);\n",
              "    border-color: transparent;\n",
              "    border-bottom-color: var(--fill-color);\n",
              "    animation:\n",
              "      spin 1s steps(1) infinite;\n",
              "  }\n",
              "\n",
              "  @keyframes spin {\n",
              "    0% {\n",
              "      border-color: transparent;\n",
              "      border-bottom-color: var(--fill-color);\n",
              "      border-left-color: var(--fill-color);\n",
              "    }\n",
              "    20% {\n",
              "      border-color: transparent;\n",
              "      border-left-color: var(--fill-color);\n",
              "      border-top-color: var(--fill-color);\n",
              "    }\n",
              "    30% {\n",
              "      border-color: transparent;\n",
              "      border-left-color: var(--fill-color);\n",
              "      border-top-color: var(--fill-color);\n",
              "      border-right-color: var(--fill-color);\n",
              "    }\n",
              "    40% {\n",
              "      border-color: transparent;\n",
              "      border-right-color: var(--fill-color);\n",
              "      border-top-color: var(--fill-color);\n",
              "    }\n",
              "    60% {\n",
              "      border-color: transparent;\n",
              "      border-right-color: var(--fill-color);\n",
              "    }\n",
              "    80% {\n",
              "      border-color: transparent;\n",
              "      border-right-color: var(--fill-color);\n",
              "      border-bottom-color: var(--fill-color);\n",
              "    }\n",
              "    90% {\n",
              "      border-color: transparent;\n",
              "      border-bottom-color: var(--fill-color);\n",
              "    }\n",
              "  }\n",
              "</style>\n",
              "\n",
              "  <script>\n",
              "    async function quickchart(key) {\n",
              "      const quickchartButtonEl =\n",
              "        document.querySelector('#' + key + ' button');\n",
              "      quickchartButtonEl.disabled = true;  // To prevent multiple clicks.\n",
              "      quickchartButtonEl.classList.add('colab-df-spinner');\n",
              "      try {\n",
              "        const charts = await google.colab.kernel.invokeFunction(\n",
              "            'suggestCharts', [key], {});\n",
              "      } catch (error) {\n",
              "        console.error('Error during call to suggestCharts:', error);\n",
              "      }\n",
              "      quickchartButtonEl.classList.remove('colab-df-spinner');\n",
              "      quickchartButtonEl.classList.add('colab-df-quickchart-complete');\n",
              "    }\n",
              "    (() => {\n",
              "      let quickchartButtonEl =\n",
              "        document.querySelector('#df-f8bb535f-713f-4f14-8840-3d7f1ca10c82 button');\n",
              "      quickchartButtonEl.style.display =\n",
              "        google.colab.kernel.accessAllowed ? 'block' : 'none';\n",
              "    })();\n",
              "  </script>\n",
              "</div>\n",
              "    </div>\n",
              "  </div>\n"
            ]
          },
          "metadata": {},
          "execution_count": 5
        }
      ]
    },
    {
      "cell_type": "markdown",
      "source": [
        "From the above data, it can be observed that:<br>\n",
        "The maximum loan amount given is 35000<br>\n",
        "The maximum intreset rate is 27%<br>\n",
        "The average of the intrest rate is around 11%"
      ],
      "metadata": {
        "id": "SZJj0ZMy_U1U"
      }
    },
    {
      "cell_type": "code",
      "source": [
        "plt.hist(default_fin_df[\"Funded Amount\"])\n",
        "plt.show()"
      ],
      "metadata": {
        "id": "VRuqOEcVaTRf",
        "colab": {
          "base_uri": "https://localhost:8080/",
          "height": 430
        },
        "outputId": "2a510f28-d711-4867-92ce-a3cd2adc0dc3"
      },
      "execution_count": null,
      "outputs": [
        {
          "output_type": "display_data",
          "data": {
            "text/plain": [
              "<Figure size 640x480 with 1 Axes>"
            ],
            "image/png": "[encoded data removed]"
          },
          "metadata": {}
        }
      ]
    },
    {
      "cell_type": "markdown",
      "source": [
        "The frequency of funding loan amount around 10000 is more compared to other amounts, or in another words, more than 16000 people opted for \"Amount Funded\" in the range of 10000."
      ],
      "metadata": {
        "id": "WiEfk2rQ5_vc"
      }
    },
    {
      "cell_type": "code",
      "source": [
        "sns.countplot(x = default_fin_df[\"Term\"],hue = default_fin_df[\"Loan Status\"])\n",
        "plt.show()"
      ],
      "metadata": {
        "colab": {
          "base_uri": "https://localhost:8080/",
          "height": 449
        },
        "id": "5DWAshhRf0G_",
        "outputId": "53adcfa3-2e95-4515-ee51-90361c19dcf7"
      },
      "execution_count": null,
      "outputs": [
        {
          "output_type": "display_data",
          "data": {
            "text/plain": [
              "<Figure size 640x480 with 1 Axes>"
            ],
            "image/png": "[encoded data removed]"
          },
          "metadata": {}
        }
      ]
    },
    {
      "cell_type": "markdown",
      "source": [
        "Around 40,000 people opted for the loan tenure being around 59(months). 0 showing non-defaulters and 1 showing defualters, so, the maximum number of defaulters are from the LOAN TENURE 59 months."
      ],
      "metadata": {
        "id": "BK_vpYyPE7As"
      }
    },
    {
      "cell_type": "code",
      "source": [
        "sns.histplot(x = default_fin_df[\"Interest Rate\"],hue = default_fin_df[\"Loan Status\"])\n",
        "plt.xticks(rotation=90)\n",
        "plt.show()"
      ],
      "metadata": {
        "colab": {
          "base_uri": "https://localhost:8080/",
          "height": 453
        },
        "id": "lKzEHHi_g4-w",
        "outputId": "daefc17f-7d57-4ec9-d8fe-4452ac3ff49a"
      },
      "execution_count": null,
      "outputs": [
        {
          "output_type": "display_data",
          "data": {
            "text/plain": [
              "<Figure size 640x480 with 1 Axes>"
            ],
            "image/png": "[encoded data removed]"
          },
          "metadata": {}
        }
      ]
    },
    {
      "cell_type": "markdown",
      "source": [
        "The above graph shows that the people having higher interest rate have more tendency to default as they fail to pay higher interest amounts."
      ],
      "metadata": {
        "id": "qyRQ5wqf_bmW"
      }
    },
    {
      "cell_type": "code",
      "source": [
        "sns.countplot(x = default_fin_df[\"Delinquency - two years\"],hue= default_fin_df[\"Loan Status\"])\n",
        "plt.show()"
      ],
      "metadata": {
        "id": "pHZuSg81-sTB",
        "colab": {
          "base_uri": "https://localhost:8080/",
          "height": 449
        },
        "outputId": "d7cb2f55-834d-421e-c514-c2fab02cce5d"
      },
      "execution_count": null,
      "outputs": [
        {
          "output_type": "display_data",
          "data": {
            "text/plain": [
              "<Figure size 640x480 with 1 Axes>"
            ],
            "image/png": "[encoded data removed]"
          },
          "metadata": {}
        }
      ]
    },
    {
      "cell_type": "markdown",
      "source": [
        "The above graph shows the delinquency in the past two years."
      ],
      "metadata": {
        "id": "NxCc4GSfAU7B"
      }
    },
    {
      "cell_type": "code",
      "source": [
        "sns.countplot(x = default_fin_df[\"Employment Duration\"],hue = default_fin_df[\"Loan Status\"])\n",
        "plt.show()"
      ],
      "metadata": {
        "colab": {
          "base_uri": "https://localhost:8080/",
          "height": 449
        },
        "id": "7bD_5ucoqOlJ",
        "outputId": "4d8d18f0-2d1a-49b5-9c42-ef22ed454101"
      },
      "execution_count": null,
      "outputs": [
        {
          "output_type": "display_data",
          "data": {
            "text/plain": [
              "<Figure size 640x480 with 1 Axes>"
            ],
            "image/png": "[encoded data removed]"
          },
          "metadata": {}
        }
      ]
    },
    {
      "cell_type": "markdown",
      "source": [
        "We can observe from the above graph that the peope who took the loan on MORTAGEGED assets have more tendency to default."
      ],
      "metadata": {
        "id": "8OZSn9JqAHGC"
      }
    },
    {
      "cell_type": "code",
      "source": [
        "sns.countplot(x = default_fin_df[\"Verification Status\"],hue = default_fin_df[\"Loan Status\"])\n",
        "plt.show()"
      ],
      "metadata": {
        "colab": {
          "base_uri": "https://localhost:8080/",
          "height": 449
        },
        "id": "RwkzFmLzrEFl",
        "outputId": "5aba023d-2cbb-40b6-ac87-19a07c27d373"
      },
      "execution_count": null,
      "outputs": [
        {
          "output_type": "display_data",
          "data": {
            "text/plain": [
              "<Figure size 640x480 with 1 Axes>"
            ],
            "image/png": "[encoded data removed]"
          },
          "metadata": {}
        }
      ]
    },
    {
      "cell_type": "markdown",
      "source": [
        "The above graph shows whether the verification was done or not."
      ],
      "metadata": {
        "id": "sv1gWigDAbw3"
      }
    },
    {
      "cell_type": "code",
      "source": [
        "\n",
        "default_fin_df[\"Loan Title\"].nunique()"
      ],
      "metadata": {
        "colab": {
          "base_uri": "https://localhost:8080/"
        },
        "id": "FjClVH8miFAs",
        "outputId": "4b9da3da-8213-4038-fb53-af53c296927e"
      },
      "execution_count": null,
      "outputs": [
        {
          "output_type": "execute_result",
          "data": {
            "text/plain": [
              "109"
            ]
          },
          "metadata": {},
          "execution_count": 14
        }
      ]
    },
    {
      "cell_type": "code",
      "source": [
        "default_fin_df[\"Batch Enrolled\"].nunique()"
      ],
      "metadata": {
        "colab": {
          "base_uri": "https://localhost:8080/"
        },
        "id": "jDF6MrXXjCjn",
        "outputId": "d2a78cb5-60e1-4b89-a0aa-52105c0ab156"
      },
      "execution_count": null,
      "outputs": [
        {
          "output_type": "execute_result",
          "data": {
            "text/plain": [
              "41"
            ]
          },
          "metadata": {},
          "execution_count": 15
        }
      ]
    },
    {
      "cell_type": "code",
      "source": [
        "default_fin_df[\"Sub Grade\"].nunique()"
      ],
      "metadata": {
        "colab": {
          "base_uri": "https://localhost:8080/"
        },
        "id": "r3VblkI4jVrV",
        "outputId": "d1436800-2703-40cd-c3e6-74b81fcd271f"
      },
      "execution_count": null,
      "outputs": [
        {
          "output_type": "execute_result",
          "data": {
            "text/plain": [
              "35"
            ]
          },
          "metadata": {},
          "execution_count": 16
        }
      ]
    },
    {
      "cell_type": "markdown",
      "source": [
        "As this value have more than 35 unique values the data is of no use for us"
      ],
      "metadata": {
        "id": "ohL6f4DLFgwc"
      }
    },
    {
      "cell_type": "code",
      "source": [
        "default_fin_df = default_fin_df.drop([\"Loan Title\",\"Batch Enrolled\",\"Sub Grade\"],axis=1)\n",
        "default_fin_df.head()"
      ],
      "metadata": {
        "colab": {
          "base_uri": "https://localhost:8080/",
          "height": 377
        },
        "id": "RrZrIHW2jbfW",
        "outputId": "0ca85937-d7b5-4e79-f16c-cb54dec240b4"
      },
      "execution_count": null,
      "outputs": [
        {
          "output_type": "execute_result",
          "data": {
            "text/plain": [
              "         ID  Loan Amount  Funded Amount  Funded Amount Investor  Term  \\\n",
              "0  65087372        10000          32236             12329.36286    59   \n",
              "1   1450153         3609          11940             12191.99692    59   \n",
              "2   1969101        28276           9311             21603.22455    59   \n",
              "3   6651430        11170           6954             17877.15585    59   \n",
              "4  14354669        16890          13226             13539.92667    59   \n",
              "\n",
              "   Interest Rate Grade Employment Duration  Home Ownership  \\\n",
              "0      11.135007     B            MORTGAGE    176346.62670   \n",
              "1      12.237563     C                RENT     39833.92100   \n",
              "2      12.545884     F            MORTGAGE     91506.69105   \n",
              "3      16.731201     C            MORTGAGE    108286.57590   \n",
              "4      15.008300     C            MORTGAGE     44234.82545   \n",
              "\n",
              "  Verification Status  ...   Recoveries  Collection Recovery Fee  \\\n",
              "0        Not Verified  ...     2.498291                 0.793724   \n",
              "1     Source Verified  ...     2.377215                 0.974821   \n",
              "2     Source Verified  ...     4.316277                 1.020075   \n",
              "3     Source Verified  ...     0.107020                 0.749971   \n",
              "4     Source Verified  ...  1294.818751                 0.368953   \n",
              "\n",
              "   Collection 12 months Medical  Application Type  Last week Pay  \\\n",
              "0                             0        INDIVIDUAL             49   \n",
              "1                             0        INDIVIDUAL            109   \n",
              "2                             0        INDIVIDUAL             66   \n",
              "3                             0        INDIVIDUAL             39   \n",
              "4                             0        INDIVIDUAL             18   \n",
              "\n",
              "   Accounts Delinquent  Total Collection Amount  Total Current Balance  \\\n",
              "0                    0                       31                 311301   \n",
              "1                    0                       53                 182610   \n",
              "2                    0                       34                  89801   \n",
              "3                    0                       40                   9189   \n",
              "4                    0                      430                 126029   \n",
              "\n",
              "   Total Revolving Credit Limit Loan Status  \n",
              "0                          6619           0  \n",
              "1                         20885           0  \n",
              "2                         26155           0  \n",
              "3                         60214           0  \n",
              "4                         22579           0  \n",
              "\n",
              "[5 rows x 32 columns]"
            ],
            "text/html": [
              "\n",
              "  <div id=\"df-4dff4da8-b577-46fe-9061-5871e0d66fd1\" class=\"colab-df-container\">\n",
              "    <div>\n",
              "<style scoped>\n",
              "    .dataframe tbody tr th:only-of-type {\n",
              "        vertical-align: middle;\n",
              "    }\n",
              "\n",
              "    .dataframe tbody tr th {\n",
              "        vertical-align: top;\n",
              "    }\n",
              "\n",
              "    .dataframe thead th {\n",
              "        text-align: right;\n",
              "    }\n",
              "</style>\n",
              "<table border=\"1\" class=\"dataframe\">\n",
              "  <thead>\n",
              "    <tr style=\"text-align: right;\">\n",
              "      <th></th>\n",
              "      <th>ID</th>\n",
              "      <th>Loan Amount</th>\n",
              "      <th>Funded Amount</th>\n",
              "      <th>Funded Amount Investor</th>\n",
              "      <th>Term</th>\n",
              "      <th>Interest Rate</th>\n",
              "      <th>Grade</th>\n",
              "      <th>Employment Duration</th>\n",
              "      <th>Home Ownership</th>\n",
              "      <th>Verification Status</th>\n",
              "      <th>...</th>\n",
              "      <th>Recoveries</th>\n",
              "      <th>Collection Recovery Fee</th>\n",
              "      <th>Collection 12 months Medical</th>\n",
              "      <th>Application Type</th>\n",
              "      <th>Last week Pay</th>\n",
              "      <th>Accounts Delinquent</th>\n",
              "      <th>Total Collection Amount</th>\n",
              "      <th>Total Current Balance</th>\n",
              "      <th>Total Revolving Credit Limit</th>\n",
              "      <th>Loan Status</th>\n",
              "    </tr>\n",
              "  </thead>\n",
              "  <tbody>\n",
              "    <tr>\n",
              "      <th>0</th>\n",
              "      <td>65087372</td>\n",
              "      <td>10000</td>\n",
              "      <td>32236</td>\n",
              "      <td>12329.36286</td>\n",
              "      <td>59</td>\n",
              "      <td>11.135007</td>\n",
              "      <td>B</td>\n",
              "      <td>MORTGAGE</td>\n",
              "      <td>176346.62670</td>\n",
              "      <td>Not Verified</td>\n",
              "      <td>...</td>\n",
              "      <td>2.498291</td>\n",
              "      <td>0.793724</td>\n",
              "      <td>0</td>\n",
              "      <td>INDIVIDUAL</td>\n",
              "      <td>49</td>\n",
              "      <td>0</td>\n",
              "      <td>31</td>\n",
              "      <td>311301</td>\n",
              "      <td>6619</td>\n",
              "      <td>0</td>\n",
              "    </tr>\n",
              "    <tr>\n",
              "      <th>1</th>\n",
              "      <td>1450153</td>\n",
              "      <td>3609</td>\n",
              "      <td>11940</td>\n",
              "      <td>12191.99692</td>\n",
              "      <td>59</td>\n",
              "      <td>12.237563</td>\n",
              "      <td>C</td>\n",
              "      <td>RENT</td>\n",
              "      <td>39833.92100</td>\n",
              "      <td>Source Verified</td>\n",
              "      <td>...</td>\n",
              "      <td>2.377215</td>\n",
              "      <td>0.974821</td>\n",
              "      <td>0</td>\n",
              "      <td>INDIVIDUAL</td>\n",
              "      <td>109</td>\n",
              "      <td>0</td>\n",
              "      <td>53</td>\n",
              "      <td>182610</td>\n",
              "      <td>20885</td>\n",
              "      <td>0</td>\n",
              "    </tr>\n",
              "    <tr>\n",
              "      <th>2</th>\n",
              "      <td>1969101</td>\n",
              "      <td>28276</td>\n",
              "      <td>9311</td>\n",
              "      <td>21603.22455</td>\n",
              "      <td>59</td>\n",
              "      <td>12.545884</td>\n",
              "      <td>F</td>\n",
              "      <td>MORTGAGE</td>\n",
              "      <td>91506.69105</td>\n",
              "      <td>Source Verified</td>\n",
              "      <td>...</td>\n",
              "      <td>4.316277</td>\n",
              "      <td>1.020075</td>\n",
              "      <td>0</td>\n",
              "      <td>INDIVIDUAL</td>\n",
              "      <td>66</td>\n",
              "      <td>0</td>\n",
              "      <td>34</td>\n",
              "      <td>89801</td>\n",
              "      <td>26155</td>\n",
              "      <td>0</td>\n",
              "    </tr>\n",
              "    <tr>\n",
              "      <th>3</th>\n",
              "      <td>6651430</td>\n",
              "      <td>11170</td>\n",
              "      <td>6954</td>\n",
              "      <td>17877.15585</td>\n",
              "      <td>59</td>\n",
              "      <td>16.731201</td>\n",
              "      <td>C</td>\n",
              "      <td>MORTGAGE</td>\n",
              "      <td>108286.57590</td>\n",
              "      <td>Source Verified</td>\n",
              "      <td>...</td>\n",
              "      <td>0.107020</td>\n",
              "      <td>0.749971</td>\n",
              "      <td>0</td>\n",
              "      <td>INDIVIDUAL</td>\n",
              "      <td>39</td>\n",
              "      <td>0</td>\n",
              "      <td>40</td>\n",
              "      <td>9189</td>\n",
              "      <td>60214</td>\n",
              "      <td>0</td>\n",
              "    </tr>\n",
              "    <tr>\n",
              "      <th>4</th>\n",
              "      <td>14354669</td>\n",
              "      <td>16890</td>\n",
              "      <td>13226</td>\n",
              "      <td>13539.92667</td>\n",
              "      <td>59</td>\n",
              "      <td>15.008300</td>\n",
              "      <td>C</td>\n",
              "      <td>MORTGAGE</td>\n",
              "      <td>44234.82545</td>\n",
              "      <td>Source Verified</td>\n",
              "      <td>...</td>\n",
              "      <td>1294.818751</td>\n",
              "      <td>0.368953</td>\n",
              "      <td>0</td>\n",
              "      <td>INDIVIDUAL</td>\n",
              "      <td>18</td>\n",
              "      <td>0</td>\n",
              "      <td>430</td>\n",
              "      <td>126029</td>\n",
              "      <td>22579</td>\n",
              "      <td>0</td>\n",
              "    </tr>\n",
              "  </tbody>\n",
              "</table>\n",
              "<p>5 rows × 32 columns</p>\n",
              "</div>\n",
              "    <div class=\"colab-df-buttons\">\n",
              "\n",
              "  <div class=\"colab-df-container\">\n",
              "    <button class=\"colab-df-convert\" onclick=\"convertToInteractive('df-4dff4da8-b577-46fe-9061-5871e0d66fd1')\"\n",
              "            title=\"Convert this dataframe to an interactive table.\"\n",
              "            style=\"display:none;\">\n",
              "\n",
              "  <svg xmlns=\"http://www.w3.org/2000/svg\" height=\"24px\" viewBox=\"0 -960 960 960\">\n",
              "    <path d=\"M120-120v-720h720v720H120Zm60-500h600v-160H180v160Zm220 220h160v-160H400v160Zm0 220h160v-160H400v160ZM180-400h160v-160H180v160Zm440 0h160v-160H620v160ZM180-180h160v-160H180v160Zm440 0h160v-160H620v160Z\"/>\n",
              "  </svg>\n",
              "    </button>\n",
              "\n",
              "  <style>\n",
              "    .colab-df-container {\n",
              "      display:flex;\n",
              "      gap: 12px;\n",
              "    }\n",
              "\n",
              "    .colab-df-convert {\n",
              "      background-color: #E8F0FE;\n",
              "      border: none;\n",
              "      border-radius: 50%;\n",
              "      cursor: pointer;\n",
              "      display: none;\n",
              "      fill: #1967D2;\n",
              "      height: 32px;\n",
              "      padding: 0 0 0 0;\n",
              "      width: 32px;\n",
              "    }\n",
              "\n",
              "    .colab-df-convert:hover {\n",
              "      background-color: #E2EBFA;\n",
              "      box-shadow: 0px 1px 2px rgba(60, 64, 67, 0.3), 0px 1px 3px 1px rgba(60, 64, 67, 0.15);\n",
              "      fill: #174EA6;\n",
              "    }\n",
              "\n",
              "    .colab-df-buttons div {\n",
              "      margin-bottom: 4px;\n",
              "    }\n",
              "\n",
              "    [theme=dark] .colab-df-convert {\n",
              "      background-color: #3B4455;\n",
              "      fill: #D2E3FC;\n",
              "    }\n",
              "\n",
              "    [theme=dark] .colab-df-convert:hover {\n",
              "      background-color: #434B5C;\n",
              "      box-shadow: 0px 1px 3px 1px rgba(0, 0, 0, 0.15);\n",
              "      filter: drop-shadow(0px 1px 2px rgba(0, 0, 0, 0.3));\n",
              "      fill: #FFFFFF;\n",
              "    }\n",
              "  </style>\n",
              "\n",
              "    <script>\n",
              "      const buttonEl =\n",
              "        document.querySelector('#df-4dff4da8-b577-46fe-9061-5871e0d66fd1 button.colab-df-convert');\n",
              "      buttonEl.style.display =\n",
              "        google.colab.kernel.accessAllowed ? 'block' : 'none';\n",
              "\n",
              "      async function convertToInteractive(key) {\n",
              "        const element = document.querySelector('#df-4dff4da8-b577-46fe-9061-5871e0d66fd1');\n",
              "        const dataTable =\n",
              "          await google.colab.kernel.invokeFunction('convertToInteractive',\n",
              "                                                    [key], {});\n",
              "        if (!dataTable) return;\n",
              "\n",
              "        const docLinkHtml = 'Like what you see? Visit the ' +\n",
              "          '<a target=\"_blank\" href=https://colab.research.google.com/notebooks/data_table.ipynb>data table notebook</a>'\n",
              "          + ' to learn more about interactive tables.';\n",
              "        element.innerHTML = '';\n",
              "        dataTable['output_type'] = 'display_data';\n",
              "        await google.colab.output.renderOutput(dataTable, element);\n",
              "        const docLink = document.createElement('div');\n",
              "        docLink.innerHTML = docLinkHtml;\n",
              "        element.appendChild(docLink);\n",
              "      }\n",
              "    </script>\n",
              "  </div>\n",
              "\n",
              "\n",
              "<div id=\"df-e8e4d98c-02a1-4b6a-9c2d-baa934062ced\">\n",
              "  <button class=\"colab-df-quickchart\" onclick=\"quickchart('df-e8e4d98c-02a1-4b6a-9c2d-baa934062ced')\"\n",
              "            title=\"Suggest charts.\"\n",
              "            style=\"display:none;\">\n",
              "\n",
              "<svg xmlns=\"http://www.w3.org/2000/svg\" height=\"24px\"viewBox=\"0 0 24 24\"\n",
              "     width=\"24px\">\n",
              "    <g>\n",
              "        <path d=\"M19 3H5c-1.1 0-2 .9-2 2v14c0 1.1.9 2 2 2h14c1.1 0 2-.9 2-2V5c0-1.1-.9-2-2-2zM9 17H7v-7h2v7zm4 0h-2V7h2v10zm4 0h-2v-4h2v4z\"/>\n",
              "    </g>\n",
              "</svg>\n",
              "  </button>\n",
              "\n",
              "<style>\n",
              "  .colab-df-quickchart {\n",
              "      --bg-color: #E8F0FE;\n",
              "      --fill-color: #1967D2;\n",
              "      --hover-bg-color: #E2EBFA;\n",
              "      --hover-fill-color: #174EA6;\n",
              "      --disabled-fill-color: #AAA;\n",
              "      --disabled-bg-color: #DDD;\n",
              "  }\n",
              "\n",
              "  [theme=dark] .colab-df-quickchart {\n",
              "      --bg-color: #3B4455;\n",
              "      --fill-color: #D2E3FC;\n",
              "      --hover-bg-color: #434B5C;\n",
              "      --hover-fill-color: #FFFFFF;\n",
              "      --disabled-bg-color: #3B4455;\n",
              "      --disabled-fill-color: #666;\n",
              "  }\n",
              "\n",
              "  .colab-df-quickchart {\n",
              "    background-color: var(--bg-color);\n",
              "    border: none;\n",
              "    border-radius: 50%;\n",
              "    cursor: pointer;\n",
              "    display: none;\n",
              "    fill: var(--fill-color);\n",
              "    height: 32px;\n",
              "    padding: 0;\n",
              "    width: 32px;\n",
              "  }\n",
              "\n",
              "  .colab-df-quickchart:hover {\n",
              "    background-color: var(--hover-bg-color);\n",
              "    box-shadow: 0 1px 2px rgba(60, 64, 67, 0.3), 0 1px 3px 1px rgba(60, 64, 67, 0.15);\n",
              "    fill: var(--button-hover-fill-color);\n",
              "  }\n",
              "\n",
              "  .colab-df-quickchart-complete:disabled,\n",
              "  .colab-df-quickchart-complete:disabled:hover {\n",
              "    background-color: var(--disabled-bg-color);\n",
              "    fill: var(--disabled-fill-color);\n",
              "    box-shadow: none;\n",
              "  }\n",
              "\n",
              "  .colab-df-spinner {\n",
              "    border: 2px solid var(--fill-color);\n",
              "    border-color: transparent;\n",
              "    border-bottom-color: var(--fill-color);\n",
              "    animation:\n",
              "      spin 1s steps(1) infinite;\n",
              "  }\n",
              "\n",
              "  @keyframes spin {\n",
              "    0% {\n",
              "      border-color: transparent;\n",
              "      border-bottom-color: var(--fill-color);\n",
              "      border-left-color: var(--fill-color);\n",
              "    }\n",
              "    20% {\n",
              "      border-color: transparent;\n",
              "      border-left-color: var(--fill-color);\n",
              "      border-top-color: var(--fill-color);\n",
              "    }\n",
              "    30% {\n",
              "      border-color: transparent;\n",
              "      border-left-color: var(--fill-color);\n",
              "      border-top-color: var(--fill-color);\n",
              "      border-right-color: var(--fill-color);\n",
              "    }\n",
              "    40% {\n",
              "      border-color: transparent;\n",
              "      border-right-color: var(--fill-color);\n",
              "      border-top-color: var(--fill-color);\n",
              "    }\n",
              "    60% {\n",
              "      border-color: transparent;\n",
              "      border-right-color: var(--fill-color);\n",
              "    }\n",
              "    80% {\n",
              "      border-color: transparent;\n",
              "      border-right-color: var(--fill-color);\n",
              "      border-bottom-color: var(--fill-color);\n",
              "    }\n",
              "    90% {\n",
              "      border-color: transparent;\n",
              "      border-bottom-color: var(--fill-color);\n",
              "    }\n",
              "  }\n",
              "</style>\n",
              "\n",
              "  <script>\n",
              "    async function quickchart(key) {\n",
              "      const quickchartButtonEl =\n",
              "        document.querySelector('#' + key + ' button');\n",
              "      quickchartButtonEl.disabled = true;  // To prevent multiple clicks.\n",
              "      quickchartButtonEl.classList.add('colab-df-spinner');\n",
              "      try {\n",
              "        const charts = await google.colab.kernel.invokeFunction(\n",
              "            'suggestCharts', [key], {});\n",
              "      } catch (error) {\n",
              "        console.error('Error during call to suggestCharts:', error);\n",
              "      }\n",
              "      quickchartButtonEl.classList.remove('colab-df-spinner');\n",
              "      quickchartButtonEl.classList.add('colab-df-quickchart-complete');\n",
              "    }\n",
              "    (() => {\n",
              "      let quickchartButtonEl =\n",
              "        document.querySelector('#df-e8e4d98c-02a1-4b6a-9c2d-baa934062ced button');\n",
              "      quickchartButtonEl.style.display =\n",
              "        google.colab.kernel.accessAllowed ? 'block' : 'none';\n",
              "    })();\n",
              "  </script>\n",
              "</div>\n",
              "    </div>\n",
              "  </div>\n"
            ]
          },
          "metadata": {},
          "execution_count": 17
        }
      ]
    },
    {
      "cell_type": "code",
      "source": [
        "default_fin_df.info()"
      ],
      "metadata": {
        "colab": {
          "base_uri": "https://localhost:8080/"
        },
        "id": "9MgdsVKSjvD0",
        "outputId": "8104a371-8df8-445c-d05a-60342f0e7158"
      },
      "execution_count": null,
      "outputs": [
        {
          "output_type": "stream",
          "name": "stdout",
          "text": [
            "<class 'pandas.core.frame.DataFrame'>\n",
            "RangeIndex: 67463 entries, 0 to 67462\n",
            "Data columns (total 32 columns):\n",
            " #   Column                        Non-Null Count  Dtype  \n",
            "---  ------                        --------------  -----  \n",
            " 0   ID                            67463 non-null  int64  \n",
            " 1   Loan Amount                   67463 non-null  int64  \n",
            " 2   Funded Amount                 67463 non-null  int64  \n",
            " 3   Funded Amount Investor        67463 non-null  float64\n",
            " 4   Term                          67463 non-null  int64  \n",
            " 5   Interest Rate                 67463 non-null  float64\n",
            " 6   Grade                         67463 non-null  object \n",
            " 7   Employment Duration           67463 non-null  object \n",
            " 8   Home Ownership                67463 non-null  float64\n",
            " 9   Verification Status           67463 non-null  object \n",
            " 10  Payment Plan                  67463 non-null  object \n",
            " 11  Debit to Income               67463 non-null  float64\n",
            " 12  Delinquency - two years       67463 non-null  int64  \n",
            " 13  Inquires - six months         67463 non-null  int64  \n",
            " 14  Open Account                  67463 non-null  int64  \n",
            " 15  Public Record                 67463 non-null  int64  \n",
            " 16  Revolving Balance             67463 non-null  int64  \n",
            " 17  Revolving Utilities           67463 non-null  float64\n",
            " 18  Total Accounts                67463 non-null  int64  \n",
            " 19  Initial List Status           67463 non-null  object \n",
            " 20  Total Received Interest       67463 non-null  float64\n",
            " 21  Total Received Late Fee       67463 non-null  float64\n",
            " 22  Recoveries                    67463 non-null  float64\n",
            " 23  Collection Recovery Fee       67463 non-null  float64\n",
            " 24  Collection 12 months Medical  67463 non-null  int64  \n",
            " 25  Application Type              67463 non-null  object \n",
            " 26  Last week Pay                 67463 non-null  int64  \n",
            " 27  Accounts Delinquent           67463 non-null  int64  \n",
            " 28  Total Collection Amount       67463 non-null  int64  \n",
            " 29  Total Current Balance         67463 non-null  int64  \n",
            " 30  Total Revolving Credit Limit  67463 non-null  int64  \n",
            " 31  Loan Status                   67463 non-null  int64  \n",
            "dtypes: float64(9), int64(17), object(6)\n",
            "memory usage: 16.5+ MB\n"
          ]
        }
      ]
    },
    {
      "cell_type": "markdown",
      "source": [
        "Using label encoder for changing the object data type data into numeric value"
      ],
      "metadata": {
        "id": "pR9I28ymFozv"
      }
    },
    {
      "cell_type": "code",
      "source": [
        "from sklearn.preprocessing import LabelEncoder"
      ],
      "metadata": {
        "id": "HI9k_iHdkhAa"
      },
      "execution_count": null,
      "outputs": []
    },
    {
      "cell_type": "code",
      "source": [
        "lb = LabelEncoder()"
      ],
      "metadata": {
        "id": "VNC6O19wlNUW"
      },
      "execution_count": null,
      "outputs": []
    },
    {
      "cell_type": "code",
      "source": [
        "default_fin_df[\"Grade\"] = lb.fit_transform(default_fin_df[\"Grade\"])\n",
        "default_fin_df[\"Employment Duration\"] = lb.fit_transform(default_fin_df[\"Employment Duration\"])\n",
        "default_fin_df[\"Verification Status\"] = lb.fit_transform(default_fin_df[\"Verification Status\"])\n",
        "default_fin_df[\"Initial List Status\"] = lb.fit_transform(default_fin_df[\"Initial List Status\"])\n",
        "default_fin_df[\"Application Type\"] = lb.fit_transform(default_fin_df[\"Application Type\"])\n"
      ],
      "metadata": {
        "id": "z51JCTRJlPr5"
      },
      "execution_count": null,
      "outputs": []
    },
    {
      "cell_type": "markdown",
      "source": [
        "Dropping ID and payment plan"
      ],
      "metadata": {
        "id": "KM4NtE-HF2Xw"
      }
    },
    {
      "cell_type": "code",
      "source": [
        "default_fin_df.drop([\"ID\",\"Payment Plan\"],axis=1,inplace=True)\n",
        "default_fin_df.head()"
      ],
      "metadata": {
        "colab": {
          "base_uri": "https://localhost:8080/",
          "height": 307
        },
        "id": "WkvroInkmcEj",
        "outputId": "44a9edd8-932f-4206-a529-28e933ce6c7e"
      },
      "execution_count": null,
      "outputs": [
        {
          "output_type": "execute_result",
          "data": {
            "text/plain": [
              "   Loan Amount  Funded Amount  Funded Amount Investor  Term  Interest Rate  \\\n",
              "0        10000          32236             12329.36286    59      11.135007   \n",
              "1         3609          11940             12191.99692    59      12.237563   \n",
              "2        28276           9311             21603.22455    59      12.545884   \n",
              "3        11170           6954             17877.15585    59      16.731201   \n",
              "4        16890          13226             13539.92667    59      15.008300   \n",
              "\n",
              "   Grade  Employment Duration  Home Ownership  Verification Status  \\\n",
              "0      1                    0    176346.62670                    0   \n",
              "1      2                    2     39833.92100                    1   \n",
              "2      5                    0     91506.69105                    1   \n",
              "3      2                    0    108286.57590                    1   \n",
              "4      2                    0     44234.82545                    1   \n",
              "\n",
              "   Debit to Income  ...   Recoveries  Collection Recovery Fee  \\\n",
              "0        16.284758  ...     2.498291                 0.793724   \n",
              "1        15.412409  ...     2.377215                 0.974821   \n",
              "2        28.137619  ...     4.316277                 1.020075   \n",
              "3        18.043730  ...     0.107020                 0.749971   \n",
              "4        17.209886  ...  1294.818751                 0.368953   \n",
              "\n",
              "   Collection 12 months Medical  Application Type  Last week Pay  \\\n",
              "0                             0                 0             49   \n",
              "1                             0                 0            109   \n",
              "2                             0                 0             66   \n",
              "3                             0                 0             39   \n",
              "4                             0                 0             18   \n",
              "\n",
              "   Accounts Delinquent  Total Collection Amount  Total Current Balance  \\\n",
              "0                    0                       31                 311301   \n",
              "1                    0                       53                 182610   \n",
              "2                    0                       34                  89801   \n",
              "3                    0                       40                   9189   \n",
              "4                    0                      430                 126029   \n",
              "\n",
              "   Total Revolving Credit Limit  Loan Status  \n",
              "0                          6619            0  \n",
              "1                         20885            0  \n",
              "2                         26155            0  \n",
              "3                         60214            0  \n",
              "4                         22579            0  \n",
              "\n",
              "[5 rows x 30 columns]"
            ],
            "text/html": [
              "\n",
              "  <div id=\"df-5b4a56fc-8649-483f-bd94-a655e70204d1\" class=\"colab-df-container\">\n",
              "    <div>\n",
              "<style scoped>\n",
              "    .dataframe tbody tr th:only-of-type {\n",
              "        vertical-align: middle;\n",
              "    }\n",
              "\n",
              "    .dataframe tbody tr th {\n",
              "        vertical-align: top;\n",
              "    }\n",
              "\n",
              "    .dataframe thead th {\n",
              "        text-align: right;\n",
              "    }\n",
              "</style>\n",
              "<table border=\"1\" class=\"dataframe\">\n",
              "  <thead>\n",
              "    <tr style=\"text-align: right;\">\n",
              "      <th></th>\n",
              "      <th>Loan Amount</th>\n",
              "      <th>Funded Amount</th>\n",
              "      <th>Funded Amount Investor</th>\n",
              "      <th>Term</th>\n",
              "      <th>Interest Rate</th>\n",
              "      <th>Grade</th>\n",
              "      <th>Employment Duration</th>\n",
              "      <th>Home Ownership</th>\n",
              "      <th>Verification Status</th>\n",
              "      <th>Debit to Income</th>\n",
              "      <th>...</th>\n",
              "      <th>Recoveries</th>\n",
              "      <th>Collection Recovery Fee</th>\n",
              "      <th>Collection 12 months Medical</th>\n",
              "      <th>Application Type</th>\n",
              "      <th>Last week Pay</th>\n",
              "      <th>Accounts Delinquent</th>\n",
              "      <th>Total Collection Amount</th>\n",
              "      <th>Total Current Balance</th>\n",
              "      <th>Total Revolving Credit Limit</th>\n",
              "      <th>Loan Status</th>\n",
              "    </tr>\n",
              "  </thead>\n",
              "  <tbody>\n",
              "    <tr>\n",
              "      <th>0</th>\n",
              "      <td>10000</td>\n",
              "      <td>32236</td>\n",
              "      <td>12329.36286</td>\n",
              "      <td>59</td>\n",
              "      <td>11.135007</td>\n",
              "      <td>1</td>\n",
              "      <td>0</td>\n",
              "      <td>176346.62670</td>\n",
              "      <td>0</td>\n",
              "      <td>16.284758</td>\n",
              "      <td>...</td>\n",
              "      <td>2.498291</td>\n",
              "      <td>0.793724</td>\n",
              "      <td>0</td>\n",
              "      <td>0</td>\n",
              "      <td>49</td>\n",
              "      <td>0</td>\n",
              "      <td>31</td>\n",
              "      <td>311301</td>\n",
              "      <td>6619</td>\n",
              "      <td>0</td>\n",
              "    </tr>\n",
              "    <tr>\n",
              "      <th>1</th>\n",
              "      <td>3609</td>\n",
              "      <td>11940</td>\n",
              "      <td>12191.99692</td>\n",
              "      <td>59</td>\n",
              "      <td>12.237563</td>\n",
              "      <td>2</td>\n",
              "      <td>2</td>\n",
              "      <td>39833.92100</td>\n",
              "      <td>1</td>\n",
              "      <td>15.412409</td>\n",
              "      <td>...</td>\n",
              "      <td>2.377215</td>\n",
              "      <td>0.974821</td>\n",
              "      <td>0</td>\n",
              "      <td>0</td>\n",
              "      <td>109</td>\n",
              "      <td>0</td>\n",
              "      <td>53</td>\n",
              "      <td>182610</td>\n",
              "      <td>20885</td>\n",
              "      <td>0</td>\n",
              "    </tr>\n",
              "    <tr>\n",
              "      <th>2</th>\n",
              "      <td>28276</td>\n",
              "      <td>9311</td>\n",
              "      <td>21603.22455</td>\n",
              "      <td>59</td>\n",
              "      <td>12.545884</td>\n",
              "      <td>5</td>\n",
              "      <td>0</td>\n",
              "      <td>91506.69105</td>\n",
              "      <td>1</td>\n",
              "      <td>28.137619</td>\n",
              "      <td>...</td>\n",
              "      <td>4.316277</td>\n",
              "      <td>1.020075</td>\n",
              "      <td>0</td>\n",
              "      <td>0</td>\n",
              "      <td>66</td>\n",
              "      <td>0</td>\n",
              "      <td>34</td>\n",
              "      <td>89801</td>\n",
              "      <td>26155</td>\n",
              "      <td>0</td>\n",
              "    </tr>\n",
              "    <tr>\n",
              "      <th>3</th>\n",
              "      <td>11170</td>\n",
              "      <td>6954</td>\n",
              "      <td>17877.15585</td>\n",
              "      <td>59</td>\n",
              "      <td>16.731201</td>\n",
              "      <td>2</td>\n",
              "      <td>0</td>\n",
              "      <td>108286.57590</td>\n",
              "      <td>1</td>\n",
              "      <td>18.043730</td>\n",
              "      <td>...</td>\n",
              "      <td>0.107020</td>\n",
              "      <td>0.749971</td>\n",
              "      <td>0</td>\n",
              "      <td>0</td>\n",
              "      <td>39</td>\n",
              "      <td>0</td>\n",
              "      <td>40</td>\n",
              "      <td>9189</td>\n",
              "      <td>60214</td>\n",
              "      <td>0</td>\n",
              "    </tr>\n",
              "    <tr>\n",
              "      <th>4</th>\n",
              "      <td>16890</td>\n",
              "      <td>13226</td>\n",
              "      <td>13539.92667</td>\n",
              "      <td>59</td>\n",
              "      <td>15.008300</td>\n",
              "      <td>2</td>\n",
              "      <td>0</td>\n",
              "      <td>44234.82545</td>\n",
              "      <td>1</td>\n",
              "      <td>17.209886</td>\n",
              "      <td>...</td>\n",
              "      <td>1294.818751</td>\n",
              "      <td>0.368953</td>\n",
              "      <td>0</td>\n",
              "      <td>0</td>\n",
              "      <td>18</td>\n",
              "      <td>0</td>\n",
              "      <td>430</td>\n",
              "      <td>126029</td>\n",
              "      <td>22579</td>\n",
              "      <td>0</td>\n",
              "    </tr>\n",
              "  </tbody>\n",
              "</table>\n",
              "<p>5 rows × 30 columns</p>\n",
              "</div>\n",
              "    <div class=\"colab-df-buttons\">\n",
              "\n",
              "  <div class=\"colab-df-container\">\n",
              "    <button class=\"colab-df-convert\" onclick=\"convertToInteractive('df-5b4a56fc-8649-483f-bd94-a655e70204d1')\"\n",
              "            title=\"Convert this dataframe to an interactive table.\"\n",
              "            style=\"display:none;\">\n",
              "\n",
              "  <svg xmlns=\"http://www.w3.org/2000/svg\" height=\"24px\" viewBox=\"0 -960 960 960\">\n",
              "    <path d=\"M120-120v-720h720v720H120Zm60-500h600v-160H180v160Zm220 220h160v-160H400v160Zm0 220h160v-160H400v160ZM180-400h160v-160H180v160Zm440 0h160v-160H620v160ZM180-180h160v-160H180v160Zm440 0h160v-160H620v160Z\"/>\n",
              "  </svg>\n",
              "    </button>\n",
              "\n",
              "  <style>\n",
              "    .colab-df-container {\n",
              "      display:flex;\n",
              "      gap: 12px;\n",
              "    }\n",
              "\n",
              "    .colab-df-convert {\n",
              "      background-color: #E8F0FE;\n",
              "      border: none;\n",
              "      border-radius: 50%;\n",
              "      cursor: pointer;\n",
              "      display: none;\n",
              "      fill: #1967D2;\n",
              "      height: 32px;\n",
              "      padding: 0 0 0 0;\n",
              "      width: 32px;\n",
              "    }\n",
              "\n",
              "    .colab-df-convert:hover {\n",
              "      background-color: #E2EBFA;\n",
              "      box-shadow: 0px 1px 2px rgba(60, 64, 67, 0.3), 0px 1px 3px 1px rgba(60, 64, 67, 0.15);\n",
              "      fill: #174EA6;\n",
              "    }\n",
              "\n",
              "    .colab-df-buttons div {\n",
              "      margin-bottom: 4px;\n",
              "    }\n",
              "\n",
              "    [theme=dark] .colab-df-convert {\n",
              "      background-color: #3B4455;\n",
              "      fill: #D2E3FC;\n",
              "    }\n",
              "\n",
              "    [theme=dark] .colab-df-convert:hover {\n",
              "      background-color: #434B5C;\n",
              "      box-shadow: 0px 1px 3px 1px rgba(0, 0, 0, 0.15);\n",
              "      filter: drop-shadow(0px 1px 2px rgba(0, 0, 0, 0.3));\n",
              "      fill: #FFFFFF;\n",
              "    }\n",
              "  </style>\n",
              "\n",
              "    <script>\n",
              "      const buttonEl =\n",
              "        document.querySelector('#df-5b4a56fc-8649-483f-bd94-a655e70204d1 button.colab-df-convert');\n",
              "      buttonEl.style.display =\n",
              "        google.colab.kernel.accessAllowed ? 'block' : 'none';\n",
              "\n",
              "      async function convertToInteractive(key) {\n",
              "        const element = document.querySelector('#df-5b4a56fc-8649-483f-bd94-a655e70204d1');\n",
              "        const dataTable =\n",
              "          await google.colab.kernel.invokeFunction('convertToInteractive',\n",
              "                                                    [key], {});\n",
              "        if (!dataTable) return;\n",
              "\n",
              "        const docLinkHtml = 'Like what you see? Visit the ' +\n",
              "          '<a target=\"_blank\" href=https://colab.research.google.com/notebooks/data_table.ipynb>data table notebook</a>'\n",
              "          + ' to learn more about interactive tables.';\n",
              "        element.innerHTML = '';\n",
              "        dataTable['output_type'] = 'display_data';\n",
              "        await google.colab.output.renderOutput(dataTable, element);\n",
              "        const docLink = document.createElement('div');\n",
              "        docLink.innerHTML = docLinkHtml;\n",
              "        element.appendChild(docLink);\n",
              "      }\n",
              "    </script>\n",
              "  </div>\n",
              "\n",
              "\n",
              "<div id=\"df-d380c420-744a-4774-9628-276a841122a3\">\n",
              "  <button class=\"colab-df-quickchart\" onclick=\"quickchart('df-d380c420-744a-4774-9628-276a841122a3')\"\n",
              "            title=\"Suggest charts.\"\n",
              "            style=\"display:none;\">\n",
              "\n",
              "<svg xmlns=\"http://www.w3.org/2000/svg\" height=\"24px\"viewBox=\"0 0 24 24\"\n",
              "     width=\"24px\">\n",
              "    <g>\n",
              "        <path d=\"M19 3H5c-1.1 0-2 .9-2 2v14c0 1.1.9 2 2 2h14c1.1 0 2-.9 2-2V5c0-1.1-.9-2-2-2zM9 17H7v-7h2v7zm4 0h-2V7h2v10zm4 0h-2v-4h2v4z\"/>\n",
              "    </g>\n",
              "</svg>\n",
              "  </button>\n",
              "\n",
              "<style>\n",
              "  .colab-df-quickchart {\n",
              "      --bg-color: #E8F0FE;\n",
              "      --fill-color: #1967D2;\n",
              "      --hover-bg-color: #E2EBFA;\n",
              "      --hover-fill-color: #174EA6;\n",
              "      --disabled-fill-color: #AAA;\n",
              "      --disabled-bg-color: #DDD;\n",
              "  }\n",
              "\n",
              "  [theme=dark] .colab-df-quickchart {\n",
              "      --bg-color: #3B4455;\n",
              "      --fill-color: #D2E3FC;\n",
              "      --hover-bg-color: #434B5C;\n",
              "      --hover-fill-color: #FFFFFF;\n",
              "      --disabled-bg-color: #3B4455;\n",
              "      --disabled-fill-color: #666;\n",
              "  }\n",
              "\n",
              "  .colab-df-quickchart {\n",
              "    background-color: var(--bg-color);\n",
              "    border: none;\n",
              "    border-radius: 50%;\n",
              "    cursor: pointer;\n",
              "    display: none;\n",
              "    fill: var(--fill-color);\n",
              "    height: 32px;\n",
              "    padding: 0;\n",
              "    width: 32px;\n",
              "  }\n",
              "\n",
              "  .colab-df-quickchart:hover {\n",
              "    background-color: var(--hover-bg-color);\n",
              "    box-shadow: 0 1px 2px rgba(60, 64, 67, 0.3), 0 1px 3px 1px rgba(60, 64, 67, 0.15);\n",
              "    fill: var(--button-hover-fill-color);\n",
              "  }\n",
              "\n",
              "  .colab-df-quickchart-complete:disabled,\n",
              "  .colab-df-quickchart-complete:disabled:hover {\n",
              "    background-color: var(--disabled-bg-color);\n",
              "    fill: var(--disabled-fill-color);\n",
              "    box-shadow: none;\n",
              "  }\n",
              "\n",
              "  .colab-df-spinner {\n",
              "    border: 2px solid var(--fill-color);\n",
              "    border-color: transparent;\n",
              "    border-bottom-color: var(--fill-color);\n",
              "    animation:\n",
              "      spin 1s steps(1) infinite;\n",
              "  }\n",
              "\n",
              "  @keyframes spin {\n",
              "    0% {\n",
              "      border-color: transparent;\n",
              "      border-bottom-color: var(--fill-color);\n",
              "      border-left-color: var(--fill-color);\n",
              "    }\n",
              "    20% {\n",
              "      border-color: transparent;\n",
              "      border-left-color: var(--fill-color);\n",
              "      border-top-color: var(--fill-color);\n",
              "    }\n",
              "    30% {\n",
              "      border-color: transparent;\n",
              "      border-left-color: var(--fill-color);\n",
              "      border-top-color: var(--fill-color);\n",
              "      border-right-color: var(--fill-color);\n",
              "    }\n",
              "    40% {\n",
              "      border-color: transparent;\n",
              "      border-right-color: var(--fill-color);\n",
              "      border-top-color: var(--fill-color);\n",
              "    }\n",
              "    60% {\n",
              "      border-color: transparent;\n",
              "      border-right-color: var(--fill-color);\n",
              "    }\n",
              "    80% {\n",
              "      border-color: transparent;\n",
              "      border-right-color: var(--fill-color);\n",
              "      border-bottom-color: var(--fill-color);\n",
              "    }\n",
              "    90% {\n",
              "      border-color: transparent;\n",
              "      border-bottom-color: var(--fill-color);\n",
              "    }\n",
              "  }\n",
              "</style>\n",
              "\n",
              "  <script>\n",
              "    async function quickchart(key) {\n",
              "      const quickchartButtonEl =\n",
              "        document.querySelector('#' + key + ' button');\n",
              "      quickchartButtonEl.disabled = true;  // To prevent multiple clicks.\n",
              "      quickchartButtonEl.classList.add('colab-df-spinner');\n",
              "      try {\n",
              "        const charts = await google.colab.kernel.invokeFunction(\n",
              "            'suggestCharts', [key], {});\n",
              "      } catch (error) {\n",
              "        console.error('Error during call to suggestCharts:', error);\n",
              "      }\n",
              "      quickchartButtonEl.classList.remove('colab-df-spinner');\n",
              "      quickchartButtonEl.classList.add('colab-df-quickchart-complete');\n",
              "    }\n",
              "    (() => {\n",
              "      let quickchartButtonEl =\n",
              "        document.querySelector('#df-d380c420-744a-4774-9628-276a841122a3 button');\n",
              "      quickchartButtonEl.style.display =\n",
              "        google.colab.kernel.accessAllowed ? 'block' : 'none';\n",
              "    })();\n",
              "  </script>\n",
              "</div>\n",
              "    </div>\n",
              "  </div>\n"
            ]
          },
          "metadata": {},
          "execution_count": 22
        }
      ]
    },
    {
      "cell_type": "code",
      "source": [
        "default_fin_df.info()"
      ],
      "metadata": {
        "colab": {
          "base_uri": "https://localhost:8080/"
        },
        "id": "zx91vhO7pddR",
        "outputId": "0345cbd1-81c4-4b9d-87bc-bb8b6f1c4d32"
      },
      "execution_count": null,
      "outputs": [
        {
          "output_type": "stream",
          "name": "stdout",
          "text": [
            "<class 'pandas.core.frame.DataFrame'>\n",
            "RangeIndex: 67463 entries, 0 to 67462\n",
            "Data columns (total 30 columns):\n",
            " #   Column                        Non-Null Count  Dtype  \n",
            "---  ------                        --------------  -----  \n",
            " 0   Loan Amount                   67463 non-null  int64  \n",
            " 1   Funded Amount                 67463 non-null  int64  \n",
            " 2   Funded Amount Investor        67463 non-null  float64\n",
            " 3   Term                          67463 non-null  int64  \n",
            " 4   Interest Rate                 67463 non-null  float64\n",
            " 5   Grade                         67463 non-null  int64  \n",
            " 6   Employment Duration           67463 non-null  int64  \n",
            " 7   Home Ownership                67463 non-null  float64\n",
            " 8   Verification Status           67463 non-null  int64  \n",
            " 9   Debit to Income               67463 non-null  float64\n",
            " 10  Delinquency - two years       67463 non-null  int64  \n",
            " 11  Inquires - six months         67463 non-null  int64  \n",
            " 12  Open Account                  67463 non-null  int64  \n",
            " 13  Public Record                 67463 non-null  int64  \n",
            " 14  Revolving Balance             67463 non-null  int64  \n",
            " 15  Revolving Utilities           67463 non-null  float64\n",
            " 16  Total Accounts                67463 non-null  int64  \n",
            " 17  Initial List Status           67463 non-null  int64  \n",
            " 18  Total Received Interest       67463 non-null  float64\n",
            " 19  Total Received Late Fee       67463 non-null  float64\n",
            " 20  Recoveries                    67463 non-null  float64\n",
            " 21  Collection Recovery Fee       67463 non-null  float64\n",
            " 22  Collection 12 months Medical  67463 non-null  int64  \n",
            " 23  Application Type              67463 non-null  int64  \n",
            " 24  Last week Pay                 67463 non-null  int64  \n",
            " 25  Accounts Delinquent           67463 non-null  int64  \n",
            " 26  Total Collection Amount       67463 non-null  int64  \n",
            " 27  Total Current Balance         67463 non-null  int64  \n",
            " 28  Total Revolving Credit Limit  67463 non-null  int64  \n",
            " 29  Loan Status                   67463 non-null  int64  \n",
            "dtypes: float64(9), int64(21)\n",
            "memory usage: 15.4 MB\n"
          ]
        }
      ]
    },
    {
      "cell_type": "code",
      "source": [
        "from sklearn.preprocessing import MinMaxScaler"
      ],
      "metadata": {
        "id": "zWbYaVtInrTp"
      },
      "execution_count": null,
      "outputs": []
    },
    {
      "cell_type": "markdown",
      "source": [
        "Scaling the data to appropriate value"
      ],
      "metadata": {
        "id": "VotMagVAH1Nx"
      }
    },
    {
      "cell_type": "code",
      "source": [
        "scale  = MinMaxScaler()"
      ],
      "metadata": {
        "id": "bOmh-KgfnwTq"
      },
      "execution_count": null,
      "outputs": []
    },
    {
      "cell_type": "code",
      "source": [
        "num_arr = [\"Loan Amount\",\"Funded Amount\",\"Funded Amount Investor\",\"Interest Rate\",\"Grade\",\"Home Ownership\",\"Debit to Income\",\"Recoveries\",\"Collection Recovery Fee\",\"Collection 12 months Medical\",\"Last week Pay\",\"Total Collection Amount\",\"Total Revolving Credit Limit\",\"Delinquency - two years\",\"Inquires - six months\",\"Open Account\",\"Public Record\",\"Revolving Balance\",\"Revolving Utilities\",\"Total Accounts\",\"Initial List Status\",\"Total Received Interest\",\"Total Received Late Fee\"]\n",
        "default_fin_df[num_arr] = scale.fit_transform(default_fin_df[num_arr])\n",
        "default_fin_df.head()"
      ],
      "metadata": {
        "colab": {
          "base_uri": "https://localhost:8080/",
          "height": 307
        },
        "id": "4_dFwTuDnwak",
        "outputId": "1a1008bd-ef80-4acf-caa6-86e8efd5e3d1"
      },
      "execution_count": null,
      "outputs": [
        {
          "output_type": "execute_result",
          "data": {
            "text/plain": [
              "   Loan Amount  Funded Amount  Funded Amount Investor  Term  Interest Rate  \\\n",
              "0     0.264403       0.918699                0.330964    59       0.265983   \n",
              "1     0.076355       0.321495                0.326910    59       0.316414   \n",
              "2     0.802154       0.244137                0.604649    59       0.330517   \n",
              "3     0.298829       0.174783                0.494688    59       0.521957   \n",
              "4     0.467134       0.359335                0.366690    59       0.443150   \n",
              "\n",
              "      Grade  Employment Duration  Home Ownership  Verification Status  \\\n",
              "0  0.166667                    0        0.412699                    0   \n",
              "1  0.333333                    2        0.064442                    1   \n",
              "2  0.833333                    0        0.196264                    1   \n",
              "3  0.333333                    0        0.239071                    1   \n",
              "4  0.333333                    0        0.075669                    1   \n",
              "\n",
              "   Debit to Income  ...  Recoveries  Collection Recovery Fee  \\\n",
              "0         0.400709  ...    0.000574                 0.004757   \n",
              "1         0.378315  ...    0.000546                 0.005843   \n",
              "2         0.704983  ...    0.000991                 0.006114   \n",
              "3         0.445864  ...    0.000025                 0.004495   \n",
              "4         0.424458  ...    0.297354                 0.002211   \n",
              "\n",
              "   Collection 12 months Medical  Application Type  Last week Pay  \\\n",
              "0                           0.0                 0       0.304348   \n",
              "1                           0.0                 0       0.677019   \n",
              "2                           0.0                 0       0.409938   \n",
              "3                           0.0                 0       0.242236   \n",
              "4                           0.0                 0       0.111801   \n",
              "\n",
              "   Accounts Delinquent  Total Collection Amount  Total Current Balance  \\\n",
              "0                    0                 0.001827                 311301   \n",
              "1                    0                 0.003167                 182610   \n",
              "2                    0                 0.002010                  89801   \n",
              "3                    0                 0.002375                   9189   \n",
              "4                    0                 0.026127                 126029   \n",
              "\n",
              "   Total Revolving Credit Limit  Loan Status  \n",
              "0                      0.028071            0  \n",
              "1                      0.099341            0  \n",
              "2                      0.125669            0  \n",
              "3                      0.295820            0  \n",
              "4                      0.107804            0  \n",
              "\n",
              "[5 rows x 30 columns]"
            ],
            "text/html": [
              "\n",
              "  <div id=\"df-13910415-3de7-49a4-8ea0-1a03255a0b11\" class=\"colab-df-container\">\n",
              "    <div>\n",
              "<style scoped>\n",
              "    .dataframe tbody tr th:only-of-type {\n",
              "        vertical-align: middle;\n",
              "    }\n",
              "\n",
              "    .dataframe tbody tr th {\n",
              "        vertical-align: top;\n",
              "    }\n",
              "\n",
              "    .dataframe thead th {\n",
              "        text-align: right;\n",
              "    }\n",
              "</style>\n",
              "<table border=\"1\" class=\"dataframe\">\n",
              "  <thead>\n",
              "    <tr style=\"text-align: right;\">\n",
              "      <th></th>\n",
              "      <th>Loan Amount</th>\n",
              "      <th>Funded Amount</th>\n",
              "      <th>Funded Amount Investor</th>\n",
              "      <th>Term</th>\n",
              "      <th>Interest Rate</th>\n",
              "      <th>Grade</th>\n",
              "      <th>Employment Duration</th>\n",
              "      <th>Home Ownership</th>\n",
              "      <th>Verification Status</th>\n",
              "      <th>Debit to Income</th>\n",
              "      <th>...</th>\n",
              "      <th>Recoveries</th>\n",
              "      <th>Collection Recovery Fee</th>\n",
              "      <th>Collection 12 months Medical</th>\n",
              "      <th>Application Type</th>\n",
              "      <th>Last week Pay</th>\n",
              "      <th>Accounts Delinquent</th>\n",
              "      <th>Total Collection Amount</th>\n",
              "      <th>Total Current Balance</th>\n",
              "      <th>Total Revolving Credit Limit</th>\n",
              "      <th>Loan Status</th>\n",
              "    </tr>\n",
              "  </thead>\n",
              "  <tbody>\n",
              "    <tr>\n",
              "      <th>0</th>\n",
              "      <td>0.264403</td>\n",
              "      <td>0.918699</td>\n",
              "      <td>0.330964</td>\n",
              "      <td>59</td>\n",
              "      <td>0.265983</td>\n",
              "      <td>0.166667</td>\n",
              "      <td>0</td>\n",
              "      <td>0.412699</td>\n",
              "      <td>0</td>\n",
              "      <td>0.400709</td>\n",
              "      <td>...</td>\n",
              "      <td>0.000574</td>\n",
              "      <td>0.004757</td>\n",
              "      <td>0.0</td>\n",
              "      <td>0</td>\n",
              "      <td>0.304348</td>\n",
              "      <td>0</td>\n",
              "      <td>0.001827</td>\n",
              "      <td>311301</td>\n",
              "      <td>0.028071</td>\n",
              "      <td>0</td>\n",
              "    </tr>\n",
              "    <tr>\n",
              "      <th>1</th>\n",
              "      <td>0.076355</td>\n",
              "      <td>0.321495</td>\n",
              "      <td>0.326910</td>\n",
              "      <td>59</td>\n",
              "      <td>0.316414</td>\n",
              "      <td>0.333333</td>\n",
              "      <td>2</td>\n",
              "      <td>0.064442</td>\n",
              "      <td>1</td>\n",
              "      <td>0.378315</td>\n",
              "      <td>...</td>\n",
              "      <td>0.000546</td>\n",
              "      <td>0.005843</td>\n",
              "      <td>0.0</td>\n",
              "      <td>0</td>\n",
              "      <td>0.677019</td>\n",
              "      <td>0</td>\n",
              "      <td>0.003167</td>\n",
              "      <td>182610</td>\n",
              "      <td>0.099341</td>\n",
              "      <td>0</td>\n",
              "    </tr>\n",
              "    <tr>\n",
              "      <th>2</th>\n",
              "      <td>0.802154</td>\n",
              "      <td>0.244137</td>\n",
              "      <td>0.604649</td>\n",
              "      <td>59</td>\n",
              "      <td>0.330517</td>\n",
              "      <td>0.833333</td>\n",
              "      <td>0</td>\n",
              "      <td>0.196264</td>\n",
              "      <td>1</td>\n",
              "      <td>0.704983</td>\n",
              "      <td>...</td>\n",
              "      <td>0.000991</td>\n",
              "      <td>0.006114</td>\n",
              "      <td>0.0</td>\n",
              "      <td>0</td>\n",
              "      <td>0.409938</td>\n",
              "      <td>0</td>\n",
              "      <td>0.002010</td>\n",
              "      <td>89801</td>\n",
              "      <td>0.125669</td>\n",
              "      <td>0</td>\n",
              "    </tr>\n",
              "    <tr>\n",
              "      <th>3</th>\n",
              "      <td>0.298829</td>\n",
              "      <td>0.174783</td>\n",
              "      <td>0.494688</td>\n",
              "      <td>59</td>\n",
              "      <td>0.521957</td>\n",
              "      <td>0.333333</td>\n",
              "      <td>0</td>\n",
              "      <td>0.239071</td>\n",
              "      <td>1</td>\n",
              "      <td>0.445864</td>\n",
              "      <td>...</td>\n",
              "      <td>0.000025</td>\n",
              "      <td>0.004495</td>\n",
              "      <td>0.0</td>\n",
              "      <td>0</td>\n",
              "      <td>0.242236</td>\n",
              "      <td>0</td>\n",
              "      <td>0.002375</td>\n",
              "      <td>9189</td>\n",
              "      <td>0.295820</td>\n",
              "      <td>0</td>\n",
              "    </tr>\n",
              "    <tr>\n",
              "      <th>4</th>\n",
              "      <td>0.467134</td>\n",
              "      <td>0.359335</td>\n",
              "      <td>0.366690</td>\n",
              "      <td>59</td>\n",
              "      <td>0.443150</td>\n",
              "      <td>0.333333</td>\n",
              "      <td>0</td>\n",
              "      <td>0.075669</td>\n",
              "      <td>1</td>\n",
              "      <td>0.424458</td>\n",
              "      <td>...</td>\n",
              "      <td>0.297354</td>\n",
              "      <td>0.002211</td>\n",
              "      <td>0.0</td>\n",
              "      <td>0</td>\n",
              "      <td>0.111801</td>\n",
              "      <td>0</td>\n",
              "      <td>0.026127</td>\n",
              "      <td>126029</td>\n",
              "      <td>0.107804</td>\n",
              "      <td>0</td>\n",
              "    </tr>\n",
              "  </tbody>\n",
              "</table>\n",
              "<p>5 rows × 30 columns</p>\n",
              "</div>\n",
              "    <div class=\"colab-df-buttons\">\n",
              "\n",
              "  <div class=\"colab-df-container\">\n",
              "    <button class=\"colab-df-convert\" onclick=\"convertToInteractive('df-13910415-3de7-49a4-8ea0-1a03255a0b11')\"\n",
              "            title=\"Convert this dataframe to an interactive table.\"\n",
              "            style=\"display:none;\">\n",
              "\n",
              "  <svg xmlns=\"http://www.w3.org/2000/svg\" height=\"24px\" viewBox=\"0 -960 960 960\">\n",
              "    <path d=\"M120-120v-720h720v720H120Zm60-500h600v-160H180v160Zm220 220h160v-160H400v160Zm0 220h160v-160H400v160ZM180-400h160v-160H180v160Zm440 0h160v-160H620v160ZM180-180h160v-160H180v160Zm440 0h160v-160H620v160Z\"/>\n",
              "  </svg>\n",
              "    </button>\n",
              "\n",
              "  <style>\n",
              "    .colab-df-container {\n",
              "      display:flex;\n",
              "      gap: 12px;\n",
              "    }\n",
              "\n",
              "    .colab-df-convert {\n",
              "      background-color: #E8F0FE;\n",
              "      border: none;\n",
              "      border-radius: 50%;\n",
              "      cursor: pointer;\n",
              "      display: none;\n",
              "      fill: #1967D2;\n",
              "      height: 32px;\n",
              "      padding: 0 0 0 0;\n",
              "      width: 32px;\n",
              "    }\n",
              "\n",
              "    .colab-df-convert:hover {\n",
              "      background-color: #E2EBFA;\n",
              "      box-shadow: 0px 1px 2px rgba(60, 64, 67, 0.3), 0px 1px 3px 1px rgba(60, 64, 67, 0.15);\n",
              "      fill: #174EA6;\n",
              "    }\n",
              "\n",
              "    .colab-df-buttons div {\n",
              "      margin-bottom: 4px;\n",
              "    }\n",
              "\n",
              "    [theme=dark] .colab-df-convert {\n",
              "      background-color: #3B4455;\n",
              "      fill: #D2E3FC;\n",
              "    }\n",
              "\n",
              "    [theme=dark] .colab-df-convert:hover {\n",
              "      background-color: #434B5C;\n",
              "      box-shadow: 0px 1px 3px 1px rgba(0, 0, 0, 0.15);\n",
              "      filter: drop-shadow(0px 1px 2px rgba(0, 0, 0, 0.3));\n",
              "      fill: #FFFFFF;\n",
              "    }\n",
              "  </style>\n",
              "\n",
              "    <script>\n",
              "      const buttonEl =\n",
              "        document.querySelector('#df-13910415-3de7-49a4-8ea0-1a03255a0b11 button.colab-df-convert');\n",
              "      buttonEl.style.display =\n",
              "        google.colab.kernel.accessAllowed ? 'block' : 'none';\n",
              "\n",
              "      async function convertToInteractive(key) {\n",
              "        const element = document.querySelector('#df-13910415-3de7-49a4-8ea0-1a03255a0b11');\n",
              "        const dataTable =\n",
              "          await google.colab.kernel.invokeFunction('convertToInteractive',\n",
              "                                                    [key], {});\n",
              "        if (!dataTable) return;\n",
              "\n",
              "        const docLinkHtml = 'Like what you see? Visit the ' +\n",
              "          '<a target=\"_blank\" href=https://colab.research.google.com/notebooks/data_table.ipynb>data table notebook</a>'\n",
              "          + ' to learn more about interactive tables.';\n",
              "        element.innerHTML = '';\n",
              "        dataTable['output_type'] = 'display_data';\n",
              "        await google.colab.output.renderOutput(dataTable, element);\n",
              "        const docLink = document.createElement('div');\n",
              "        docLink.innerHTML = docLinkHtml;\n",
              "        element.appendChild(docLink);\n",
              "      }\n",
              "    </script>\n",
              "  </div>\n",
              "\n",
              "\n",
              "<div id=\"df-07340529-8cbb-4e07-9276-b2a2037fcd26\">\n",
              "  <button class=\"colab-df-quickchart\" onclick=\"quickchart('df-07340529-8cbb-4e07-9276-b2a2037fcd26')\"\n",
              "            title=\"Suggest charts.\"\n",
              "            style=\"display:none;\">\n",
              "\n",
              "<svg xmlns=\"http://www.w3.org/2000/svg\" height=\"24px\"viewBox=\"0 0 24 24\"\n",
              "     width=\"24px\">\n",
              "    <g>\n",
              "        <path d=\"M19 3H5c-1.1 0-2 .9-2 2v14c0 1.1.9 2 2 2h14c1.1 0 2-.9 2-2V5c0-1.1-.9-2-2-2zM9 17H7v-7h2v7zm4 0h-2V7h2v10zm4 0h-2v-4h2v4z\"/>\n",
              "    </g>\n",
              "</svg>\n",
              "  </button>\n",
              "\n",
              "<style>\n",
              "  .colab-df-quickchart {\n",
              "      --bg-color: #E8F0FE;\n",
              "      --fill-color: #1967D2;\n",
              "      --hover-bg-color: #E2EBFA;\n",
              "      --hover-fill-color: #174EA6;\n",
              "      --disabled-fill-color: #AAA;\n",
              "      --disabled-bg-color: #DDD;\n",
              "  }\n",
              "\n",
              "  [theme=dark] .colab-df-quickchart {\n",
              "      --bg-color: #3B4455;\n",
              "      --fill-color: #D2E3FC;\n",
              "      --hover-bg-color: #434B5C;\n",
              "      --hover-fill-color: #FFFFFF;\n",
              "      --disabled-bg-color: #3B4455;\n",
              "      --disabled-fill-color: #666;\n",
              "  }\n",
              "\n",
              "  .colab-df-quickchart {\n",
              "    background-color: var(--bg-color);\n",
              "    border: none;\n",
              "    border-radius: 50%;\n",
              "    cursor: pointer;\n",
              "    display: none;\n",
              "    fill: var(--fill-color);\n",
              "    height: 32px;\n",
              "    padding: 0;\n",
              "    width: 32px;\n",
              "  }\n",
              "\n",
              "  .colab-df-quickchart:hover {\n",
              "    background-color: var(--hover-bg-color);\n",
              "    box-shadow: 0 1px 2px rgba(60, 64, 67, 0.3), 0 1px 3px 1px rgba(60, 64, 67, 0.15);\n",
              "    fill: var(--button-hover-fill-color);\n",
              "  }\n",
              "\n",
              "  .colab-df-quickchart-complete:disabled,\n",
              "  .colab-df-quickchart-complete:disabled:hover {\n",
              "    background-color: var(--disabled-bg-color);\n",
              "    fill: var(--disabled-fill-color);\n",
              "    box-shadow: none;\n",
              "  }\n",
              "\n",
              "  .colab-df-spinner {\n",
              "    border: 2px solid var(--fill-color);\n",
              "    border-color: transparent;\n",
              "    border-bottom-color: var(--fill-color);\n",
              "    animation:\n",
              "      spin 1s steps(1) infinite;\n",
              "  }\n",
              "\n",
              "  @keyframes spin {\n",
              "    0% {\n",
              "      border-color: transparent;\n",
              "      border-bottom-color: var(--fill-color);\n",
              "      border-left-color: var(--fill-color);\n",
              "    }\n",
              "    20% {\n",
              "      border-color: transparent;\n",
              "      border-left-color: var(--fill-color);\n",
              "      border-top-color: var(--fill-color);\n",
              "    }\n",
              "    30% {\n",
              "      border-color: transparent;\n",
              "      border-left-color: var(--fill-color);\n",
              "      border-top-color: var(--fill-color);\n",
              "      border-right-color: var(--fill-color);\n",
              "    }\n",
              "    40% {\n",
              "      border-color: transparent;\n",
              "      border-right-color: var(--fill-color);\n",
              "      border-top-color: var(--fill-color);\n",
              "    }\n",
              "    60% {\n",
              "      border-color: transparent;\n",
              "      border-right-color: var(--fill-color);\n",
              "    }\n",
              "    80% {\n",
              "      border-color: transparent;\n",
              "      border-right-color: var(--fill-color);\n",
              "      border-bottom-color: var(--fill-color);\n",
              "    }\n",
              "    90% {\n",
              "      border-color: transparent;\n",
              "      border-bottom-color: var(--fill-color);\n",
              "    }\n",
              "  }\n",
              "</style>\n",
              "\n",
              "  <script>\n",
              "    async function quickchart(key) {\n",
              "      const quickchartButtonEl =\n",
              "        document.querySelector('#' + key + ' button');\n",
              "      quickchartButtonEl.disabled = true;  // To prevent multiple clicks.\n",
              "      quickchartButtonEl.classList.add('colab-df-spinner');\n",
              "      try {\n",
              "        const charts = await google.colab.kernel.invokeFunction(\n",
              "            'suggestCharts', [key], {});\n",
              "      } catch (error) {\n",
              "        console.error('Error during call to suggestCharts:', error);\n",
              "      }\n",
              "      quickchartButtonEl.classList.remove('colab-df-spinner');\n",
              "      quickchartButtonEl.classList.add('colab-df-quickchart-complete');\n",
              "    }\n",
              "    (() => {\n",
              "      let quickchartButtonEl =\n",
              "        document.querySelector('#df-07340529-8cbb-4e07-9276-b2a2037fcd26 button');\n",
              "      quickchartButtonEl.style.display =\n",
              "        google.colab.kernel.accessAllowed ? 'block' : 'none';\n",
              "    })();\n",
              "  </script>\n",
              "</div>\n",
              "    </div>\n",
              "  </div>\n"
            ]
          },
          "metadata": {},
          "execution_count": 26
        }
      ]
    },
    {
      "cell_type": "code",
      "source": [
        "y = default_fin_df[\"Loan Status\"]\n",
        "X = default_fin_df.drop([\"Loan Status\"],axis=1)"
      ],
      "metadata": {
        "id": "3X1-MnZhnSMT"
      },
      "execution_count": null,
      "outputs": []
    },
    {
      "cell_type": "markdown",
      "source": [
        "Splitting the data into train and test."
      ],
      "metadata": {
        "id": "vRD1FrdjAvez"
      }
    },
    {
      "cell_type": "code",
      "source": [
        "X_train,X_test,y_train,y_test = train_test_split(X,y,train_size=0.7)"
      ],
      "metadata": {
        "id": "tAlo0nBXqKOf"
      },
      "execution_count": null,
      "outputs": []
    },
    {
      "cell_type": "code",
      "source": [
        "print(X_train.shape)\n",
        "print(y_train.shape)"
      ],
      "metadata": {
        "colab": {
          "base_uri": "https://localhost:8080/"
        },
        "id": "AlLVMf8DGsE0",
        "outputId": "3ce795cb-0eb7-4ddc-cefa-4f3d13fae4e0"
      },
      "execution_count": null,
      "outputs": [
        {
          "output_type": "stream",
          "name": "stdout",
          "text": [
            "(47224, 29)\n",
            "(47224,)\n"
          ]
        }
      ]
    },
    {
      "cell_type": "markdown",
      "source": [
        "# LOGISTIC REGRESSION"
      ],
      "metadata": {
        "id": "Nf98wBhpA3-N"
      }
    },
    {
      "cell_type": "code",
      "source": [
        "from sklearn.linear_model import LogisticRegression"
      ],
      "metadata": {
        "id": "w1qDZeP0nonz"
      },
      "execution_count": null,
      "outputs": []
    },
    {
      "cell_type": "code",
      "source": [
        "lg = LogisticRegression()"
      ],
      "metadata": {
        "id": "k2kOtVMgqFQy"
      },
      "execution_count": null,
      "outputs": []
    },
    {
      "cell_type": "code",
      "source": [
        "lg.fit(X_train,y_train)"
      ],
      "metadata": {
        "colab": {
          "base_uri": "https://localhost:8080/",
          "height": 74
        },
        "id": "EaBr5s9wqIJx",
        "outputId": "abfb32cd-ea1f-4e51-a959-3472ce84cd67"
      },
      "execution_count": null,
      "outputs": [
        {
          "output_type": "execute_result",
          "data": {
            "text/plain": [
              "LogisticRegression()"
            ],
            "text/html": [
              "<style>#sk-container-id-1 {color: black;background-color: white;}#sk-container-id-1 pre{padding: 0;}#sk-container-id-1 div.sk-toggleable {background-color: white;}#sk-container-id-1 label.sk-toggleable__label {cursor: pointer;display: block;width: 100%;margin-bottom: 0;padding: 0.3em;box-sizing: border-box;text-align: center;}#sk-container-id-1 label.sk-toggleable__label-arrow:before {content: \"▸\";float: left;margin-right: 0.25em;color: #696969;}#sk-container-id-1 label.sk-toggleable__label-arrow:hover:before {color: black;}#sk-container-id-1 div.sk-estimator:hover label.sk-toggleable__label-arrow:before {color: black;}#sk-container-id-1 div.sk-toggleable__content {max-height: 0;max-width: 0;overflow: hidden;text-align: left;background-color: #f0f8ff;}#sk-container-id-1 div.sk-toggleable__content pre {margin: 0.2em;color: black;border-radius: 0.25em;background-color: #f0f8ff;}#sk-container-id-1 input.sk-toggleable__control:checked~div.sk-toggleable__content {max-height: 200px;max-width: 100%;overflow: auto;}#sk-container-id-1 input.sk-toggleable__control:checked~label.sk-toggleable__label-arrow:before {content: \"▾\";}#sk-container-id-1 div.sk-estimator input.sk-toggleable__control:checked~label.sk-toggleable__label {background-color: #d4ebff;}#sk-container-id-1 div.sk-label input.sk-toggleable__control:checked~label.sk-toggleable__label {background-color: #d4ebff;}#sk-container-id-1 input.sk-hidden--visually {border: 0;clip: rect(1px 1px 1px 1px);clip: rect(1px, 1px, 1px, 1px);height: 1px;margin: -1px;overflow: hidden;padding: 0;position: absolute;width: 1px;}#sk-container-id-1 div.sk-estimator {font-family: monospace;background-color: #f0f8ff;border: 1px dotted black;border-radius: 0.25em;box-sizing: border-box;margin-bottom: 0.5em;}#sk-container-id-1 div.sk-estimator:hover {background-color: #d4ebff;}#sk-container-id-1 div.sk-parallel-item::after {content: \"\";width: 100%;border-bottom: 1px solid gray;flex-grow: 1;}#sk-container-id-1 div.sk-label:hover label.sk-toggleable__label {background-color: #d4ebff;}#sk-container-id-1 div.sk-serial::before {content: \"\";position: absolute;border-left: 1px solid gray;box-sizing: border-box;top: 0;bottom: 0;left: 50%;z-index: 0;}#sk-container-id-1 div.sk-serial {display: flex;flex-direction: column;align-items: center;background-color: white;padding-right: 0.2em;padding-left: 0.2em;position: relative;}#sk-container-id-1 div.sk-item {position: relative;z-index: 1;}#sk-container-id-1 div.sk-parallel {display: flex;align-items: stretch;justify-content: center;background-color: white;position: relative;}#sk-container-id-1 div.sk-item::before, #sk-container-id-1 div.sk-parallel-item::before {content: \"\";position: absolute;border-left: 1px solid gray;box-sizing: border-box;top: 0;bottom: 0;left: 50%;z-index: -1;}#sk-container-id-1 div.sk-parallel-item {display: flex;flex-direction: column;z-index: 1;position: relative;background-color: white;}#sk-container-id-1 div.sk-parallel-item:first-child::after {align-self: flex-end;width: 50%;}#sk-container-id-1 div.sk-parallel-item:last-child::after {align-self: flex-start;width: 50%;}#sk-container-id-1 div.sk-parallel-item:only-child::after {width: 0;}#sk-container-id-1 div.sk-dashed-wrapped {border: 1px dashed gray;margin: 0 0.4em 0.5em 0.4em;box-sizing: border-box;padding-bottom: 0.4em;background-color: white;}#sk-container-id-1 div.sk-label label {font-family: monospace;font-weight: bold;display: inline-block;line-height: 1.2em;}#sk-container-id-1 div.sk-label-container {text-align: center;}#sk-container-id-1 div.sk-container {/* jupyter's `normalize.less` sets `[hidden] { display: none; }` but bootstrap.min.css set `[hidden] { display: none !important; }` so we also need the `!important` here to be able to override the default hidden behavior on the sphinx rendered scikit-learn.org. See: https://github.com/scikit-learn/scikit-learn/issues/21755 */display: inline-block !important;position: relative;}#sk-container-id-1 div.sk-text-repr-fallback {display: none;}</style><div id=\"sk-container-id-1\" class=\"sk-top-container\"><div class=\"sk-text-repr-fallback\"><pre>LogisticRegression()</pre><b>In a Jupyter environment, please rerun this cell to show the HTML representation or trust the notebook. <br />On GitHub, the HTML representation is unable to render, please try loading this page with nbviewer.org.</b></div><div class=\"sk-container\" hidden><div class=\"sk-item\"><div class=\"sk-estimator sk-toggleable\"><input class=\"sk-toggleable__control sk-hidden--visually\" id=\"sk-estimator-id-1\" type=\"checkbox\" checked><label for=\"sk-estimator-id-1\" class=\"sk-toggleable__label sk-toggleable__label-arrow\">LogisticRegression</label><div class=\"sk-toggleable__content\"><pre>LogisticRegression()</pre></div></div></div></div></div>"
            ]
          },
          "metadata": {},
          "execution_count": 32
        }
      ]
    },
    {
      "cell_type": "code",
      "source": [
        "y_test_pred = lg.predict(X_test)\n",
        "y_train_pred = lg.predict(X_train)"
      ],
      "metadata": {
        "id": "rpY21diIqWAZ"
      },
      "execution_count": null,
      "outputs": []
    },
    {
      "cell_type": "code",
      "source": [
        "score = lg.score(X_test,y_test)\n",
        "print(score)\n",
        "print(lg.score(X_train,y_train))"
      ],
      "metadata": {
        "colab": {
          "base_uri": "https://localhost:8080/"
        },
        "id": "I-cKUmdSqirk",
        "outputId": "0e0d7f6b-f399-42ed-ad25-86a598cedfbf"
      },
      "execution_count": null,
      "outputs": [
        {
          "output_type": "stream",
          "name": "stdout",
          "text": [
            "0.9085429121992193\n",
            "0.9070387938336439\n"
          ]
        }
      ]
    },
    {
      "cell_type": "markdown",
      "source": [
        "Calculating the variance using Logistic Regression, it gave the value around 90%."
      ],
      "metadata": {
        "id": "jbE7MlHPBAJ3"
      }
    },
    {
      "cell_type": "markdown",
      "source": [
        "# Decision Tree"
      ],
      "metadata": {
        "id": "94ljWQkBr7tM"
      }
    },
    {
      "cell_type": "code",
      "source": [
        "from sklearn.tree import DecisionTreeClassifier"
      ],
      "metadata": {
        "id": "IyfWyHqOr9j1"
      },
      "execution_count": null,
      "outputs": []
    },
    {
      "cell_type": "code",
      "source": [
        "from sklearn.metrics import r2_score\n",
        "dmodel = DecisionTreeClassifier(max_depth=8)\n",
        "dmodel.fit(X_train,y_train)\n",
        "y_pred_test = dmodel.predict(X_test)\n",
        "r2 = r2_score(y_test,y_pred_test)\n",
        "print(r2)"
      ],
      "metadata": {
        "colab": {
          "base_uri": "https://localhost:8080/"
        },
        "id": "fxxZyR2dsDPx",
        "outputId": "ca37aff9-50fd-450f-89cc-2b6354fdcaaa"
      },
      "execution_count": null,
      "outputs": [
        {
          "output_type": "stream",
          "name": "stdout",
          "text": [
            "-0.12980043476079084\n"
          ]
        }
      ]
    },
    {
      "cell_type": "markdown",
      "source": [
        "The data is underfitting we will check for the logistic regression how it evaluates"
      ],
      "metadata": {
        "id": "GlZJCC2lNS-B"
      }
    },
    {
      "cell_type": "code",
      "source": [
        "from sklearn import metrics\n",
        "confusion = metrics.confusion_matrix(y_train,y_train_pred)\n",
        "print(confusion)\n"
      ],
      "metadata": {
        "colab": {
          "base_uri": "https://localhost:8080/"
        },
        "id": "oLWyorz8Xv_U",
        "outputId": "aeb5c678-5941-4ece-cdc7-1672cf0f2388"
      },
      "execution_count": null,
      "outputs": [
        {
          "output_type": "stream",
          "name": "stdout",
          "text": [
            "[[42834     0]\n",
            " [ 4390     0]]\n"
          ]
        }
      ]
    },
    {
      "cell_type": "markdown",
      "source": [
        "The confusion matrix seems imbalance therfore we need to make the data set balnaced"
      ],
      "metadata": {
        "id": "6ZEmFYxjAl_-"
      }
    },
    {
      "cell_type": "markdown",
      "source": [
        "The above data set is quite imbalance data set therfore we need to balance it using oversampling method"
      ],
      "metadata": {
        "id": "FChTlqGLE-YX"
      }
    },
    {
      "cell_type": "code",
      "source": [
        "import imblearn\n",
        "from imblearn.over_sampling import RandomOverSampler"
      ],
      "metadata": {
        "id": "NQHBnXCCcCXM"
      },
      "execution_count": null,
      "outputs": []
    },
    {
      "cell_type": "code",
      "source": [
        "sample = RandomOverSampler()"
      ],
      "metadata": {
        "id": "VdnK2CIfFMAf"
      },
      "execution_count": null,
      "outputs": []
    },
    {
      "cell_type": "code",
      "source": [
        "import numpy as np\n",
        "y = default_fin_df[\"Loan Status\"]\n",
        "X = default_fin_df.drop(\"Loan Status\",1)\n"
      ],
      "metadata": {
        "colab": {
          "base_uri": "https://localhost:8080/"
        },
        "id": "fUkEJt7qG19J",
        "outputId": "49331891-4d8f-48b2-e43e-5bb06f159c89"
      },
      "execution_count": null,
      "outputs": [
        {
          "output_type": "stream",
          "name": "stderr",
          "text": [
            "<ipython-input-40-b94c361c5a22>:3: FutureWarning: In a future version of pandas all arguments of DataFrame.drop except for the argument 'labels' will be keyword-only.\n",
            "  X = default_fin_df.drop(\"Loan Status\",1)\n"
          ]
        }
      ]
    },
    {
      "cell_type": "code",
      "source": [
        "X_rs,y_rs = sample.fit_resample(X,y)\n",
        "y_rs.shape"
      ],
      "metadata": {
        "colab": {
          "base_uri": "https://localhost:8080/"
        },
        "id": "ncLCztqIFSFf",
        "outputId": "281da096-8297-4dee-9048-8c4a10ec510e"
      },
      "execution_count": null,
      "outputs": [
        {
          "output_type": "execute_result",
          "data": {
            "text/plain": [
              "(122444,)"
            ]
          },
          "metadata": {},
          "execution_count": 41
        }
      ]
    },
    {
      "cell_type": "code",
      "source": [
        "X_train1,X_test1,y_train1,y_test1 = train_test_split(X_rs,y_rs,train_size=0.7)"
      ],
      "metadata": {
        "id": "Q6Iav-nrFaWj"
      },
      "execution_count": null,
      "outputs": []
    },
    {
      "cell_type": "code",
      "source": [
        "from sklearn.model_selection import GridSearchCV,cross_val_score\n",
        "from sklearn.metrics import mean_squared_error,log_loss,confusion_matrix,roc_auc_score,roc_curve\n",
        "from sklearn.neighbors import KNeighborsClassifier\n",
        "from sklearn.ensemble import RandomForestClassifier\n"
      ],
      "metadata": {
        "id": "W3HT4eUwFkbw"
      },
      "execution_count": null,
      "outputs": []
    },
    {
      "cell_type": "code",
      "source": [
        "print(X_train1.shape)\n",
        "\n",
        "print(y_train1.shape)\n",
        "print(X_test1.shape)\n",
        "print(y_test1.shape)"
      ],
      "metadata": {
        "colab": {
          "base_uri": "https://localhost:8080/"
        },
        "id": "rXc5Kiu3GePa",
        "outputId": "b2c1e251-7efa-420a-ebee-3eb1b2324e58"
      },
      "execution_count": null,
      "outputs": [
        {
          "output_type": "stream",
          "name": "stdout",
          "text": [
            "(85710, 29)\n",
            "(85710,)\n",
            "(36734, 29)\n",
            "(36734,)\n"
          ]
        }
      ]
    },
    {
      "cell_type": "markdown",
      "source": [
        "# K_NEIGHBOUR CLASSIFIER"
      ],
      "metadata": {
        "id": "q7a_BBwaDTWZ"
      }
    },
    {
      "cell_type": "code",
      "source": [
        "kMean = KNeighborsClassifier()\n",
        "kMean.fit(X_train1,y_train1)\n",
        "y_kpredTest = kMean.predict(X_test1)\n"
      ],
      "metadata": {
        "id": "Rfm3EeuiF9NK"
      },
      "execution_count": null,
      "outputs": []
    },
    {
      "cell_type": "code",
      "source": [
        "roc_auc_score(y_test1,y_kpredTest)"
      ],
      "metadata": {
        "colab": {
          "base_uri": "https://localhost:8080/"
        },
        "id": "iFktpMSWGRW-",
        "outputId": "b833b0b4-cfe9-427b-f30c-2a41d161ce6f"
      },
      "execution_count": null,
      "outputs": [
        {
          "output_type": "execute_result",
          "data": {
            "text/plain": [
              "0.8246091229419155"
            ]
          },
          "metadata": {},
          "execution_count": 46
        }
      ]
    },
    {
      "cell_type": "markdown",
      "source": [
        "# RANDOM FOREST CLASSIFIER"
      ],
      "metadata": {
        "id": "1g7vSCw-BUr0"
      }
    },
    {
      "cell_type": "code",
      "source": [
        "rand_classi = RandomForestClassifier()\n",
        "rand_classi.fit(X_train1,y_train1)\n",
        "y_rpredTest = rand_classi.predict(X_test1)\n",
        "y_rpredTrain = rand_classi.predict(X_train1)\n",
        "print(roc_auc_score(y_test1,y_rpredTest))"
      ],
      "metadata": {
        "colab": {
          "base_uri": "https://localhost:8080/"
        },
        "id": "Iq-gcF2NPRux",
        "outputId": "417034e0-a538-447c-d84e-8f472c6d9dde"
      },
      "execution_count": null,
      "outputs": [
        {
          "output_type": "stream",
          "name": "stdout",
          "text": [
            "0.9995912138224232\n"
          ]
        }
      ]
    },
    {
      "cell_type": "markdown",
      "source": [
        "Using Random Forest Classifier, it gave the accuracy of 99%."
      ],
      "metadata": {
        "id": "0Y1V97JbBUHy"
      }
    },
    {
      "cell_type": "code",
      "source": [
        "\n",
        "print(log_loss(y_test1,y_rpredTest))\n",
        "print(log_loss(y_train1,y_rpredTrain))"
      ],
      "metadata": {
        "colab": {
          "base_uri": "https://localhost:8080/"
        },
        "id": "fMQjHAYBP5c9",
        "outputId": "2e7cd49e-209a-408e-bb9d-b19c4cfb715a"
      },
      "execution_count": null,
      "outputs": [
        {
          "output_type": "stream",
          "name": "stdout",
          "text": [
            "0.014718103142504638\n",
            "2.2204460492503136e-16\n"
          ]
        }
      ]
    },
    {
      "cell_type": "markdown",
      "source": [
        "# Hyperparameter Tuning"
      ],
      "metadata": {
        "id": "HB6qhsnNC1si"
      }
    },
    {
      "cell_type": "code",
      "source": [
        "param = {\"n_estimators\":[10,20,30,40,50],\n",
        "         \"max_depth\":[5,10,15,20,25]}\n"
      ],
      "metadata": {
        "id": "gVsRHRI-QLe4"
      },
      "execution_count": null,
      "outputs": []
    },
    {
      "cell_type": "code",
      "source": [
        "rand_classi1 = GridSearchCV(RandomForestClassifier(),param_grid = param)\n",
        "rand_classi1.fit(X_train1,y_train1)\n",
        "print(rand_classi1.best_estimator_)"
      ],
      "metadata": {
        "colab": {
          "base_uri": "https://localhost:8080/"
        },
        "id": "sMvLqyZADF5w",
        "outputId": "d0ffb8fe-d60e-4309-c0d6-0b4e1ca4ab21"
      },
      "execution_count": null,
      "outputs": [
        {
          "output_type": "stream",
          "name": "stdout",
          "text": [
            "RandomForestClassifier(max_depth=25, n_estimators=50)\n"
          ]
        }
      ]
    },
    {
      "cell_type": "code",
      "source": [
        "best_reg = RandomForestClassifier(max_depth = 25)\n",
        "best_reg.fit(X_train1,y_train1)\n",
        "y_best_pred = best_reg.predict(X_test1)\n",
        "print(roc_auc_score(y_test1,y_best_pred))\n",
        "print(log_loss(y_test1,y_best_pred))"
      ],
      "metadata": {
        "colab": {
          "base_uri": "https://localhost:8080/"
        },
        "id": "c05Nb0BwIYv5",
        "outputId": "a5d5004e-1658-49cd-ac0a-0cdeade5af96"
      },
      "execution_count": null,
      "outputs": [
        {
          "output_type": "stream",
          "name": "stdout",
          "text": [
            "0.9995640206968454\n",
            "0.0156993100186716\n"
          ]
        }
      ]
    },
    {
      "cell_type": "markdown",
      "source": [
        "# Support Vector machine"
      ],
      "metadata": {
        "id": "2_iFyJ75ECpB"
      }
    },
    {
      "cell_type": "code",
      "source": [
        "from sklearn import svm"
      ],
      "metadata": {
        "id": "TIf6-N1RDnl0"
      },
      "execution_count": null,
      "outputs": []
    },
    {
      "cell_type": "code",
      "source": [
        "svc = svm.SVC().fit(X_train1,y_train1)"
      ],
      "metadata": {
        "id": "KqG9u3DDLe7K"
      },
      "execution_count": null,
      "outputs": []
    },
    {
      "cell_type": "code",
      "source": [
        "y_svc_test_predict = svc.predict(X_test1)\n",
        "print(r2_score(y_test1,y_svc_test_predict))\n",
        "print(roc_auc_score(y_test1,y_svc_test_predict))"
      ],
      "metadata": {
        "id": "avuvxDNFLoma",
        "colab": {
          "base_uri": "https://localhost:8080/"
        },
        "outputId": "ca400945-97c9-4873-906b-20b33acd8682"
      },
      "execution_count": null,
      "outputs": [
        {
          "output_type": "stream",
          "name": "stdout",
          "text": [
            "-0.9555748129187214\n",
            "0.5109787423806521\n"
          ]
        }
      ]
    },
    {
      "cell_type": "markdown",
      "source": [
        "The score for svm is also less"
      ],
      "metadata": {
        "id": "9_EVQnlwSyrx"
      }
    },
    {
      "cell_type": "markdown",
      "source": [
        "therefore we will select Random forest Classifier as the best fitted algotithm for this data set"
      ],
      "metadata": {
        "id": "2GFKNdz_TJUk"
      }
    },
    {
      "cell_type": "markdown",
      "source": [
        "# CONCLUCION:<br>\n",
        "After using K-Neighbour Classifier, Random Forest Classifier and Support Vector Machine, it is found that Random Forest Classifier is the best algorithm. The random forest classifier is giving 2% of error on the predicted value with the accuracy percentage of 99%."
      ],
      "metadata": {
        "id": "ROXoOQBdUXXT"
      }
    },
    {
      "cell_type": "markdown",
      "source": [
        "# RECOMMENDATION:<br>\n",
        "\n",
        "Using the respective algorithms, it is recommended that the customers should be sanctioned the loan with LOAN TENURE less that 59 months, as with higher tenure, the chances of delinquency increases.<br>\n",
        "\n",
        "The source or the verification of the customer must be done properly.<br>\n",
        "\n",
        "The interest rate should be kept at an average of 10-14% annually, as the higher ROI impacts the repayment of loans.<br>\n",
        "\n",
        "The customers who have sanctioned loans on MORTAGAGED ASSETS are defaulting more, so we should do proper verification before sanctioning the loan."
      ],
      "metadata": {
        "id": "MMvrso5bBkmW"
      }
    },
    {
      "cell_type": "markdown",
      "source": [
        "![akshay.JPG](data:image/jpeg;base64,/9j/4AAQSkZJRgABAQEAkACQAAD/4RDaRXhpZgAATU0AKgAAAAgABAE7AAIAAAAFAAAISodpAAQAAAABAAAIUJydAAEAAAAKAAAQyOocAAcAAAgMAAAAPgAAAAAc6gAAAAgAAAAAAAAAAAAAAAAAAAAAAAAAAAAAAAAAAAAAAAAAAAAAAAAAAAAAAAAAAAAAAAAAAAAAAAAAAAAAAAAAAAAAAAAAAAAAAAAAAAAAAAAAAAAAAAAAAAAAAAAAAAAAAAAAAAAAAAAAAAAAAAAAAAAAAAAAAAAAAAAAAAAAAAAAAAAAAAAAAAAAAAAAAAAAAAAAAAAAAAAAAAAAAAAAAAAAAAAAAAAAAAAAAAAAAAAAAAAAAAAAAAAAAAAAAAAAAAAAAAAAAAAAAAAAAAAAAAAAAAAAAAAAAAAAAAAAAAAAAAAAAAAAAAAAAAAAAAAAAAAAAAAAAAAAAAAAAAAAAAAAAAAAAAAAAAAAAAAAAAAAAAAAAAAAAAAAAAAAAAAAAAAAAAAAAAAAAAAAAAAAAAAAAAAAAAAAAAAAAAAAAAAAAAAAAAAAAAAAAAAAAAAAAAAAAAAAAAAAAAAAAAAAAAAAAAAAAAAAAAAAAAAAAAAAAAAAAAAAAAAAAAAAAAAAAAAAAAAAAAAAAAAAAAAAAAAAAAAAAAAAAAAAAAAAAAAAAAAAAAAAAAAAAAAAAAAAAAAAAAAAAAAAAAAAAAAAAAAAAAAAAAAAAAAAAAAAAAAAAAAAAAAAAAAAAAAAAAAAAAAAAAAAAAAAAAAAAAAAAAAAAAAAAAAAAAAAAAAAAAAAAAAAAAAAAAAAAAAAAAAAAAAAAAAAAAAAAAAAAAAAAAAAAAAAAAAAAAAAAAAAAAAAAAAAAAAAAAAAAAAAAAAAAAAAAAAAAAAAAAAAAAAAAAAAAAAAAAAAAAAAAAAAAAAAAAAAAAAAAAAAAAAAAAAAAAAAAAAAAAAAAAAAAAAAAAAAAAAAAAAAAAAAAAAAAAAAAAAAAAAAAAAAAAAAAAAAAAAAAAAAAAAAAAAAAAAAAAAAAAAAAAAAAAAAAAAAAAAAAAAAAAAAAAAAAAAAAAAAAAAAAAAAAAAAAAAAAAAAAAAAAAAAAAAAAAAAAAAAAAAAAAAAAAAAAAAAAAAAAAAAAAAAAAAAAAAAAAAAAAAAAAAAAAAAAAAAAAAAAAAAAAAAAAAAAAAAAAAAAAAAAAAAAAAAAAAAAAAAAAAAAAAAAAAAAAAAAAAAAAAAAAAAAAAAAAAAAAAAAAAAAAAAAAAAAAAAAAAAAAAAAAAAAAAAAAAAAAAAAAAAAAAAAAAAAAAAAAAAAAAAAAAAAAAAAAAAAAAAAAAAAAAAAAAAAAAAAAAAAAAAAAAAAAAAAAAAAAAAAAAAAAAAAAAAAAAAAAAAAAAAAAAAAAAAAAAAAAAAAAAAAAAAAAAAAAAAAAAAAAAAAAAAAAAAAAAAAAAAAAAAAAAAAAAAAAAAAAAAAAAAAAAAAAAAAAAAAAAAAAAAAAAAAAAAAAAAAAAAAAAAAAAAAAAAAAAAAAAAAAAAAAAAAAAAAAAAAAAAAAAAAAAAAAAAAAAAAAAAAAAAAAAAAAAAAAAAAAAAAAAAAAAAAAAAAAAAAAAAAAAAAAAAAAAAAAAAAAAAAAAAAAAAAAAAAAAAAAAAAAAAAAAAAAAAAAAAAAAAAAAAAAAAAAAAAAAAAAAAAAAAAAAAAAAAAAAAAAAAAAAAAAAAAAAAAAAAAAAAAAAAAAAAAAAAAAAAAAAAAAAAAAAAAAAAAAAAAAAAAAAAAAAAAAAAAAAAAAAAAAAAAAAAAAAAAAAAAAAAAAAAAAAAAAAAAAAAAAAAAAAAAAAAAAAAAAAAAAAAAAAAAAAAAAAAAAAAAAAAAAAAAAAAAAAAAAAAAAAAAAAAAAAAAAAAAAAAAAAAAAAAAAAAAAAAAAAAAAAAAAAAAAAAAAAAAAAAAAAAAAAAAAAAAAAAAAAAAAAAAAAAAAAAAAAAAAAAAAAAAAAAAAAAAAAAAAAAAAAAAAAAAAAAAAAAAAAAAAAAAAAAAAAAAAAAAAAAAAAAAAAAAAAAAAAAAAAAAAAAAAAAAAAAAAAAAAAAAAAAAAAAAAAAAAAAAAAAAAAAAAAAAAAAAAAAAAAAAAAAAAAAAAAAAAAAAAAAAAAAAAAAAAAAAAAAAAAAAAAAAAAAAAAAAAAAAAAAAAAAAAAAAAAAAAAAAAAAAAAAAAAAAAAAAAAAAAAAAAAAAAAAAAAAAAAAAAAAAAAAAAAAAAAAAAAAAAAAAAAAAAAAAAAAAAAAAAAAAAAAAAAAAAAAAAAAAAAAAAAAAAAAAAAAAAAAAAAAAAAAAAAAAAAAAAAAAAAAAAAAAAAAAAAAAAAAAAAAAAAAAAAAAAAAAAAAAAAAAAAAAAAAAAAAAAAAAAAAAAAAAAAAAAAAAAAAAAAAAAAAAAAAAAAAAAAAAAAAAAAAAAAAAAAAAAAAAAAAAAAAAAAAAAAAAAAAAAAAAAAAAAAAAAAAAAAAAAAAAAAAAAAAAAAAAAAAAAAAAAAAAAAAAAAAAAAAAAAAAAAAAAAAAAAAAAAAAAAAAAAAAAAAAAAAAAAAAAAAAAAAAAAAAAAAAAAAAAAAAAAAAAAAAAAAAAAAAAAAAAAAAAAAAAAAAAAAAAAAAAAAAAAAAAAAAAAAAAAAAAAAAAAAAAAAAAAAAAAAAAAAAAAAAAAAAAAAAAAAAAAAAAAAAAAAAAAAAAAAAAAAAAAAAAAAAAAAAAAAAAAAAAAAAAAAAAAAAAAAAAAAAAAAAAAAAAAAAAAAAAAAAAAAAAAAAAAAAAAAAAAAAAAAAAAAAAAAAAAAAAAAAAAAAAAAAAAAAAAAAAAAAERFTEwAAAAFkAMAAgAAABQAABCekAQAAgAAABQAABCykpEAAgAAAAMyNAAAkpIAAgAAAAMyNAAA6hwABwAACAwAAAiSAAAAABzqAAAACAAAAAAAAAAAAAAAAAAAAAAAAAAAAAAAAAAAAAAAAAAAAAAAAAAAAAAAAAAAAAAAAAAAAAAAAAAAAAAAAAAAAAAAAAAAAAAAAAAAAAAAAAAAAAAAAAAAAAAAAAAAAAAAAAAAAAAAAAAAAAAAAAAAAAAAAAAAAAAAAAAAAAAAAAAAAAAAAAAAAAAAAAAAAAAAAAAAAAAAAAAAAAAAAAAAAAAAAAAAAAAAAAAAAAAAAAAAAAAAAAAAAAAAAAAAAAAAAAAAAAAAAAAAAAAAAAAAAAAAAAAAAAAAAAAAAAAAAAAAAAAAAAAAAAAAAAAAAAAAAAAAAAAAAAAAAAAAAAAAAAAAAAAAAAAAAAAAAAAAAAAAAAAAAAAAAAAAAAAAAAAAAAAAAAAAAAAAAAAAAAAAAAAAAAAAAAAAAAAAAAAAAAAAAAAAAAAAAAAAAAAAAAAAAAAAAAAAAAAAAAAAAAAAAAAAAAAAAAAAAAAAAAAAAAAAAAAAAAAAAAAAAAAAAAAAAAAAAAAAAAAAAAAAAAAAAAAAAAAAAAAAAAAAAAAAAAAAAAAAAAAAAAAAAAAAAAAAAAAAAAAAAAAAAAAAAAAAAAAAAAAAAAAAAAAAAAAAAAAAAAAAAAAAAAAAAAAAAAAAAAAAAAAAAAAAAAAAAAAAAAAAAAAAAAAAAAAAAAAAAAAAAAAAAAAAAAAAAAAAAAAAAAAAAAAAAAAAAAAAAAAAAAAAAAAAAAAAAAAAAAAAAAAAAAAAAAAAAAAAAAAAAAAAAAAAAAAAAAAAAAAAAAAAAAAAAAAAAAAAAAAAAAAAAAAAAAAAAAAAAAAAAAAAAAAAAAAAAAAAAAAAAAAAAAAAAAAAAAAAAAAAAAAAAAAAAAAAAAAAAAAAAAAAAAAAAAAAAAAAAAAAAAAAAAAAAAAAAAAAAAAAAAAAAAAAAAAAAAAAAAAAAAAAAAAAAAAAAAAAAAAAAAAAAAAAAAAAAAAAAAAAAAAAAAAAAAAAAAAAAAAAAAAAAAAAAAAAAAAAAAAAAAAAAAAAAAAAAAAAAAAAAAAAAAAAAAAAAAAAAAAAAAAAAAAAAAAAAAAAAAAAAAAAAAAAAAAAAAAAAAAAAAAAAAAAAAAAAAAAAAAAAAAAAAAAAAAAAAAAAAAAAAAAAAAAAAAAAAAAAAAAAAAAAAAAAAAAAAAAAAAAAAAAAAAAAAAAAAAAAAAAAAAAAAAAAAAAAAAAAAAAAAAAAAAAAAAAAAAAAAAAAAAAAAAAAAAAAAAAAAAAAAAAAAAAAAAAAAAAAAAAAAAAAAAAAAAAAAAAAAAAAAAAAAAAAAAAAAAAAAAAAAAAAAAAAAAAAAAAAAAAAAAAAAAAAAAAAAAAAAAAAAAAAAAAAAAAAAAAAAAAAAAAAAAAAAAAAAAAAAAAAAAAAAAAAAAAAAAAAAAAAAAAAAAAAAAAAAAAAAAAAAAAAAAAAAAAAAAAAAAAAAAAAAAAAAAAAAAAAAAAAAAAAAAAAAAAAAAAAAAAAAAAAAAAAAAAAAAAAAAAAAAAAAAAAAAAAAAAAAAAAAAAAAAAAAAAAAAAAAAAAAAAAAAAAAAAAAAAAAAAAAAAAAAAAAAAAAAAAAAAAAAAAAAAAAAAAAAAAAAAAAAAAAAAAAAAAAAAAAAAAAAAAAAAAAAAAAAAAAAAAAAAAAAAAAAAAAAAAAAAAAAAAAAAAAAAAAAAAAAAAAAAAAAAAAAAAAAAAAAAAAAAAAAAAAAAAAAAAAAAAAAAAAAAAAAAAAAAAAAAAAAAAAAAAAAAAAAAAAAAAAAAAAAAAAAAAAAAAAAAAAAAAAAAAAAAAAAAAAAAAAAAAAAAAAAAAAAAAAAAAAAAAAAAAAAAAAAAAAAAAAAAAAAAAAAAAAAAAAAAAAAAAAAAAAAAAAAAAAAAAAAAAAAAAAAAAAAAAAAAAAAAAAAAAAAAAAAAAAAAAAAAAAAAAAAAAAAAAAAAAAAAAAAAAAAAAAAAAAAAAAAAAAAAAAAAAAAAAAAAAAAAAAAAAAAAAAAAAAAAAAAAAAAAAAAAAAAAAAAAAAAAAAAAAAAAAAAAAAAAAAAAAAAAAAAAAAAAAAAAAAAAAAAAAAAAAAAAAAAAAAAAAAAAAAAAAAAAAAAAAAAAAAAAAAAAAAAAAAAAAAAAAAAAAAAAAAAAAAAAAAAAAAAAAAAAAAAAAAAAAAAAAAAAAAAAAAAAAAAAAAAAAAAAAAAAAAAAAAAAAAAAAAAAAAAAAAAAAAAAAAAAAAAAAAAAAAAAAAAAAAAAAAAAAAAAAAAAAAAAAAAAAAAAAAAAAAAAAAAAAAAAAAAAAAAAAAAAAAAAAAAAAAAAAAAAAAAAAAAAAAAAAAAAAAAAAAAAAAAAAAAAAAAAAAAAAAAAAAAAAAAAAAAAAAAAAAAAAAAAAAAAAAAAAAAAAAAAAAAAAAAAAAAAAAAAAAAAAAAAAAAAAAAAAAAAAAAAAAAAAAAAAAAAAAAAAAAAAAAAAAAAAAAAAAAAAAAAAAAAAAAAAAAAAAAAAAAAAAAAAAAAAAAAAAAAAAAAAAAAAAAAAAAAAAAAAAAAAAAAAAAAAAAAAAAAAAAAAAAAAAAAAAAAAAAAAAAAAAAAAAAAAAAAAAAAAAAAAAAAAAAAAAAAAAAAAAAAAAAAAAAAAAAAAAAAAAAAAAAAAAAAAAAAAAAAAAAAAAAAAAAAAAAAAAAAAAAAAAAAAAAAAAAAAAAAAAAAAAAAAAAAAAAAAAAAAAAAMjAyMzowOToyMSAwNzoyNjo1MAAyMDIzOjA5OjIxIDA3OjI2OjUwAAAARABFAEwATAAAAP/hCxdodHRwOi8vbnMuYWRvYmUuY29tL3hhcC8xLjAvADw/eHBhY2tldCBiZWdpbj0n77u/JyBpZD0nVzVNME1wQ2VoaUh6cmVTek5UY3prYzlkJz8+DQo8eDp4bXBtZXRhIHhtbG5zOng9ImFkb2JlOm5zOm1ldGEvIj48cmRmOlJERiB4bWxuczpyZGY9Imh0dHA6Ly93d3cudzMub3JnLzE5OTkvMDIvMjItcmRmLXN5bnRheC1ucyMiPjxyZGY6RGVzY3JpcHRpb24gcmRmOmFib3V0PSJ1dWlkOmZhZjViZGQ1LWJhM2QtMTFkYS1hZDMxLWQzM2Q3NTE4MmYxYiIgeG1sbnM6ZGM9Imh0dHA6Ly9wdXJsLm9yZy9kYy9lbGVtZW50cy8xLjEvIi8+PHJkZjpEZXNjcmlwdGlvbiByZGY6YWJvdXQ9InV1aWQ6ZmFmNWJkZDUtYmEzZC0xMWRhLWFkMzEtZDMzZDc1MTgyZjFiIiB4bWxuczp4bXA9Imh0dHA6Ly9ucy5hZG9iZS5jb20veGFwLzEuMC8iPjx4bXA6Q3JlYXRlRGF0ZT4yMDIzLTA5LTIxVDA3OjI2OjUwLjIzNjwveG1wOkNyZWF0ZURhdGU+PC9yZGY6RGVzY3JpcHRpb24+PHJkZjpEZXNjcmlwdGlvbiByZGY6YWJvdXQ9InV1aWQ6ZmFmNWJkZDUtYmEzZC0xMWRhLWFkMzEtZDMzZDc1MTgyZjFiIiB4bWxuczpkYz0iaHR0cDovL3B1cmwub3JnL2RjL2VsZW1lbnRzLzEuMS8iPjxkYzpjcmVhdG9yPjxyZGY6U2VxIHhtbG5zOnJkZj0iaHR0cDovL3d3dy53My5vcmcvMTk5OS8wMi8yMi1yZGYtc3ludGF4LW5zIyI+PHJkZjpsaT5ERUxMPC9yZGY6bGk+PC9yZGY6U2VxPg0KCQkJPC9kYzpjcmVhdG9yPjwvcmRmOkRlc2NyaXB0aW9uPjwvcmRmOlJERj48L3g6eG1wbWV0YT4NCiAgICAgICAgICAgICAgICAgICAgICAgICAgICAgICAgICAgICAgICAgICAgICAgICAgICAgICAgICAgICAgICAgICAgICAgICAgICAgICAgICAgICAgICAgICAgICAgICAgICAKICAgICAgICAgICAgICAgICAgICAgICAgICAgICAgICAgICAgICAgICAgICAgICAgICAgICAgICAgICAgICAgICAgICAgICAgICAgICAgICAgICAgICAgICAgICAgICAgICAgIAogICAgICAgICAgICAgICAgICAgICAgICAgICAgICAgICAgICAgICAgICAgICAgICAgICAgICAgICAgICAgICAgICAgICAgICAgICAgICAgICAgICAgICAgICAgICAgICAgICAgCiAgICAgICAgICAgICAgICAgICAgICAgICAgICAgICAgICAgICAgICAgICAgICAgICAgICAgICAgICAgICAgICAgICAgICAgICAgICAgICAgICAgICAgICAgICAgICAgICAgICAKICAgICAgICAgICAgICAgICAgICAgICAgICAgICAgICAgICAgICAgICAgICAgICAgICAgICAgICAgICAgICAgICAgICAgICAgICAgICAgICAgICAgICAgICAgICAgICAgICAgIAogICAgICAgICAgICAgICAgICAgICAgICAgICAgICAgICAgICAgICAgICAgICAgICAgICAgICAgICAgICAgICAgICAgICAgICAgICAgICAgICAgICAgICAgICAgICAgICAgICAgCiAgICAgICAgICAgICAgICAgICAgICAgICAgICAgICAgICAgICAgICAgICAgICAgICAgICAgICAgICAgICAgICAgICAgICAgICAgICAgICAgICAgICAgICAgICAgICAgICAgICAKICAgICAgICAgICAgICAgICAgICAgICAgICAgICAgICAgICAgICAgICAgICAgICAgICAgICAgICAgICAgICAgICAgICAgICAgICAgICAgICAgICAgICAgICAgICAgICAgICAgIAogICAgICAgICAgICAgICAgICAgICAgICAgICAgICAgICAgICAgICAgICAgICAgICAgICAgICAgICAgICAgICAgICAgICAgICAgICAgICAgICAgICAgICAgICAgICAgICAgICAgCiAgICAgICAgICAgICAgICAgICAgICAgICAgICAgICAgICAgICAgICAgICAgICAgICAgICAgICAgICAgICAgICAgICAgICAgICAgICAgICAgICAgICAgICAgICAgICAgICAgICAKICAgICAgICAgICAgICAgICAgICAgICAgICAgICAgICAgICAgICAgICAgICAgICAgICAgICAgICAgICAgICAgICAgICAgICAgICAgICAgICAgICAgICAgICAgICAgICAgICAgIAogICAgICAgICAgICAgICAgICAgICAgICAgICAgICAgICAgICAgICAgICAgICAgICAgICAgICAgICAgICAgICAgICAgICAgICAgICAgICAgICAgICAgICAgICAgICAgICAgICAgCiAgICAgICAgICAgICAgICAgICAgICAgICAgICAgICAgICAgICAgICAgICAgICAgICAgICAgICAgICAgICAgICAgICAgICAgICAgICAgICAgICAgICAgICAgICAgICAgICAgICAKICAgICAgICAgICAgICAgICAgICAgICAgICAgICAgICAgICAgICAgICAgICAgICAgICAgICAgICAgICAgICAgICAgICAgICAgICAgICAgICAgICAgICAgICAgICAgICAgICAgIAogICAgICAgICAgICAgICAgICAgICAgICAgICAgICAgICAgICAgICAgICAgICAgICAgICAgICAgICAgICAgICAgICAgICAgICAgICAgICAgICAgICAgICAgICAgICAgICAgICAgCiAgICAgICAgICAgICAgICAgICAgICAgICAgICAgICAgICAgICAgICAgICAgICAgICAgICAgICAgICAgICAgICAgICAgICAgICAgICAgICAgICAgICAgICAgICAgICAgICAgICAKICAgICAgICAgICAgICAgICAgICAgICAgICAgICAgICAgICAgICAgICAgICAgICAgICAgICAgICAgICAgICAgICAgICAgICAgICAgICAgICAgICAgICAgICAgICAgICAgICAgIAogICAgICAgICAgICAgICAgICAgICAgICAgICAgICAgICAgICAgICAgICAgICAgICAgICAgICAgICAgICAgICAgICAgICAgICAgICAgICAgICAgICAgICAgICAgICAgICAgICAgCiAgICAgICAgICAgICAgICAgICAgICAgICAgICAgICAgICAgICAgICAgICAgICAgICAgICAgICAgICAgICAgICAgICAgICAgICAgICAgICAgICAgICAgICAgICAgICAgICAgICAKICAgICAgICAgICAgICAgICAgICAgICAgICAgICAgICAgICAgICAgICAgICAgICAgICAgICAgICAgICAgICAgICAgICAgICAgICAgICAgICAgICAgICAgICAgICAgICAgICAgIAogICAgICAgICAgICAgICAgICAgICAgICAgICAgPD94cGFja2V0IGVuZD0ndyc/Pv/bAEMABwUFBgUEBwYFBggHBwgKEQsKCQkKFQ8QDBEYFRoZGBUYFxseJyEbHSUdFxgiLiIlKCkrLCsaIC8zLyoyJyorKv/bAEMBBwgICgkKFAsLFCocGBwqKioqKioqKioqKioqKioqKioqKioqKioqKioqKioqKioqKioqKioqKioqKioqKioqKv/AABEIAv0CuAMBIgACEQEDEQH/xAAfAAABBQEBAQEBAQAAAAAAAAAAAQIDBAUGBwgJCgv/xAC1EAACAQMDAgQDBQUEBAAAAX0BAgMABBEFEiExQQYTUWEHInEUMoGRoQgjQrHBFVLR8CQzYnKCCQoWFxgZGiUmJygpKjQ1Njc4OTpDREVGR0hJSlNUVVZXWFlaY2RlZmdoaWpzdHV2d3h5eoOEhYaHiImKkpOUlZaXmJmaoqOkpaanqKmqsrO0tba3uLm6wsPExcbHyMnK0tPU1dbX2Nna4eLj5OXm5+jp6vHy8/T19vf4+fr/xAAfAQADAQEBAQEBAQEBAAAAAAAAAQIDBAUGBwgJCgv/xAC1EQACAQIEBAMEBwUEBAABAncAAQIDEQQFITEGEkFRB2FxEyIygQgUQpGhscEJIzNS8BVictEKFiQ04SXxFxgZGiYnKCkqNTY3ODk6Q0RFRkdISUpTVFVWV1hZWmNkZWZnaGlqc3R1dnd4eXqCg4SFhoeIiYqSk5SVlpeYmZqio6Slpqeoqaqys7S1tre4ubrCw8TFxsfIycrS09TV1tfY2dri4+Tl5ufo6ery8/T19vf4+fr/2gAMAwEAAhEDEQA/APfvsCf3R+VH2BP7o/KtHbRtoAzvsCf3R+VH2BP7o/KtHbRtoAzvsCf3R+VH2BP7o/KtHbRtoAzvsCf3R+VH2BP7o/KtHbRtoAzvsCf3R+VH2BP7o/KtHbRtoAzvsCf3R+VH2BP7o/KtHbRtoAzvsCf3R+VH2BP7o/KtHbRtoAzvsCf3R+VH2BP7o/KtHbRtoAzvsCf3R+VH2BP7o/KtHbRtoAzvsCf3R+VH2BP7o/KtHbRtoAzvsCf3R+VH2BP7o/KtHbRtoAzvsCf3R+VH2BP7o/KtHbRtoAzvsCf3R+VH2BP7o/KtHbRtoAzvsCf3R+VH2BP7o/KtHbRtoAzvsCf3R+VH2BP7o/KtHbRtoAzvsCf3R+VH2BP7o/KtHbRtoAxdRNnpOl3Wo6gwhtLOF555NpbYiKWY4AJOADwBmuB/4Xj8L/8AoYx/4AXP/wAbrtPiMv8AxazxX/2Brz/0Q9fAVAH2T/wvH4X/APQxj/wAuf8A43R/wvH4X/8AQxj/AMALn/43XxtRQB9k/wDC8fhf/wBDGP8AwAuf/jdH/C8fhf8A9DGP/AC5/wDjdfG1FAH2T/wvH4X/APQxj/wAuf8A43R/wvH4X/8AQxj/AMALn/43XxtRQB9k/wDC8fhf/wBDGP8AwAuf/jdH/C8fhf8A9DGP/AC5/wDjdfG1FAH2T/wvH4X/APQxj/wAuf8A43R/wvH4X/8AQxj/AMALn/43XxtRQB9k/wDC8fhf/wBDGP8AwAuf/jdH/C8fhf8A9DGP/AC5/wDjdfG1FAH2T/wvH4X/APQxj/wAuf8A43R/wvH4X/8AQxj/AMALn/43XxtRQB9k/wDC8fhf/wBDGP8AwAuf/jdH/C8fhf8A9DGP/AC5/wDjdfG1FAH2T/wvH4X/APQxj/wAuf8A43XWeFfEPh/xrpcmo+GLwXtpFMYHk8l48OFViMOoPRl5xjmvgqvrX9lUZ+Fmpf8AYZl/9EQ0Aet/YE/uj8qPsCf3R+VaO2jbQBnfYE/uj8qPsCf3R+VaO2jbQBnfYE/uj8qPsCf3R+VaO2jbQBnfYE/uj8qPsCf3R+VaO2jbQBnfYE/uj8qPsCf3R+VaO2jbQBnfYE/uj8qPsCf3R+VaO2jbQBnfYE/uj8qPsCf3R+VaO2jbQBnfYE/uj8qPsCf3R+VaO2jbQBnfYE/uj8qPsCf3R+VaO2jbQBnfYE/uj8qPsCf3R+VaO2jbQBnfYE/uj8qPsCf3R+VaO2jbQBnfYE/uj8qPsCf3R+VaO2jbQBnfYE/uj8qPsCf3R+VaO2jbQBnfYE/uj8qPsCf3R+VaO2jbQBnfYE/uj8qPsCf3R+VaO2jbQBnfYE/uj8qPsCf3R+VaO2jbQBnfYE/uj8qPsCf3R+VaO2jbQBnfYE/uj8qK0dtFADqKKKACiiigAooooAKKKKACiiigAooooAKKKKACiiigAooooAKKKKACiiigAooooAKKKKACiiigAooooAKKKKAOb+I//JLPFf8A2Bbz/wBEPXwBX3/8R/8Aklniv/sC3n/oh6+AKACiivSfh18PdL1HQ7zxj47upLHwvYNsAj4kvZP+eafjwcc/TkgA82or2CT416Bpbm38K/DbQILFTgG9h82WQerEd/qTVyxXwB8Y4pdPt9Kt/BnikRs9s9uQtpdEDO1hgYP4Z9z0oA8ToqW6t3tLua3lKF4XKMUcMpIOOCOCPcV6V8edG0zQ/F+iwaNYW1jFLodvNIlvEEDuXkyxA6k4HPtQB5hRXsmgaf4Z+HPwt0zxj4h0OHxDrGtyuthaXXMEMaHliCOT09eoxjk1LpfxE8F+P75ND8c+D9J0ZLs+VDq2loIWtmP3SxP8OfU49qAPFqK0NY0+DS/EN3YWt7BqEFvOY47qA5SZQeGB9DX0L8ZPhloF74Ta78G6da2Wr6Jbx3N7a2kKxma3kH38AckFSc+gb2oA+aqKAMnA5NfS3hD4ZeH9B+EerJ4k060u/E9zo82qbbiFXezj2ERgZGVOefrn0oA+aaKK9b+Ceg6BFa634x8b2cF1oulpHbrHcRh0eWRgM4PB2jH/AH1QB5JRXZfFfwmvg34k6nplugWzdxcWhUfKYnG4AewyV/CuNoAK+tv2VP8Aklmpf9hqX/0RBXyTX1t+yp/ySzUv+w1L/wCiIKAPbaKKKACiiigAooooAKKKKACiiigAooooAKKKKACiiigAooooAKKKKACiiigAooooAKKKKACiiigAooooAKKKKACiiigAooooAKKKKACiiigAooooAKKKKACiiigAooooAKKKKACiiigAooooAKKKKACiiigAooooAKKKKACiiigAooooAKKKKAOb+I//ACSzxX/2Bbz/ANEPXwBX3/8AEf8A5JZ4r/7At5/6IevgCgAr2H4vM2mfC74daJZnZZNp7XjqvAklbaST7jc3/fRrx6vbNFtofjD8ILHw3azRp4s8MbzZwysF+2W7dVBPcAAf8BHQGgDyTQdA1PxNrEOlaFaNeX0wYxwqwBbapY8kgdATXXr8DviUpyvhe5B9RNF/8XXJ3NnrvhPVsXEN9pF/ESoYhoZF4wcHg9D29a9L+GGheOfE2uQanq+s6zY+HLFhcXt7dXkqRtGvzFRluc4xx0FAHmWv+HdV8Las+ma/ZvZXqKrNC7AkAjIOQSK9L/aN/wCR30H/ALF61/8AQ5a5H4p+LIvGvxI1XWbXP2WSQR2+RgmNBtB/HGfxrrv2jf8Akd9B/wCxetf/AEOWgCt4W8b+FNc8B23gj4kxXcNvYys+narZjc9vu5KsD1HPYHjHpmlvvgdc6hZS6h8O/EOm+K7RBuMNvJsuVHoYz3/EH2rI8Q/C+5svA+i+KvDk0utabe2+bySGLm0m7oyjJAHTPqPcVkfDyz8RXXjnTP8AhE0ufty3CHfADhBnksR0XGc57ZoA514Jba8MFzG8Usb7XjdSGUg8gg9DX0N8R/G03gP49aPqeDJZSaTBBfQdRLCxO4Y7kdR7ivPfjzNYTfG3WG0zYVVolmZPumURqG/wPuDWr+0l/wAlFsP+wTB/7NQB1Ft8IdK0L4kXfi69eNvAtjbjWLaQYKy5+ZIR64PbuNo71B8P/Fl5421b4oa5fkhrjQpfKjzxFGA2xB9B+ua8ruviLrl58N7XwXNNnTra4MwbJ3Mv8MZ/2QSSPqPSu1+BP/IG+IP/AGL8v8moA8fr1/4lj/hCvhR4V8CR/Jd3KHVtUXvvf7in6cj/AICK5j4P+FR4t+JumWk65srZ/td2T0EcfJB+pwPxrufFXxj8C654lu7vUvh1FqsocxJdy37KZEX5VO3b8vAzigDO8bD/AITj4FeHPFyfPf6Ex0rUiOpTI8tj/wCO/i5rx+voz4f+NPB3jb+0/AGmeEo/DkevWsgEiXRlV5UUleCowRgnPt9K+er6yn03ULixvIzHcW0jRSof4WU4I/SgCCvrb9lT/klmpf8AYal/9EQV8k19bfsqf8ks1L/sNS/+iIKAPbaKKKACiiigAooooAKKKKACiiigAooooAKKKKACiiigAooooAKKKKACiiigAooooAKKKKACiiigAooooAKKKKACiiigAooooAKKKKACiiigAooooAKKKKACiiigAooooAKKKKACiiigAooooAKKKKACiiigAooooAKKKKACiiigAooooAKKKKAOb+I//JLPFf8A2Bbz/wBEPXwBX3/8R/8Aklniv/sC3n/oh6+AKACprO9udPvIruwuJLa4ibdHLE5VlPqCKhooA9S0/wDaJ+IFlbLDPeWeobRhZLy0VnH4rjP41zvi74qeMPG0H2bXdWZrPORaQIIovxC/e/HNcfRQAVteJ/Fur+ML+3vNfuFuJ7a2S1iZYlTEakkDCgZ+8eaxaKAOm8IfEPxP4GmdvDepvbxyHMkDqJIn+qtkZ9xzXU6p+0J4+1Kxe1jvrXT1kGHksrZY3I/3jkj6jFeYUUAOaR3lMjszuzbizHJJ9TWx4o8W6x4y1OPUPEFwtxcxwrArLEqYRegwoHrWLRQAVteHvF2seF4NSh0W4WFNUtja3QaJX3xnOQMg469RWLRQBt+HfF+s+FYdRj0O4W3/ALStzbXD+UrMYznIBIyvXt6D0rEoooAuaTqt5oesWuqaZN5N3aSiWGQAHaw6cHg0/XNavfEeuXWr6o6PeXb+ZM6RqgZsddqgAdKoUUAFfW37Kn/JLNS/7DUv/oiCvkmvrb9lT/klmpf9hqX/ANEQUAe20UUUAFFFFABRRRQAUUUUAFFFFABRRRQAUUUUAFFFFABRRRQAUUUUAFFFFABRRRQAUUUUAFFFFABRRRQAUUUUAFFFFABRRRQAUUUUAFFFFABRRRQAUUUUAFFFFABRRRQAUUUUAFFFFABRRRQAUUUUAFFFFABRRRQAUUUUAFFFFABRRRQAUUUUAc/4/gkuvhr4mt4ELyy6Rdoij+JjCwAr4b/4QfxJ/wBAqb81/wAa+8vEX/Ir6r/15zf+gGvA683GYueHklFbnDisRKi0oo8J/wCEH8Sf9Aqb81/xo/4QfxJ/0CpvzX/GvdqK4f7Uq9kcn1+p2R4T/wAIP4k/6BU35r/jR/wg/iT/AKBU35r/AI17tRR/alXsg+v1OyPCf+EH8Sf9Aqb81/xo/wCEH8Sf9Aqb81/xr3aij+1KvZB9fqdkeE/8IP4k/wCgVN+a/wCNH/CD+JP+gVN+a/417tRR/alXsg+v1OyPCf8AhB/En/QKm/Nf8aP+EH8Sf9Aqb81/xr3aij+1KvZB9fqdkeE/8IP4k/6BU35r/jR/wg/iT/oFTfmv+Ne7UUf2pV7IPr9Tsjwn/hB/En/QKm/Nf8aP+EH8Sf8AQKm/Nf8AGvdqKP7Uq9kH1+p2R4T/AMIP4k/6BU35r/jR/wAIP4k/6BU35r/jXu1FH9qVeyD6/U7I8J/4QfxJ/wBAqb81/wAa+o/2ZtKvdH+GuoW+pW7QStq8jhWxyvkwjPH0NclXrPws/wCRXuf+vxv/AEBK6sLjalapySSOjD4qdWfK0drRRRXrHohRRRQAUUUUAFFFFABRRRQAUUUUAFFFFABRRRQAUUUUAFFFFABRRRQAUUUUAFFFFABRRRQAUUUUAFFFFABRRRQAUUUUAFFFFABRRRQAUUUUAFFFFABRRRQAUUUUAFFFFABRRRQAUUUUAFFFFABRRRQAUUUUAFFFFABRRRQAUUUUAFFFFAGb4i/5FfVf+vOb/wBANeB1754i/wCRX1X/AK85v/QDXgdeDmnxx9DyMw+KIUUVgeJDO9/pNrDdzWq3EzrI8LYOAua8ynDnlynBCPNKxv0Vy863Wh6rpwi1We8S6m8p4LhgxI/vDHTFXhczf8JwbbzW8j7Dv8vPy7t+M49a0dHqnpa5bpdU+lzaorG165mgvtHWGVkWW8CSBTjcuDwap61PLc+JbfSpL+TT7V7fzfMiYI0r7sbQ3bjmlCi5Wd97v7hRpOVjpaKy9LsL/T7qWOa9a7sioMRmOZVbuCe4qro91PNa6wZZncxXUqxkn7oA4Apez3ad7W/EXs97M3qK5jwfrdxdWsdnqbMbkx+bDIx/1yZ/mDxVzRbmea71tZZXcQ3bLGCfuDb0FVOhKDkn0KlRlFtPobdFcjoOm3Wq6LBeT63qCSSbsqkowMMR6e1XvEVzcaXo9lBDdvGJZo7eW8flkUg5Yn14603Q/eezUtRuj7/InqdBRWFZ6Te2d5bz2GrTXdq5/fJdSb8rjqpA61V1GSXUPFT6ZPqU2n28cKvGIXCNMx6/N7elJUU5WUtNxKmm7JnT0Vm6TZ39i88N5d/a7cEGB3/1g9Q3rWlWMkouydzKSSdk7hXrPws/5Fe5/wCvxv8A0BK8mr1n4Wf8ivc/9fjf+gJXfl38f5HZgv4x2tFFFfSHuBRRRQAUUUUAFFFFABRRRQAUUUUAFFFFABRRRQAUUUUAFFFFABRRRQAUUUUAFFFFABRRRQAUUUUAFFFFABRRRQAUUUUAFFFFABRRRQAUUUUAFFFFABRRRQAUUUUAFFFFABRRRQAUUUUAFFFFABRRRQAUUUUAFFFFABRRRQAUUUUAFFFFAGb4i/5FfVf+vOb/ANANeB1754i/5FfVf+vOb/0A14HXg5p8cfQ8jMPiiFc14tjtZb/Rk1Db9mad/M3tgY2+tdLUNxZ214qi6gjmCnKiRA2PzrzaU/Zz5jhpz5Jcxx9/Dothc2U3huSP+0DcKqpDIX3qfvAjJ4xWnfXEem+OILq9YRW9xZmFZW+6HDZwT24rbt9Ps7WTfbWkML4xuSMA1JPbw3MRiuIkljPVXXINbuum1e70a131NXWTet3+Zz2q31vqevaPa6fKlxJDcefIYzuCIB1J/GrWq3ukTaj/AGXrcKKpjEkck4AVvUK3Yj8K1LWxtLJSLO2igDdfLQDNOubS3vI/Lu4I5kzkLIoIFR7SF0ley+8n2kbpK9l95zWjSRWvig2GjXbXOn+QXkQyeYsLZ4w39Kn0L/jz13/r7m/lW7bWdtZRlLSCOFSckRqBmnJbwxK4jiRRISzhVxuJ6k051lK9l2/Acqqd/kcvYaY9/wCCtLnsyEvrVPMt398nKn2PSn+EblryPWbh4zE0l0WZD1U7RkV08UMcESxQIscajCqowB+FIkEUTSGONFMh3OVXG4+p9acsRzKSa3en33CVa6krb/53OF8P6f4Zn0OCTUzbi5bdv3zlT9444z6YrptS1LTrGwtVuYxLp9wRF5mA8ajHBPt71a/sXTP+gfa/9+V/wqz9nh+z/Z/KTydu3y9o249MU6taNSfM7vXv+Q6lVTld3/rschcjTtM1Gyfw1dgTT3Cq9rDLvR1PUkc4+tauo3ei3upS6ZrUMaPEoaN5/lDg91atS20yxspC9paQwueCyIAafdWVreoFvLeOdR0Eig4pOtFyT1069QdWLa39epz/AIelWLX7ux067ku9OjiVgXfeInJ+6G7jFdPUVvawWkXlWsKQp12ooAqWsas1OV0ZVJKcroK9Z+Fn/Ir3P/X43/oCV5NXrPws/wCRXuf+vxv/AEBK7Mu/j/I6cF/GO1ooor6Q9wKKKKACiiigAooooAKKKKACiiigAooooAKKKKACiiigAooooAKKKKACiiigAooooAKKKKACiiigAooooAKKKKACiiigAooooAKKKKACiiigAooooAKKKKACiiigAooooAKKKKACiiigAooooAKKKKACiiigAooooAKKKKACiiigAooooAzfEX/Ir6r/ANec3/oBrwOvfPEX/Ir6r/15zf8AoBrwOvBzT44+h5GYfFEKKKK8g805TUNmoeK57DVb+W0to4kNtGknliUnqc9yDxitjTLO40uK4W5vWurVfmhMnLouOQT3qnqGp6RPqE+na/bxxCPBikuQNsgI5Kt2qn4fEU2o6nZ6ZNJNpPlBUZmLKjnghSe2K9CSlKlrokl6eqfc7Gm6fZJL0+T7j7GyufE8J1DUbu4gtZSfs9rA+wBM8Fj3Jq/YaTfaXqKC2vnuNPZTviuW3Mh7bT/SqOiaxBo9quka04tJ7XKI8nCSpnhgelaNr4ht9Q1VbTTUa6jCky3Cfcj9Bnvn2qantbySXu/hYVT2l2kvd/CxX029C+JNZjubkKqvH5aySYA+XnANE955njSwiguN8TW8hdUfKk9sgVVs9LsdS8Ua0b+1iuDG8e3zFzjK0f2dZ6d4409LG2jt1e2lLBBjJqrQ5n35f/bR2hzPvb9CWdrrxBrV1ZQXUlpYWRCStCcPM5GcZ7AUy80W50O1e+0W+uWaAF5LeeTekqjqPY4oW6Xw3r979vDJY38gmiuMEqj4+ZW9PapdW8SWk9m9no8i315cqY40g+YLnjcT0AFC9pzRUF7unp53/rQfv3Sgvd09PO5JqWuyNo9jJpYH2nUmVIN3RMjJY/SmDwmrL5k+q6g91jJmE2MH2HTHtUOoaTcWGjaTLaIbibSirNGvWRcYfHvV1PFuiPa+c19GnHMb8OD6beuan3lH9x3f/A/An3lH915iaFfXRurrS9TcS3VmVImAx5qHo2PWk8ITS3HhyOSeRpHMsg3OcnhzTNASa91S91qaJ4Y7kLHbo4wxjX+Ij3rO8K69pdjoCQXl9DDKsshKMeRlyRTnC8ZKK193b0d/xHKF1JRWum3o7nX0U2KWOeFJYWDxuAysOhHrTq4TjCvWfhZ/yK9z/wBfjf8AoCV5NXrPws/5Fe5/6/G/9ASvQy7+P8jtwX8Y7WiiivpD3AooooAKKKKACiiigAooooAKKKKACiiigAooooAKKKKACiiigAooooAKKKKACiiigAooooAKKKKACiiigAooooAKKKKACiiigAooooAKKKKACiiigAooooAKKKKACiiigAooooAKKKKACiiigAooooAKKKKACiiigAooooAKKKKACiiigDN8Rf8AIr6r/wBec3/oBrwOvfPEX/Ir6r/15zf+gGvA68HNPjj6HkZh8UQoooryDzSOa2guVC3EMcoHQSIGH606OKOGMJCixoOiqMAU6ind2sF3axHNbwXKhbiGOUDoJEDD9adFDHAmyGNI1H8KKAP0p1FF3aw7u1hFjRWZlRQzfeIHJ+tIY0MgcopcDAbHI/GnUUCEdEkQpIqup6qwyDUcNpb22fs9vFDnr5aBc/lUtFF3awXewVA1jaNL5rWsLSZzvMYLfnU9FCbWwXa2CoPsNp/z6w/9+xU9FCbWw7tbCKoRQqgKo4AA6UtFFAgr1n4Wf8ivc/8AX43/AKAleTV6z8LP+RXuf+vxv/QEr0Mu/j/I7cF/GO1ooor6Q9wKKKKACiiigAooooAKKKKACiiigAooooAKKKKACiiigAooooAKKKKACiiigAooooAKKKKACiiigAooooAKKKKACiiigAooooAKKKKACiiigAooooAKKKKACiiigAooooAKKKKACiiigAooooAKKKKACiiigAooooAKKKKACiiigAooooAzfEX/ACK+q/8AXnN/6Aa8Dr6KubeK7tZba4XfFMhjdckZUjBGR7Vgf8K/8M/9Az/yYl/+KrzcZhJ15Jxa0OHFYedaScTxSiva/wDhX/hn/oGf+TEv/wAVR/wr/wAM/wDQM/8AJiX/AOKrg/syt3X4/wCRx/UKvdf18jxSiva/+Ff+Gf8AoGf+TEv/AMVR/wAK/wDDP/QM/wDJiX/4qj+zK3dfj/kH1Cr3X9fI8Uor2v8A4V/4Z/6Bn/kxL/8AFUf8K/8ADP8A0DP/ACYl/wDiqP7Mrd1+P+QfUKvdf18jxSiva/8AhX/hn/oGf+TEv/xVH/Cv/DP/AEDP/JiX/wCKo/syt3X4/wCQfUKvdf18jxSiva/+Ff8Ahn/oGf8AkxL/APFUf8K/8M/9Az/yYl/+Ko/syt3X4/5B9Qq91/XyPFKK9r/4V/4Z/wCgZ/5MS/8AxVH/AAr/AMM/9Az/AMmJf/iqP7Mrd1+P+QfUKvdf18jxSiva/wDhX/hn/oGf+TEv/wAVR/wr/wAM/wDQM/8AJiX/AOKo/syt3X4/5B9Qq91/XyPFKK9r/wCFf+Gf+gZ/5MS//FUf8K/8M/8AQM/8mJf/AIqj+zK3dfj/AJB9Qq91/XyPFK9Z+Fn/ACK9z/1+N/6AlaX/AAr/AMM/9Az/AMmJf/iq1tK0ex0S1a20yDyImcyFd7NliAM5JPYCurCYKpRq88mjow+FnSqc0mi7RRRXrnpBRRRQAUUUUAFFFFABRRRQAUUUUAFFFFABRRRQAUUUUAFFFFABRRRQAUUUUAFFFFABRRRQAUUUUAFFFFABRRRQAUUUUAFFFFABRRRQAUUUUAFFFFABRRRQAUUUUAFFFFABRRRQAUUUUAFFFFABRRRQAUUUUAFFFFABRRRQAUUUUAFFFFABRRRQAUUUUAFFFFABRRRQAUUUUAFFFFABRRRQAUUUUAFFFFABRRRQAUUUUAFFFFABRRRQAUUUUAFFFFABRRRQAUUUUAFFFFABRRRQAUUUUAFFFFABRRRQAUUUUAFFFFABRRRQAUUUUAFFFFABRRRQAUUUUAFFFFABRRRQAUUUUAFFFFABRRRQAUUUUAFFFFABRRRQAUUUUAFFFFABRRRQAUUUUAFFFFABRRRQAUUUUAFFFFABRRRQAUUUUAFFFFABRRRQAUUUUAFFFFABRRRQAUUUUAFFFFABRRRQAUUUUAFFFFABRRRQAUUUUAFFFFABRRRQAUUUUAFFFFABRRRQAUUUUAFFFFABRRRQAUUUUAFFFFABRRRQAUUUUAFFFFABRRRQAUUUUAFFFFABRRRQAUUUUAFFFFABRRRQAUUUUAFFFFABRRRQAUUUUAFFFFABRRRQAUUUUAFFeH678WtfsPio7WzQ/wDCG2OqQ6ReMYgSZnUlm3dQFPv2HrXf+J/iVpvhrxBFoaaXrGs6k9v9qe30m1EzRRZxvbLDjPpk0LVJ9/8AK/5ag9G12/4b89DsaK4bU/irpdh4g/sa10bXdUu44I57oafY+Z9kWQAr5gLAg4OcAGl8TfFbR/DWtT6UNO1fVrqzgFxerploJRaRnkNISwxxz34o2Dc7iiuBvvjDoEM1hDo9hq+vzX1mL5ItJtPNaOAnG9gSMc8Y5Oan1r4qaXpGtx6RBo+uatffZUu5odNsvNa2iboZAWBB9hk0f1/X3AdvRXB+Jfi9oPhjXJ9HuLHV73UYbZLn7NY2fmsyMCSRyMbQMnOMVnWnx88I3tzpqwQasbXUJUgW/ayK28MzdIncn73rtyB60LXRA9FdnptFcDr/AMYdB0DV7+xOn6xqKaXtGo3dhaebBZE9pG3DHvgGna78YPDmh6lBp62+p6nd3Vkl9axabaGZriNs42jI5wCTnAx3pXVrjtrY7yivH/F3xzjtvAmj+IfB+n3F2moXwt5PtNozCEKcPG21hiQ5G0ZIPNejDX5bjwXNrlppl7FMLWSeOxvITFNuUHCMnUEkfrQ9IuT6f8OJatJdf+GNqivHfhJ4t8Q+NGttWvPHGn3efMN/4fWwSOS1HIXa4O887eTkYPXNdT/wtvw5/wAIC/i/Zff2al19kK+SPM37tv3d2MZ96pqzt/XYSd9juaK8Wv8A4pT+F/jV4ls9STWNV0+KxgktdP0+384x/IrPJjICgA5JJ711t58Y/Cln4X0bxA8l3JY6xI0VuYoNzq6g5VlByDkYwM8/nSWsVL+t7D62/ra53lFeVn9oLwyttdE6N4jF5ZMftVh/Z37+3QDJkcbtqoM9SQfar0nja11Lx94Rk03xDcw6dqunzXS2IslMdwoUnc8hO5CuOgB6dqP6/Bv9A/r9D0aiuF0L4taP4gM89rpetQ6VFFNMur3FlttJFizvKuCT2OAQM4NUf+FoW3iPwfrN5pll4g0OGHTZbu31a505TG6gY3xZbDnuFOM0m7K/zGld2+R6RRXnUHxO07QvCfhlbuTVPEeq6vZrLbxWVkv2m5G3JkMYbag/4F69cGpl+M3hb/hELjxDML63gs7xbK7tprfbPbSk4w6Z4/Anoe/FU1Ztdv8AhiVqk+539FcT4T+KmieL/Ec+iWlnqlhexwfaY01G18n7RFkDzE5JI5B5A4rB+Lvi/wAQaB4k8K6T4f1mz0VNWkmS4u7yFHSPaFwTu4A5NLZpdxrW/keqUV57B45Twd4Ntbvxbr0Xie9vLswWjaLbKzXLHGI0RTgkc5OR1FTWXxf0C50nXLu6tNU0640KMS32n3tsI7hEPRgu4gg/X+Yoel/IFqd5RXnQ+NvhpdBfXLiz1i20oXUVtFeTWW1Jy4b54+cso2HJH5GqY+P3hstdwHRvEY1C2ww086aftEsZG7zFXdwgHJLEcEUbBueo0VkeFvE2neMPDVprmjO7Wl0pKeYu1lIJBUjsQQRWvTaadmJNPVBRRRSGFFFFABRRRQAUUUUAFFFFABRRRQAUUUUAFFFFABRRRQAUUUUAFFFFABRRRQAUUUUAFFFFABRRRQAUUUUAFFFFABRRRQAUUUUAFFFFABRRRQAUUUUAFFFFABRRRQAUUUUAFFFFABRRRQAUUUUAFVdUlu4dJu5dNt/tN4kLtBDuC+ZIAdq5JAGTjkmrVFJq6sNOzufPsPwJ8SXfwsu7XUPEF5Fql4XvptJHlNC11nIBf1OFGd2PwqXxb4Y8Y61o+izP4MvovFlvp0cMWtafq8UTwyqSGWUBsFeA2QT94jI5r32in6f1bQXr/Vzwbxp4P8Y32sWVzo/h66h8UxwW0Z8TWGppFDMQq+Z50ZwSAdw6cjHXpS+Jfh9rdn8SNZ1ifw9qPiTT9Zhi50vVjZtHIqBWV13LuU8+oA/GveKKP+D+IdLen4HgPivwFqo0jR7fwt4CvtN1S0sVSx1Gw1xA9lIXZmilYkb1BOc+5AIqz4/8I+LdRutPm0zw5dv4ohs7eKPxLp2ppArOAPMEqHBKg7sccg/hXutFH+d/6+8P8rf19x5lpvhHxDF8YNR13UIEktbjw7HZm7WRMSXA27gFzuAyCckAVyUfw08Vr8DPDvh46WBqllri3c8H2iL5IvMc7t27aeGHAOa96opp2d/60fN+Ymrq39bcv5Hz7qvw41fTvGfiZrvwnqfiTTdaumubeTT9a+yIN+S0cqbwD1xkg8V2Wh+CdT0z4vaZq8OlCz0W18Mx6eB9pWTyZQwPlddzYH8WMGvUKKUfdSXb/Jr8mOXvNvv/AJp/ofP03w08XQ/BSbS00oNqtv4jOpx2YuIyZYgeMMGIBPXBOeK9otNR1q88H/b20ZbHWXt3dNOnuA4WTnajOvHPHPbNbNFH2eX+tkv0Q95c39b3/U8Ks/CHiPxN8WtE8Rt4Gh8Gf2dI8mo3SXschvSR90KmM55G4jkHk8Cufm8B/EYfDq/8BW/haKSCLVDeLqTX8aidPMBCopI575JHAxjOK+laKFpa39ap/mhf1+a/U8Y1XSvHXhv4p+IvE2g+FU1qy1GwgtI1+2xxvuCAbgCckBhgg4zkY71Q0v4V+JdL8K/DyyNqk1xpetnUNSVZkAt0Zs45PzYHHy556V7tRRH3fw/B3/MTV1b+trfkeUp4K14eLfibemxH2fXbBIdPfzk/fuIWUjGcryQPmxWT4Y+H3ifTNc+Ht1d6Woj0XSLm3vg1xGRHI4fapwx3ZyOVyK9sopJWSXy/Br9WU9W79f8Agf5Hg3hfwh4p0/xfdXGkeEbnQtEksrgX+i3eqpNaXk7KQqRAZ2gnHzHgD06GvongTxctr4pstI0K/wBB0G90aaCDRr7U0uFa7bp5RzhF9yefX0+gaKGrq3lb8/8APTsF9b+d/wCvuPD4fB/i3wnqngnxLY6EdWl0vQxpmoadFcxrJE2D8ysTtblscE9PxrO1L4ZeL9X8E+JbyXSkh1fxDrkF8NMW5jP2eFGP3nJClsMc4Pb8K+gaKq+vN/W/N+ZKVlb+trfkefTeF9Xb4+2PiRbQf2TFobWj3HmJxL5hO3bnd0PXGPeqnxM8CXnjHx34LnOmRaho9hPOdREroFVGC4ypILZI7A16ZRS/l8v82/1H38/8rHlXjv4f3OmzeFNV8AaHbyp4dvnuH0qF1h81ZMbipPG75e/rWBf+CPFviw+OvEd5of8AZl3rOlpp+n6W9zG0jhSpLOwO0Z28ZP8A9f3SilbRr1/FWY72aa8vwd/zPJ/GXgjXtV+EvhHRNOsBLf6bcWL3UPnIvlrGmHOSQDg+hOe2a04vCmsL8cta8QtaAaXdaGtpFP5qfNLuGV253Dp1IxXotFOXvXv1bf3qwo+6kl0svudzhfg34b1Xwn8MrHSdftfst7FLMzxeYr4DSMRypI6Ed67qiinJ3dxJWCiiikMKKKKACiiigAooooAKKKKACiiigAooooAKKKKACiiigAooooAKKKKACiiigAooooAKKKKACiiigAooooAKKKKACiiigAooooAKKKKACiiigAooooAKKKKACiiigAooooAKKKKACiiigAooooAKKKKACiiigAooooAKKKKACiiigAooooAKKKKACiiigAooooAKKKKACiiigAooooAKKKKACiiigAooooAKKKKACiiigAooooAKKKKACiiigAooooAKKKKACiiigAooooAKKKKACiiigAooooAKKKKACiiigAooooAKKKKACiiigAooooAKKKKACiiigAooooAKKKKACiiigAooooAKKKKACiiigAooooAKKKKACiiigAooooAKKKKACiiigAooooAKKKKACiiigAooooAKKKKACiiigAooooAKKKKACiiigAooooAKKKKACiiigAooooAKKKKACiiigAooooAKKKKACiiigAooooAKKKKACiiigAooooAKKKKACiiigAooooAKKKKACiiigAooooAKKKKACuWh8Z3V41w2meENcvreG6ntftEUlkqSNDK0TlQ9wrY3I2MgV1Nc34D/AORduv8AsNar/wCnC4oAP+Eo1f8A6ETxB/3/ANP/APkqj/hKNX/6ETxB/wB/9P8A/kquP0j4g6xqHxN1TRr7UdP037DdvFDok9m4uL2ALkSxylwpZuoUDGPzqbwz8YVv/C1xrHiHRb6ySPVBYI0cS7XLSmNQMvncuBv9O2aI+9a3X/gf5g9L36f1+h1X/CUav/0IniD/AL/6f/8AJVH/AAlGr/8AQieIP+/+n/8AyVWdrPxT0PRbjVbaa21C4u9Nu7ey+z28Ks9zNMu5FjG7ngHOcdK5zw/8WmEfiW/8QQX4ig1iOw07TTaql0GdARFtyAWzuOS2Md8ULXb+tv8ANA9P69f8mdp/wlGr/wDQieIP+/8Ap/8A8lUf8JRq/wD0IniD/v8A6f8A/JVYZ+MWhrp8Ezabq5upr99OOnpbK86XCpu2EBsHIxggkc9ucZV78ag7eH5NE8PalcR6hqEtjdwSwKJ4XjB3Rgb8eZnB5OMZ78ULV2X9X/4dB0v/AF/WjOx/4SjV/wDoRPEH/f8A0/8A+SqP+Eo1f/oRPEH/AH/0/wD+SqyPit4t13wp4d0248LW1vcahfajHarDdIWDBkdtowRySoH41jWfxlt7i+k1Bow2hxeGxq0qRJunSUTGN4+WA4wRjjkdaSad/L/K/wCQdvP/ADsdh/wlGr/9CJ4g/wC/+n//ACVR/wAJRq//AEIniD/v/p//AMlVQ1n4o6FobXS3sV6fsulxapIY4lP7mSQIAPm+9kjI9O9Ytx8c9FtReifw94kR7FVmuEawAMcDdJmy+Ahz359utMN/6/rudT/wlGr/APQieIP+/wDp/wD8lUf8JRq//QieIP8Av/p//wAlVxN58XJNC8eeIo7+01LU9DtLOzuYTYWiuLWN0LPJIxIODkcEk9cDg1u6x8X/AA/pF7JELfUL63t4YZ7y8tIlaK1SUAoXywY5BBwoOBQH9fl/mbP/AAlGr/8AQieIP+/+n/8AyVR/wlGr/wDQieIP+/8Ap/8A8lVDpfxAsNZ8Y3fh3TdP1KaWxcpdXggH2eI7A65fd/EDgcZyOccGuqo6XA5v/hKNX/6ETxB/3/0//wCSqP8AhKNX/wChE8Qf9/8AT/8A5KrpKKAOb/4SjV/+hE8Qf9/9P/8Akqj/AISjV/8AoRPEH/f/AE//AOSq6SigDm/+Eo1f/oRPEH/f/T//AJKo/wCEo1f/AKETxB/3/wBP/wDkqukooA5v/hKNX/6ETxB/3/0//wCSqP8AhKNX/wChE8Qf9/8AT/8A5KrpKKAOSj8cXsuqz6angnxAbu3hjnlj82w+VJGdUOftODkxPwDkbeeozZ/4SjV/+hE8Qf8Af/T/AP5Kosf+Sp67/wBgXTf/AEffV0lAHN/8JRq//QieIP8Av/p//wAlUf8ACUav/wBCJ4g/7/6f/wDJVdJRQBzf/CUav/0IniD/AL/6f/8AJVH/AAlGr/8AQieIP+/+n/8AyVXSUUAc3/wlGr/9CJ4g/wC/+n//ACVR/wAJRq//AEIniD/v/p//AMlV0lFAHN/8JRq//QieIP8Av/p//wAlUf8ACUav/wBCJ4g/7/6f/wDJVdJRQBzf/CUav/0IniD/AL/6f/8AJVH/AAlGr/8AQieIP+/+n/8AyVXSUUAc3/wlGr/9CJ4g/wC/+n//ACVR/wAJRq//AEIniD/v/p//AMlV0lFAHN/8JRq//QieIP8Av/p//wAlUf8ACUav/wBCJ4g/7/6f/wDJVdJRQBzf/CUav/0IniD/AL/6f/8AJVH/AAlGr/8AQieIP+/+n/8AyVXSUUAc3/wlGr/9CJ4g/wC/+n//ACVR/wAJRq//AEIniD/v/p//AMlV0lFAHN/8JRq//QieIP8Av/p//wAlUf8ACUav/wBCJ4g/7/6f/wDJVdJRQBzf/CUav/0IniD/AL/6f/8AJVH/AAlGr/8AQieIP+/+n/8AyVXSUUAc3/wlGr/9CJ4g/wC/+n//ACVR/wAJRq//AEIniD/v/p//AMlV0lFAHN/8JRq//QieIP8Av/p//wAlUf8ACUav/wBCJ4g/7/6f/wDJVdJRQBzf/CUav/0IniD/AL/6f/8AJVH/AAlGr/8AQieIP+/+n/8AyVXSUUAc3/wlGr/9CJ4g/wC/+n//ACVR/wAJRq//AEIniD/v/p//AMlV0lFAHN/8JRq//QieIP8Av/p//wAlUf8ACUav/wBCJ4g/7/6f/wDJVdJRQBzf/CUav/0IniD/AL/6f/8AJVH/AAlGr/8AQieIP+/+n/8AyVXSUUAc3/wlGr/9CJ4g/wC/+n//ACVR/wAJRq//AEIniD/v/p//AMlV0lFAHN/8JRq//QieIP8Av/p//wAlUf8ACUav/wBCJ4g/7/6f/wDJVdJRQBzf/CUav/0IniD/AL/6f/8AJVH/AAlGr/8AQieIP+/+n/8AyVXSUUAc3/wlGr/9CJ4g/wC/+n//ACVR/wAJRq//AEIniD/v/p//AMlV0lFAHN/8JRq//QieIP8Av/p//wAlUf8ACUav/wBCJ4g/7/6f/wDJVdJRQBzf/CUav/0IniD/AL/6f/8AJVH/AAlGr/8AQieIP+/+n/8AyVXSUUAc3/wlGr/9CJ4g/wC/+n//ACVR/wAJRq//AEIniD/v/p//AMlV0lFAHN/8JRq//QieIP8Av/p//wAlUf8ACUav/wBCJ4g/7/6f/wDJVdJRQBzf/CUav/0IniD/AL/6f/8AJVH/AAlGr/8AQieIP+/+n/8AyVXSUUAc3/wlGr/9CJ4g/wC/+n//ACVWtomqwa9oGn6vZpIlvqFrHdRLKAHVXUMAwBIzg84Jq9XN/Dj/AJJZ4U/7Atn/AOiEoA6SiiigAooooAKKKKACiiigArm/Af8AyLt1/wBhrVf/AE4XFdJXN+A/+Rduv+w1qv8A6cLigDC1D4davrvjHTtT8QeI4bvT9Kvvttnbx6ckU6nJKxtKG5UcdAM459az3+Ed+3hXWNBHiNVtrjUhqWnN9iG61l80yEP837wZwO3T8K6m88b29iuu3EtpI9no88Ns0sTAtLK+3cApwAF8xOc+vpymk+NYNa8dapoFg2nyR6YAs0gvgZ2cgE7Ygp+VSQpYsMNxiiPRL+tnf8ED63/rf/NnJT/B3U7n7dqFz4r83XbjUbXU4rz7AqxwzQKygbA3zKQ2MZBGB1pLr4Ky6hpOopqniCK+1K81WLVRPNpymESom0o0W7DoRnjI4x179Zf/ABE0K1m1+0truC51HRLZriW0E6BpdqFyq8k8YweOCatQ+NNJvdBu9Q0u8sr6azgEtxaw3sQMRIztdiwCdxlsDg0Lrby/S3/pK+4et1f+v6v+Jzth8LmgbQ5ZrrSrWXStTbUGj0rSVtYpcx7Am0Oee+45PbFVbn4S3kcEcukeIUt7+DxBPrUE0tlvRfNGDGV384H8WR9K71tf0mPVYdLm1Ozj1GZQ6WbXCeawxnhc5PQ/kaW71RbTVbWzkRAlxFLI0rTovlhNv8JO5h83UAgd8ZFO9nf+tLf/ACK+4S2t/XX/ADZneKPCx8SnRC959nOlanDqBIi3eaYww2dRtzu6849K45/ghYDW/Fd3barJBa+IrKS2FosHFqzsHZ1O7kbhnbgdTzXoml61peuW7z6NqNpqESNsaS1mWRVbrglSeeary+KfD8GrjSptc02PUCwQWj3aCUsei7Cc5ORx71Nune/4qz/Cw72+VvwdzzqX4ManqdnqQ13xaLq6vtJj0sSJpwRYUjlV1IAfn7uDk9TnPat3WPhiNVufE039reV/b2lRadj7Nu8jYCN/3huznpx9a6f/AISvw9sun/t3Tdtmge5b7XHiFScAuc/KCR3qaz1/SNRtILqw1Wyube5k8qGWG4VlkfBO1SDy2AeBzwab95f11v8A5sS93+u1v8ked6v8H9Vu7nUjpXiwWVvq9jb6ffQtp4ffFFHsJVi+Qx5+mT160X/wWg/4SKTUNJm0dobi3gglh1jRkvmi8pAgaJiw2kqBkHIyM16Jda/o9jDJNe6rY28UcjRO8tyihXUbmUknggckdcVYsNRstUsY73TLuC8tZRmOeCQOjD2YcGnfW4W0t/X9aIxPDPhJfDmteINQW7E41m7S4EQh2CDagTbnJz0z0FdHVWLVdPn+zeRfW0n2sMbfZMp84L1KYPzY74qne+K/D2nRQS6hrum2sdwzJC813GgkKnDBSTzg8H0NLsgNais+51/SLS8hs7nVLOK7nKiG3e4USSFs7dq5yc4OPXFVPDXie18RaLp15mK2ub+2+0pZtMGkCZwSBwSAcc470AbdFRXNzBZ27T3c0cEKfeklcKq9uSeBWBqPjnSINBuNT0i7tNYW2uYbeVLS6VtjSSKnJXOCN2cd8UeQHSUVnt4g0dNZGkNqtkupMMizNwnmnjP3M56c9KZa+JdDvtSm06y1mwuL23BMttFco0keODlQcjHf0oA06KyYfFXh+50+5vrfXNOltLU7bi4S7QxxH0Zs4H41d0/UbLVrJLzS7uC8tpM7JreQOjY4OCOKAMSx/wCSp67/ANgXTf8A0ffV0lc3Y/8AJU9d/wCwLpv/AKPvq6SgAooooAKKKKACiiigAooooAKKKKACiiigAooooAKKKKACiiigAooooAKKKKACiiigAooooAKKKKACiiigAooooAKKKKACiiigAooooAKKKKACiiigAooooAKKKKACiiigAooooAKKKKACub+HH/JLPCn/AGBbP/0QldJXN/Dj/klnhT/sC2f/AKISgDpKKKKACiiigAooooAKKKKACub8B/8AIu3X/Ya1X/04XFdJXN+A/wDkXbr/ALDWq/8ApwuKAOSn0i91DQvHGgWUPm6gdcS6WMsF3xSNDIGySBjCsP8AgJFdd4f0i7sfFnie9uYBHBf3MElu+5TvVYEVjgHI+YEc4rYs7qwvZ7qSxeKWWGQ29w6D5ldedhPtu6e9W6Fol6W/L/IOr9Tz3WtE1aTV/GtvbaTNOmu6WqWl0jxiMSLC6FG3MGBJIxxjnkiqXiHwVqlxZ3EOlabGofwm+mqkbxoDPuUqnUdt3PT3r0aLUbWfU7nT4pg11axxyTR7T8iybghz052N09Ks0l/X3NfqO7/r5P8AQ4N9O1iz+IUNzolhfQw3UkX9qSTNA1nPGsW0OvzeasoOFwAAccjvV3xboVzqviLT7n+z3vrCLTr+C5jjlVGfzVjCoNzDltrDPQdyK6W21OzvL68s7aYPcWLqlwm0jyyyhgMkYOQQeKtUPVa/1dCj7r0/qxyngKHW7axvLfV47tLKKRU07+0BD9q8oIARJ5RKnB4B6kda8/0O9ZPGcVxqIkfSz4muxZfZjCf9Jdniy4LebtwWyNvB5+6BXrr61p0clgpu42/tFzHaGM71mYIXOCMj7qk59qVNF0uPU21GPTbNL5vvXSwKJT9Xxn9aq75uZ/1t/l+ore7y/wBdV+v6Hn0PhHVdN8A6DEmkie603WG1C70+N491wvmSngk7SwDo4yR90DOail0HXTfS+JYdCnjDa/BqA0kSReeYktzCz/f2byW3Y3dB1zXqdRy3EMDRrNLHG0r7Iw7Ab2wTgepwCce1Jabf1t/khvX+vX/Nnj95aatp2qaPe6p4eeSe78VXF9Fp4mieQxm0bBB3bN42k4JHK8Hoa7zwHpl7p+malNqFmbB9R1Oe9js2ZWaBHIwrbSV3HG4gEjLV0klvDNJFJNDHI8LFomZQShwRkHscEjj1qHUdTs9Kt0n1CYQxyTRwKxUnLuwVBwO7EChaafL8l+iB6u/z/N/qeR3vgXxdZaleXuj2aSNoV00vh6P7QiidLiRmnU5Py7Q20bsfd4rWh8Maj4Tunjt9Al1+3udCh05DDJEPLlUuXD+Yy4Ry+4kZ5ByOleoUUre7y9P+Bb9R397m/re/6HBeCPB9/oGstLqUUcrRaFY2CXYYMWePzPMUfxAcp1xnj0rC8H6Xq/wx0O6vta003iSaejmQSoZoZk+VbQYJ3KxIKbc4Zmz1Br1aC4huoVmtpY5omzteNgynBweR71JVNttvv/wf8yUktPT8Lf5HGfFFmm+EusNJB8726FoHI6l1+Unp7Vzup+HNc8QXWq6hbeH5NJWSDTrWOzmlhDSmG58x3+RioVV4GTk46dK9RuLeG7gaG6hjmif70cihlb6g1JRtLmH9m39f1oeW2fhHUY/FF1b6rBrk9tJrp1OCa0ltBa43h0Zy2JQVxtIGcgccGo7XQ/FWo+KLC717Tr2aKzN+lxDvtY7bZIjqiwbCJDuG3Jc9Tz3x6Yup2bau+lrMDexwLcNFtPEbMVDZxjqpH4Vaqbe6l0/pfoO/vX6/0/1PIZPDfiq50GG2gt9Wj07SdRtZ7G3uHtRfGFEdXQEFo22FkKb+TtPPQ13XgnS/7N029laHVIZb27a4lGqNAZWYqq7sQ/KAdvTrnJPWukoqr7+f/A/yRNtvL/g/5nN2P/JU9d/7Aum/+j76uguLiK1tZbi4cRxQoXdz0VQMk/lXP2P/ACVPXf8AsC6b/wCj76rfi3QZfE/hW90WG+NgL1BFJOse8iMkb1AyOSuRntnvUu9tCla+p5V4F8XoPHVjq1zrcNynjFp1exF0rmydGJthsz8uYwVPA5xWp4c8aTxeN9e8LaV5d3q9xrs8rC5lIjtbVVj3N6seoVF75JwK63xF8O9I1jw6LDS4LXSLuF4pbS+gtVLwSRsGVuME9MEZGc1Ql+Ge5bu5g1YQau+sHVrW+S1/492KqrRld/zoyqQRkZB9qqNk12Wnyurfr8tCXdq/V6/g/wDgFRfiXqE/jS60e2tNJH2W+Fo1jc6h5F9MmQDNGjqFZecgBiSB1zxWPaeKfEnh/wD4TjVLTTrS90rS9ZmknNzdusrIEjLLEoUgbRzyeScV0GufDa+8Q3EkGp+IluNLkuhciGbT1e5gwwYpFOWyi5HHykgHGavz+AfO8NeK9J/tLb/wkVxNP5vkZ+z+YirjG75sbc5yM5qVdK/W34+7/wAErRu3S/4a/wDAKXizx3qWi3EhtI9Ds7OO2W4SfWdTEBuyQTsiQAnjGMnueB3qbSPiGt/faU97apZ6dq2i/wBp28zPkq6YMsZ7HCsCD9ar3fw0uW16/wBR0/XIbYajbxQXBl05ZpowibMwyFv3eRzgqwzzWB4s8Ix/8Iv4S8B21zdXGqWzxxC7gtXRVtNrRzszcqoMZIxuySVp+S76fO/5aP5epK2u+2v4fnqvmd/4cvpfF3gmC81e0FumqQs3kI7AiF87MkYIJQgnGME1wNn4A8OyfF7U9Ie2ujYQaRb3EcP9o3GFkaWQFs+ZnkKO+OK9ahhjt4I4YVCRxqERQOFAGAKxrfw35Hjy88S/a932qwis/s3l427HZt27POd2MY7daenOmttfydvxDXkae+n5q/4HIeLfiTqPhKS/kktdDt7LTmCpa3uqhLy9QAZaJADjrwGOTjnFXb7xn4kuPEes6b4b0jT54tLtILtpr25ePeJELbAFU/N8p54A96pan8JLm9h8QWlr4ghtbPXJpZpWOmLJdK0nVPOL8pn+HaDjgMOtdNpvhE2Gr6xfvfCVtUtLe2KCHb5ZiRk3feOc7s44xjqah35PP9bf5lac3l/wV+lznh8U2/s2e/fT1jhl8Px6xYoXJaVydrRH3DGMZH96pNO+JF9qlnpTWOjrc3c2lXF9e2qyhTE8TCMRhm4GZNwyegU06f4Vw3Gj+EbGTVGB8O+WsjrBj7bEpVjGRu+UFo0PU9KaPhLaG28WwNqk23xESI9kQH2JC7SFF5O4F3ZiOMg496uVru3n/wAD8/8AyXzFHZX8v+D+X4+RDpHxLvJ/FCaLqP8AYNzLcWU1yn9kaibg27RgExyjaMZB4I9DxW/4B1/XPFHh221rWbGxsre9gSa2jt5nd8Ec78qAOxGCevNZNl8OL6LXNO1K+1y1cWFtPbR2tlpS20O2VApbAckNkAk5IOMADrXVeFtE/wCEa8J6Zov2j7T9gtkg87Zs8zaMZ25OPpk0aa/11f6WFrp/Xb/gk1tr2kXuoSWNnqtlcXkWfMt4rhGkTBwcqDkYNch4pSTxN8SdN8JXNzcQaSmnSajdxW8zRNdkSCNIyykHaMkkA88V19toOkWWoSX1npVlb3kufMuIrZFkfJycsBk5NZXibwpJrOoWOr6RqTaTrOnh0guhEJUeN8bo5EJG5TgHqCCMg1PVX/r+nZld7HK6IfCGi+PDp/hXW7mylkingn0Z47hoZ5EGd6tJ8qsu1sleCDWJ4T8c3MPwVgtpPD3iS6lGnTL9vjtg8bHDfPvL5wPXHau2tPB2t3viSy1rxbr8F7LpySiztrCx+zxI0i7GZizuzHHbIAq9oXhD+xfhzF4V+3ef5dpJbfavJ253bvm2bj03dM0pJuDXl/n/AJji0pp+Zx+uDXbj9nnT7jS9W+wJH4cSe7mCFp5cW6kKrZ+XJzubk+mOtXtURtf8QeEPDd7PcLps+mS313HDO8RuGRY1RWZSGwC5bGeSBXRy+EvM+GP/AAiH23H/ABKhpv2vyvSIR79mfbOM/jUGseEby4OiX2h6nFZato0TQxTT25limjZQro6BlODtUghsgitG1zSfS/8A8l+V0yei76/p/wAE5zQ9KutZsda8NXGuXkGmaHrZjdzM5lntPKWQQNNuDAAvgtknauKZ4U0yXXIfFFn4Y1bULHwxPJDFp135zytuXP2gwM5LBDwobOM7itW9R+GGpX3hOXSo/EqxXN/qBv8AVrh7Eul6Tj91sEilY8BRjcchcHqa1V8JeILjw5daVqPiiJMrH9hm0vTvsZtGQ5HHmsHXgDbwMZHepW2vZfPRXB76d38tXb+u2hy/huKQ+NPEPhzRZ9W8N20mmD7NDqLvLK0u8q11DvZhtwQPvZJwSBUem+b4e+I0+kaBHq1kP7JuNiarPJKmq3KYKyRbmYZHJY5UkMOMc10h8Bapq95dah4p8QeZfvYPYWsmlQNaC1ViGaQZdmLkqvfHGMc1Pp/g7Wp9esdU8V69DqD6XDJFZLZ2ZtvmkXY0rku2XK8YGAM5xS1t52f62/T+lo9L+V1+n9f8OedaJr2lafH4OvdJ168u/Et/qMFtrdvLeSSMfMysomhJxHtcgLwvQYzW94i8G6beePNN8P6Hc6vb3MudR1K5XWLpvJt1bAVVMhUF3+UccANjtXQ2PgbWH1DTf+Ej8QRanZaTOLi3VLPy57iRQQjzybzvKg9guTgmtzTfDn2DxfrWvSXXnyamkEaR+XjyEiUjbnJzksT0HWq6p+d/ysvv1sT0a8v1/wAupuUUUUhhRRRQAUUUUAFFFFABRRRQAUUUUAFFFFABRRRQAUUUUAFFFFABRRRQAUUUUAFFFFABXN/Dj/klnhT/ALAtn/6ISukrm/hx/wAks8Kf9gWz/wDRCUAdJRRRQAUUUUAFFFFABRRRQAVzfgP/AJF26/7DWq/+nC4rpK5vwH/yLt1/2GtV/wDThcUAcbJdajqmvQ6dNquoRW8/iu7tpPs908bGFbUuIwwOQuR2xjtg81Si1MxSabpfiPXb200CLVdTtZLyXUJIGYxMPIikuAwbGC/VsnaM5r2OmuscoMciq46lWGf0pLS3pb8tfw/Eb1d/66/5r7jyTWNQ+wHxHqGjahctbw6foki3vmsXaAXEu92fqQUyST1Gc03XPFx1HUNfk07XZf7CW90uGe9tbghLeBywmaOQHCgkAF1PHPPFevkAjBGR6U0RoI/LCKExjbjjHpij/O/5A3f7rfgeFy6iLBfED+GtWkuNJm16zhnv59RkVVtzbjOboBnCbwq7wScfxd69E8EQzXfhbUYLrWLfUraS4kSB9P1OS6MEZVf3f2g4csCSQc5AIGeK7HYvl7No2Yxtxxj0oRFjQJGoRR0VRgChq8Wu/wDkl+n4i6p9v+D/AJ/geH+G9P07UPCvw9sLXU7tm/tCRLwQ6jI0sEgtZd0edxaLpgqu3GTjGc1Ldatqltb6dplxqbLpUWr6jaSXOoarNaBhG37iOS5UF+hbGT820ZJ7+1KiJnYqruOTgYyfWh40lQpIqup6qwyDTbu2/wCun+WnqH9fn/n+Bxuntef8Kkm+1eJrQTm2nWPWobjzool3MEcynG7aMAtxkgmuDubrS9S0nQpdQvLm1ttN8RC3ur6LxBcTWzbrdj5iXBcHGSo5wVJYdzn2/aAu0AbcYxim+RF5PleUnl/3Nox+VH2ub0/B3D7NvX8VY8n1zxedOj8TaY2tyRal/bVmLCDz2Mv2dhb5KDOfLP7zJ6cnPWsvW762vdSm/tTW7sa7F4rt4U0z7W+xbZbmPyz5GdoUrhvMwCSfvc4r27Yvmb9o34xuxzj0pNiCQuFXeRgtjnHpmiOjT7W/C3+X4sHqmu//AAf8/wADyHQtR1e/8aBrvXbGz1GLWpoprO41mUSyW4ZgsS2ZXZgptYMOT1z1p/h4XrR+EtRn1jVp59Yv7yzvFkvpSjRBJyoVM4UqY1wwAbrzXrflR+b5mxfMxjfjnHpmnULRJA9W33/4P5foedfCxbK1+G08VhfSzXcBuFuYnvXma2kDuAu1mPlnAzgYz1rC0htVtNN8N3Vvq2rXd5rfhy6mufPvJJd8ywxtGyqThGBYgFQM98nmvYFRELFFVSxyxAxk+tOpNXv5/wCTX6/gNOzXl/wDySy8Z/2s2mppWtyXTxeErma78mYttuAsOC5H/LQHd1+YZ96Zpuk3N3faRbXGva88Wo+GzqF1/wATOVS9wvlhXBBBTHmH5U2g4GQa9cRFQEIqqCcnAxk+tOJwMngU5a3/AK/m/wA19yEtEl/XT/L8TwldU0+8vLDUPFniG602afwfbTLPFevamafdIc7lILNnkJnnng44dd6x4ivZY4dd1q20S8GiWc1rLf6vLp4WZkJklCKu2Zg+AytwBgY5r3JkSRQHVXAORkZ59aHijkKmRFYqcqWGcH1FO/5/q3+v4B/X5f5fieatBeX2q+M7m+8SXWnyafFFFaz/AGt0tbRntELS7AQCNzZ+bOOowcmtv4banFqGiXkUW52s7owyTrqcl/DM2xSWimkJJXnp2ORXYkZGDyKaiJGgSNVRR0VRgChfoLojnbH/AJKnrv8A2BdN/wDR99XSVzdj/wAlT13/ALAum/8Ao++rpKQwooooAKKKKACiiigAooooAKKKKACiiigAooooAKKKKACiiigAooooAKKKKACiiigAooooAKKKKACiiigAooooAKKKKACiiigAooooAKKKKACiiigAooooAKKKKACiiigAooooAKKKKACub+HH/JLPCn/YFs//AEQldJXN/Dj/AJJZ4U/7Atn/AOiEoA6SiiigAooooAKKKKACiiigArm/Af8AyLt1/wBhrVf/AE4XFdJXn/hPXtRstLvre28J6xqESa1qm25tpbNY3zfzngSTq3GccqOR3HNAEd34116OG+12BdP/ALFsNW/s57N4XNxIomWFpBJv2g7jkLsOQOvNSeBdPun8eeMdT1E6fPMmofZUmSzKzqghiYIJC5wmCPlx97JzzgQyabBLrTak/wAO/E3mPcC6eAajaC3ecYxKYftmwvwOcdQD15rXstUu9OuLyaz+H3iCOS+n+0XDfabE75Nqrnm74+VVGBgcUR037f5f5P7wlrt3/wA/+AZqeOb5vHNnpsdza32nXt3cWeYdMniEDRo7cXDMY5WGwhgoGD9DWT8MnZtW8O7mJz4VJOT3+0itG1023s9WTUYfh34n86K4kuYUbUrQxQySBg7JGbzau7e2cDvVzTD/AGNNbS6b8OPEEL2tr9jhP2uybbDu3bebs555yefeiOlm/wCtGv1CWt7f1rf8kU/EHjjW4PGF1o2iS6cssFza28drNZyzy3Al2mSQMsihQitnBHQZJGRQ/jXxGmm6pqJTTPKj1ZtHsYPKky0huBEssj7+FGeVAycfeGcDm9Z0XxbfeKNT1Gx8IaxbtfzxSpfpqFtFPaqiqpURpdhJPunlj/FgggV10yLPo15pUvw319rO9me4nj+12WWlZ95cN9ryp3cjBGD0xSjsr/1t/wAH5vQb30/rf9bfqQXvjPXtBbV7DVf7PvL2waxkjubeB4o5IrifyiGQuxDLhsHdg8cdRU/iHxtq2m6lrFlpttZSSWlzp1vbmfeAxuX2sWIPbtgfnVWPTYE0m/0+X4eeJ7qPUdv2uW61K0lml2/dzK14WG3HGCMdqydY8NPdaLNZab4B8RLJeXlpPfT3Wo2sslwsMgY5drwtu25APHb0GH29V+gu/wDXT/M7bwvrOq3Wta1ouvNaTXWlvCy3NnC0SSpKhYZRmYgggj7xzwa5+y8a+I3bT9TvE0v+yrvW5NJ+zRRSCYASvGsvmF8dUGV29MnPYXdDlm8PR3C6d4B8TF7mTzJ57i/sp5ZWwACzvdljgAADPArn/DPh+bSJReaj4D8RXN6l9c3iAahaGBWkkcq4iN3s3hGC7tv+NHVf12/4IfZ/rs/1sXbb4ial/bUkKz2mpWc1hd3VvNFplxbRq0ABAWR2KzKc4JXHT3pkureNb2XwTdnVNLtDrE7SNbxWcrIqm2Zwjnzhvxg9l5we3MtlotnYSBoPhz4nYLDLBEkup2rpDFJ99EU3mEU+gFXL+M6hpunWUvw/8TRRaYytZtb6hZxSQ7VKDDreBvukg88g0LT8Pzd/0+4Hrf5/krfqVbfxNqX9sT6NokdpbXt9r13B9puRLPGiRRK7PsMgJY5AChlUdcep4g8Tar4c1HVriSCyudTstDt5i6tKkUjNcOmNhchR3zy3PJIAqW9sYr6F1f4d+JoXa8a+E9vqNpFKk7LtZ1dbwMuRwQDjHas7xHo9xqXhi+0/TPAGvRXV1ZJZCa4vbOTMSyb8MTdkk5LHPU55NC2X9fZt+f8AXQb3f9fav+X9dTUuPF2t6Nfarpmv3ukxXENpb3dteQ2UzRr5spj8swhy8jZX5dpBbI4FUrTx94gu7JLaCKyOoHXhpPn3NlNbqUaDzRIYWberDj5SecdRnIcmiWiWN1bN8PPFMv2pomeeXVLWSZfKOYtsjXhZQh5ABGKs2dnDY7DD8OvEjOl6L/zJtQtJHa4CeX5hZrwknbxg8e1CtfX+tV+l0S720/rT/PUzr3xH4svpNItodQ0+0u7bxJJplzIlrIYrkLCzq2zzQQuOq7jzgg8YPQW2uahe+NL3w/r5tbW2lDx2tpJYyZvovLBMiT79h6tmPbkAfjVC+tI7+2lhk+HniaLzb7+0DLBqFnFItxjbvV1vAVOOMDA9qRormLU31a18C+KJNQRZDbfatUtZYYZHXBZY2vCq56HA6E+ppfZs9f8Ahl+t/v8Aur7Wn9av9Lfd9+18NrqW6+H2mi4cyPb+Za7yclhFI0YP4hBXU1w3hi91Tw54YsNJTwR4glNrCFeXztPHmP1Zv+PruxJ/GtX/AISjV/8AoRPEH/f/AE//AOSqqW5K2Okorm/+Eo1f/oRPEH/f/T//AJKo/wCEo1f/AKETxB/3/wBP/wDkqkMLH/kqeu/9gXTf/R99XSV53Z+I9UHxJ1mUeC9cZ20mwUwiax3oBNeEMf8ASduDuIGCT8pyBxnoP+Eo1f8A6ETxB/3/ANP/APkqgDpKK5v/AISjV/8AoRPEH/f/AE//AOSqP+Eo1f8A6ETxB/3/ANP/APkqgDpKK5v/AISjV/8AoRPEH/f/AE//AOSqP+Eo1f8A6ETxB/3/ANP/APkqgDpKK5v/AISjV/8AoRPEH/f/AE//AOSqP+Eo1f8A6ETxB/3/ANP/APkqgDpKK5v/AISjV/8AoRPEH/f/AE//AOSqP+Eo1f8A6ETxB/3/ANP/APkqgDpKK5v/AISjV/8AoRPEH/f/AE//AOSqP+Eo1f8A6ETxB/3/ANP/APkqgDpKK5v/AISjV/8AoRPEH/f/AE//AOSqP+Eo1f8A6ETxB/3/ANP/APkqgDpKK5v/AISjV/8AoRPEH/f/AE//AOSqP+Eo1f8A6ETxB/3/ANP/APkqgDpKK5v/AISjV/8AoRPEH/f/AE//AOSqP+Eo1f8A6ETxB/3/ANP/APkqgDpKK5v/AISjV/8AoRPEH/f/AE//AOSqP+Eo1f8A6ETxB/3/ANP/APkqgDpKK5v/AISjV/8AoRPEH/f/AE//AOSqP+Eo1f8A6ETxB/3/ANP/APkqgDpKK5v/AISjV/8AoRPEH/f/AE//AOSqP+Eo1f8A6ETxB/3/ANP/APkqgDpKK5v/AISjV/8AoRPEH/f/AE//AOSqP+Eo1f8A6ETxB/3/ANP/APkqgDpKK5v/AISjV/8AoRPEH/f/AE//AOSqP+Eo1f8A6ETxB/3/ANP/APkqgDpKK5v/AISjV/8AoRPEH/f/AE//AOSqP+Eo1f8A6ETxB/3/ANP/APkqgDpKK5v/AISjV/8AoRPEH/f/AE//AOSqP+Eo1f8A6ETxB/3/ANP/APkqgDpKK5v/AISjV/8AoRPEH/f/AE//AOSqP+Eo1f8A6ETxB/3/ANP/APkqgDpKK5v/AISjV/8AoRPEH/f/AE//AOSqP+Eo1f8A6ETxB/3/ANP/APkqgDpKK5v/AISjV/8AoRPEH/f/AE//AOSqP+Eo1f8A6ETxB/3/ANP/APkqgDpKK5v/AISjV/8AoRPEH/f/AE//AOSqP+Eo1f8A6ETxB/3/ANP/APkqgDpKK5v/AISjV/8AoRPEH/f/AE//AOSqP+Eo1f8A6ETxB/3/ANP/APkqgDpKK5v/AISjV/8AoRPEH/f/AE//AOSqP+Eo1f8A6ETxB/3/ANP/APkqgDpKK5v/AISjV/8AoRPEH/f/AE//AOSqP+Eo1f8A6ETxB/3/ANP/APkqgDpKK5v/AISjV/8AoRPEH/f/AE//AOSqP+Eo1f8A6ETxB/3/ANP/APkqgDpKK5v/AISjV/8AoRPEH/f/AE//AOSqP+Eo1f8A6ETxB/3/ANP/APkqgDpKK5v/AISjV/8AoRPEH/f/AE//AOSqP+Eo1f8A6ETxB/3/ANP/APkqgDpKK5v/AISjV/8AoRPEH/f/AE//AOSqP+Eo1f8A6ETxB/3/ANP/APkqgDpK5v4cf8ks8Kf9gWz/APRCUf8ACUav/wBCJ4g/7/6f/wDJVHw4/wCSWeFP+wLZ/wDohKAOkooooAKKKKACiiigAooooAK5vwH/AMi7df8AYa1X/wBOFxXSVzfgP/kXbr/sNar/AOnC4oA5Hxb8T9T0L4jQ2Flb20nh+xltYNYuHUl4nuCwTac4AACk8d66j/hP7J/HNx4YtNO1C6uLQJ9ruYY08m33ruXdlgxGO4UgZFczffA3RtYsdebWb64utW1i4lnF8ryxrAT/AKseSJNrhMDr19qnl+F2pXni7RdZ1DX7WR9J8phcQaaIrqYpHtKNKHOY2OW2kHqRmlG9kn/V/wDL+mEt21/Vv8y3Z/F/RLvw5e6+2napDpVsQsNy8KEXbF9gSMK5O4t2YLwc1HJ8ZNEg0+eS50zVIL+G9isW0ySOMTGWVS0fO/ZtIBOd3asKb4FtqK602qa1arNqSRBRYaYIIfMjk3iaSLeVdj0OMDBPrWmPhbe/8Ird6WsnhaGS7mRpUg8OJHBIiqRhkD5LZbcGyMEcdaOn9f13Hpc2bj4lWkGt6do40LWZNSvbYXT2qwxh7aMtty4LjOCDwu7gZrLu/jZoNpqElu2k67JFHfyac11FZB4vtKkgRAhsszY4wO4zis+9+DN3d6PoGknxDC1vpCRgXcmn5u0ZZC5MUwcFAeF2ncAAK1F+FIFosH9sn5fE/wDwkG77N758n7//AI9+lVpfyu/uuv0v93yJ1t/XZ/rb+tSWL4v6JJoLXx0/VI7saidMGlPAoujcAZ2Y3bQMc5LYpW+L+hLo9neiw1aSa7vpNOFjFbK86XKAkxsobGemCCRyOgyRma18GItVXUJf7Tge5uNcOsQC6sBNCpKBDFJGW/eKQOvH0rQs/hkYo/D7S3Wm2smj6m2oNHpelLawzEoU2hA/B/2jknHSktd/L9L/AK/h829NvP8AW36f1tlXvxqDt4fk0Tw9qVxHqGoS2N3BLAonheMHdGBvx5mcHk4xnvxW38U9c8UeGvCU+v8Ahq40+KGxhMlzBe27SNJkqAFKsAMZOc5rMufhLeRwRy6R4hS3v4PEE+tQTS2W9F80YMZXfzgfxZH0rr/Gfho+L/BWo+H3vPshvoRGbgRb9nIOduRnp0zSd3Dz/wCAv1uUrc/l/wAF/pY5FfFXiTR7/wAPw+Ib+G9udQtru6FnpenYFwiQq6pueTKsCT0yGzjjrWVpPxU1vxBYeB70WcmljVtVa2vA0K+VcRhHP7skscAqMng5B7V2974JW98S+G9Wa/KjQ7ae38nyc+f5kYTO7Py4xnoc1zeh/CW906x8P2N/4hS6tfD+ovdWiLZbGaNlYeWx39cuTu/DFU99O6/9Kf6WIV+XXe342/zNbRPivomu6/aaba2moRRX7yx2N/NEogu2jzuCEMWHQ43KM4ruK808F/CQeDtbgmhm0W5srWSR4ZG0VBfYbOFa43Z43dQMkDFel0aWQ+rCiiikAUUUUAFFFFABRRRQBzdj/wAlT13/ALAum/8Ao++rpK5ux/5Knrv/AGBdN/8AR99U2p+IJrHxroWiJCjRanFcu8hJ3J5SqRj67qOtgN6isrXPEukeHI4W1m9W3NwxWGMIzvIQMnaigscDrgcVXn8beHLfR7TVH1WF7S9YrbPCGkaYjOQqKCxIwcjHGOaAN2iubk+IXhaLT7S9fWIvIvWdLcqjs0jJwyBQM7hn7uM+1a+kazp+vaal/pF0l1ayEqJFyMEHBBB5BBGCDyKALtFed6f4r8b6rp+oarpmlaLc2dnd3MC2rXEsc8ohkZDg7SoY7eM8VuJ8RfDY0HS9Uur77PHqkAnghMbPLtx8xKICQFPBPQetC1V/61Drb+tDqKK4TUviGh8a6Lo2izWklpeWzXs97LFK8ZhBXGxkG0ZBJ3E7RjB61tab488NavcvBp+qJLIsLXABidPMjXq6FlAcD1XNHS/r+Adbf1qdDRWLceKtLTS7O6trpZDqVu89gCrAThYjJ6cfKM84rE8N/EWHW9a0rSJrR4rq+0WDU2dEkKK0ihtgO3GAM/MT7daPtcvX/h/8mH2ebp/w3+Z2tFcfr/iHxBH43tPD3hu30xml0972SW/aQABZFTaNn+9VfTviNb2n9o2vjM22m3un3y2TNbM80U7vF5qbPl3ZK5+UjORjnIoWqv8A1vb8wejt/W1/yO4ornLrx/4XsriKG71aOKSWNJcNG4Eav90yHGI8/wC3iqPjT4j6N4U07UlF7BJqlpamZLZgxXdtJRXYDC7uwJBPah6DSu7HY0VzUXjGxt49UuNZv7K3t7GSGM7S+5GkjVgrAjliW4C5yCO/FUL74oaFDNo62Ej3qalfmydo4Zd1uwQsdybMg/d+U4OGz0Bp21sTdWudpRXMR+OdIs9Dt77WtStUNzcTwwi1SR/NMcjKQqbd5IC/NgYBz2wamuPHnhi10+xvpdXhNvqAb7K8as/nFfvKoUE7hn7vX2qb6XKaadjoaKo6RrOn69pqahpF0l1auSokXIwQcEEHkEEYIPIrAt/iHodvpVjNrOqWq3F5HJJEtpFM4lVHKkoNu444yMep6c09txbnW0VU0/U7PVtLh1HS7iO6tJ03xSxnKuK820/4leJG8Oab4iv7PQ5NPvZ44jaW1zILsB5PLG1SCGYE529xmjrYOlz1Siuf1Dx34a0rVG0+/wBVjiuEdUkGx2SJmxtDuAVQnI4YjqKZqPxA8L6VqU9hqGrxwXNs6pOhjciEsAVLkDCghh8xIHvwaN9gOjorlYfHFpFrOt2urPFbQ2F9BZ2zIGd7hpYkcAKMknLHgDoM04+OtIsI7h9c1K0hC6jLZQeSshLMihthBXl8dhkHgDJo/r8v80H9f19x1FFc+fHfhoaGmr/2rF9jkmNujBHLtKOsfl437uPu4zV7Q/EWleJbOW60O9S8gilMMjoCArgBivIHIDD+XWgDSorj7T4hafCuqyeIpodPitNYk0y3fDHzSqBx0B+Yjdx3xgcmtFPHHhuTQZdZGqxCxhl8iR2VlZZOP3ZQjdu5Hy4yc0dL/wBa/wDDh1sb9FcbofxG0vWNX1KH7REtpDe29laShX3TSyR7tjKRlSCCOQMY5ravfFmh6d9u+26gkR09447kFWyryAFFAA+YkEYC5NH9f194GxRXGap8TtDsrPTLmxd76K+1FbBzHDLugbGW3LsLBgMfKQCc1fT4g+F3vXtU1QGWO4+yyYgk2pL5nl7C23aDuIHJ7g9DRv8A16f5oNv6/rszpKKqQ6pZ3Gq3Omwzh7u1RJJ4wp/dh87cnGOdp461boAKKKKACiiigAooooAKKKKACiiigAooooAKKKKACiiigArm/hx/ySzwp/2BbP8A9EJXSVzfw4/5JZ4U/wCwLZ/+iEoA6SiiigAooooAKKKKACiiigArm/Af/Iu3X/Ya1X/04XFdJXN+A/8AkXbr/sNar/6cLigDpKKKKACiiigAooooAKKKKACiiigAooooAKKKKACiiigAooooAKKKKACiiigDm7H/AJKnrv8A2BdN/wDR99Wd4wtdZi8a+G9b0jRLjV4bCO7SeO3nhjZfMVAp/euoP3T0rRsf+Sp67/2BdN/9H31dJR1uBwF0PEU3ijTPFcfhW6LQWs9jNpkl3bCdA7I6yowkMZB2lSCwNYo8MeLrGC0nis50W71G9vry20ma2Fza+cQY0SWbC7eDv2kEk8ZFes0Ubf153/MP6/C35HlHg/wZ4g0/W9GudV0940tdU1K5leW7SdlSaNRGxbOWJOQeM5B7V2fgvSb3SINaW/g8k3OsXV1CNytujdgVbgnGfQ810lFP/K35f5B/nf8AP/M8y0FvGPh3RtT0m08HXE1xNqF5Nb3kl9bLb4llZkZgJC+AGBI25rMb4c6t4cvNIlsItT1WC30dNPlGlamLKVZVdnLfMyhkYueM5GBwa9goqUrJf1smv1He9/P/ADueXaf4L13S0sv7O0+3hkh8PXtsqTXHnxR3MsqyLGxb5nHXJxjg+1U9K8KeKbrxPo93qNnqkcNvYXVtcS6je2ziN5Igo8uKE7VTIxxz0yABXrtFDV1b1/G/+Yk2nf8Arp/keTWGgeLJ7fwnp934eNpFoNlcWs9w15C4mY2rRIyBWztJx97BG4cYBNa/hbQNb0TxB4dmutMZoE8M2+m3UiTR/wCizR/MQw3ZYHpld3PtzXoVFVf3ubr/AMP/AJh9jk6f8N/kcN4h8EJ4k+Jllf6rYtPpUGlSQmRbkx4mMqkDCsGPyg+1P1LwRbWMvhmDwxpUUNpZayL26CMAQPJkUyMWOXOWUdz+VdtRSWlrdP8AO4PW9+v+VjyLX/A+t/2/4lEOm6lqlrrkolie11kWsC5jWNknjLAkDb1UMSDjinat4W8S6X4d8V6BpHh8avHribre6F5GixEwJGUkEjBiV2ZUjOcjOOa9bopJWVvK3yHfW/z+Z5bc+D9fTV7zVbfT1na21mz1CC2adF+1JHaCJwDnCsGJI3YGV/GrmpWXifUr7TNbbwzFAbTWVuPsMU0IuWh8h4i8j7/LZgW4AbhRjJNejUVV/wBPwt/kibaW8rfn/meXaR4b8ReG7rSNYTRm1GS2XUbeexjuIlljWa7aZJULMEOVAyNwOCPQipdA8Ha1a+ItD1S/so4x/aOpX9zFHKrCz89AETP8R45KgjJPbmvTKKUfdVl/Wt/zKk+Z3f8AWlvyOa8F6Te6Rb60t/B5JutYurmEblbdG7Aq3BOM+h5rm/BHhLWNI1bw9PqViIkstKvbeZvNRvLkkuVdRwTnKgnI47GvSaKFpby0/Cwnrfz/AM7nN+BdJvNF8FQafqMHkXKTXLGPcrYDzyOvIJHKsD+NeW6f4A1RfBVppEHw7j03xFGwx4i8+0RoX8zPm743MrYHbHPQ17tRQtHcbdzxvxh4W8aaxB4iso7G+n+1T77P7Ld21vZyRgLgyLxK8p2kHd8pOOQBW/qPhXVrnSviJHHYgy63Gq2QMiZmxaqmM5+X5wR82PXpzXotFK2lvK35f5AnaSkeSf8ACC6/YeNL3xfYWjzX1vdW/wBns3uE2XVv9mjjnC5OEkyDhjjOwDoa0bDwlrKeKLK8nsNsEfia91BmMsZ2wyW5RHwG7scYHI9K9Koqr63/AK6f5fmTb3bf1s1+p5Rc6PqmheModXFnHczNr15Na6d9qijku4pbaNd8RZgu9SjfKxBxurd+F1xNeW/ie6ubRLR5vEE7GFJA4UiOIEbl4JyDnHGc11uraLpmu2f2TWtPtr+33BhFcxLIoYdCAeh96lsNPs9KsY7LTLSGztYhiOGCMIiD2A4FTHT7rfl/kVJ3++/5/wCZ53D4Q1ka0k8liPKXxhJqeTKhxbm3ZRJjP94gY6+1JqPhLXV17UdYs7BbgweIYdTt7UzIv2uNbVYmwScKwJJG7HK++a9NoprRK3S34cv/AMihPVtvr+t/82eTT+HvFN/qWp68fDv2ab+27HUILA3cJknjhj2ONwbYH5zgnHv3qS68Oa/qp8SX+oeGpAb+/s7i2tU1JIrhFijCl0lRtqyqRkAnb2ya9Voo6W/rp/kg63/rr/meTx+HvF66Vb3FxY3d99j16C+trS8ubY3pgWMq3mSqRGzZORlicDBNbFt4Smf4c+JdL1hFsXvb6+uopGdT5e6VpIpcgkDGFb1GK9Aqpqel2Gs2D2Wr2cF7ayEF4LiMOjEHIyDx1FJ3s0uv/A/yQ1a6b6f8H/NnLfC6K8ufCreIdYQLqOvS/bZgP4U2hYlHsEVT+JrtKREWNFSNQqqMKqjAA9KWqk03oSlZBRRRSGFFFFABRRRQAUUUUAFFFFABRRRQAUUUUAFFFFABXN/Dj/klnhT/ALAtn/6ISukrm/hx/wAks8Kf9gWz/wDRCUAdJRRRQAUUUUAFFFFABRRRQAV5/wCE9B1G90u+uLbxZrGnxPrWqbba2iszGmL+ccGSBm5xnljyew4r0Cub8B/8i7df9hrVf/ThcUAMXw3qbuyL4+15mT7yiHTyV+v+i0L4b1N3ZU8fa8zJ94CHTyV+v+i14odYbwF8SfEvjgrJJZjW7rTL5FydwaFZITj/AH1Iz/tVBol9rHw9j8aasmG1ubS7C7uJJV3COa4kYsxH+zv6dPlpR1Sfl+LV0vuG1Ztef4Xs3957r/wi+r/9D34g/wC/Gn//ACLUEWi3k15NaQ/EXWpLm3CmaFE04vGG5Xcv2XIzjjPWvMPEPxA8VeE5tb0q38Sxa2Es7OaLVpLaIfYWmmCNuCAKRg7hkenWs1vEGseFtQ+Iup2XiSHV761/spDqiQRYZSxVgVGUyFJBI/Q01q/69CXt934nsN5ot5p8Imv/AIi61axF1QPMmnIpYnAGTa9SeAKn/wCEX1f/AKHvxB/340//AORa8n+IPi2fX77xHpsWoQ3ml6dqejG1EOxgjO+X+ZeTyB1JxV+08a+O9Y8eXraYX+wWOvf2fLZObNIBbhgrEl3ExkOdwwMHoM0R963n/wAD/MctP69f8j0aXw7qVvE0s/j/AF2KNRlneLTwB9SbWiPw3qc0ayQ+PtekRhlWWHTyCPY/Za474pCyvviZ4J0nxS6Dw3cG5eaOZ9sM1wqjy1c9D14B65pupXttpPiPQfB3gHWLTw9pF8Lu4nvLPy5gsiYJiTfuReTkjH0xSWq+/wDD+vy7jej/AK6/1/VjtT4Y1ZVJbx5r4A5JMGn8f+StQ2eh3uoWkd1YfETWrq3kGUmhj050bnHDC1wea8osPiN4p8RrpOmXXia10JDZ3s82qtaxFL/yZSigBvlAIGTtx3xiqHhvxX4mtfBvgrw54amuLb7RpVzdmW1W2MkrrO4VQbhgm0dSB8xBp9L/ANdf8g62/rp/me2/8Ivq/wD0PfiD/vxp/wD8i0f8Ivq//Q9+IP8Avxp//wAi1b8I3eq33g/TLnxDHFFqclupuVhdXTf3IKkrz14JHNbNNqzsSndXOb/4RfV/+h78Qf8AfjT/AP5Fo/4RfV/+h78Qf9+NP/8AkWukopDOb/4RfV/+h78Qf9+NP/8AkWj/AIRfV/8Aoe/EH/fjT/8A5FrpKKAOb/4RfV/+h78Qf9+NP/8AkWj/AIRfV/8Aoe/EH/fjT/8A5FrpKKAOb/4RfV/+h78Qf9+NP/8AkWj/AIRfV/8Aoe/EH/fjT/8A5FrpKKAOb/4RfV/+h78Qf9+NP/8AkWj/AIRfV/8Aoe/EH/fjT/8A5FrpKKAPO7Pw5qh+JOsxDxpriuuk2DGYQ2O9wZrwBT/o23A2kjAB+Y5J4x0H/CL6v/0PfiD/AL8af/8AItFj/wAlT13/ALAum/8Ao++rS1nxDpPh2K3l1u/hskuZlghaU4DyHov6UAZv/CL6v/0PfiD/AL8af/8AItH/AAi+r/8AQ9+IP+/Gn/8AyLWprWvaX4d0/wC3a5exWVrvWPzZTgbmOAPqapa3438MeG71bTXtesNPuHQSLFcThGKkkA4PbINAEH/CL6v/AND34g/78af/APItH/CL6v8A9D34g/78af8A/ItWdU8ZeHNFsbS71XWbO2gvV32zvIP3q4zuX1GCDnoM0/VPFvh/RNOtr/VtZsrSzuseRPLMoSXIyNp6HjnigCn/AMIvq/8A0PfiD/vxp/8A8i0f8Ivq/wD0PfiD/vxp/wD8i1qaVr+k65pZ1LSNQt7yyBYG4hkDINvXn2p2j61p3iDS49R0W8ivbOUkJNEcq2Dg/qKAMn/hF9X/AOh78Qf9+NP/APkWj/hF9X/6HvxB/wB+NP8A/kWukooA5v8A4RfV/wDoe/EH/fjT/wD5Fo/4RfV/+h78Qf8AfjT/AP5FrpKKAOb/AOEX1f8A6HvxB/340/8A+RaP+EX1f/oe/EH/AH40/wD+Ra6SigDm/wDhF9X/AOh78Qf9+NP/APkWj/hF9X/6HvxB/wB+NP8A/kWukooA5v8A4RfV/wDoe/EH/fjT/wD5Fo/4RfV/+h78Qf8AfjT/AP5FrpKKAOb/AOEX1f8A6HvxB/340/8A+RaP+EX1f/oe/EH/AH40/wD+Ra6SigDm/wDhF9X/AOh78Qf9+NP/APkWj/hF9X/6HvxB/wB+NP8A/kWukooA5v8A4RfV/wDoe/EH/fjT/wD5Fo/4RfV/+h78Qf8AfjT/AP5FrpKKAOb/AOEX1f8A6HvxB/340/8A+RaP+EX1f/oe/EH/AH40/wD+Ra6SigDm/wDhF9X/AOh78Qf9+NP/APkWj/hF9X/6HvxB/wB+NP8A/kWukooA5v8A4RfV/wDoe/EH/fjT/wD5Fo/4RfV/+h78Qf8AfjT/AP5FrpKKAOb/AOEX1f8A6HvxB/340/8A+RaP+EX1f/oe/EH/AH40/wD+Ra6SigDm/wDhF9X/AOh78Qf9+NP/APkWj/hF9X/6HvxB/wB+NP8A/kWukooA5v8A4RfV/wDoe/EH/fjT/wD5Fo/4RfV/+h78Qf8AfjT/AP5FrpKKAOb/AOEX1f8A6HvxB/340/8A+RaP+EX1f/oe/EH/AH40/wD+Ra6SigDm/wDhF9X/AOh78Qf9+NP/APkWj/hF9X/6HvxB/wB+NP8A/kWukooA5v8A4RfV/wDoe/EH/fjT/wD5Fo/4RfV/+h78Qf8AfjT/AP5FrpKKAOb/AOEX1f8A6HvxB/340/8A+RaP+EX1f/oe/EH/AH40/wD+Ra6SigDm/wDhF9X/AOh78Qf9+NP/APkWj/hF9X/6HvxB/wB+NP8A/kWukooA5v8A4RfV/wDoe/EH/fjT/wD5Fo/4RfV/+h78Qf8AfjT/AP5FrpKKAOb/AOEX1f8A6HvxB/340/8A+RaP+EX1f/oe/EH/AH40/wD+Ra6SigDm/wDhF9X/AOh78Qf9+NP/APkWj/hF9X/6HvxB/wB+NP8A/kWukooA5v8A4RfV/wDoe/EH/fjT/wD5Fo/4RfV/+h78Qf8AfjT/AP5FrpKKAOb/AOEX1f8A6HvxB/340/8A+RaPhx/ySzwp/wBgWz/9EJXSVzfw4/5JZ4U/7Atn/wCiEoA6SiiigAooooAKKKKACiiigArm/Af/ACLt1/2GtV/9OFxXSVzfgP8A5F26/wCw1qv/AKcLigDTm8PaLcQXMNxpFhLFdTCe4je1RlmkGMOwI+ZuByeeBUkujaXNLdSzabaSSXkQhuXaBSZ0HRXOPmUZPB45q7RQBi2fg7w1p+lXOm2Ogabb2N3/AMfFvHaoEm/3hjn8adbeEPDdnp89haaBpsNpcRiKeGO0RVlQZwrAD5gMnr6mtiigDGtvB/hq0tfs1r4e0uKHKExrZxgEoSUJ45Kkkg9iTSzeEPDlzrqa1caFp0mpowZbx7VDKCOh3Yzkdj1FbFFHW4FHVtF0vXrE2et6fa6hbE7vKuYlkXPrgjr71Qm8EeFrjR4dJm8O6W+nwMXitjaJ5cbHqQMcE9z3rdooAyLvwl4dv7azt73QtOngsDm1iktUKwf7gxheg4FMvvBvhrUtNt9Pv/D+mz2dsSYIHtEKREnJ2jGFz3x1raooAitbW3sbSK1soI7e3hUJHFEgVEUdAAOAKloooAKKKKACiiigAooooAKKKKACiiigDm7H/kqeu/8AYF03/wBH31cz8ZNGj8Qw+GNInOEvNWMO7+6TbzYb8Dg/hXTWP/JU9d/7Aum/+j76tbUNGsNVuLGe/g82TT7j7TbNvZfLk2ld3BGeGPByOaTV7eq/Madr+j/I8L8b6zN42+Htul1/rND04XOor/dvPN+zqp9xtnb8q7rUdI1z/hLvFGv+H/EejI8cMMZtJbb7QyeVGW8uU7x5YJYngE4IPtXUP4F8NvaaxbHTFEWtzCfUFWVx575BzkNleRnC4HX1NRaz8PvD2valNfX9tcLNcosd0Le8lgS6ReiyqjAOB7g8cdKJXevX9X/VvQFZadP0/rX1OV8E6uvir4hNrN5bCFrrwxZywQvyEWSSQyAZ7ZC/UYrC8IaNf6zbeHRo+vadpx0yXVDawzw+fK0LXBjV0j3KNoA25PAz0r0zWfA+ha59lN1bS272cRghksbmS2dYjgGPdGykocD5TxTL7wF4evrHT7UWclmumIY7KWxuJLeWBSMFVdGDYIHIJ5qna+nn+Lb/AF/MnW2vl+Ct+JwWv+MtVvPhvqWjXEQm1ybV5NADaZGc3AADSSohPB8otxnhu9XfhzqUekeOdW8NppOoaRp9/Guoabb38QjYMoVJlUAkEZCt17mu10/wT4e0uXTZLHTlifSxL9lbzXOwy/6xjk/Mzd2bJ96vX2hadqOq6fqV5b77zTWdrWUSMpjLrtboQCCOxyKI6O/3/d/nr+A5arT5f16aGhRRRSAKKKKACiiigAooooAKKKKACiiigAooooAKKKKACiiigAooooAKKKKACiiigAooooAKKKKACiiigAooooAKKKKACiiigAooooAKKKKACiiigAooooAKKKKACub+HH/JLPCn/YFs/wD0QldJXN/Dj/klnhT/ALAtn/6ISgDpKKKKACiiigAooooAKKKKACvP/Cfi3TtM0u+tLm21h5Y9a1Tc1tol5cRnN/OeJI4mU9exODx1FegVzfgP/kXbr/sNar/6cLigA/4TzSP+fPxB/wCE5qH/AMYo/wCE80j/AJ8/EH/hOah/8YrA0H4qf2p8T9U8J3umCzitpJorW98/cJ3iCl1K4GDtcN1PAqv4S+MVn4hvvEL6laR6VpOkxLcRX0k+7zoS7qHK7RjOzIAz1FC1SfdXDZtdnY6f/hPNI/58/EH/AITmof8Axij/AITzSP8Anz8Qf+E5qH/xiqtt8UvB9zpeoX41fyYNNRZLoXFvLC6K33W2OoZg3bAOc1iaH8YdI1TWfEcs91DFoOlLaCG7MEqyF5sgq6kZGGAH3RR1sHS50v8Awnmkf8+fiD/wnNQ/+MUf8J5pH/Pn4g/8JzUP/jFZXjj4iw+HrW4i0Z4LrU7O8s4Lq3mR8RJcPgHIwCcZIwTjvWnJ8RPC0PiYaDJqgF/54tiPJkMYmIyIzLt2Bz/d3ZoWu39bf5g9Nx3/AAnmkf8APn4g/wDCc1D/AOMUf8J5pH/Pn4g/8JzUP/jFZHxK8ba/4Hs01HTtBtNR03Mcckst6YnWR32hQuw5HI5zVe7+IeqaDcOviuy06yeDSZtQlsraeWeYlZNq7WEe3acjOeQT0wM0rq1/60Vx2d7f1rob/wDwnmkf8+fiD/wnNQ/+MUf8J5pH/Pn4g/8ACc1D/wCMVzmlfFZNe1nwimmwJHY65b3Ml2bhHV7d4olfarHaCPm5bBB7Gui0D4heGPE+ptp+i6l59yIzKqtBJGJUBwXjZlAdQeMqTVWexN1a4v8Awnmkf8+fiD/wnNQ/+MUf8J5pH/Pn4g/8JzUP/jFdJRSGc3/wnmkf8+fiD/wnNQ/+MUf8J5pH/Pn4g/8ACc1D/wCMV0lFAHN/8J5pH/Pn4g/8JzUP/jFH/CeaR/z5+IP/AAnNQ/8AjFdJRQBzf/CeaR/z5+IP/Cc1D/4xR/wnmkf8+fiD/wAJzUP/AIxXSUUAc3/wnmkf8+fiD/wnNQ/+MUf8J5pH/Pn4g/8ACc1D/wCMV0lFAHN/8J5pH/Pn4g/8JzUP/jFH/CeaR/z5+IP/AAnNQ/8AjFdJRQB53Z+NNLX4k6zcG11zZJpNggA0C+LgrNeE5TydwHzDBIweQCdpx0H/AAnmkf8APn4g/wDCc1D/AOMUWP8AyVPXf+wLpv8A6Pvq6SgDm/8AhPNI/wCfPxB/4Tmof/GKP+E80j/nz8Qf+E5qH/xiukooA5v/AITzSP8Anz8Qf+E5qH/xij/hPNI/58/EH/hOah/8YrpKKAOb/wCE80j/AJ8/EH/hOah/8Yo/4TzSP+fPxB/4Tmof/GK6SigDm/8AhPNI/wCfPxB/4Tmof/GKP+E80j/nz8Qf+E5qH/xiukooA5v/AITzSP8Anz8Qf+E5qH/xij/hPNI/58/EH/hOah/8YrpKKAOb/wCE80j/AJ8/EH/hOah/8Yo/4TzSP+fPxB/4Tmof/GK6SigDm/8AhPNI/wCfPxB/4Tmof/GKP+E80j/nz8Qf+E5qH/xiukooA5v/AITzSP8Anz8Qf+E5qH/xij/hPNI/58/EH/hOah/8YrpKKAOb/wCE80j/AJ8/EH/hOah/8Yo/4TzSP+fPxB/4Tmof/GK6SigDm/8AhPNI/wCfPxB/4Tmof/GKP+E80j/nz8Qf+E5qH/xiukooA5v/AITzSP8Anz8Qf+E5qH/xij/hPNI/58/EH/hOah/8YrpKKAOb/wCE80j/AJ8/EH/hOah/8Yo/4TzSP+fPxB/4Tmof/GK6SigDm/8AhPNI/wCfPxB/4Tmof/GKP+E80j/nz8Qf+E5qH/xiukooA5v/AITzSP8Anz8Qf+E5qH/xij/hPNI/58/EH/hOah/8YrpKKAOb/wCE80j/AJ8/EH/hOah/8Yo/4TzSP+fPxB/4Tmof/GK6SigDm/8AhPNI/wCfPxB/4Tmof/GKP+E80j/nz8Qf+E5qH/xiukooA5v/AITzSP8Anz8Qf+E5qH/xij/hPNI/58/EH/hOah/8YrpKKAOb/wCE80j/AJ8/EH/hOah/8Yo/4TzSP+fPxB/4Tmof/GK6SigDm/8AhPNI/wCfPxB/4Tmof/GKP+E80j/nz8Qf+E5qH/xiukooA5v/AITzSP8Anz8Qf+E5qH/xij/hPNI/58/EH/hOah/8YrpKKAOb/wCE80j/AJ8/EH/hOah/8Yo/4TzSP+fPxB/4Tmof/GK6SigDm/8AhPNI/wCfPxB/4Tmof/GKP+E80j/nz8Qf+E5qH/xiukooA5v/AITzSP8Anz8Qf+E5qH/xij/hPNI/58/EH/hOah/8YrpKKAOb/wCE80j/AJ8/EH/hOah/8Yo/4TzSP+fPxB/4Tmof/GK6SigDm/8AhPNI/wCfPxB/4Tmof/GKP+E80j/nz8Qf+E5qH/xiukooA5v/AITzSP8Anz8Qf+E5qH/xij/hPNI/58/EH/hOah/8YrpKKAOb/wCE80j/AJ8/EH/hOah/8Yo+HH/JLPCn/YFs/wD0QldJXN/Dj/klnhT/ALAtn/6ISgDpKKKKACiiigAooooAKKKKACub8B/8i7df9hrVf/ThcV0lc34D/wCRduv+w1qv/pwuKAOB8R/B/XNUtdcm0zUrOz1S6119Qsbje48uGSIRSIx25BK54GRwOak1X4M3dxa+ILLTbu0t7S80ywtLEMWJV7Y5/eDH3WIHIJPJ4r16ihaKy8vwVkNu7u/61v8AmeNa98L/ABX4wl1TWdXk0mw1Z7a2gsrW3leWE+TKJSZGKg/MRgAA4FO1H4Y+LtfsfF91q0+j2+pa8lk9vFbPI0cT27Z2uSucEAcj1PHHPsdFG2wv6+48bvPhh4w1241nUdYuNFhvNVutNnEVvJKUiW2YllJKZJIxg9znpUtt8KNRtPGl3PcWdlqel3Os/wBqxzzatdwtASwYj7On7t2BHDHr39K9foprRpr+tv8AJCeq1/rf/M5P4k+Fb3xl4NbSdMlgina6gmDXDMFwkisegJzgccVS8R+Br/W/HE+rxXFvHaTeHrjSsMW8wSSNkNjGNoHvn2ruaKmyat6/irfkVd3v6fg7/meR6d8NPEt5Z+FoNem022XRNOvNNkNpNI7PHJAsSOuVHPBJGR2qz8OPhxqXhjVbGXWtPsXfTLR7aHUI9Xu53cHA+WCT5IwQOQO+MV6nRVXd7/11/wA2TZWt/X9aBRRRSGFFFFABRRRQAUUUUAFFFFABRRRQBzdj/wAlT13/ALAum/8Ao++rSudesrXxFY6JKX+2X0Ms0IC5UrHt3ZPb7wrNsf8Akqeu/wDYF03/ANH31YPi4kfFjw8QcEaPqWCPpHUt2/H8E3+hSV9PT80ehVT03VrLV47h9OnEy29w9tKQpG2RDhl564PFePeHtO/svwz8ONdt77UH1HU7q3t7ySW9ldZopIXJQoW24G1cYHGPWs6x0awj0+HT7KWa2Fz47ltbpYLp1cwgzAISGyARkZ4Jq7e+4/L53iv/AG4i/u83z/CT/Q9+oryUaXol14u8SaX4k1O6sbTRLeAaXB/acsAggMe5p1O8Fm35G45xtArM8O30niy98P2vj7UrmG1bw+Lu3Bu3tRdS+aymVirKWYRhGxnjeTSWv9eTf6D2/r0/zPXNE1yz8Qae15pxcwrPLAd67Tvjco36qa0a8M+H99BZX/g3bqTPYS3WtotxLN8twfOyhJ6MSAT+dPGs/wBorcQtqs0eh6h41mtru7huSgMPlZWMSA5VGcAZBHXHeha2Xf8AzS/W4PS77N/hd/oeyalq1lpCW7ahOIRdXCW0OVJ3yOcKvHrTrK/W+a5Vbe5h+zzmEmeExiQgA7kz95eeGHHBrxzxXpHhYG00+w1K6vbSz8SWSTQz3cjw2fmD5kSQnPIAJG47SeMZonvZTe3OnXmo3Fpot34yltbydLho8RC3DJF5gOVVnAHBHp3ojr/X+H/5IJaf1/i/yPbaK8L8TSnTLTxhonhrVLo6RbLprxst28ps7iS4AdEkYkjKhW254z712ejaZF4a+L39laXPeCxu9Ea5mhuLuScNMswXzPnYkMQxBx1oWtvO/wCCuD0T8v1t/mdrJq1lFrUGkyTgX1xC88cO05aNCoZs9OCy/nVyvLfGtnBD8XbDUYIQ+op4fvZbUGRhvnjaPywBnBPJ471kaY9hZaT4H1vRddu7vXtWvrWO+3X7ym7WT/j4DxFioCcngDbtHSiOqX9btpflqN6Nr+tk3+eh7PJIkMTySsERFLMxPAA6msbwr4u0rxlox1PQ5ZJLdZGjbzEKMpGDyD6ggj1BFYXxY1C7j8HjRdIQy6nr8w0+2jV9pIYEyHPbEYbntkVgeGJ9R8MfEw2OqaJHomn+IbNUtYY7tZ1+0W6AdQBgtFjjvspJ7/1rv+X4ieiX9abf16Ho2ga7Z+JdDt9W0wubW43bDIu1vlYqePqprRriPg7/AMkm0b/tv/6PkrzDXdY3aefE2lfaklbWVSDVb7XWWd/9ICtElqgK7MZG1sfLyear7fL/AFvYHpFs+hqZPMtvbyTSZ2RqXbHoBmvHNV0dNSHxM1S5vdQW50qZ5LDyb2WNbZ1tEcMqqwGc46g9PrTVms/Ed7r83jTWbizlsdLtZbALfPbrEj24d51VWAYmQsCSD0ArNt8ja7J/erlJe9Z92vuaX6nrOlazaaz4ftdZsi5tLqBbiMsuG2EZGR64qj4R8Y6R430M6toUsj2yytE3mpsZWXGQR9CD+NZnw8/5I3oGOf8AiURf+i68o8KXtz4Y8IWdhp5KSeMNHgSxI/hvAwgcj/tm6P8A9szWslacor0Xrr/kRF3gpP5+mn+f3HtfhTxdpXjPTbi/0KSSW3t7p7VndNuXUAkj1HzDBrcrwqzFlofh3UPD8C3xSbxdLZ29rZ3YtRcBIUPlyTHBVCF5wcnAHeqkOs6jpmmeNLCyujptnbXenJItpqkl4NPilbbOyTMAVO3k44U5x0qVZ7eX42/zKej1/rV/5Ht+u65Z+HdIk1LUi4t43RGKLuOXcIOPqwq3eXIs7Ge6aKaYQxtIY4Iy7vgZwqjkk9gOteNeOtP8O6b4a1rS/DmtXzSTQWUstot29xFFm6QCYOxba59N3IGcd6t+IrBfCus+IdO0a6vY7W58JXV3JHNeSzfv0baJAXYkNhjkjrUt2i36/grhFXdvT8Wv8z1y3mFxbRTBHjEiBwkilWXIzgg9D7VJXjWkaHD4m1nXRq13fvHa6Jp0kEcV7LEqSNbsTJhGGW4GCc96yV1PW/E0vhKx1Ga1ubebw5HeCPUNWmsEup92HYvEpMjKoU7T03E1claTj5/5/wCRMXeKf9dP8z3us3Q9esvEFrcXGnFzHb3Utq+9dp3xttb8MjrWD8MJr2bwWov9TttT8q6mjhuLa4knXy1chUMropkK8ruxzgcms34XajZW2h6xHcXlvE/9vX52ySqp/wBc3Ymj7VvK/wCK/wAx9L+dvz/yPQqK8H12XVtW8ReMbi9vtPtJdKuTHazXmvXNk9hEI1KSJDHGysCTuyc7jxU+u341qa/N75mpXem6VbG6uZ9bfTrS0laHeZIUVd7Fs5yy+g46VHN7vN8yuX3rHuNFeMeGYG8Y6/4Q/t+7vLhH8JrdSql1JH50olQB3KEFjyTz3qgNPNv8Pb/xXHf6h/a9p4gkW3l+2y7Yo/t2wxhN20qQWyCOc/StOW0rPz/9K5SL3V/T8Vc9stL9bu4u4Vt7mI2sojLTQlFk+UNlCfvLzjI7gjtVqvE9a+0X/ii+sHvruGGbxrbQMYJ2jYRmzBZQwOVB56euetGty3HheTxdo2k397Z6TFc6XvkN07tZQzttndHYllGBnOeMk8VC1in3t+KT/Up6Nrtf82v0PbKK8v8ADtppOk/GpdO8O6nNPaf2C8slq189ykTmZAGG5mwWHOM+/evUKfRP+t2v0J6tf1tcKKKKBhRRRQAUUUUAFFFFABRRRQAUUUUAFFFFABRRRQAVzfw4/wCSWeFP+wLZ/wDohK6Sub+HH/JLPCn/AGBbP/0QlAHSUUUUAFFFFABRRRQAUUUUAFc34D/5F26/7DWq/wDpwuK6SvP/AAnaeKpdLvn0rWdHtrQ61qnlxXOkSzSL/p8+cutygPOT90YHHPUgHoFFc39h8b/9DD4f/wDBDP8A/JlH2Hxv/wBDD4f/APBDP/8AJlAHSUVzf2Hxv/0MPh//AMEM/wD8mUfYfG//AEMPh/8A8EM//wAmUAdJRXN/YfG//Qw+H/8AwQz/APyZR9h8b/8AQw+H/wDwQz//ACZQB0lFc39h8b/9DD4f/wDBDP8A/JlH2Hxv/wBDD4f/APBDP/8AJlAHSUVzf2Hxv/0MPh//AMEM/wD8mUfYfG//AEMPh/8A8EM//wAmUAdJRXN/YfG//Qw+H/8AwQz/APyZR9h8b/8AQw+H/wDwQz//ACZQB0lFc39h8b/9DD4f/wDBDP8A/JlH2Hxv/wBDD4f/APBDP/8AJlAHSUVzf2Hxv/0MPh//AMEM/wD8mUfYfG//AEMPh/8A8EM//wAmUAdJRXN/YfG//Qw+H/8AwQz/APyZR9h8b/8AQw+H/wDwQz//ACZQB0lFc39h8b/9DD4f/wDBDP8A/JlH2Hxv/wBDD4f/APBDP/8AJlAHSUVzf2Hxv/0MPh//AMEM/wD8mUfYfG//AEMPh/8A8EM//wAmUAFj/wAlT13/ALAum/8Ao++rcm0+yuLuO6uLSCW4iRo45niVnRWxuUEjIBwMjviuDs7Pxj/wsnWVXXdDFwNJsC8h0WYoy+debQF+1ZBBDZOTnI4GCT0H2Hxv/wBDD4f/APBDP/8AJlAGwukaattaW66darBZMr2sQgXbbsoIBQYwpAJAxjrUS+HtFW9kvF0ewF1JMs7zi1Te0qghXLYyWAZgD1GT61mfYfG//Qw+H/8AwQz/APyZR9h8b/8AQw+H/wDwQz//ACZQBp6l4f0bWZYpdY0iwv5IP9U91bJKY/8AdLA4/Cn6loek6zBHBrGmWd/FEd0cd1bpKqH1AYHFZP2Hxv8A9DD4f/8ABDP/APJlH2Hxv/0MPh//AMEM/wD8mUAaE3hnQbjTRp1xomnS2KyGUWr2kbRBySS2wjGSSTn3qUaDpC6fNYrpVkLO4OZrcW6eXIcAZZcYPAA59BWV9h8b/wDQw+H/APwQz/8AyZR9h8b/APQw+H//AAQz/wDyZQBoDwzoI0Y6QNE07+zCdxsvskfkk5znZjb19ql/sLSPsVxZ/wBl2X2W6bfPB9nTZK2AMsuMMcAdfQVlfYfG/wD0MPh//wAEM/8A8mUfYfG//Qw+H/8AwQz/APyZQBpw+HdFt9LOmW+j2EVgWDm0S1RYtwIIOwDGcgHOOoFWjZWpvxfG2hN2sZiFx5Y8wITkru64yM46VhfYfG//AEMPh/8A8EM//wAmUfYfG/8A0MPh/wD8EM//AMmUAbN3pOnX91bXN9YWtzPaPvtpZoVdoW/vISMqfcVDa+HdFsdTl1Gy0ewt76bPmXUNqiSvnrlwMn86zPsPjf8A6GHw/wD+CGf/AOTKPsPjf/oYfD//AIIZ/wD5MoA3ZrC0uLy3u57WCW5tt3kTPGC8W4Ybax5XI4OOtJdafZ30kD3tpBcPbSebA00QcxPjG5cjg4J5HNYf2Hxv/wBDD4f/APBDP/8AJlH2Hxv/ANDD4f8A/BDP/wDJlAG7Z2Vrp1olrp9tDa28edkMEYRFycnCjgckn8azn8I+G5Lq4uZPD2lPPc/6+VrKMtLzn5jty3IzzVP7D43/AOhh8P8A/ghn/wDkyj7D43/6GHw//wCCGf8A+TKPMDZOlaeY7xDYWxS+JN2vkri4yu07+Pm+UAc544qC88N6HqJtjqGjafdG0AW3M9qj+SB0CZHy/hWb9h8b/wDQw+H/APwQz/8AyZR9h8b/APQw+H//AAQz/wDyZQBvW9nbWlnHaWlvFBbRoI0hiQKiKONoUcAe1V00TSokski0yzRbAk2arboBbEjB8vj5ODjjFZP2Hxv/ANDD4f8A/BDP/wDJlH2Hxv8A9DD4f/8ABDP/APJlAGnc+HtFvLSe1u9HsJ7e5mM88MtqjJLIerspGC3A5PPFLa6Bo9hHIljpNjbJLEIZFhtkQPGM4Q4HKjceOnJ9ay/sPjf/AKGHw/8A+CGf/wCTKPsPjf8A6GHw/wD+CGf/AOTKAL9t4X8P2dhLZWmh6bBaTOJJLeK0jWN2ByGKgYJBAOfarVzpWn3kzy3dhbTySQNbu8sKsWib70ZJHKnuvQ1jfYfG/wD0MPh//wAEM/8A8mUfYfG//Qw+H/8AwQz/APyZQBtQaXp9s8r21jbQtNGsUjRwqpdFGFU4HIAJAHYVWuvDWhX2mwade6Lp1xY24AhtZbRHiiA6bUIwPwrO+w+N/wDoYfD/AP4IZ/8A5Mo+w+N/+hh8P/8Aghn/APkygDoLe2gs7aO3tIY4II12pFEgVUHoAOAKw5/APg66uZLm58J6HNPK5eSWTTYWZ2JySSVyST3qP7D43/6GHw//AOCGf/5Mo+w+N/8AoYfD/wD4IZ//AJMo63DyNK/8OaJql7Feano2n3l1Djyp7i1SR48ejEEj8KLzw5omoajHqF/o2n3V7EAI7ma1R5EA6YYjIrN+w+N/+hh8P/8Aghn/APkyj7D43/6GHw//AOCGf/5MoA17TRtMsJInsdOtLZ4YfIiaGBUMcec7FwOFzzgcZoOi6WbB7E6bZm0kkMr2/kL5bOW3liuME7vmz1zzWR9h8b/9DD4f/wDBDP8A/JlH2Hxv/wBDD4f/APBDP/8AJlAGudF0tpzO2m2ZmM4uTIYF3GYLtEmcffC8buuOKpa9oB1DTL9dIkt9O1G8VA921okvmhTwkin764yuCeAxxiqv2Hxv/wBDD4f/APBDP/8AJlH2Hxv/ANDD4f8A/BDP/wDJlLpYOtzN8IeBJdD8QTa1fJpFtMbX7JDZ6NZfZ4I0L72YgklmYgc8YA7121c39h8b/wDQw+H/APwQz/8AyZR9h8b/APQw+H//AAQz/wDyZVeQHSUVzf2Hxv8A9DD4f/8ABDP/APJlH2Hxv/0MPh//AMEM/wD8mUgOkorm/sPjf/oYfD//AIIZ/wD5Mo+w+N/+hh8P/wDghn/+TKAOkorm/sPjf/oYfD//AIIZ/wD5Mo+w+N/+hh8P/wDghn/+TKAOkorm/sPjf/oYfD//AIIZ/wD5Mo+w+N/+hh8P/wDghn/+TKAOkorm/sPjf/oYfD//AIIZ/wD5Mo+w+N/+hh8P/wDghn/+TKAOkorm/sPjf/oYfD//AIIZ/wD5Mo+w+N/+hh8P/wDghn/+TKAOkorm/sPjf/oYfD//AIIZ/wD5Mo+w+N/+hh8P/wDghn/+TKAOkorm/sPjf/oYfD//AIIZ/wD5Mo+w+N/+hh8P/wDghn/+TKAOkrm/hx/ySzwp/wBgWz/9EJR9h8b/APQw+H//AAQz/wDyZR8OP+SWeFP+wLZ/+iEoA6SiiigAooooAKKKKACiiigArm/Af/Iu3X/Ya1X/ANOFxXSVzfgP/kXbr/sNar/6cLigDyK18ZX/AIQ+Kmv67rOp3cvh99VutNmhlmZo7dliWWEqpOATh149areGvGviHwoPF2u63Pc6hdy6fZX0VlczsYoJLmRtigZ+VVDKCBjpXst/8PPC2qWOoWd/pKT2+pXgvrpGmk/eTjGHyGyvQcDA9uanvfBHhzUJdTkvdLjmbVbeO2vAztiSNPuDGcLjsRg+9KOkUuyt+Gv3v8Buzb83f8dPwPOdc+KfirwjcappGt2ukXuqpa209jPaJJHBmaURbZFZiflJzkEZA7Vjr4r8S+D/ABF8QNW1ZdMudWtxpUbLAJPs7ByVyFJ3A7W6Z616ZB8K/CMOk6hpz6a9zFqSoly91dSzSuqfcAkZiyhe2CMUW3wq8HWmkalpsekloNUjSO9MlzK7T7CSpLMxO4E5yMHp6CmtHf8Ar0/rcW6t/X9eRwfxQ8WXmo3OuaC6Qx2+k6lpDQyR5DuZZNzBjnHYYwBV6L4qeJb/AMaz22laIbrSbbWf7Llji025kkCAhXnM6/ulwTnYecd6620+FHg2ytJreHSCVuJIZZme6mZpXhYtGzMXySCT9ehyKtH4eeHB4kfXIra5gu5ZxcyrBezRwyyjo7RKwRjx3HPenHRq/f8A+R/yf3ild3t2X6/q7nIfHbSinhVddtNS1SzvIZ7e2UWl9JFGUeYBsopAJwx5rSi1ibwb4q/4RGwL3NjBoU+qrcX88k05kWTG0uzcrz06+9dnrugaZ4l0s6drdt9qtTIkhj3snzIwZTlSDwQKzPEvgDw34uv7W81/Tzcz2qNGjLM8e5D1RtpG5T6HIqLNKy7v8V/nqVo3d+X5/wCWh5zpPjTxh4g8b+CruO7sbaz1PRZLy5swkvlsFYb+N3LY+6e3Oc1d0b4n+Jbw+G9avrXS/wCwfEeovYwW0Kyfabflgjs5ba3KHICjFdq/w48LsdDKae8R0EbbAxXMimNcg7Sd2WXIHDZqPTfhl4U0jXE1Wx01knikeWCNrmRoYHf7zRxFiiE+oH0q9L6bXf53/LTyJ1t56flb89fMo/DHxR4k8ZaVLrOtQ6Zb2DySQ20VqsnmlkkZSzFiRg46D0967qs/Q9B03w3pSabott9mtEd3WPez4ZmLMcsSeSSetaFA+rCiiikAUUUUAFFFFABRRRQAUUUUAc1ZsE+KOvMxwBounEn/ALbX1Vrb4q+Bru4jhh8TWO+Vtqb3KBj6ZYAVLH/yUjxH/wBgLT//AEdfVz3gqHT7j9nOyj1pYmsDpUhnEoG0KNxJ59OtS5WUpdv+D/kUldpdz0rrRXjfhFtf1i68H6Rda5qOnQHwwt5Olsyh5XWRVTJZTj5SM9zXslaSjb8fwdv0M07/AIfirmba+IdJvtcvNGtL+GXUbFVa5tlPzxBuQT+Yp0eu6XN4gm0OK9ibU4YBcSWoPzpGSAGPtkj868jV10L4z614nZgkCaxDpl854Ahnto9jH2Eqp/30azrbV7vRvEuu+NoYt99qPhq61OFZBnbH9oRYAR6CNUJHuahPRPy19bXt9xpy6tL5ffb8/wBD3uR1ijaSQ7VUFmJ7AVDp9/a6rp0F/p8y3FrcIJIpU6Op6EV5rfyaz4XufD7SeJbzW49eElvdwXQjK5MDSCWLYoKAFenIwR35rI8HDWPD3hH4eajHr97cRanNBZT2Eqx/Z1ieJyoUBdwZdo+bJJ5zVJateaXzd/8AgEX0TXZv5L+me00V4frXi3WIIJfEGk6v4gvkj1RI1uFtoIdLMRnEZjCv+8fgldy5JbnIFXfEOoeIhD8QNYtPEt9aDw9chrG1iEZiyIY3IcMpLKc9MjGSalO6v/XT/Mq2tvl+f+R7HRXlGp3uveHbrVYD4ivr77R4UutTDTiMeRcRlAGj2qNq/Ofl56Co7aDxG2veFbCXxjqpj8QabLcXxCw5RkWNh5J2fJnfg9TgevNNau39df8A5Fi6J9/+B/met0V4/D4m1Sbw/YaXd69q0l4NVvrQrplokl9fRQOyg7iAkePl3NgZ46ZqnpXirxHeMvhqXU9RsfO8RNp/228EDXkEAt/O8ssmU8wn5Q3JGfUULXby/G3+YPTfz/C/+R7FBqdnc6jdWEFwj3VmEM8Q6xhwSufqAarr4h0l/Eb6At/CdVSHz2tM/OI/7305rjfAdhPpnxK8Z2tzqc2psiWO2e42+aF8t8KxUAEj1x0xXM+Js6Z8Z9U8UR8f2KNNNwR/z7TedFL+A3K3/AKOqXcHs32/4B61Jr2lw+IIdDlvYl1OeEzx2pPztGOrfTg1oV4pbXKXPxg0/wAXTypFFeJqiW8zjKpbW6RorfQsJH+jU7TfE2twa54VvI9S8RXtvq98tvc3Go28EFnco6MwMMX+sXoCDjp1PNEfet5/q2kD0u+36bnr+n6nZ6rbNcadcJcRLK8TOnQOjFWH4EEVJe3lvp1jPe3sqw21vG0ssjdEVRkk/QCvEtNGsaH4D1DxNYa/exG18QzLHp6rH9naNr7Y6sCu4k7mOc8cYrS8Svq/ijw38QL6TxFdadDpLXNlBYRLGITGkILGUFSzF9xwcjHGKly9zmXa/wCC/wA0Ul79vO34v/I9egnjubeOeBw8UqB0YdGUjINPrxu/1i+uITa6XqviGQ6dpNsRbaHBDHHayGHdunmmOGyMHaDwO2TVuy8eahpGn+H/ABL4gu2l0/WPD5kljwAq3kSeblR2LrvGPVRVysm/L/g/5fkRG7S8/wDgf5np51OzGrLpZuEF60BuBB/EYwwUt9MkCrVec+ErzX4PGGjaZr2oTTyz+HnvbqJzwJ2nU9P9kNtHsK9GotZff+Da/QLpvTy/JMKKKKQwooooAKKKKACiiigAooooAKKKKACiiigAooooAKKKKACiiigAooooAKKKKACiiigAooooAKKKKACub+HH/JLPCn/YFs//AEQldJXN/Dj/AJJZ4U/7Atn/AOiEoA6SiiigAooooAKKKKACiiigArm/Af8AyLt1/wBhrVf/AE4XFdJXn/hPxr4V0jS76x1XxLo9jdxa1qnmW9zfxRyJm/nIyrMCMgg/Q0AegUVzf/Cx/BH/AEOXh/8A8GkH/wAVR/wsfwR/0OXh/wD8GkH/AMVQB0lFc3/wsfwR/wBDl4f/APBpB/8AFUf8LH8Ef9Dl4f8A/BpB/wDFUAdJRXN/8LH8Ef8AQ5eH/wDwaQf/ABVH/Cx/BH/Q5eH/APwaQf8AxVAHSUVzf/Cx/BH/AEOXh/8A8GkH/wAVR/wsfwR/0OXh/wD8GkH/AMVQB0lFc3/wsfwR/wBDl4f/APBpB/8AFUf8LH8Ef9Dl4f8A/BpB/wDFUAdJRXN/8LH8Ef8AQ5eH/wDwaQf/ABVH/Cx/BH/Q5eH/APwaQf8AxVAHSUVzf/Cx/BH/AEOXh/8A8GkH/wAVR/wsfwR/0OXh/wD8GkH/AMVQB0lFc3/wsfwR/wBDl4f/APBpB/8AFUf8LH8Ef9Dl4f8A/BpB/wDFUAdJRXN/8LH8Ef8AQ5eH/wDwaQf/ABVH/Cx/BH/Q5eH/APwaQf8AxVAHSUVzf/Cx/BH/AEOXh/8A8GkH/wAVR/wsfwR/0OXh/wD8GkH/AMVQB0lFc3/wsfwR/wBDl4f/APBpB/8AFUf8LH8Ef9Dl4f8A/BpB/wDFUANs1D/FDXlYZVtF04Ef9tr6qNv8IvBVvHHEulTSQREFLafUbmWEYOR+7eQoRnsRWfZ+PvB6/EnWbpvFmhi3k0mwjSU6lDsZlmvCyg7sEgOpI7bh6iug/wCFj+CP+hy8P/8Ag0g/+Ko63DyNb+xdPGuJq4twL6O2NokoZhiIsG27c7eoHOM0/T9LtNLFyLJHT7VcNcS75XfMjYyRuJwOOgwB2FY3/Cx/BH/Q5eH/APwaQf8AxVH/AAsfwR/0OXh//wAGkH/xVAE994L8P6la6xbXuniaHWmV79TK485lAVTw3y4Cr93HSrI8NaOL5bv7DGZVsTpwySV+z5B8vYTtIyB2zWf/AMLH8Ef9Dl4f/wDBpB/8VR/wsfwR/wBDl4f/APBpB/8AFUf1+n5AGlfD7wxot19p0/TNkoiaGMyXEsohRuqxh2IjB9FxVyPwposem6Tp6WWLXR5ElsY/Nf8AcsgKqc5y2AT97NU/+Fj+CP8AocvD/wD4NIP/AIqj/hY/gj/ocvD/AP4NIP8A4qgCrN8LfB8/mCXSWaOSUzeT9rmESSFtxdI9+1GzzlQDWrP4S0S5tNYtZ7LdDrbbr9fNcecdgTqDlflUD5cdKqf8LH8Ef9Dl4f8A/BpB/wDFUf8ACx/BH/Q5eH//AAaQf/FUdLBfW5evvDGkalM8t7aea8lhJpzHzXGbeQgunB77Rz144NSL4e0tL3TbtbXE+lwNb2b+Y37qNgoYYzg5CLycnis3/hY/gj/ocvD/AP4NIP8A4qj/AIWP4I/6HLw//wCDSD/4qj+v6+9/eAXPw+8M3cKRyae6GO5lu45IbqaKRJZTmQiRXDAMeoBx7UyP4c+E4tLu9Pj0eNbW8mW4mTzZMmVQAJA27Kvx95SCTyTk0/8A4WP4I/6HLw//AODSD/4qj/hY/gj/AKHLw/8A+DSD/wCKo8gLPh/wfofhaa7l0Oya3lvNpuJHnklaUrnBYuxJPJ56mpLrwto17Pqk11ZCV9Xtltb0mRsTRKGAXGcDAduRg81S/wCFj+CP+hy8P/8Ag0g/+Ko/4WP4I/6HLw//AODSD/4qh67gtNi1F4P0GFdNWPTkCaXbPaWiF2KxxOoV1IJw2QoHzZNZ1n8M/Cdjc2c9vpknmWMqy2hkvJ5BbsvQRhnIVf8AZGAe4qf/AIWP4I/6HLw//wCDSD/4qj/hY/gj/ocvD/8A4NIP/iqOtw6WLTeD9DbQZtGNjnT57g3MkPnP80hk80tu3Z+/zjOO3Tiqet/Drwr4ivp7vV9KE0tygS42XEsSzgDA3qjAOR2JBI4xTv8AhY/gj/ocvD//AINIP/iqP+Fj+CP+hy8P/wDg0g/+KosFxl18OvC15dG4uNMJdokhkVbmVEmRBtUSIGCyYHHzg8VYn8EeHbrw5Y6Dc6asumae8clrA8jny2Q/L82cnHoSQRweKi/4WP4I/wChy8P/APg0g/8AiqP+Fj+CP+hy8P8A/g0g/wDiqLsDXOj2La6msmD/AE9LY2qzb24iLBiu3OOoBzjNXa5v/hY/gj/ocvD/AP4NIP8A4qj/AIWP4I/6HLw//wCDSD/4qgDpKK5v/hY/gj/ocvD/AP4NIP8A4qj/AIWP4I/6HLw//wCDSD/4qgDpKK5v/hY/gj/ocvD/AP4NIP8A4qj/AIWP4I/6HLw//wCDSD/4qgDpKK5v/hY/gj/ocvD/AP4NIP8A4qj/AIWP4I/6HLw//wCDSD/4qgDpKK5v/hY/gj/ocvD/AP4NIP8A4qj/AIWP4I/6HLw//wCDSD/4qgDpKK5v/hY/gj/ocvD/AP4NIP8A4qj/AIWP4I/6HLw//wCDSD/4qgDpKK5v/hY/gj/ocvD/AP4NIP8A4qj/AIWP4I/6HLw//wCDSD/4qgDpKK5v/hY/gj/ocvD/AP4NIP8A4qj/AIWP4I/6HLw//wCDSD/4qgDpKK5v/hY/gj/ocvD/AP4NIP8A4qj/AIWP4I/6HLw//wCDSD/4qgDpKK5v/hY/gj/ocvD/AP4NIP8A4qj/AIWP4I/6HLw//wCDSD/4qgDpKK5v/hY/gj/ocvD/AP4NIP8A4qj/AIWP4I/6HLw//wCDSD/4qgDpKK5v/hY/gj/ocvD/AP4NIP8A4qj/AIWP4I/6HLw//wCDSD/4qgDpKK5v/hY/gj/ocvD/AP4NIP8A4qj/AIWP4I/6HLw//wCDSD/4qgDpKK5v/hY/gj/ocvD/AP4NIP8A4qj/AIWP4I/6HLw//wCDSD/4qgDpKK5v/hY/gj/ocvD/AP4NIP8A4qj/AIWP4I/6HLw//wCDSD/4qgDpKK5v/hY/gj/ocvD/AP4NIP8A4qj/AIWP4I/6HLw//wCDSD/4qgDpK5v4cf8AJLPCn/YFs/8A0QlH/Cx/BH/Q5eH/APwaQf8AxVHw4/5JZ4U/7Atn/wCiEoA6SiiigAooooAKKKKACiiigArm/Af/ACLt1/2GtV/9OFxXSVzfgP8A5F26/wCw1qv/AKcLigDBvfi9Z2Ooayj+Hdam0/Rbk219qNvHG8cLAAliu/ftAOcgdK6iXxl4agazS51/TYHvo1ktY5rpEaZW+6VUkEg9q8wudB8eWk/jrSNK8LRz2/ia9laHU59QhSKGN0CFjGCXJxnjFZPjP4eeM5dMfw1pGmte2EOlWlvaXNt9kjE0kQG/z3lHmdR8oUgc9etKOyv5flr9w2vefz/PQ9csfHnh6/8AF2o+G4NQhGo6eqmVGkQB8gkheckqAdwxx3rS0nxDouved/YerWOo+Q22X7JcJL5Z9DtJxXleteBtfn8WeMIrHRU8rxDo8cVtqgkjUW8qRMrqwzuy5OMgd8mtD4V+EbzSNabUdU0rWrC7j01LF2vZrMwttYHai26gnGDhm7HFVHV2fb/P/L8SW9L/ANdP839x0tr8QBqXi+80XSdC1C9t9PultL3UI2iEcEpGfulg5Ud2A4rok1zSZI4nTVLJkmnNtEwuEIeUZBjHPLcH5RzxXleu+Ftevvipaar4c8L3GhXkeoI17rUWop9nvbRTzviByzEYGCuR3J61m6Z4O8ZQ6hpGkS+HttjpXit9VfUftkW2WFnYgqmd3Abnv04PZR1ST/rVf5t/IctG7f1o/wDJfeeieEfiRo3infbyXFpYaiLue3jsJLtGmkETld4Xg4OCelap8aeFxK0R8R6TvSMysv26PIQcFj83QYPNeN6X8PPE66pp1hN4Ths2h8TPq8mui5hZjAHYiMhTvyRjjkYx05xc0L4S30Fr4M/tPw5Zmaz1e7udULmFyYmLGMscnf8AwcDOOOBRHVL5fp+rf3BLRv5/r/kvvPULvxnYRXGjtZS2l7p2pmUm/S/hWOJY0LFhlsuODnbnGMmsWP40eCpNCs9VGqRrDd3gsxG0kYkiYsV3uu75U4zu9CDXJ+HPh1r+n6p4aFzpSR2Wn63qk8yebEVjt5lIi+UNyDn7o5HcCsqHwH4it/hva6W3g9JL7RNfS8wJYP8AiYQec7nYc/3Sow2P0xQuny/NX+64Py8//bv8l957TL4q8PwX1rZTa5psd1eKr20DXaB5lb7pUZywPbHWsXxt8R9H8GWE7NcWl5qULRZ00XaJMVd1Xdt5OBuz0rzXV/h5rWoeMNXl1HRdYksNZltbiEabc2Srb7FX93I0ql12EcGM4I6VD4q+Hvia71DxRY23hOHU5NT1aLULXWnuYVaKIFcxjcdwIAIxwME/i46tX/rVf5v7tAeif9d/6+Z7/RRRSAKKKKACiiigAooooAKKKKAObsf+Sp67/wBgXTf/AEffV0lc3Y/8lT13/sC6b/6Pvqpar8QV0/UNUS20S9vrDRsDU76FkC25KhyFUkM+1SGbHQHueKAOxormNc8cWuj3Qijs578GzW6H2XBZi8ixxIAeMuS3JIACkml0vxmk95qFl4gsJNCu9PtlvJluJkeMwNuHmB1OMAqwOcYxR/X3bh/X3nTUVznhrxrp/ijTdT1Gzjmhs9PuXgMk6FDIFRWL7TyAQ3Ge3NY//CyLmSwa8tPC9/cw21nHeXzJLGvkI6bwq7iPMYJyQOnTOaNt/wCrhvsd3RXHah8Qo45SNC0e81pIbGPULp7d0TyYZASmA5BZyATtHYe4pbvx8Wbd4e0O81qCOyjvp54ZEiVInBZQu8je5UE7R7ZPND03/r+rMFrt/X9XR2FFcfd+Pt1tbXOgaFfavby2C6jJLGUiWOFhkcuQGcgH5R6ckcV0ulalb6zo9pqdizNbXkKTxFhglWAIyPoadn/X9eQrot0UUUhhRRRQAUUUUAFFFFABRRRQAUUUUAFFFFABRRRQAUUUUAFFFFABRRRQAUUUUAFFFFABRRRQAUUUUAFFFFABRRRQAUUUUAFFFFABRRRQAUUUUAFFFFABXN/Dj/klnhT/ALAtn/6ISukrm/hx/wAks8Kf9gWz/wDRCUAdJRRRQAUUUUAFFFFABRRRQAVzfgP/AJF26/7DWq/+nC4rpK5vwH/yLt1/2GtV/wDThcUAdJRRRQAUUUUAFFFFABRRRQAUUUUAFFFFABRRRQAUUUUAFFFFABRRRQAUUUUAc3Y/8lT13/sC6b/6Pvq4Pxtp93/aXijTNI/t62l1qMAWdtY+bb38jRBN4n2EQjgBwzDhcjrXeWP/ACVPXf8AsC6b/wCj76ukpNJ7jTa2PNbO51Dwl4f13Wo9IvdUvImg02ztoLeR3lSBAgbCqW2eY0rEgHjp2q/8PfJubjULzUI9Vn1u8VGvbq/0qe0i2jIWKISKBsXJ45JySetd3RVXbd2TZJWR5m9hqK6H4xsFs7mN9Z1828TGJhmGVYkeQHH3Qu/5unFM8Z6zcX2uP4Vm0zXbXw5BEgu7iw0i5na+BH+ojeNCFTHDNnJ+6McmvT6Knol2t+CsV1b9fxdzzKa9/wCEX8Qa7dLo2py2mt6bbHTktdPlf5442TyGUL+7blT8+B154NZFxdatp2haN4FvbDXLXTrXTIE1S/07S7i5a4OwBoInjQhR2Z855wOckeyUU/6/P/P5/eL0/rb/ACPOfE93o9zocWgar4d1uPQZrBHsnsILkOXAKiB4413RsBtwJPlOeeldT4Jh1S38DaPDryBNQjtUWZAoG0gcAheAQMZxxmt2inffz/4P+YrbeQUUUUhhRRRQAUUUUAFFFFABRRRQAUUUUAFFFFABRRRQAUUUUAFFFFABRRRQAUUUUAFFFFABRRRQAUUUUAFFFFABRRRQAUUUUAFFFFABRRRQAUUUUAFFFFABXN/Dj/klnhT/ALAtn/6ISukrm/hx/wAks8Kf9gWz/wDRCUAdJRRRQAUUUUAFFFFABRRRQAVxulWnjHQYLqzs9J0O8t31C8uoppdYmhdlmuZJgGQWrAECTBwx6V2VFAHN/bvG/wD0L3h//wAH0/8A8h0fbvG//QveH/8AwfT/APyHXSUUAc39u8b/APQveH//AAfT/wDyHR9u8b/9C94f/wDB9P8A/IddJRQBzf27xv8A9C94f/8AB9P/APIdH27xv/0L3h//AMH0/wD8h10lFAHN/bvG/wD0L3h//wAH0/8A8h0fbvG//QveH/8AwfT/APyHXSUUAc39u8b/APQveH//AAfT/wDyHR9u8b/9C94f/wDB9P8A/IddJRQBzf27xv8A9C94f/8AB9P/APIdH27xv/0L3h//AMH0/wD8h10lFAHN/bvG/wD0L3h//wAH0/8A8h0fbvG//QveH/8AwfT/APyHXSUUAc39u8b/APQveH//AAfT/wDyHR9u8b/9C94f/wDB9P8A/IddJRQBzf27xv8A9C94f/8AB9P/APIdH27xv/0L3h//AMH0/wD8h10lFAHN/bvG/wD0L3h//wAH0/8A8h0fbvG//QveH/8AwfT/APyHXSUUAc39u8b/APQveH//AAfT/wDyHR9u8b/9C94f/wDB9P8A/IddJRQBxMFt43h8VX2s/wBieH2+12VtaeT/AG3P8nkvO+7d9k5z5+MY42988aX27xv/ANC94f8A/B9P/wDIddJRQBzf27xv/wBC94f/APB9P/8AIdH27xv/ANC94f8A/B9P/wDIddJRQBzf27xv/wBC94f/APB9P/8AIdH27xv/ANC94f8A/B9P/wDIddJRQBzf27xv/wBC94f/APB9P/8AIdH27xv/ANC94f8A/B9P/wDIddJRQBzf27xv/wBC94f/APB9P/8AIdH27xv/ANC94f8A/B9P/wDIddJRQBzf27xv/wBC94f/APB9P/8AIdH27xv/ANC94f8A/B9P/wDIddJRQBzf27xv/wBC94f/APB9P/8AIdH27xv/ANC94f8A/B9P/wDIddJRQBzf27xv/wBC94f/APB9P/8AIdH27xv/ANC94f8A/B9P/wDIddJRQBzf27xv/wBC94f/APB9P/8AIdH27xv/ANC94f8A/B9P/wDIddJRQBzf27xv/wBC94f/APB9P/8AIdH27xv/ANC94f8A/B9P/wDIddJRQBzf27xv/wBC94f/APB9P/8AIdH27xv/ANC94f8A/B9P/wDIddJRQBzf27xv/wBC94f/APB9P/8AIdH27xv/ANC94f8A/B9P/wDIddJRQBzf27xv/wBC94f/APB9P/8AIdH27xv/ANC94f8A/B9P/wDIddJRQBzf27xv/wBC94f/APB9P/8AIdH27xv/ANC94f8A/B9P/wDIddJRQBzf27xv/wBC94f/APB9P/8AIdH27xv/ANC94f8A/B9P/wDIddJRQBzf27xv/wBC94f/APB9P/8AIdH27xv/ANC94f8A/B9P/wDIddJRQBzf27xv/wBC94f/APB9P/8AIdH27xv/ANC94f8A/B9P/wDIddJRQBzf27xv/wBC94f/APB9P/8AIdH27xv/ANC94f8A/B9P/wDIddJRQBzf27xv/wBC94f/APB9P/8AIdH27xv/ANC94f8A/B9P/wDIddJRQBzf27xv/wBC94f/APB9P/8AIdH27xv/ANC94f8A/B9P/wDIddJRQBzf27xv/wBC94f/APB9P/8AIdH27xv/ANC94f8A/B9P/wDIddJRQBzf27xv/wBC94f/APB9P/8AIdH27xv/ANC94f8A/B9P/wDIddJRQBzf27xv/wBC94f/APB9P/8AIdH27xv/ANC94f8A/B9P/wDIddJRQBzf27xv/wBC94f/APB9P/8AIdH27xv/ANC94f8A/B9P/wDIddJRQBzf27xv/wBC94f/APB9P/8AIdH27xv/ANC94f8A/B9P/wDIddJRQBzf27xv/wBC94f/APB9P/8AIdH27xv/ANC94f8A/B9P/wDIddJRQBzf27xv/wBC94f/APB9P/8AIdH27xv/ANC94f8A/B9P/wDIddJRQBzf27xv/wBC94f/APB9P/8AIdXfCelT6D4L0TSLxo3uNP0+C1laIkozJGqkqSAcZHGQK16KACiiigAooooAKKKKACiiigAooooAKKKKACiiigAooooAKKKKACiiigAooooAKKKKACiiigAooooAKKKKACiiigAooooAKKKKACiiigAooooAKKKKACiiigAooooAKKKKACiiigAooooAKKKKACiiigAooooAKKKKACiiigAooooAKKKKACiiigAooooAKKKKACiiigAooooAKKKKACiiigAooooAKKKKACiiigAooooAKKKKACiiigAooooAKKKKACiiigAooooAKKKKACiiigAooooAKKKKACiiigAooooAKKKKACiiigAooooAKKKKACiiigAooooAKKKKACiiigAooooAKKKKACiiigAooooAKKKKACiiigAooooAKKKKACiiigAooooAKKKKACiiigAooooAKKKKACiiigAooooAKKKKACiiigAooooAKKKKACiiigAooooAKKKKACiiigAooooAKKKKACiiigAooooAKKKKACiiigAooooAKKKKACiiigAooooAKKKKACiiigAooooAKKKKACiiigAooooAKKKKACiiigAooooAKKKKACiiigAooooAKKKKACiiigAooooAKKKKACiiigAooooAKKKKACiiigAooooAKKKKACiiigAooooAKKKKACiiigAooooAKKKKACiiigAooooAKKKKACiiigAooooAKKKKACiiigAooooAKKKKACiiigArz/wn4K8K6vpd9far4a0e+u5da1TzLi5sIpJHxfzgZZlJOAAPoK9Arm/Af/Iu3X/Ya1X/ANOFxQAf8K48Ef8AQm+H/wDwVwf/ABNH/CuPBH/Qm+H/APwVwf8AxNdJRQBzf/CuPBH/AEJvh/8A8FcH/wATR/wrjwR/0Jvh/wD8FcH/AMTXSUUAc3/wrjwR/wBCb4f/APBXB/8AE0f8K48Ef9Cb4f8A/BXB/wDE10lFAHN/8K48Ef8AQm+H/wDwVwf/ABNH/CuPBH/Qm+H/APwVwf8AxNdJRQBzf/CuPBH/AEJvh/8A8FcH/wATR/wrjwR/0Jvh/wD8FcH/AMTXSUUAc3/wrjwR/wBCb4f/APBXB/8AE0f8K48Ef9Cb4f8A/BXB/wDE10lFAHN/8K48Ef8AQm+H/wDwVwf/ABNH/CuPBH/Qm+H/APwVwf8AxNdJRQBzf/CuPBH/AEJvh/8A8FcH/wATR/wrjwR/0Jvh/wD8FcH/AMTXSUUAc3/wrjwR/wBCb4f/APBXB/8AE0f8K48Ef9Cb4f8A/BXB/wDE10lFAHN/8K48Ef8AQm+H/wDwVwf/ABNH/CuPBH/Qm+H/APwVwf8AxNdJRQBzf/CuPBH/AEJvh/8A8FcH/wATR/wrjwR/0Jvh/wD8FcH/AMTXSUUAc3/wrjwR/wBCb4f/APBXB/8AE0f8K48Ef9Cb4f8A/BXB/wDE10lFAHN/8K48Ef8AQm+H/wDwVwf/ABNH/CuPBH/Qm+H/APwVwf8AxNdJRQBzf/CuPBH/AEJvh/8A8FcH/wATR/wrjwR/0Jvh/wD8FcH/AMTXSUUAeZ+IU+E/hjWk0rVfCWlG7a3+1FLbw6J9kW4rvbZGcDINbOkeE/htr2kQ6po/hnw1d2M67o549Mhwex6rwQeMHkVz3ia/vPDfxyj10+Htb1Wyfw/9lD6XYPOPN88ttJHA4Hc9xXA3vg7xJZ+HNCk1nTJIdKutWvr+908WD36WnmgeSJIInUsBhuh+UtyO1KLuv672/LX/AIcbWv8AXa/56Htp+HXgYdfB3h8fXS4P/iax9M8P/DnVvEOs6NbeC9FW50ZoluWk0m3CHzE3LtOOeOuQK82/sD+zD4VXxTpeueKPC8FjcxxRDS5leK4aUlN0G4so2fKpY9MdKva5YalZ3Xja4TwpdXtjfXeliOO6tZpEWIQ4dyiENNs4BUMeetP+vxSEepj4deBiu4eDvDxXGc/2XB/8TR/wrvwNkD/hD/D2TyB/ZkHP/jteJaH4M1XUbfStL1HRdRGjnxXNI0QsZrWNbRrcc7CSY4ySRgt3IznNWfG+jajJ48aLRfCk1rLpl/YizurbTbiaWW3TYC4uN+yNFAxsCnoc9zTSvJLvb9P8/wAGJuyb7f5v/L8j0i60f4ZwWmrTW3g7R9Qk0iQRXdtZaHHLKjnBChQnzHDA8dq2k+HvgZ0Rv+EN0Bd4yFbSoQfy2143rnhNrKT4nWOm+GNQ/tO8ZJtPnt7ORkkgZoiyo44JLZOBzwfQ0/xjoV5c6x4pj1PQNWv9fuvso8N3sFvI6QKFX7sg+WLa2S2SKlapei/4Zf13Ka1t5v8A4dnsZ+HXgcYz4O8PjPT/AIlcHP8A47Qfhz4HAyfB3h8D/sFwf/E143r3gXV7qHxdrE+k6lca7a6tZSabPEkpJ4iEskSjgjg5YA9PavRfi/ZXN5p+gmSxu9R0SHVEk1e0tI2kaSAKcZReWUNgkCn0Xy/G3+f4CWt/n+F/8hfFmj/Dvwjp1rc3XgTSb2S9uktLW2s9Jt2kmlfOANwA7Hkmr2qeFPh1onh6fWtX8IaDZ2lvD50xk0mEtGMdCApye2BnmvJl8ByasmnyJ4avhoT+LlaxtJ7aQNb2LJ+8JQ8xxsyg84x+Nek/FbT9a1q00Hw14c08Tx3V6s11JMHW2jhg+cJI6qdoZgoHc4o+z5tr5aJ/hf8AAPteST/N/nYv6B4X+G3ifQ7bWNF8K+H7iyulLRyf2TEpOCQQQUyCCCOak1jwl8N/D+mPqGseF/DtraRsqtK2lQkAswUdEJ5JAryq60Xxbo3hPxHod5oc8i2OuWusW39mRySwvC8oeWOFioLbSPu4zyab4n0XUPFuhfEDVW8NatsuL3T7vT4bq0dJZERdsjInU/LuyOuDzg0aPX0/T/N/cwS1t/XX/gfeemW+gfDm48YXnhtPBeii9s7WO6kZtJtxGUckAA4znI9K2D8OvAy4z4O8PDJwM6XBz/47XkOueBLTxHqPiG9svDGopYReF4jo8T200RWdd5VVXu44+XkjPvUfiHR7u5uLlvGPh7WNWnuPDVrFojRWks32e78r94Dt/wBXJ5mCS2OBS2X9d5fjoPd/d/7b/n+B7Efhz4HGM+DvD/PT/iVwf/E1j+JtA+HPhXSU1DUfBmiyQvcxWwEGk27MHkYKOoHGTzXHeGvBF9P4q1m/8ZWOpS3dlodktvdRhyftH2crK0R+68gIxnnk+9ctaeGdRuPh3qmh2Phy6ltU1PTwmoRabPaT3qCT52kibJ3IDy44568VVvet5r87E392/l+lz2LVvCPgPSIbeSTwJpV0Li5S3AtNEilKFjjcwC8KO57Vof8ACuvA4IB8HeH8noP7Lg/+JryW78G6jouu6ppugaNqEWkReKdKubWOKKRoxHsJmdSc5UHG45wO9YFnp51TxRdf2Ro2rTeIofGcjQ6oiSG3gtllzIpfO1RycrjncOtKPvNLv/8Aa/8AyX4Dl7qb/r7X+X4nvX/CuPBH/Qm+H/8AwVwf/E0f8K48Ef8AQm+H/wDwVwf/ABNdJRQBzf8AwrjwR/0Jvh//AMFcH/xNH/CuPBH/AEJvh/8A8FcH/wATXSUUAc3/AMK48Ef9Cb4f/wDBXB/8TR/wrjwR/wBCb4f/APBXB/8AE10lFAHN/wDCuPBH/Qm+H/8AwVwf/E0f8K48Ef8AQm+H/wDwVwf/ABNdJRQBzf8AwrjwR/0Jvh//AMFcH/xNH/CuPBH/AEJvh/8A8FcH/wATXSUUAc3/AMK48Ef9Cb4f/wDBXB/8TR/wrjwR/wBCb4f/APBXB/8AE10lFAHN/wDCuPBH/Qm+H/8AwVwf/E0f8K48Ef8AQm+H/wDwVwf/ABNdJRQBzf8AwrjwR/0Jvh//AMFcH/xNH/CuPBH/AEJvh/8A8FcH/wATXSUUAc3/AMK48Ef9Cb4f/wDBXB/8TR/wrjwR/wBCb4f/APBXB/8AE10lFAHN/wDCuPBH/Qm+H/8AwVwf/E0f8K48Ef8AQm+H/wDwVwf/ABNdJRQBzf8AwrjwR/0Jvh//AMFcH/xNH/CuPBH/AEJvh/8A8FcH/wATXSUUAc3/AMK48Ef9Cb4f/wDBXB/8TR/wrjwR/wBCb4f/APBXB/8AE10lFAHN/wDCuPBH/Qm+H/8AwVwf/E0f8K48Ef8AQm+H/wDwVwf/ABNdJRQBzf8AwrjwR/0Jvh//AMFcH/xNH/CuPBH/AEJvh/8A8FcH/wATXSUUAc3/AMK48Ef9Cb4f/wDBXB/8TR8OP+SWeFP+wLZ/+iErpK5v4cf8ks8Kf9gWz/8ARCUAdJRRRQAUUUUAFFFFABRRRQAVzfgP/kXbr/sNar/6cLiukrm/Af8AyLt1/wBhrVf/AE4XFAHSUUUUAFFFFABSMwVSzEAAZJPalrmviP8A8kw8S/8AYMuP/RZpSdlcqK5pJHS1FHdQTTTQwzxySwELKiuC0ZIyAw7ZBzzXK+KdVvdL8H6Sum3P2OW+urSyN3sVvs6yEAuAwK5xwMgjJFcO+rav4f1fxDa6fqM+pXd5r9nYveosCzKptgcfNiLzPlCZIAyemeKq2rXy/Ff5kJ3in5X/AD/yPZ6jW5ge5kt0mjaeJVaSIMCyBs7SR1AO049cH0rzdNT8XC40jQtWvLnSm1HUZ40v3Fs90YEh8xVO0NEHLZGdvRc4yaZPqR0XXPEkkur3c87WWlW0d5aQwtPNI01wgCqw8oMScZICjrxUvQuKvf8Arqen0V5NB4o8TyaLPZDUbi2vY/E0Oli4u4reSZIZERiGEY8ssN5wR6DPeptR1fxm/iPV9L0CXULuTRUt0hYmyVLlmQOXuN4VsHJX92FAwe9Na/15J/qif6/Fr9D1Ooo7mCaaaGGeOSWAhZUVwWjJGQGHbIIPPauM+JUF3cW/hv7NqdzpzNrdsjNbiM8sTg/OrdOw6HPINczqs2s6Lq3jjWtM1uaH+zbizdrfyImW6PkRBvMJXOCD/BtwefYEdf69P8wfT0/z/wAj16ivMtV8V6lH4ztjpV9qclj/AG3FpdyskdqtopYDci8eeXGQd33e3StT4YWt3DYay93q91fj+2LyMJOsQCFZmyw2Ipy3UgnA7AUR95X/AK6f5oJaf16/5HcMwVSzEBQMkk9Kgt9Qsrt0S1u4JmeFZ1EcoYtG33XGDypxwehrzK28V6ld+KLNbe91O60fVkv0U3sdqkTeUjEGER/vQAVIzJ1FWPhz/wAhvSP+xL03+b0o6u39bS/yKkrRb/rdf5nptFeWa3rnidbjX76x1420Wma3bafb2n2SJ42SUQBi5I3NgykjDL05z2tP4g1LS01/SdQ1rUrua21K1tbK5t7e2+1SGaNWEYDKsQ5LfMwGB9KFqr/1rb/NE9bf1pf/ACPSaK8Z+3a7r0Ohx3utahZT2fiuWw8zbamUqIHZS+1GjLjJXj5TnkZwRrjXfGOp+KdTGkJePDpmqpZ+TutFtmhGwu0m4ibeVYsCuB93APNOOv8AXp/mgen9ev8AkemySxwpvmdY1yBuY4GScD9adXlV9qes3XhjXNWv9TF1FBrn2G3sZLSFoUjW9RAxBQlnAyAc4HBxkZqxN4s1IeOrD+zr3U59MuNZk0yZbiO1W1yqPuWMD9/uVl+8eDg9sUR1t5/rb/NA9L+X6X/yPR4r21ntPtUFzDJb4J85JAU4OD8w44IP5VKGDKGUggjII715xoc7W37P97Oixs0VlfuFljV1JEkp5VgQR7EYNZl74g8Rxadr2pWetG1t9BWyaCxitYfLlDwxM6uSpO07jgKVIz1PAAtW12sD0t8/wt/met1FHcwTTTQwzxySwELKiuC0ZIyAw7ZBB57VxvxLgup4PDn2TVLnTy2t2yFrdYzncTg/OrdOw6c8g1zGqzazoureONa0zW5of7NuLN2t/IiZbo+REG8wlc4IP8G3B59gR1/r0/zB6fd/n/keuJLHIzrG6sUO1wpztOM4Pp1FOrzae816ZvEq+HwElg15EmFlHBHcyQfZombYZF2NJk9XycDGeBW5P4mtR8MY9ch1O/MUkMYjuxbx/aWdnCD5CBHvLHHI2g89KPs39PxVw62/rex1tFeVWeteMbux1mwtZtQe403U4UcSmz+3G3aEO6KVHkFwTkZHTI61cXxPfNeaJqx1XUn8NXMVvElxFDb7zcPIVIukKbgGyqgx4AOenBprW3y/FX/4HqHS/wDX9foek0V5fo2v+M9a1hr6zjufscerT2k8UrWq2sUCOyevn+YMK3PByeMYpLTVfF0mj3umG91BvEtu1vLdQOLQAwszbmtHCbDuCttEuSNvOOtStVcb0bR6jRXmseuap4hvtDsdD8RX1pa3Wl3dxNcy2kH2lpIpUjAYFNikMWBwuDg47Gs2w8YeJrLSNI1q91I6k2q6Fd3zWJt40jjlhjV02bRu5yQcsc54x0oukm/66/5MEm3b+un+Z65RXkq+IfG1l4Q1PWpZbo2x0R7uK5vfsbBLgAFTEsJ5jIJ4fOMDnk1F4xuNet9E8VaPeeIbq6QaCmopN5EMbRsXdXjXan3DtHXLD+93qmmnb+uv+Qo62/rt/mj12SRIY2kmdY0UZZmOAB6k07r0rkPFrXGlfCPVnkuv7Rng06R/OvIIn8w7SRuQKEI7Y249aqwarqtl4/hg1m7u4tOvpBDpiWyQNayEQ7mjk+XzVkyrsDnaQAPaj7VhX91S/rodzRXn3i/U9f8A+Ej1e10rW5NNt9O0EaiixW8TmSYPKMMXU/KQgyBz6Ec5zW1rxfEJVtdYa9u7vw+usQxPbRKsUqyIWiQBc7GVtvzFmHXNSmmr/wBdf8mU1rb+un+aPU6K5PwV4lm8XXGp6tazbtF3RQ2K7R8zBA0r56n5n246DYa5mx8Sa9Pa6Nr7a47f2prTafJpHkReXDGZHTCnb5nmIF3EliDg8Ypu6aX9a7CWquepUV40nxT1jTbi1k1aVHtdISWz10iJQWusyiIjA4z5AOBgfvl9quXOq+MjaasLjxDJZ3Oj+H7fUXSK0hPmXDCVmVtyn5PkAwMH3HOVdW5un/D/AKK/zQ7O/L1/4Zfmz1mqGlaJp2iJcppVqtut3cvdThSTvlf7zcnvj6VheJdfvtN8F2HiG3kWKOGS2uL9AgIa3YgSjnpgNuyOflrlPD3j7XtZ1y20mSVUnvr/AO325WJf+QUUZlHTqSoXd1+brVNWbT6afl/w/wAn2JTvFP5/n/XzR6vUU1zBbtEtxPHE0z+XEHcLvbBO0Z6nAJwPSvNNE8Sa7ND4V1yfW2ul8QXzW8+kmGIRwJtkPyEKH3R7BuLMc88DisTUtX8RP4R8PeJrm5m1u+fWna305Io4o18tLlVC7V3FiF5yTnsBS2372/L/ADKtv6X/AD/yPa6K5a11y4g+F8uvRX6a3cJp8t4kyRCNZWClgoUdACNuDzxyc5rkLfW/GkPhu61e5v57azOlC8S81AWbr54KsFjWHJ8t1JXDZYcYOTQ9G0+n/B/yEtUmuv8AwP8AM9YoryvTfFuveIo9Fhk1J9Gl1nUrmKdIoYzLpwhjJFuPMQjzGI3EsD1OOMVJrOs+K5fEU2haBe317JY6XHcR3VqLJftMrPIu6US4GwbACIwOSeRwKHpv/Wl/6/yBa6/1vY9QoryrWvEXiTzfE0reIF0mXQdLt71bKKGF1eVoizq7MCShZdvykHnr2rU8HJf3PxG8R3lzql3saGzkaxdYtil4icfc3DbyBg89807avy/r9BX0X9dv8z0GopbmCCWGKaeOOSdikSO4BkYAkhR3OATx2BrzLxp4z8R6HreqaLpciSX0hhvtNDRKf9GWN2nTpzzAwyeR5o9qp3Orah401jQNRsNUa0sbnX5otNnihRmSFLORXZdwIJZxJgsCBxxSWu39bf18mN6b/wBaXPXqK8k/4SzxNIdN0OK5vLq4fUdQtZby0W2juJkt2AQfvQIgxDZOBztOAK1LK98YXuueH9G1bUpNKmksbq4vfIigeSXypkWPnDIpKsCwXI5IGOCBa28/8rg9L+X+dj0eivMfCeveMde1Sz1Pyrs6fNfTw3UUrWot4YlZ1UIAfO8wFVzuznLcDitXxHa3c3xb8LmDWLu0iazuyYYliKttMRI+ZCfmBwecjHGOci1t5/5XB6No7S2uYLyBZ7SeOeJiQskThlODg8j3BFS15F4HudY0ex8KONXknsdVv7y2fT2gjEcajz5FZWC7926PkliDnoMU7Q/E/jXUtJTxAFuhZz291JcCc2nkQbUcx+UFPm7lZQpD5zzkCk3ZN9h21set013SKNnkZURRlmY4AHqTXlkmteKYtP8AClsNT1C/uvEED3k8tpHaRSR7YkYRReaoQD5iTu3N8px7dFc3etxfB/VLjxFDENUh0+6LrKkUgfaH2F1XKElQpZRlckjpTn7ibfQUPeat1OyDBlDKQQRkEd6WvPrTV9WsvFOl/wBrXV1BpF6lvBYLZxwG3Mphy0cw2+YrEglSpC4AHHOdDX73Urzx1a6BZ6zLotv/AGbJfPcQRxM8rLIqhf3qsAqg5OBnkcim1Z29fw1/IUXdX9PxOtiuYJ2lWCaORoX8uUIwJjbAO046HBBwexFSV5HPrmqaZc6ja6PJNJLqnin7O9za+SJCv2CF/k8392GYqAM56nAJxWjNrHiWDS7PTNVuNYt9XnnuTbJZCxM81vGFIeVnzCu3cAduCeOOtTf3b/1sn+pclaVv66/5HpdFeY+F/EHiHxVqHhuKXWHsoZ9EGoXYt4Ii08iyhMZZWCqe4H4EV6dVNW/H8HYi/wDXqrhRRRSGFFFFABXN/Dj/AJJZ4U/7Atn/AOiErpK5v4cf8ks8Kf8AYFs//RCUAdJRRRQAUUUUAFFFFABRRRQAVzfgP/kXbr/sNar/AOnC4rpK5vwH/wAi7df9hrVf/ThcUAdJRRRQAUUUUAFR3NtBeWsltdwxzwSqUkilQMrqeCCDwQfSpKKAK17ptjqWnSWGoWkFzZyLse3ljDIw9Cp4qknhTw/FpUumR6Hp6WMwHm2y2qBJMdNwxgkeprWooAxj4P8ADjaN/ZLaFp50/wAzzfsxtl2b/wC/jH3vfrUz+GtDewksW0ewNrLEkLw/Zk2siElFIx0UkkDtk4rTooAzrXw9o1jbJb2ek2MEKSrOscduigSKAFfAH3gAPm68VHqXhfQdZvYrzVtGsb25iACSz26uwAOQMkdM84rVooAqanpWn61YPZavZQXtq5BaGeMOpIOQcH0NN/sXS/s88H9m2nk3AUTR+Qu2UKAF3DHOAABnoAKs3EjQ2ssqKrMiFgrNtBIHQnt9a4C0+K0Bg1tr2CwnbS7RLpTpGoi7jl3sUEe8om19wA6Ecg5o8kHmde3hjQW1dtVbRrBtQZlc3TWyGTcuMNuxnIwOevA9Kns9F0zT9Qu76x0+2t7q9Ia5miiCtMR0LEda4TxT4v1bw9N4f1DxRbx6Tbi/kE0VjeNcLcJ9mlKocomTv2jBGM4Oa1Lzxlr0N7b6da+GYX1GTTW1GWKbUgiQqr7dhYRnLdOgxnvgZKvb+vK/5Bv/AF52N+28LaBZX8l7aaLp8N1KzM86WyByWBDHOM85OfXJ9auW2m2Nm6PaWVvAyQrbo0USqViX7qDA4UZ4HQVx8fxAvtWihbwvocd839lw6ncrdXnkeWkoJSNSEbc52t1wOBzzVS8+LtnbaHd6kmlzS+Xa2d3awCQB7qO4zyBjgqVfI5+7709tPl+a/wAw3/r0/wA0dy+lafIsyyWFqyzyrPKGhU+ZIuNrtxyw2rgnkbR6VHe6DpOow3MV/plpcR3bK1wskCt5pXAUtxyRgYJ6Yrjtb8YSale2kWkNJFbW+u6fbNdRy4FwJF3umB2CsmeTnPtTNM+LVlqOu29ssVn9jubmW3jaK+33KGMMd8kOz5UOw4O4kZXI54Omv9aJ/qg81/W/+R1knhPw9LpJ0uTQ9PNgZBIbb7Mgj3jADbcYzgDnrxS3HhXQLrVYtTudFsJb6LbsuHtlLrt+7zjt29O1cOnjXWtR17wtqU+mtYaPfRXV1EsF4ZXuIlgLKJI9qgNjDAAsOeoIqa2+K8os7y+1LSrOOyt9JTVBJaal57bZG2pGw8tQrEjn5sD35wbP+vP/ACYbr+v66o706Vp7W0lu1hamCSXzniMK7Xk3bt5GMFtwznrnmqyeGNBTV31RNGsBqDv5jXX2ZPMLdN27Gc+/WuNi+K4On6nKdPtLy4sRbOqaZqInilE0vlhfMKLtdT1BGOnPPEl18Rdb0/8AtX7f4Zt0GiyRHUHj1LcoikClTF+7BdgCSQwUccE5ppagdyum2Kac1gllbrZurK1sIlEbBs7gVxjByc+uTTG0fTGhuIW060MVyFE6GBdsu0ALuGPmwAAM9ABXFX3xWtLTxLPp8cNnJBa38dhMGvtt0zsVBZINh3IpYZJYHhiBxzYj+IN++ooW0GNNLbWH0c3RvcyGUOUVxHsxsJABywIz0IGSlrt1/wCB/mgem/T/AIP+R12p6Vp+tWD2Wr2UF7auQWhnjDqSDkHB9DTf7F0v7PPB/Ztp5NwFE0fkLtlCgBdwxzgAAZ6ACuf8A65r2uWupya/bWkQt9RuLeF4LgucJKy7SPLXhQAA2SW6kCq4+IHl+OoPD1xFpbfaZpYE+y6mJriJkRnBli2DYCFP8RIyM9aNvmrh38jor/w1omqW8sOo6RZXMc0onkWW3Vt8gXbvPHLbQBnrjip5NI06bSDpUthbPp5jEX2QxL5WwdF24xj2rjdJ+JVzdrpd5quhpYaZqttPPbTLeebIpiQuwdNgABUMQQxPHIGag0zxPr2s+N/C8l7p40zT9QsLq5ijivTKJVxGU8xdq4cA5wNw+br1otry/wBdf8g21OqbwX4YfTTYN4f037IXEhh+yptLgYDdOuCRnryak/4RPw99utbz+w9PFzZoqW8otkDQqv3Qpxxjt6dqwvGfj/8A4Q+9RZotLkgCozxy6mIrpwzbSY4dh3Y68sM9Kh1P4hX9hdaxKmgpJpWiXkdte3TXu2QhljJaOPYd20SAkFl9iewtXp/XT9Qem50j+FPD8msHVpNEsG1Bjk3JtkMhOMZzjrjjPXHFQJ4H8LR6fNYx+HdMW1mcSSQraoFZh904x1GePTtWDc/EK+t7m+nOgp/Y+naoum3N2b395uZlUOkezlQXXOWB9M4p5+IN2mn6zqc2iKun6bdyWMRF3mW6uBMIlCpswqkkfMWyDngjmktVp/W3+aB76/1v/kzrLbSNNshALPT7WAW0Rgg8uFV8qMkEouBwpIHA44FLFpWnQLbCCwtYxaIY7cJCo8lCACqcfKDgcD0rjr74hajoiajBrmgRrqNpFbzxQWd95qXEc0wiGHZEwyt1BGOnPPCXnxE1HSl1C11Tw/GNUtJrNEtra+3pMlzJsQiRkXBDAggjt15p7hsdJaeDvDVgLkWWgabALtDHOqWqASoTkqRjlSe3Sr82l2Fy0rXFjbytND9nlLxKS8XPyHjleTx05NctF4jv7bV9bW/ihiu7HTra4kgk1ECzQu0oyJDEGXhMsxB7YHHODdfEvV9Q0R5dBttLku7XWbSxneDUTNbypKyY2SeVk53bT8oK8kZ6Ubu39auwba/1tc9Dg0TS7XRv7It9OtU03YU+yCFfKKnqNuMEHJqKLw3okOtNrEOk2SakwwbtYFEh4x97Gegx9K43VPivFpetXFjPa2ObCWGC8j/tHE5kcKW8mPy/3irvHJK5wcDiul8UeI7vQ5tKtdN01dQu9UujbRI9x5KIRGz7mbaxwAhzgE+gPSj+8HkbEun2U00ss1pBJJND5ErvEpMkfPyE45Xk8Hjk03+zrWNlktra3hnjg+zxSrCMxp2Uf7OQDt6cVwtz8V4bXX5NPktrErbXsVjcoNQ/0jzW2hmji2fOil8ZJUkAnHHOXp/i6+0KTxNr/iGJGf8Atj+zLRW1eTyFPyAIUZAkaqPmMgBY5bj1W/p/w3/yQ9v6/rseheFvD8HhbwzZaPav5iWyENJtC+Y5JZmwOmWJOPenQ+GNCttbfWLfR7GLUpMl7tLdRKSep3Yzk9z3rkYPihLd2CfYdKtr6+fVV0xVtb/dbuzRGRZFlKAlcDB+XIweDgZZqXxXj0vWLixubXT99hLDBexjUf3xkcKW8iMx5kVd45JQnBwOKrVy8/8Ahv8ANE7L+v66M7WXQNHnS5SfSbGRbuRZrhXtkImdcbWfI+ZhgYJ5GBU8mnWMz3DzWdvI11EIZ2aJSZoxnCNx8y/M3B45PrXHy/EG+j1KcjQk/sq11hNJmuje/vN7sqq6x7OVy65ywPPGas2vja7uLbUNYbSYk8O2LXKtefayZ28jcGYQ7MbSyMB8+e+Km65b9P8AgL9Gitb26/8AD/5M6qWytZ7FrKe2hktHj8poHjBjZMY2lTxjHGKih0nTre6iubewtYp4YBbRypCqskQORGCBkLwPl6Vyng/4iJ4o1gae0FkryWf2yNrK++0hF3AFJfkXY43DgZB554qqvjfWNM1PxjPrdjbvpeiyoIPIuCZSWiQogUxgHcXzkt8pOOQM1Tunr6/oSrPRHWWnhjQrDV5dVstHsbfUJs+ZdRW6rI2euWAzz39asppWnxwwRR2FqsdtIZYEWFQsT8/Mox8p+ZuRzyfWsXRPEupXPiKTQ/EGkw6feGzF7Cba7NxG8e7awJKIQykjIwQc8GuT17xP4nOm/ESJ44La30mFhZ3FtdnzoiYFdcDyx13bs7vlJwMgZpbL5X+7/glJXdv61PSraxtLKF4bO1ht4ndnZIowqszHLMQOpJOSe9Zlp4M8M2Mkj2fh/TIWkZWYpaIMkMGHbswBHuM1zc/xGudDtdS/4SfR47OaysoLyFYb0SiZZXMaq7FVCMHAB+8ADnJrU8HeNF8U3WoWjR2fnWIjYy2F59pgkVwcYcop3AqQRj0PenbXQm91qa9/4a0PVIJ4dR0exuY7mUTTLLbq3mSAYDtxywAxnriobzwf4b1C3tYL7QdOnhs02W8clqhWJf7qjHA9ulc8nxOtl1HSrG5094p7zULixuAJci0MT7AzHHIZmjA6ffFJafEHUtbaGHw3oMNzPJbPekXV8YUFv5rRxEMI2JaTYWAwAB1NTpa/9bf5FbPX+tbfmah8AaHceJrzWNSsLO+eYQeRHPaq32bylIG0n1yD26Ctk6Lpja0urtp9sdSWPyhd+UPNCf3d3XH+NcvYeP7nXL/R7bQdGWUajYDUJJLq68oW8YfY6kBGLMDwMcH1HWqnwx8XXGv6etgFlvWsjKL+/mm5jkMreXEAQS52YJPAAwOTwK1/P/J/5E/8D/gHcS6dZTX0d7NZ28l1FG0cc7xKZERvvKGxkA45HemQaPplrBaw2unWkMVkxa1SOBVWAkEEoAPlJDEcep9a5jXPHF/YXusjSdEjv7TQY1k1GWS88l+U8wrEmxg5CEHkqOcVS8OX2pa58VNYuZ1J060tbY2mzUpQqrIjMCYAoRiwOSWJK4GM0lrsN6HW3vhvRNSs2tL/AEiyuLdpjO0clupUynkvjH3jk89ams9G0zT1gFhp1rbfZo2ig8qFV8pGILKuBwCQCQOpFcpqfxAvLJ9UvbbRY7jRNHuxaXt213sm3fLvaOLYQyrvGcspODgcc42veJ/E5034iRPHBbW+kwsLO4trs+dETArrgeWOu7dnd8pOBkDNK+l12v8Al/mO13b5HeR+F9Bh1ptYi0axTUmYsbtbdRIWIwW3YzkjjPXFWNR0XTNWktpNU0+2u3tJBLbtPEHMT/3lJ6GuOn+I1zodrqX/AAk+jx2c1lZQXkKw3olEyyuY1V2KqEYOAD94AHOTUEXxVL6dfPHptrf3drc2sCpp2oedDN9ofYuJSi4YHOQV9Oeafkv61t+ZKd1f+trndR6Vp8SW6RWFqi2rmS3VYVAhY5BZePlJ3Nkj1PrVOPwl4dh1KbUItD09LycMJZxbJufcMNk47jr696x4PGOo/wDCYQeHr/T9Ns7kwpLL5mosDLu3Z+zgxDzduBuztIz07nr6LdRmdf8Ah/R9U02LT9R0u0ubOHb5UEsKskeBgbRj5cDgYqaHSdOttJ/su3sbaPT/ACzH9lWJRFsPVduMYOTkd81booAy18M6EmsLqyaPYrqCKFW6FuokUAbRhsZ6cfTin6v4e0bX1iXXNLs9QWFt0QuoFk2HvjI4z+taNFAGddeH9HvbGeyu9Kspra4cSTQvApWRwAAxGOSAqgHrwPSqz+DvDUmnwWL6DpzWls5khhNqhVGPVgMdT39e9bVFAFS20rT7J42s7C2t2ii8mMxQqpSPOdgwOFzzjpmrdFFABRRRQAUUUUAFc38OP+SWeFP+wLZ/+iErpK5v4cf8ks8Kf9gWz/8ARCUAdJRRRQAUUUUAFFFFABRRRQAVzfgP/kXbr/sNar/6cLiukrm/Af8AyLt1/wBhrVf/AE4XFAHSUUUUAFFFFABRRRQAUUUUAFFFFABRRRQBV1TToNX0i70283fZ7yF4JdhwdrKQcHscGuYi+G1g1reQ6pqeoakbywTTmaYxp5cSElNgRFAYE5zzzXY0Uf1/X3sP6/r7jlT4EgvUtR4h1a/1s20rSKLsRBWDRNEUKoijG1yT3J79qsaX4MstLuIJkvL65eCwbTkNxIrEQl9wBO0EkcAE9hzk810VFD1/r5B/X6nG/wDCt7W2gto9H1rVNM8rT49NmeBoi1zAmdu7chAYbm+ZQDyatS/DzQZNU0W9Ecsf9i2rWtvArjy3jK7QHBGW2gnHI5J611FFD13/AK3/AM394f1/X3I5TSvh3o+j+H9P0e1mvGgsL9b9JJJFaR5FbIDHbyMYHQHAHNWNJ8If2NcNHZazfjSjJJINLZYWiUyEll3FN+3LEgbuPpxXR0Ub7/1/Vg/r+vvOCf4Zra6ei2Wr392+n2lxBpVrdyIIIBJEyBG2IGYDIGSSwAHPXOT4V8A6ilpcaNqltc2mh3On+ReQ3E1u8ktx8u2SNolBAADcsc8rxxXqdFHVvv8A8H/MP6/L/I5p/CEl7o82na3r+panFJJC6tKsCNH5ThxgpGM5KjJOfbFSaj4L07U01xbia6Ua4sS3Ox1GzyxhdmV46c5zXQ0UBsc7F4Saz1y4vtL1u/sYLy4FzdWUSwtFLJgAnLoWXcFGcEe2DSjwXpwtVt/Outi6sdXB3rnzvMMm37v3cnp1x3roaKFpb+u3+SDf+v67mNoXh1dBu9Re2v7mW2vrl7oWsoTZBI7FnKkKGIJOcEnHasux+HtnY6tb3a6pqDwWl7Ne21mxjEcckwcPkhNzD942MscV1tFFv8g3uc1b+BNJgsNFsy9zLBo8csUKyOp8xZIyjB8Lzwx6YqDQ/AMGjalp94+s6pfnS7d7WyiuXj2QxMANuFQFiAo+Ykniusop31uHSxyWufD6013UdQuJNU1C1i1OKKO9t7cx7ZvLzsO5kLLjPIBAP55zI/h7calrviGXV9RvYNM1DU47j7BDJGYrpEjixuypZfmQggEZAGa9AopLR3/ro/0B6qx5/p/w9uLnVNXm1nUb2OwudaN+unRyRmGcLsaNm+UuPmXJUMM7Rkeu/L4K0ybw7qWjSPcm31C6ku3cOA8cryeZuQgcbWwRkHpzmuhoo2Vvl+X+SDd3+f5/5s8+8RfD26u/D2oiPU73VtYvmtYmu7h4onjhinV9qbFVVwNzZxkn8BWpF8PrRvPl1PVNQ1G8uLm2uJLuYxq5Fu++JAFQKFBznAydx5rraKFoBzet+CNO1yTVJbie6il1KG3ido2X935DtJGygqedzc5yDgcVUk+HttNYahHPrGoy3l/dQXj3zeVvSaHb5bKoQIANg4IIrr6KA/r9DmYvB0trq0t9YeIdStWu2jkvo0SArcyIoXed0Z2FgoB24HHAHWtXUdFttT1HS724eVZNMnaeEIQAzNG0ZDZHIw56Y5xWjRQBzsXhNrTXLm/0vW7+xgvLgXN1ZRLC0UsmACcuhZdwUZwR7YNNufA+nXGnXtqtxdwvdaj/AGmtxG6+Zb3AKkMmVxgbRwQepzmukoo2/r+uyD+v6+8wB4WNwlgdX1i+1KewvRexSyLDH8wRkC4RANuGJ9c9+1Mfwm0WvXWpaXrd/pq30iS3ltAsLRzOqhd3zoxUlVAO0jOOx5roqKP6/r7kBz0ngvTpbS6t2mutl1qqaq5DrkSq6OAPl+7mMcdevNV7fwJbW8t7CNUv20i8ad5NJJj8gNNnzOQm/BLMQu7AJz6V1NFKytb+ui/RDvrf+v61MTQPD9zoarFLr2oajbRRCKCC6SHEajGPmSNWY4GMkn8+ap33gWy1G+1qS4vbv7JrcSpd2SlAm9VCrKrbd6sAo74yM4rp6Kb13EtNjA0TwqNK1SXU77Vr3V794BbLcXgjBjiB3bQI0Ucnkkgk4FVtQ8C2uo3WutJqN7Ha69AIry1j8vbuCBBIrFCwbaAMZx7V1FFALTY53WPBGl63cXc17Jchrqyjsz5cgXYschkR144cMc56cDitDR9NvNOjkF/rV5qzORta5jhTYB6CNF6985/CtKigDjtT+GOh6pea7dTS3sUutrGJmilVfIZCpDxfL8rEohJOclRU914DtzJZy6Lqt/os1rYrp/mWflnzLdfuqwkRhkHJDAAjJrqqKVtLf1/Wodb/ANf1ojC0nwhpmiX1nc6f50f2PT/7OijLgr5e4Nk8ZLZHXPrxVfRPAumeHr62u9Mmuo5YYZIZMuuLlGcuBINvJVmO0jBAJHIrpaKq/wDX9eoHKax4Ct9W1HULiPVtQsINVjWPUrW2Mey6CrtGSyFkJX5SVIyPzrX07w/Z6Xq19f2nmK98kMbxkjYixKVUKMZHB7k1qUUtlYDkr34e2d7fXjf2pqEOm6hcrdXulxmPyZ5Bt5JKF1B2ruAYA49zUuoeBbXUbrXWk1G9jtdegEV5ax+Xt3BAgkVihYNtAGM49q6iijpYd9bnO6x4I0vW7i7mvZLkNdWUdmfLkC7FjkMiOvHDhjnPTgcUN4SkvNPW11vXdQ1MJdQXUbyJBGUaFw6gbIwCCQM5yfTFdFRR/X43/MVv6+VvyOf1XwoNZ1u0vb3VbxrW0uI7qOwCxeWJY/utu2bwM8kBsH6ZFa2nWTafZC3a8ubwhmbzrpgzncxOMgAYGcDjoBVqijZWDcKKKKACiiigAooooAKKKKACiiigAooooAK5v4cf8ks8Kf8AYFs//RCV0lc38OP+SWeFP+wLZ/8AohKAOkooooAKKKKACiiigAooooAK5vwH/wAi7df9hrVf/ThcV0lc34D/AORduv8AsNar/wCnC4oA6SiqVlq1nqF7f2lrIXm0+UQ3ClSNjlFcDJ6/Kw6VU0XxFHrl7qEVpY3SW9jcPbG7k2COaRDh1UBi3B4yVAPbNG/5gbFFZ+qa1baRNp8V0shbULoWkOxQcOVZsnngYQ0aHrNt4g0eHUrFZFgmLhRKAG+Vyh4BPdTQBoUUUUAFFJuXbu3Db1znis/S9btdXN+LYSL9gu3tJTIAAXUAkjnp8w5oA0aKQkAZJAHrUdzdQ2ltNcXMgSKCMySMf4VAyT+Qo2DcloqG3u4Luzhu7eRXgnRZI36BlYZB59c1MSB1OPrRsG4UVU1bU4NG0i71G73GG0ged1QAsVRSxwD1OBUc2tWNro8Op3c3kWsoi2s4PBkIVAQM8ksB+NAF+is6HW7WfxBeaOokFzZwRTyMwAUrIXCgHPX92c8elaBYBgCRk9BnrQAtFVrTUrS/mu4rSYSvZzeROoB/dvtDbfyYH8aztS8V6XpulanfvI88elyCK6SFcsjnadvOAeHU9e9AG1RSAg9DmgEMMqQR6igBaKKMjdjPPXFABRSBgSQCCR1welZ+ra3a6Mtm10JGF5eR2cflgHDucDPPT1oA0aKCQoJJwB1JpCwUZYgD1JoAWiis/XNattA0ptQvVkaFZI4yIgC2XdUHUjuw/CgDQopMjdjIzjOKz9U1u10mfT4bkSM9/dLaReWAcOVZgW54GENAGjRQCCSAeR1pAwOcEHBwcUALRWdb63a3XiC70eISfaLSCK4kYgbCshcLg56/uznj0qzaXq3huAsM8XkTNEfOiKbyMfMufvLzwRwaALFFJuXbuyNuM5zxVG31e3uddvdJjWT7RZQwzSkgbSspcLg56/u2z+FAF+igkAEk4A6mqzXqrqMVn5U7NJE0olWImIAEDBfoGOeB3wfSgCzRSBgc4IODg4oBBzgg44NAC0Um4btuRnrisjT/ABFHqfiDUdMtbG6KacwinvW2CLzSqt5YG7eTtcHO3HvR1sBsUUm4biuRkdRmlyM4zz6UAFFJuXnkfL19qxo/FelzzaMtrK08esrI1pMi/IQibyTnBHHtQBtUUhYBdxIA9c0pIAyTgUAFFBIAJJwB1JpCwAySAPc0ALRQSB1OKQMDnBBwcH2oAWikBDAFSCD0IrO1jXLfRo7NpY5Z2vLuO0ijgALFnPXkjhQCx9ADQBpUUgIJIBBI6j0paACigkAZJwB3NZra9ZRXYt7nzrZ3uxZw+dCyieQpv+Q4wwwDz0yCKANKiq9terdTXMawzxm2l8tmliKK/wAoOUJ+8vOMjjII7VPuXbuyNvrnigBaKQkDGSBk4Ge9KSFBJOAOpNABRRkbc5465qvdXq2j2ytDPL9olEQMMRcISCdzEfdXjqeMketAFiis7UNbtdN1HTbKcSNLqU7W8OwAhWEbSfNzwMIfXnFaGQSQCMjqPSgBaKQMGzgg4ODg9KAQwypBHqKAFopAwJIBBI6+1KCDnBzjrQAUUUhYAgEgE9PegBaKp6tqcGjaPealdhjDaQPPIqAFiqKWOAcZOBU9tcpdWcVzHkRyxiRd3BAIzzQBLRUN1craWU1y0csqxRmQpChd2AGcKo5J9AOtPjlWSGOTDIJACFcbWGRnBB6H2oAfXN/Dj/klnhT/ALAtn/6ISukrm/hx/wAks8Kf9gWz/wDRCUAdJRRRQAUUUUAFFFFABRRRQAVzfgP/AJF26/7DWq/+nC4rpK5vwH/yLt1/2GtV/wDThcUAReFrK4g8UeL5bm3ljiudRjeF5EIWVRbRKSpPUZBGR3BriYPDa+HfDsl9aaDJa/Z/Fhup1tbI+Y1qk7bWCqNzqFbIwDx0r1+opLmCKeKCWeNJZsiKNnAaTAydo74HPFC0aa6Jfhb/ACB6pp/1dNfqeW2tvqGp68NRj0vUYraXxdHdRm4tXjPkCy2eYVIyq7uMnHJwcHisia01vwz4X0O80+1nhv8AVUudDlidSjRvNPI0EpB/uncfo1e2GWNZVjZ1DuCVUnlgOuB+NV7vTLO/ubO4vIBLLZSma3LE/u3Kld2OhOGI59aVlZLp+lkn+CHd3b6/8FtfizlfGGlNpXgHTrXS7eeeHSbuxcxwIZJDDDKhYhRyxCqTgcmuVvbC58T6lqM40nUzp174i09wJ7aWIy26xBXfaQGCcHOccda9eoqr63fe/wCX+QtlZdrfn/mePX3h8aZNcWlxok58KW/iYTTWEFm8kRgNouGWJQd0YnOSFBGc8cGsw6HdR6XGYNJuLHw//wAJFczyW15pMtyohaFRC7WwIZow2cDopxkDbx7mzBVLMQFAyST0pkFxDdW8dxaypNDKoeOSNgyup5BBHBHvUrT8P0/yG/6/H/M8s0vwfBd6h4UtruCbVtHhXUZSLjTpLeGPc6GOMwyZ2oDnYrdlBHQVBPokU/iPxJp1noy6qmpW1481zd6S8U9rJgbI/Pdds0bMBsA6bR1Ar16iiSureTX3hF2187nitzaWM3g3w5pll4WgjtTYyrNLdeHZrgxXQRA0YhAXa7Hd+9PHynBqxZeEZtasof8AhJNGuLuSLwdbxoLuFjtuh5mQAf8AlqMj/aGe2a9iqK5uYLO3ee7mjghTlpJXCqv1J4FOXvX8/wDJr9fwQo+7by/zT/Q8S1rSpLvTL9fFGg6lqep3Phu1j0hlsZZnimELeaoYD90+8gtkqSOOeldn470VdR+E1tDdaWb6S0+xzNAbcyuoSSPzMJgnOzeCAM4yK7+im3dt93f7m3+okrW8v+B/keSa14Q0/W7rxLeW3h95LZPDluujg2bxiOQCcgRIQNsg+ToAwyOmazvFFtqeoarF/wASLZqdq2nPDdLo0011OAY2kcXIO2IL8ylcZODnrXtlFC0d/n+f+Y3r/Xov0OC8E6Rp2keOvFiLo4s72e98+K4WxKLJbtHF92ULtI8wMSuc5ycVy2qeGrWKz+IVhY+H5U1O9uVlge309wZrdhBkJKq4PzhyVBzkE4717NTWljSREd1V3zsUnBbHXA70lpbyVvy/y/MH19b/ANfeeReJfCt5pcniWz8KaXJaabPBpsskVtas0c4Ez/aMIpHmMYwu5QdzDg9a6n4cabBYxapNY3O62uZkZbePR5dOghYLgmOOTrnjJHGR65rsXuoI7mO3knjWeYM0cTOAzhcZIHU4yM/WpaFpcHqzyTTmvhNoeiHS9U+1WHie4ubqQ2cghjhZ52R/MI2lSJFxgn3xTfD3hWbSo/CWqwaJPHqpv7wX8xiYStCUn2rIx5CEiPAPAOMda9dpk00VtBJPcSJFFGpd5JGCqijkkk9BS2jb+tkv0G9W/P8A4P8AmeFafpuuXLX9zoGjf2VdXXh27jlhsdIlsRFc7oysTSOf3sgy+H47ke23qWk2eoeFbK3+HWi3OjXS6lZtJO2kyQiN1DfvGVlG8p/E2COeSa9cR1kjV42DowBVlOQR6imT3MFsqtczRwq7rGpkYKGZjhVGe5JAA7k0/L0/O/6i319fxVv0PLdN8Mw6tfeFbTVfDdyltaw3yalBexvJG9xmL53cjEodgWVjkH6jjNsNKS0t9ATxxod7faJbWN3bw20mny3QhmFwQm6IKxBMQARiOOxGa9opskiQxtJM6xooyzMcAD1Joev9ev8AnoC7f1/Xc8Ufwz4jj0TQ7IWd/jXrE6TqBAZns4Rcb42kP8JEDSJk98CprfR/EOpeEtSu9Y028/tC3l07S4ImhbfLHbzo0kyjurEs2fRc17P16U2SWOGMyTOsaL1ZjgD8aadnfzv+N/8AP7xPX+v67L7jx+10K6m8f3L6vNJaakuuG4t500KaWWS3DDYou1OxYinylSABzkZ5qrp2kxrq2hNNoF+PEdrr00+raibKRVMZ87a7TEbXQgpt5IUele2UjKGUqwBUjBBHWpV0kl0/4H+Wo3re/X/g/wCeh88aBYS3umi6trFLDX7jRryPTJ1snWXUJpBvMhuCNrOFBwQeQxIIHFbUWgSHwtrUug/aN8ljBFdabZ6BPp29VlUyZ3k+ZL5fmL8vJz34r1LSvBugaLepdabp4iliUpCWld1hU9RGrEhAfRQK3KenT+t/8w3f9eX+R554BsNPg8ca/eeHtFudL0eeytFg8yye1jkdWm37EYDGMjIwOee+Tm3Xh671Gf7Nf6bdS2kvjKSeVGifa9uYGG4+sZPGfunOO9eq1FFcwXEkqQTxyvA+yVUcExtgHa2OhwQcHsRR9pP+t0/0Do13/wAmjyGXQhpk0VtquiXEnhS08Q3bPYpZPLEsTQgwsIVU7ohIW6AqCR6VY1bS5jY+ILjQtFvrex+x6RJa24tXRykNzK7oqEZyFwdnUZAwM4r1ae5gtvL+0zxw+Y4jTzHC73PRRnqT6VLS6Lyt+CHfV+f6u55HqsUfiK68TX1zBqlnptxLp72s1xo800c5jDk74Nu5os4BBA6g8cGm3Fn4h1DSbKfSNFk0m6PhnUIYobWBoY4pTLH5YUEDyyyqWVTgjPsa9eoot/XysCet/wCt7niV/o8F1p+rHwJoF/p9qfDk9veRDT5bZri5JXy12soMkoAkywz16nNdt4c8OxeH/iFdjSdNay0640iBpGjjIjluBI4JY9Gk2kZJ+Y8Zrsri5gtY1e6njhRnVFaRwoLMcKvPckgAdzUtVfW/r+v+f5E20t/XT/L8zxq/0pptR1GKTRrx/GL68s1lqQspCEthMpVhcY2rGIsqU3dcjGTXY+CPDltpPiXxbeppEdnJc6ofKnFuEMsRhiJ2tjld+48cZz3rtKjkuYIZoYpZo45J2KxIzAGQgFiFHc4BPHYGlH3V8rfl/kN6v53/AD/zPIbG1vbr4naffw6EmnzR6peJefZ9HljfyjHKFeW6J2yhyEYADAyvpymheEr7StM8JXmkaVNZ6zLY3kV9ctEyybjAxjEzHkAOE2huBgAV69JdQRTxQSzxpLOSIo2cBpMDJ2jvgc8VLSt7vKO/vcx4/wCFdDsLrVPD8Wm+Hrq0mj0+aHxG13YPELgtGBslZ1AnYyfNnLcZOcGqvhbwlp19p3gnTp/DbrFZSXK6vDNp7xRmYQ4BkyoDgkAZ5B4HNexX1/aaZYy3mpXUNpawjMk08gREHuTwKktrmC8tYrm0mjngmQPHLGwZXUjIII4INVe7b/rqydlY8YutD1K30Lw/bXtm8ei2WoaiksF1pUl9HEvmsLYtApBKBMhW5Ayp9DWxovg+G41zwxDqEE+raXZ6beMkl5YSQxI5njMamKTO3audgbnCgjpXqdFJaO/9bWG9f687nnHxEOlf8Jz4WXxDYTahp3kXplgjtnuFPEWC8SgllB9jg4OOMjkBoWpJZaCuu2jxaItreLbwXujS6iLYtcExK8SEMjeSVAY/dwV4Jr2ybTbSfUrbUJoQ11ao6Qy5OUV8bh6c7R+VTRXME7SrBNHI0L+XKEYExtgHacdDgg4PYiklpb1/X/MZ5vonhONvFNlNq0F3qlvp/h62W2vLu1dD5yySHcEb7soXHX5lz71zdrps0Hhy60yw0aa70a2u7J728h0iW0ub+3Dt5scsbANM6jBZlHzBiMZyK9ujljmjDwusiHoynIP406qvrf8Are4v6/Cx45LoIv7DV4/D+j3lt4eu9Y0w29olrJbAhZF+0SJFhWRCMZOAPlY+9dl4P0GLRfEniS3tdMWy01buGWxjWHZEpaBRIYuMDJznb3zXY0Ulpf8Art/kG/8AXr/mecfD61TT/Fmp2tlYGa1eOSZ9UuNLktLkSNLnyJXcDzupIYdAOeoNY3jLQPEU3ijU9N0W2uxZTOviCG5jU+X9piiKiDd0y0ixNt78168ZY1lWNnUO4JVSeWA64H406l0Vun9fg7fcPq79f6/K/wB55JY+GbjxDqPh7UfEWjXDR6pqN7f31pdQtthQxbYI5lPAwqJ8rcZqvr/hyBtYnvta0B7uwt/FKSHOntPi2NmiEqgUlk3hQcAjK+1ex01ZY3d0R1ZoyA6g5KnGefTins7r+rNf5WF0s/6vf/M8rvvD1zqWszQXOl3UunzeLI5mQwuEa3+whSx4/wBXu+U9uoPpWHq+nTaTPb6RFoAurFdfvZLXSprVngeDyFwyxKCSgZ2IIBUH6ivcqzNY8O6Xr3kHU7YySW5JhljleKSPIwcOhDAHuM80rWVv6+z/AJfiPrf+uv8AmeRLpml2Ph3w3PoVp/bdxYwPAunz6HM8M8nnfvMHb/o8ysp+Z+w59a7r4hWyTXvh+XVbCbUNAhupG1G3itmuAT5ZETPEoJdA3UYIBIJ6V1mm6bZ6Rp8VjplultbRA7I0HAyck+5JJJJ5JNWqp6/eJHkFh4XfUYtDtZ9Huv7AbxFdTwWU8DqsNmYH2B4yPkjL5wjADDAY5xXa+LNPmNx4Vj0y1fybXVo2ZYIzthjEMoyQOFUZA9OldVRS7fL8Lf5Bvf0f43/zPFfDOjouueEmXQL+LX7S+uW1u/exkRWYxTDc8pG2QFiNpBYAHGRnBXwdot5a39vdXyyjX7NLpry2TQ5opL1ir/LLeElHVjtKn/dxjpXtNFLoPrf+v61PDNF0drttUabT5tI06+0Dy7v+ydAnthDP5q/IUOTO6hmBIHI3e+O88HC+k8A6jDYabbaZcI88dk9tZNZR3B2jZMIX5jyx6H+7noa7eim9U15W/G4lo0/62seKaXpETw6YPDug39jqMGj3UeuySWMkLTyNBgI7so85zL8wILcZOea9B8J+FrCy+Hdtph09bVr6wRb8FNskkjRAOZCeS3JGTz2rqHdYo2eRlRFBLMxwAB3Jqppms6ZrNuJ9I1G1vojkh7aZZAcHHUH1GKH7113/AOD/AJgtLeX/AAP8jxJbHxwIVvf7P1H7X5B8LFfKb/V7eLzH9zfzv6YrW8S6DaW154hsNR0K9v7w2UFv4anispJvJCwhQI5VBELCUFiSV4wckV7JRQ9d/wCv6d38wWm39f0kl8jymfwncXEHjq+1LS5LvVmsFhs52hLlmNiqv5PHVmypK8noelUYtClTwrqFj4qhvo9R+0W051L+zZbyC6iXmKN4lB+RMFGj4wfmz82a9kqKe5gtvL+0zxw+Y4jTzHC73PRRnqT6Udfu/AOiXY4xVvL/AOCN7GmjDTruXS7mOPT7WBkwdrhQkZG5d3BCkZG7HWuV1nwhLqNj4svLnRri4vodIszpbtCzOk6wkkw/7YYKCV57V7FRR1b7/wDB/wAxrS3l/wAD/IZBu+zx787tozn1xXPfDj/klnhT/sC2f/ohK6Sub+HH/JLPCn/YFs//AEQlN7kpWVjpKKKKQwooooAKKKKACiiigArm/Af/ACLt1/2GtV/9OFxXSVzfgP8A5F26/wCw1qv/AKcLigDW1yKSbQL+OC4ktpGt3CzRBSyHaeRuBH5g15VpOn6jc6X8MYo/EF2k1xbSyC7MULSQobUZRPk2+wLBjzzmvYyMjB5FZun+G9E0lYxpmk2VoIpHlj8m3VdjsMMwwOCRwcduKFpfzt+F/wDMH0+f4nnmna7reoT6KrT2k+prBrNul5c26AtJBII43JA+QHALBcA+nArqfA2pXd7Y31jqt1qTatZSKl3HfpBuhdkBGxoVCMh6g8n19K3W0LSHj2PpdkyYlXabdMYlOZB0/jPLevfNLpOiaXoVq1toun21hCzb2S3iCBm9TjqaFtZ/1qHp3PKE+KesabcWsmrSo9rpCS2eukRKC11mUREYHGfIBwMD98vtWgur+Kbq31SPUPEjaTeaHo8F5II7eDFxM6M7GQOh/dgrswu08HnNeiy6Bo86XKT6TYyLdyLNcK9shEzrjaz5HzMMDBPIwKj1TwxoWt3cF1rGj2N9Pb/6qW4t1dkGc4BI6Z5xS1tbr/X6v7rD05r9P6/Q42x1fXPEetzifUZLCyg0K0v5LGGGP55Zlk3KzMpYL8uMDB6cjnMPwb1m91PQ7e0vpxarp+m2sUGm7BueMxqRcl+rBuQADgbSDz09FFlai4lnFtCJpkEcsnljdIozhSepA3HAPqfWo4NK061lhktbC1hkt4fs8Lxwqpji4+RSBwvA4HHAqrq7ff8A4P8AmTbRf12/yueb63rnidbjX76x1420Wma3bafb2n2SJ42SUQBi5I3NgykjDL05z2tP4g1LS01/SdQ1rUrua21K1tbK5t7e2+1SGaNWEYDKsQ5LfMwGB9K759K0+RZlksLVlnlWeUNCp8yRcbXbjlhtXBPI2j0qO90HSdRhuYr/AEy0uI7tla4WSBW80rgKW45IwME9MVK0VvT9P8n95XW/9dTzKw8f6zoloNT8R3U0ml2eo3mm3QuEh81WWMSQs7RDbuyGjO3gll4zWv4wfVD8BbubXZ1/tKSzjluHKBVjdnVsYGBhc4/Cui1bwVpeo6HDo9pb22n2AvIbmaC3tlVZhGyttwMYzsUE9cDFbt1aW19avbXtvFcwSDDxTIHVu/IPBp/Zt/W36u4vtX/rf9EeW674q8Q+GLjVdPt9Xk1r/R7GWK7eKBWtmuJzE2MBUxgbl39O5IrsfBr+IwdRi8RR3XkJIhspL17czspX5g/kfJgMODgHB9q0bPwroGn2F1Y2WiafBaXhJuII7ZAk3b5lxg/jU+kaFpWg27waLp1rYRyNudbeIJuPTJx1OKa2/r+vmI4G28S60ngTU/GUutNNOsV40WjtFEIYjEzBQMKJCVC5bLHPPA4qtrniHxD4XgvY4PET6w0vh6fU0mmt4f8ARpUKBWUIigxtvOA2fu9TzXoUHhjQrbVLjUrfR7GO+ugRPcLbqHkB65OMnPf171HY+EfDumWt1bafoWnW0F4NtxFFaoqzD0YYwRz0PFSv0/z/AOH+RV1f5/qv+G+Zx8954vtNR1bRrDWjqN6+l299bSXEUMRikaVkdI8KFwVHy792DjJIqufFEhk0C4gNzfT276kk66nbQ/aUlihY+XujUKDkAZT7w6k16DfaHpOppKuo6ZaXQmjEUnnQK29AdwU5HQHkDseaLPQtJ0+G2isdMtLeO03fZ1jgVfJ3feK8cZzzjr3od3Fr+t/8hLRq/wDWn+Z5MdX1Wz1Dw74hutbOt3cvh2+1JLVoolEb+VG+1NgB2Z+X5sn5TzVmTxF45sfCN5rBmufs8mmJcRXV8LNws5dMGJYTkxlWbh8kYHOTXpOneFfD+kXD3Gl6Jp9nM5YtJBaojHd15AzzUdp4N8NWP2j7HoGmwi5G2YJaIBIuc4Ix0yM46ZqtL/15/wCf4C1t/Xl/l+JyOu33iax8Q6d4asNQ1W9kewlvJLu2SySaVw6qFxKFQIuc4ALcrk9ScTXtU8S6t4b8S22u6uuizaToEclxaxJC8dzJLHJvLMQTtO3aNjDBPU9K9S1fw/pGvxRx63plrfrE26MXEKvsPcjPSoLnwh4cvXtWu9B02c2kXk2/mWiN5Uf9xQRwvt0qGrxt/XX/ADKTtK/9dDA8S6vfaL8NtKuNMvY7CaSSwtzcyxq6xpI6IxIbjoTWDqF9qP2y80XUNTk1WPTfEOjGG7mjjWT95NGzRt5aqpKkZ6A4YZru/Efhq28R6LDpk2yK2iuYJjH5QZWWKRX2bemDtx9DVix8OaJplgtlp+kWVtarMJ1hit1VRICCHxj7wIBB6jA9Ktvmk5ed/wAn+jFD3Ul2X+ZwC+MNSHjWwksr7UbjSb2+u7RvtkdqluTFHIf3QQed8rR43Nwefaufh8T+IdZ8F6rq8up3V5ZR6BJcXMF7ZWv2f7U3Kqi+XueMLk8kjpkkkivWH8I6D9pubuDSrO2vrjcWvIYEWZWZSpcPjIbDHn3rndA+F1lpV7bzX0lnexW1m9mkMemxwiaNtoPnkE+acKOuBkk4qY+fb9GNvW6/rUytd8Wala+Ion0e81J7a21Sz0+6iMVqtmhl8sNHyPOZsOGyvA4HQGota1PWbnw54z1K71MTW+nX72Vrp8lpC8O0NGdzhkJZvm45x7E816BL4X0GfVf7Tn0WwlvvlP2l7ZC+VxtOSM5GBg9sCrT6Vp8lvcW72Fq0Ny5knjMKlZXOMswxhjwOT6CqWm/9bf5P7ybaJen4X/4H3HDX+u63pHiTVE1S9u4kmhuW0dYUge0kEcO/a3y+asqlWJydp7elZ1jd+LL27021k8W3CDU9BOqSSR2VuGhlXZ8seUICHzBkMGPy8EZr0BPC+gx6pcaimjWK3tyrLNcC3XfIG4YE45z39e9XE02xjeJ47K3RoYfs8bLEoKRcfIOOF4HHTgVNnb5fo/1a+4rT+vVf5P7zmbfxQ7fCG18SapcvazS6ZFPLNbRK7K7KOURvlJ3HgHjnniuSHirxRbwazp5vryC5t9S02CCXUorWSeJLlwrhhD+7PqO4z9K9SbTLBtK/sxrK3Nh5Xk/ZfKXytmMbdmMYxxiqtn4Y0HT7fyLHRrCCIujlI7ZACyHcjHjkqeQeoNU7OTfTT87krSNv62OCudf8QWF9d+HW12aRjrlrYpqssEPnRRSweaRgIIy2QVBK/wAQ4Na3w6ilW88Ywy6m1/KusmM3m1AzEW8IyQo27h0OABkdB0rrL3QdJ1G3uoL/AEy0uIrwqblZYFYTFQApbI5IwME9MCpNN0nTtHtzBpNhbWMJIJS2hWMEgAAkAcnAA+gFJaXv2/y/y/Eb6W/rf/P8Dx+1sdRPgHSR/b11LNL4s8uKWeKJvs5W7lBYAIMk9cNkA9ABxW9/wkOqW8d/odzrGq3d9Frf2GzmsoLUXVwn2dZtrGRREuAxy2BwvHJruoPDeiW1zPcQaRYxzXE63Mrrbrl5VziQnH3gSTnryaW+8OaLqcMsWo6TZXMc0wnkWW3Vt8gAUOeOWwAM9cDFJaK39fZ/yf3jerv/AF9r/NfceYaVfa14k1TwRd3mt3ltObjUreTy0t/3nkllBb5GUsVUA7eO646162LhJreVrWaJyhZdwbKqw4IOPQ9aoTeF9BuLG3s5tGsGtraXzoIfsybIpMk7lGMA5J59zT9G0Kz0PSf7Ptg0sbvJJK82GaZ3Ys7NwASST2xTeqsJaM8s1TUNZuvDbaRrmo3sfiCHUtMkkFxFA8Me+5AWWAxqN0ZKnAc7ht599KTX/EFr4gk8Kvr0x8zWYrRdWlgh86OJ7UzbAAgj3Fl2gleh6E13tj4U8P6ZA8On6Jp9tE8qSskdsgBdDlGxjqp5Hp2qa+0DR9TguYdQ0uzuY7tla4WWBW81lGFLZHJAAwT0xR/X5f5Bu/l/n/mcLZ+Kdatb6DTrjU/tkdv4nGlteyRRhriE25k2ttAUMHIUlQOV+tQLr9zqvivTp5Zlu1sfEt/b2/lhcbEsJCFyOvJPPWu8fwvoL6ENFfRrE6YDkWf2dfKBznO3GM55z61NaaFpNgsK2Ol2VssDmSIQ26J5bldhZcDg7flyO3HSk1dNf101/B/eUnZ3/rr/AJr7jzLQrzUdU8S/D/V9U1438mqQ3V0bMxRKtuTAciPaA20Z2ncWOR1HStL4k+KdR0mTUW0C+1NbnSrBbyaKCO1+zICzbTKZfnbdtI2x8jHriu1sfC2gaZfPe6domn2t07mRp4bZFcsQQTuAzzk/mfWl1HwzoWsXiXeraPY31xGhjWS4t0kYKf4ckdOTx71T1asSvM5n4oQT33hXS/JvprMtq9huMKRtndOgH31boSCPcDORxWRrmv69Db+K9RtvEElqfDDxxQ2TQQlbzESOWlym7MhYqNhUDHFel3FnbXcSR3VvFNGjrIqSIGCspyrAHoQQCD2IqjeeGNC1DVotUvtHsbm/hx5dzLbq0i46YYjPHb0pLS/r/l/l+ILZX7f5/wCZwmo6/wCI103xxrMesSW66JvjsrJbeIorfZ45MuSpZsM/AyO+c9odVvPFljda9bJ4tuGGnaKmrRv9it9xlPmZj+5jyv3fTG7n7/r6W+l6fJDdRSWNs8V6SbpGhUrOSApLjHzcADnsBSyabYzPM81lbyNPCIJmaJSZI+fkbjlfmPB45PrSd7adv0/z1GvP+tV+l/vPMvF3jXVLe3e+0W81ITWFraXF1DFHai0jMpB2yGT96xYZ4jPHHeut8G/8hbxf/wBh0/8ApLb1p3fhTw/f3cd1e6Hp9xPFGIkkltUYqg6LyOg5wO2a0YbWC3eZreCOJp38yUogUyPgDc2OpwoGT2A9Kp25m15/i1/kJaRs/I8s8O6lrerpoGlWGrf2NBdWN/czNY2cAYtHchF2goVX73Py889zmq9v8QfEUei2n2q4jkvte0uH+yWEKgC88zyZOMcj50kwc4AbtXqtvpWnWjxPa2FrC0KMkbRwqpRWbcyjA4BIBI7kZpq6LparZhdNswLElrQCBf8ARyRglOPl4PbFJdE/63/zX3A92/66f18zzy61zxne+KNXttDF5L/Y91BbpGptEt5VKI7tNvIkywZsFMAYGM80us6jrS3PiHTdZ1TULV7u0vJNLNslu1rJDGucKdhkWQDhg5wcnHbHdX3hfQdT1OPUdR0axur2LGy4mt1Zxg5HJHY8j0p1t4a0Oy1K41C00ixhvLoMJ547dQ8gY5bJxzk8n171LV428n/X9bDTtK/mv6/rc85Gp33h/RfC9x9tS+lXw7e3i3F7BEWQpDEyqGRAQozzjk9yaXR/E2r/ANjarrGoa9rL6ZHZ20cTyWdoJhdyPhxGoQAjJQKWO35j1xkdxdeCdDfw9caTp1jb6ZHLBNDHLZwqjwCUYcoccZwM+uBWXonw3sdPvLm41MWF6txZiya2t9Njt4HjDbsugJ3tkDknA7AZq2+aTf8AXX/Nfn5EpWil/XT/AIP5HEXeoa/qsqadfaxqlk+n+JrOCN5ltGnCyRhsOY1MZKknGPXDA1t6hrmpWXiPVdNs7uOze71uy09tRW2iEiK1qHLk7drOSu0FgQNwAGABXcf8Ih4c/smXTBoWnCxmKtJbi2QI5XoSMckep5qefw9o1zZXFncaTZSW1yFE8TW6lZdoAXcMc4AAGemBSWn9f4f8vxH/AJf5/wCf4Hn9z4h8RWrXmi2+ttNJb+ILTT49TktomkMU0YZlZQoQuueoA7ZHWup8F3uoSza9p2qX8motpeom3iuZo0SR4zFHINwRVUkbyMgDpWvaeH9HsLGGystKs4LWCUTRQxwKFSQHIcDHDZ79auQ2lvbyTSW8EUT3D+ZMyIFMjYA3MR1OABk9gKFp/Xp/k/vB6/16/wCa+48u0LxNr8sfhvVbnxB9v/tbU57CfThBCscaKJcMCq796+WCSTjB6Cl0vW/El14Y8LTXniOZLjxNdLFJcrbQKtogjkfbECmN77AMvuGc4A6V1/hfwHovhiKOSGytZtRTzA2ofZlWZw7lsFuvfHXoBWtc6BpF5o40m60uzl05QAto0CmJcdMLjAx7ULRfcD1b/rv/AF8jzy38Ra/ca3F4WbXZUX+2Z7I6ykMPnSRx26yhMFDH5m5ipO3+A8Zp+s6z4rl8RTaFoF7fXsljpcdxHdWosl+0ys8i7pRLgbBsAIjA5J5HArupPCnh+bRE0eXRLBtNjbclobZfLVuuQuMA8nnrzTLzwf4b1C3tYL7QdOnhs02W8clqhWJf7qjHA9ulH9fhb89Q/r8b/locw2s+ILLxdZnxBc3FpZ3qxQ2qWggktRcGIl4piQZQdwJVlO3AHvm74D1TU5p73TPE11fSa1bxxS3EM6QeSAxYB4GiUZjYqcB/mGOffe/4RbQf7WGp/wBi2H24JsFx9mTfjbtxnH93j6cdKk0jw9o+gJKmiaXaaesxDSC2hWPeR0zgc47elP8Ar+v6/wAxdP6/r+vkcH/wkutJ4U1zxa2ssZLOS+ig0YxReSvkl1UE7fMLDZvPzdM8Ypt/ruveHXvIF8RSaz53hy51NJpoIQbaaMLtZdiAGNtxwG3fd6nmu7TwxoSaxNqqaPYjUJ1Ky3Qt18xwRg5bGTkcH1FM0/wn4e0m3uoNM0PT7WG8UrcRw2yKsy9NrADkcng8c1Fnb5fo/wDh/kVdXv5/qv8AhjznXrvXxomtabf+ILi7S+8Ky6lv+zwoYZFwGRMJ9xg2MNuYdmzzTb/VdV8NWF79gvUlvLTwzZyw3k9pD5gZp2XBKouVA4C9O/Uk16pLpWnT586wtZN0BtjvhU5hPWPp9w/3elJNo+mXAcT6daSh4lhffAp3RqcqhyOVB5A6A1el/wCv73+a+4nWyX9fZ/yf3nG6kviKLxJpnh6DxVdxiXTbq7nvPstuZXdHjCgfu9qqN542njjOeayND8QeK7iDQLqTWo7m48QaNcziCa3jjgt50RDGylRux83zbmOe2OlentaWz3aXT28TXCI0azFAXVGIJUHqASBkewqu2h6S9tFbtpdkYIYmgiiNum2ONhhkUYwFIABA4NT0/rz/AM19xXX+vIwfA+pXd9YX1jqt3qR1ezdUu0vkg3QOyAgo0ShGQ9QTk+vpXAWtjqJ8A6SP7eupZpfFnlxSzxRN9nK3coLABBknrhsgHoAOK9d0nRNL0K1a20XT7awhZt7JbxBAzepx1NRQeG9Etrme4g0ixjmuJ1uZXW3XLyrnEhOPvAknPXk1X2k/T8GmT9m3r+TX6nnV54o8SWDSaFFfXd/OPEH9nLfIlslwYjbCcKNwWLeSduSOnbNd14PfXW0WRfE0ci3UdxIsTTNEZXhzlC/lHZuwcHbgcZwM1evNA0jULW5t77S7O4hupBLcJJArCVwAAzccsAoAJ54HpU2m6XYaPZLZ6TZwWVspJEUEYRQT1OB3PrSWi1/rRf5fiN6vT+t/8/wLVc38OP8AklnhT/sC2f8A6ISukrm/hx/ySzwp/wBgWz/9EJQB0lFFFABRRRQAUUUUAFFFFABXN+A/+Rduv+w1qv8A6cLiukrm/Af/ACLt1/2GtV/9OFxQB0lFFFAHG+OfHp8FnzJItLkhSHznjuNTEFxKAcERRbG3kD1KgnisLUNb1EeKr6OK/uVhHiTTIEQSkBYnhQsmP7pJyR3rpPEPgC08Q399cSanf2SalZrZXsVsY8TRqWK8sjFSN7fdIz3qxL4I02bUJbxproSS39vfkB1x5kCBEH3fukKMjr7iiO6b7/qv0QPrbs/y/wAzn9L+LNpqevW9rFBava3VzLbQ+Te+ZdKUDfPJBs+VW2HB3EjK5HPEmg/Ea+1u8RE0jT0gm0t9SjkXVdzIgOFSUeUBGxJ5+YgYPXBrWtPB0+kRXMWj61eLZN5zw6ZKIjArybjjfs8zZuYnAbj1xxXHeFfh5qsNi2iahBc2OkXWmva6msk9u5nkKhVaExruAHzcuehAwaSv+H6P9bDdr/P9f8ibUvihqd14a19tEi0h9Q0sW0nn2WpfabcxyuV4byhlgVIK4xg5z2ra1PxlPoOrXsmq2sxuINKt5fsVvdiSFpZJ2jRVJjU7i20Fjxj+HjJtH4dWlxY6rDqOr6jezapaxWstw/lIY1iLGMoqIFBBbuDnFT3vgKy1WO4Or397eXFzYx2ctwSkbfu5DIkgCqAHDHPTHA465fX+uzF0/ry/4JnXvxBv9Et9Xj1/Qoor/TrSK9SG0vfNjuInfZw7IpDBhggrjpzWx4f8R3+o65qOkazpcWn3llFDOBBdeejxy7tvOxcMCjAjBHoTVNvh9a3dpqSa1q2oandajDHby3kvlI6RI25UQIgUDJJPBJJ+lWdb8MXNzeXl/ol9JZX+oJbW08+/AihikZiUAXO8h2HJxyPTl9v6/rzF0f8AXa/62F8YaneabL4fFjMYhd6xDbzYUHfGyuSvP0HSo/EnjWPwzfz291ZNIq6ZLfW7rJjz3jYKYQMcH50wefvdOK19X0S21ptPa6eVTYXiXkXlkDLqCADkHj5j6fWqfiTwhpvim40ubUjOr6ZdLcxeS4XeR/A+QcoSASOOg5qelvP8LJfg9f8Ahx9fl+r/ADWhgf8AC0rVtL+2wabLKq6ZBeOiyjcs00nlR2/I6lgwLdsdKfc/EC+0iS8tPEGiQwX9utrKiWt6ZY5YpphDkOY1IKseRt54weatwfDXQ7fSdb09GuvK1m5NzK5lG6F925RGcfKFb5lBzgk9aST4eWt7Z6iusavqOo3t/FFE19KYkkhWJ98YQIgUYf5uQcnr6U+t/wCvT9PTzDoVfE/iidtTk0u0Elq9jq2ko8yS485J513LgDgYBBGTkGs3V/GOs6ncaXLp1h9l0dvEUViLxL0iWYJKUfdFtACMVYfeJ45HNb9t8P7RJri5vtV1K/u7m6tLuaed4wWe2ffGAqoAq9iAOnocmo1+HVmuoRyjVtTFjDqP9pw6crxiGOffvJzs3FSxJ2lsDccdsEdJK/e//pP+THJpwst7f5/8Aj8WaprVl478OW2hQi6a5t7zfbS3RghYqIsM5CseMnGFJ5+prLm+LkItbBEtLK1v7iKd54dS1EW8cJhlMTIJAjb2Lg4+UDAycdK6rxB4VXXNSsNRh1S+0y+09ZVt5rQxniTbu3K6sGGFHB/njGdD8PLXT47BtE1bUNOvLOKSE3kflyPcLI/mP5gdCpJf5sgDBPHHFJXt/XmBYuPGaL8OU8WWthLMklsk62zHaV3EA7iAcBc5JAPAJwaLHxe1xcaBBLDZTHWTPtn0+98+FRGu4FW2Luz9Bj3rYuNPuJtFFlFqt3BcKqgXyLGZSRj5iCmznHI245OMVzqfDm1gsbNbLV9Qtb+1vJr1dQiEPmNJMCJMoU8vBB6BeMCq0uyeiMa48Yazqnibw9JoFiGMzapbvZzXpihYwSrGJHYKT/CSAFJG7HqalPxItwtnq97Bd2scenahPdWiTqyK9tIiOp+XLHdkK2VGOo540k+Gtpa2+nDTNa1ayudNe5eC6WSN3JuH3ybw6EPz0yP1waoR/D5DrVtpklpI+g22lXdrNczzqZLuS5dGc4XkHKsScDkjFTrZL1/JlaXv5/hcitfi3C9rftcWVpPPb20U8KabqAuUkaSQRrEzlF2PvZc8EYOQTirev+I/GenyaCi6PpcE95qn2aWMakzpInlMwAYwZXkHJ25BUYyGyNR/BTXmg3Wkaz4g1PUraaNEjMohR4CjBldWSMEuCActnp060l14LmvtNt4rzxHqk19a3i3kF+ywb43VSmAgj2bdpPG3qSarS69V91/8idba+f5f5jPHWt67osGiNoVvayyXepw20yzzlAQ2flB8tuDj72MjHQ5qjffEG/tF1G+TQ4pdH0i5W1v7kXpEof5fMMcfl4dULjkspODgV0XiHw8niHTYLZ724tJra4juYLqAIXSRDkNhlKnvkEY5rHufh1a3Nzch9Y1EaffTpc32ngxCK6lXblidm5Q2xSyqQD6DJpR317/5f8H8PMb2Vv63/wCB+PkP8b65ruj33h6LQLa1nF9qP2edbi4MW4eW7BciNsA7c7hyNoGDk4wYvGOt6NrfiSa5sBe6Ta61DbyTPfEPbrJHAu2KPadwDPuOSv3uMnNdn4j8PJ4ht7RfttxYXFldLdW9zbhCyOAV6OrKQQzDBHeqtx4J066stVtpp7orqt5FezsGUESR+Xjb8uAD5S5HPU9OxHR6/wBfD/kwlra39b/5owG+K1r/AMJQ2mxQ2b266kNMb/Tv9K8zdsLiDZ/qw3Gd2cZOMVveIvEd/pmuaZpGkaVHf3epRzOjTXXkRxCPZksQrHB39gTnHHOQtp4TbTdYnutM1u/tbO5ujdzaeiwtE8jctgshdQx5IDDnOMZqn4p8M6lrfi/Qb7T76406OxhuhJd2zR70ZxHtG1wwYHa2eD+HFJbK/wA/u/zD7T7GLN8XIRa2CJaWVrf3EU7zw6lqIgjhMMpiZBIEbexcHHygYGTjpVl/iTfXkMcmgeH1ugdHTV5PtV75GxCXBj4Rsv8AJx2PcjvoQ/Dy10+OwbRNW1DTryzikhN5H5cj3CyP5j+YHQqSX+bIAwTxxxWn/wAIrbPeXF3c3d3cXFzpq6bNI5QF0BY78BQA5Lnpx7UO9vPX9bfoNWv5f8Ffpc53X/idHotrYX4h01rO7tobkQz6mIrtkkI/1cOw7sA92GeRWfqPibxHp19fjSBDd7/Fkdjsu7koEia3hPlr8jbVJLHI6Zzg5rXufhdp08MltFqup29pcWdvaXMMTRfv1gGIyWKEg467SAfTrnR1HwPZ31veLDfXlpPc6mmqrcRlC0M6IiDaGUgriMcEHqfwbtz3W1/wuv0TCPwNPe342f6mJqXj5PD15rP21SZ11C1soo7q9VLZJJIFc4fy8ogG4kkMSRwBnFRj4q+ZpME8VnYCR9QewkuZdRK2KMqBw32gRnhgQBlR82QenO7e+A7G8e6uDf30d9cXUF4t2jR74ZooxGrqNm3lQcggg7j0qS98LX2oaKbC58Uamxk3rPN5FtmVGABQr5W0AdiBnk5Jo1t/Xl/wRdv67/8AAL2taxLpPh1tRxYK6qhY3l75ECZxkmXaeBn+7z6VyEfxVM2h213FZaeryajLp8lxLqJWxjZF3BvPEZ4bIC5UcnHbnptS8IWd/wCG9P0eG4uLRNMaB7OaIqzxtDjYTuBDdOcjmqJ8BBNIu7C28QapEL64lnvJWW3kNwZFVXBDRFQPl4wBjJ7cUPd2+X4f8H/ggtlf+t/+AJN41lh8YJoktrY26rbJcSSXF8UeVWBLeQvlkShMc8r16VV034g3dxJpF1qmix2Wk64rtYXKXfmSjEZkXzY9gC7kUkYZsdDV6fwFa3L6ZDNqV6+maYYWg05hEYw0ShUO/Z5nYZG7n6Eio9K+HtnptxY+dqmoX9lpiuun2NyYzHahlKnBVAz4UlRuJwD+ND62+X9fl+If1/X6/gZt34y1a88A3XiCfSjp+mzWyXFnNaagDclWdQu5Wi2oSpzwX7jrVrV/iA+keLrbRpIdKlFzdR2qImqZulZx8rtD5fypnj72cc47VNB8OrePQJ9Dn1zVbjSmhEFvau0QFtGGDAKQmWI2gAsWwOPent8PrNtZe8/tTUFt21JNU+xKY/L+0Lj5idm8g7fu7sdcdsPTmXb/AIP+QdH3/wCB/mYGnfEfVdP8FjVPE9rp6z3GqS2Fo327ZGzCWRf3jGIbFVYzyAxbGcAnFXbL4lzarbWtvpGmWt3qtzfy2SIt8fsp8uMSNKJhGSV2kfwZycds1oj4e2y2EtpHq+oJGt+dQsSvlbrGYuzsUOz5gS7ZD7uDirF54Olv7aya58Q6idTsLhp7fUlSBZE3LsZNoj2FSpPBUnvmkttf62/4IPfTz/X/AIBQ8E6xqtz4S1q+voJJ76DUb4JaSXG7GxztiD4PAxgHH4VUHxc0szAfZZPIOh/2sJt/G7bu8jGPv7ef6V1Xhzw7beGdNks7W4urkS3ElzJLdOHdnkbcxJAHf2rmx8IvDYsha773yxqn9pj96ud2MeT93/VY429cd6Oy8l+Vn/n8vMO783+d/wDgfPyMvX/GWu2dvq02lWxjvYH0sSwXd0DFB57AMqARE5ydpJ9dwxjBk1HxV4k0bxbrs66ZFeQWOjWt5dWp1ErHb4MxfyiY/nYhe6qDt5I4rptX8EWGrjWGkubqGXVvs5kkjZf3TQHMbICp5zgnOQcU9vB1rOupte3t3cz6rpyafdTMUUsihxvAVQAx8xu2OnFJ3s7f1p/mNW2fl+aF8Q+Kf7G8M22r2li98bqa3ihtxIIyxmdVXk8D7wrmdS8Xapc3ltpt5bDStRstesIblLS7Msc0M2SMPtQkHBBBXt3rb8ZeGbjVvB9lo2lPKpgu7M+asgSRI45ULOGPG4KpPTr2otvAFmjm4v8AUr6/vnv4L+W7mMatI8IxGmFQKEA7AA8nmq05r9L/AIaf8EnXls97fjr/AMAoJ8RxF4uOi3cGnSbluGUafqQuZ4zCpYiWLYNhKg4AY4PBrKl+JV9qGg6rJJp0FtDFon9qLcadqokmRXztQ5h2o/BznIHbPNaknw0jtbFxp+p3k7WsV3/Z1pcsiwRNOjhgxRA7DL9SxI/PON4Y8A6mthdaJqEV5p+iXmmtbXscs1s8ksx2gPG0acAANy+c5HHFTHXR9v8AP/gF6Jp+f+X/AATd1r4gf2F4istOuI9MkiuJ7e32/wBpj7Z+9IUP5Gz7oJ/vAkZOKq6h411C70jVbsaa9lp9jqS2C3MF8BPLIt0kZIUxEBCDzk56gD+KtO5+HdncarPc/wBqahFb3F7Bfy2cZj2PPDs2sWKF8fu1yu7H0q7J4L06TQ7vSmmuvIu786hIwddwkMwmwDtxt3ADGM4796qPS/8AW3/BI1tb0/X/AIBk/wDCwZBceJN1haLHoUU7tbvfFbuTyxkMYjHhY37MGPbjnAqv8QPEKzTQL4Ut/PXThqsYbVMKbfnIYiM4lyOFAK8/eGK1dQ8A2+sajc3Wr6vqF2sltcWsEbCFfsyTjDhWWMM3HA3Fse9aDeE7Brxrky3G9tM/ssjcuPKznPT73PXp7VGtvl+Nn+titL/P9V+lzR0rUI9W0ez1GBWWK7gSdFbqAyhgD+dctqnj/wDsnxnaaLPFpbx3V3HaKsephrtC4+V2g2cLnj7+e+K1dB0K80e/dDeu+l21lb2VjbFtxAjB3SvwBvOQOOMKPXAov8PrR9Ze9/tTUFt21JNU+xKYxH9oXHzE7N5B2/d3Y647Yt259Nv+D/kSr8mu/wDwP8ybwn4ul8T3d+jW1napaSvEYBeF7qMq5X97EUGzIG4YZuDWbrfxA1DS7zXTbaClzp/h9ozfXLXux2Ro1cmNNh3FQxJBKjjg5OBs6V4UGn+Ipdau9VvNSu2tzaxtcrEvlRFw+392i7jkDlsnj65wLj4f3Os+J/Es2pajfWmlapNButbeSPZdxpEgIbKlk+ZSDtKkj8KS6en6laXYy8+LFnb+IprGGGzkt7e+jsZd19tumdyoLpBsO5FLjJLA8MQOOd/w34kv/EOoaj/xKo7XTrK6msxcNdbpJpI32khAmApHctnPGCOaIfCJstbuL3Stav7C3u7gXNzYxLC0UkgABILoWXcFGQCPbBrS0bRbbQ4LmK0eV1ubuW7fzSCQ8jFmAwBxk8ULbXt+On/BJd/67a/8A4S51q41KPWdb1TXtZ0vTrHUJrG2g0ez84xiHhpZQIpCckE84UDHc1JqmueI7y71i18L3r3ci6FZXdptjRWdnkk3uoYYDsi8BuAccVt6l4BiurjUm03W9S0mDVsm/tbXyWjmJXazASRsUYjglSM9evNWf+ELtoZJJtN1G/sLhrG3sUmgdCY0hZihAZCCTuIOcgjsKS218vyd/wASnvp/Wq/S5xGq+ItRbwdbR+C/EOpvqkmsR20kerQILi3cxs3kOpQYBKjnB4JwcVL4r+IGoahouiT+FLk2jSRwX9+wRWMcbTJEITuBwS7OD3/dtXV2vgCyjuFu77UL6+vzfxX8t3KY1aV40KIpVUChApPAAPvTIvhroUFrrEEBuo11e8S8nIkGUZZBIETI+VN2Tjn7zc81S3173/Bfrf7vMl+X9av9Pz8jC8X+OLnSfHEQttUgg0zR2t11O1dk3XH2htvGfm/drtfj+9zW58SdVu9K8M2sthd3VoZtStoJJbOISzeW8gDBF2tkkdODVt/AOgz2erQXtqt4+rSyyXFxcIjSgyDGFbbwFAAX0wOtTar4Tg1bw3ZaRLqN9D9heCSG8iaMzb4SCrHchUkkZPy4PpUrZJ90/wDNfIp7trs1/kzlfDPje7gt7iDUJbrUf+J9Fptub+IW13HFIoKvLGEXvux8qkjBrR1j4iHTWvUSwgX7Lqq6a1zeXZht0zCsvmSOEbYPmCjg845GasS/Dqyms7rzdV1KXUrm6huzqkjRmdZIf9WQAgjAHI27MHJp0PgQ2lhew2fiLVY59QuTc3dy4glaZjGsbKVaMqFwoOABg9OOKetv6/u/8H7xdf68/wDgfcUdR8avo1zrt7NbzXLWGmWdybWK7VoSZXkXEZ2A54+8Tg8cLSXvxIn0SDV18R6RDZ3dgts8Ucd9vjlFw5SPdIUXZhlO7ggAZBNXl+Guix6Tc6dHLeJBc2FtYNiRSVjgLFCCV+8Sxz29AKt6x4J03Wrq/ubma6jnvYrePfE6gwtA7SRunBwwZs85HA465HvoC/y/T/gnOD4rA6RdTi0sJJbW9htZLiLUC9iiyKWErT+XlVGCpynBx2Oa1v8AhNrn/hKNO0ZrTTY3u7aO4MsuolVm3EgrbHy8TFQMn7vBHHNaDeHdTfS2tpPFeptO0m77SYLXO3BBTZ5W0qc55Gc98cVnr8ObRLHS9NXVtQ/srTWhkSxIhKu8Tb1ct5e9SW5IUgdgAKa3+a+62v8AXy2F0/rudhRRRSGFc38OP+SWeFP+wLZ/+iErpK5v4cf8ks8Kf9gWz/8ARCUAdJRRRQAUUUUAFFFFABRRRQAVzfgP/kXbr/sNar/6cLiukrm/Af8AyLt1/wBhrVf/AE4XFAHSUUUUAFFFFABRRRQAUUUUAFY3i7X/APhF/Ct7rAt/tBtVBEZfYvLBcs2DhRnJODgA1s1T1b7d/Zkv9lW9rdXPGIbuQxxyDPzAsFYjjPY0nsNbmPD4nbTdBj1DxTJYoJ5ljtTpTy3YudwyoRQm5mPPCg8DP0yrj4n6ZZeJGt7wzJpx0xL1HWwuGmU+a6PvQLuRVCDJZRjuelY9l4A1zTrldY0600uzmh1UX1vocVy/2WNTA0UgEnl/K7bi3CYyMdya6AeHNav9V1HU9S+wwTX+i/YPJgld1jk3yt1KjK4decZJB4od91/Xu/5gktv63/yNDVPHfh7SJEW7vZH3QLcs1tayzrFC3SRzGpCKfVsDg+lLq3jnw/osyx3t5Ix8gXLm2tpZ1ihPSR2jVgiHB+ZsDg+lctD4N8T6La3NtpKaXeDU9ItrC4kuLh4/s0kURjLqBGfMQg5x8pyPfiRvBniDRPt1r4dGn3ttqWl2+nyS3s7xNbtFEYt+1UbepU525Xkdec05aXt8vPf/AIGoo62v/W3/AATp9H1+TVPFOtaeBC1rYx2zwSx5JkEqMxJOcEcDGKm1vXTpGpaJai3Eo1S9NqWL48v9077unP3MY461zVroeq+Co7+fSYU1OW5h06xs48Nn90vls8mBhVwS2cnpW34u0W/1RNLvNGNub7Sr5buKK5cpHMNjIyFgCVyrnBweQOKbsnptf+vwErtedvxt/mNuvGdjpmsa1b6wyWdlpUFpK92xJBM7SKAQBxgoOf8Aa7YqOXxzptzo13eaVcIslncQwTR6hBPbmMyOoXKlN/zBvlO3B45xkjHu/B+u65b63eaj9gs77VJrEJbRTvLHDFbS7+ZNgJY7n6LjoPerGu+CtQ1S98QTW89qq6nJpzQh2YFfs8m592F7jpjPvikvPv8A5f8ABKduh0K+KtFa0iuRfL5U141ihKMCZ1YqUIxkYKtknjAz05qna+PfDt3HPJHeyJHBbPeeZLayxrLAn3pIyygSKOOUz1HqKw5/h3dXXjTULuW7hXQ7hJp4bdc+ZHeSxCF5MYxjYGI5zlzWbpnw61CLw9c6bd6dZpeJpE2n2+onWLmcMzoEyIXXEanAJwTjAABFLXlv1t+n+f4MNL+V/wBf8vxOtHj7QGtLe4ilvJUunZbcRadcO84UAs6KEyyAMPnA289aoa18QrbQJrs3cRuo4r+2s1S0hmkkTzVU5kAjIBAbIAzngfeOKZ4q8ManqGg6Za6TaWr39nAY4b/+0JLWSzk2BQ6FEO9eOVOAcDg9qeo+Cdckg1aeKezury41DT76ESO0YlNusQcMQp2bjG2MA4yKp25vK/6r9L/oSrtK+9n951CeLtEk0+a9F4VhguUtJRJBIjpM5UKhQqGyd69u9T614h07w/HA2pSS77hzHBDbwSTyysBkhY4wWOAMnA471xE+h3N78ZLPeEitWtItW1K2Ql0W6iDRRYfAzndnoM+SDgV0fibR9Vl8QaPr2hRWt1caas8T2l1M0KypKFyQ4VsMCg7cgnpS6J/12/O/ysPq1/Xf8rGTrXxEjlvvDtr4ZuFZdYmkDXUmmXFwsaxg5XYm0h9wwQxG0ZJFbnjTxNN4X0VLiwsP7Sv55RFbWYk2GU4Ltzg4wisenasXRfBGpWOp6NqF5Pa+dDfX19exxM21WuAcJHkchcjk4z1x2rR13wlc+IfF1lfXOoTWlhp9q4txZzFJjO5wzHjG0IABzn5m/Ed9Ev6/rYatdt/1/W5an8b6FaaVpd/c3ThNWjEllHFA80k+VDbVVFJJwemKif4g+G0sbK5W+klF/wCZ9lihtJpJZTGQHURqpfcpPKkZHPHBri28P694T1bwppumLa6j9jv782K3Ezpm2aLcEdwh2uMsAcEcD14E0XxD4e8U+HGtbexvNUuH1W9uYGneOBTK8bFFk2EjGRglecHgZ4NG9Nhapf1/Xb7zp7nx5DJcRzaRNazabLol3qS3MwkUBoXjUBsAsAN7bhtLAjp2rQuPHGiae8UOoXbLKYopJngt5ZIoBJ90ySBcRgnoX28c1y9v8ONWj0eSGS6szcXGj6lay4Zgi3F3Mso2/L9xcEZ69OPSO7+HN5/bN5LJYW2r2mowW6TRyaxc2ixNHEI2BSNSsikKCMgHqOlEez/rV/pYcrdP62/4JteI/iNp+mXUdhpkn2i+/tK2sZN9tKYVMkiK6eaAE8wK2du7PtV7xh4on8PSaVa2cVp5+qXJt0nvpzFBEQhb5mAJycYA7nvXOzeC/EambSrQaZ/ZT68mri6knfzSnnrK0XlhMZBBw27BGBgdR1fiq1v77Txa2mi6XrVrMCtza6jOYlI7EHy3B56gj6Gl9hPr/wABfrcX2v68/wDgDLvxbaaJHaW/iEmPUpoTLJbafBNdhFBwz/JHkJk/eYAUyPxhYwWt7cajcRbIdQayhS0jllkkfAITYE3M/JJChhjv1rmtD8G+J/Ccthc6Z/Z2pz/2b9gnS5upI1gxM8iFG2MXRRIUwcEhVo1T4e6ncwyXCPbz3EevS6pHbrdy26yxvF5ZQyoNyNySCMjjB6mn1/ruv01D+vw/z0Oll8feHYrG1umvZSLuSSGCFbSZpnkT78flBd4cf3SM0r+PPDyaZY3yXc08d/v+zR21nNNM+zh/3SIXG3vkDHesrSfBlxaaloV9HZWunLZXN1cXUC30t0ztLHsDeY6gs3AznGO2ao2Xg7xD4f1Cy1TS00+/uYH1COS2muXhQxXNx5yMHEbYZcAEbe5weOTr/X9bh0udLN458P294lvJeS5byt0i2spjhMuPLEkgXbGWyMBiDyPWll8W2c/9pW+jxXV9e2SSgLHZy+U8qDmMSlQhbJAIDevoccnN4A1CXxFqFzf6daapb6rNFczg6xc2yQOERXXylUrIuUypOD2PrWzpXh3V7Px9PqUUFvpmmS+c1zFb30kq3rsRskMLIFicAEsVJyT360Wvo/P+v636Be2vp/X9bG1JrI0HwpDqXi+4t7R4oo/tssSt5SSNhTgcnbuOKq3PjrQ7S1t5p5L1fPiaZYv7OuDKsanDSPGE3Imf4mAFTeMdEuPEPhqTTrR4kleeCTMxIXCTI56A9lP41geLPBt7qPi5Nbs7aPUI5LEWc1q+qT2JXDllcNEDuHzEFSPQihtt/wBdv89ASsjX1L4geHNKZRc3ssitFHMXtbOa4REkOIyzRowXcemetXpPFGjxW15cS3m2KxuEtrgmN/3cr7NqkYzz5idPX614/wCIIDoviq+txbxLaWttYImhrdSx/b/KXKpFiNjMA3AJ2kkYbgV1+r+D/Et5PrNpYLpq6fq+o22otPcTuJYtnlbotgQgn91w27v0pqzfl/wV+lxO6/ry/wA7G5Y+NUEWqyarBNi01WWxgSxs5rh3VFVslUDHPJycAU1viNo7a5olhaJdXcWsQPNDcw2kzKoVlUA4Q45JznGzHzYyKyb3wb4hje4NjPFNbXOsz309pHqE1mZonjVUBljXcCrDJUcEd+1JongvXfD6eFHhFjdyaUt3Bdobl1GyeQPvRihLFQvQ4znr3pR6X8vy/wAxy3dvP8/8jaj8eaZb2EUupXAknmnuI4odNtp7lmWKQozbFj3/AC4G442g9CeMz3Xj7w5aW1lMb95xqEDXFotrbSzvNGuNxVUUnjIyMZHPoa5vTfB3iPwzqcOq6VHpuoXG28glt57l4VCS3TTo6uI25GcMMfQ8VoeGvA97oV/ok01zbyrY6ddW8+zI3SzzJKdgx9wEMOTnpxS1sv67/wDA+8btd/11NlfGmhyy2MdtczXbX8KXEP2W1lmAiY4V3KKdik8ZbHQ+hrO8ceLbnQL3RNO0793c6rdGIzvp892kSKjMTsjxliQBjcMAk9AawIvAev2Om6Ba6ellBqGnwxxPq8F/LGyKJSzxmLy8TIV6BiOSenWuy13RLjU9e8PXsDxLHpd5JPMHJBZWgkjAXA65cdccZqtPx/AXf0/GxFB450C41hNMjvJDO8zWySm1lWCSZc7o1mK+WWGD8oYngjtVrR/FOk69eXNvpM8tw1qzJNILaRY1dW2snmFQpYH+EHOOelcjp/gzxBDDpWhXI08aRpWqf2gl8k7meZVkaREMWwBWy2GbeeBwOeOp8IaJceH9Ceyu3ieRry5uMxEkbZJ3kXqBzhhn3pLa7/rb/gg9Nv63/wCB94sfi7SJNdXSPMuY7p3dIzNZzRxSsgJZUlZQjEAE8E9D6VDaeOdCv4riWzmu5YYEMnmrYTlJVDbSYm2Yl5OPk3VysfgTxDd+LLW+1e5jljtb65ma6bUp3aSGSORI0S3K+XGVDqOOuCc+tq00DxrbeAf+EagbTrNrG0jtra9t7yQPchGXriMeTujBBILEFsjpSW39f1oN/FY3x470D+yp797meJLe4W2lhls5knErYKx+SV3liCCAF5zWdo/xFsL6HWLu8cx2trqYsLRY7WUzzMYkfYYsFy+5mG0KCAvI4JrBt/h/rtp5+o26Wa3a6vb6lb2U2ozXAYRwmJo3nkUtkgkg4IBx2pbz4f6/fifUr0WLXza3/aa2dvfTQo0ZthCY/OVQ6sMEhgMHHQA4D6/1/d/4P3C/r8/+B951svj7w7FY2t017KRdySQwwpaTNM8iffj8oLvDj+6Rmk0z4geG9Zvba102/aaS7VjAxtpVjdlXcybyoXeByUzuHcVmaT4MuLTUtCvo7K105bK5uri6gW+lumdpY9gbzHUFm4Gc4x2zTdP8E6jaWnh6KSe1LaXqt3ezbWbDJKJ9oX5ev71c5wODye5LQOn9eZet/H+lR6Rps+o3Akub63NwI9Ntri5Hlg4MmBHuVB/eYCtfWfEmleH4baTVbhovtcnlW6pC8jyvtLbVVASSQDgY5rjNE8H+JvCj6ZcaWmmX86aSmm3KT3LxLGySM6yKRGSw+cgrhTwOa6rWtEutT1rw7exvCq6ZdvPOGJBYNBJHheDzlx1xxmm/Lv8Ar/kHX5fp/noV9O+IXhrVr21tbG+keS7do4i1rKieYASYmdlCrIACdhIbjpTLbxxpyWsJv5vNuLie4SOLTbae5JWKUozECPcAOAxIxk8EjBrPt/BWoRW2nxma1za+I59WfDNzE7ykKPl+9iQcdOvNZd74E12PQ4LXTYrL+0o7m8mt9Uj1CW3kszNO0gICxnzF2kbkPBIxz1CXT+ui/wCCvkD/AK/H/gP5nYt4v0ZdcfSRPM9zGwSVktZWiicruCvKF2K2OcFgfzqHTPHfh/V7wW1leSl2iaaJpbWWJLiNfvPE7qFkA9VJ9ax7Xw14hsrjW9LQWE2la1cS3Et807rPF5kYV1EQTBORkHcBg9OKr6X4U8RzS6HFrcem28GgWctvBJazvI127ReUGKlF8tduSRlufpSd+W/W36fo/vGrX1/r/h/wN7SvH/hvWpxHp+oMwa3a6jklt5Io5YlxuZHdQrBcjOCcd6yofidpd34kjt7WVhpaaVcajcXE9pNE4SNo9roGUbkKsxyAc44NVZPh5fXPh/w/pk91bp/Z+h3OmXMiFjl5YUjDJwMgFSecdqh/4QzxNrOF1saXZRxaBc6Ov2Wd5WZ5BGBLyigL8n3eo9Tnhy0bt0v/AO3f8D7xLVK/X/gf8E7O58T6NZswur6OHbZG/YuCAIAQC+cY6kcdfasLUvibo9haWVxHbanMl1ex2hU6Zcxum4Z37THkjHQAfN26GsK78C+J/EMFx/bB0uwb+xBpsK288k2ZFkRw7Eovykp0HIHrnja1jTfFeuaPaS3Nhpdvf6fqNveQ2qXrskqxn5g0hjG0nJx8pxjn2btf5/hzf5CV7fL8bf5nZxSLLEkibgrqGG5SpwfUHkfQ06qVg2ptJcHVIrSOPcv2cW8jOdu0bt5Kjnduxjtj6VdoYwooopAFFFFABRRRQAUUUUAFc38OP+SWeFP+wLZ/+iErpK5v4cf8ks8Kf9gWz/8ARCUAdJRRRQAUUUUAFFFFABRRRQAVzfgP/kXbr/sNar/6cLiukrm/Af8AyLt1/wBhrVf/AE4XFAHSUUUUAFFFFABRRRQAUUUUAFFFFABRRRQAUUUUAFFFFABRRRQAUUUUAFFFFABRRRQAUUUUAFFFFABRRRQAUUUUAFFFFABRRRQAUUUUAFFFFABRRRQAUUUUAFFFFABRRRQAUUUUAFFFFABRRRQAUUUUAFFFFABRRRQAUUUUAFFFFABRRRQAUUUUAFFFFABRRRQAUUUUAFFFFABXN/Dj/klnhT/sC2f/AKISukrm/hx/ySzwp/2BbP8A9EJQB0lFFFABRRRQAUUUUAFFFFABXN+A/wDkXbr/ALDWq/8ApwuK6Sub8B/8i7df9hrVf/ThcUAdJRRRQAUUUUAFFFFABRRRQAUUUUAFZI8VaC2unRV1a0OpAlTbCUbwQNxX645x1xzWtXl9vrFv4e8crZeGdcs9WtdY1SX7bpGQ1zYykEyTKVOQgK8hx34PIFK+odLnpFhf2uqWEV7p86XFtMu6OVDkMPUVYr59vvEuoXOi6Pa32sX0M1z4fWSG7bVZLNYbhpXXz5HDAyABRkHOPT5sjo/EQujH4xurbXdUxoWl2txpxg1CQRh/KZt5w37zdtGdxYHJ7nNU9Nf60v8A5DteXL/XT/M9fqrqOp2elW6T6hMIY5Jo4FYqTl3YKg4HdiBXkuq6prF5411SGXXbHSLu3ubb+zxeaxLbfuiiNlbcLsmDsXUk5OeOMCqmt31te6lN/amt3Y16LxXbwppn2t9i2y3MflnyM7QpXDeZgEk/e5xSWrS7/wCaX6k391v+tm/0Pb64r4q6/Fo3g8Wr3q2Mur3CWC3Bbb5Suf3j5/2Ywx+uK3x4p0RpxCNRiMhmmtwvP+siXdIvTqo5NY97qHha51vTfEt3rGTZ6ZNd2qk/uhA+0PPjbnOML16E8Ut/6+f4/wDBKWn9fL8Geff8JbbN8H9Vs4NTa6Hh7VraAXUbszS232mNo245PyHafUqa6iT4h6xN4JHiazsLcWl3eiGAGKWZrKAFg0twseWJyuCigbcjJ61Z1/SPCOt67c3t3rE9vcO1nY3McDgK8glWeAMCh+YnAzn7rEe4ZJpfhS5u7uXTvEd9YSX91LfKLKYIIp7cbJ5EBQjv84bcpPOM8076a/1tf71r5X+Yl5f1e/5P8vkY114o1jxBL4PutJuNIubx9XuIBJa3Dm2kUW8h3Ov3lIHPlnnIHPOa2JPHmq23hy7kvxo1nf2Wrtpk9zcXDR2wwocSKpO9iQwAQHOc84FN0/T/AAZp89rqZ1+4ubm3uE1aS6ndS1w1yhgjdwEAwRwAoXGBUt/oXhabUpVTXruy1Ma756TQOnmQXkkAHlqGjZSDGM4YHqeaHvb+r+7/AMH7/QNLX/r7T/yKWjfEzULxIpbuGxltYNaXS7y6t0kRSskYMUqB+VG9lUg565BrrvDGszeJrDULuaKNbE3k1vZlM5lhQ7C5Oe7B8YxxiuA1y10Ox8D61baHfXmtT+JUlu2uLm5jHkmEKj3JY7SFQqpIUE5A2rjp2+j6r4c8PeGo7CDUYltdItraORzn5RIAI2PH8XX8aas193/B/FP7/INU1/X9br7vM46PwF4cPxel0r7FL9hXREuRD9smwJDOy7vv56DFWPEPxNvdB1m4iR9Fe3tLyO2awSWSW6aNmVd5ZMpGfmztYdByea6eObw63jg6smpk6lKh0YQZ+TfHmZlxtzuAJOc4xXKXuheC73Tr3Pi3UodJvC+tPaQzIIlxKC0wPllyPMH3SxGe1KP2b+f53/8ASf66oktXby/K35/10LWqeO/EtmfEuoW1jpbaV4evRBKsjSCa4TZGzbSPlUgP1Oc9MDqWaz8T7/RWNvNY273VvrbWl2o3AJZAK3njnrskj9sk1qX2neFJrPxFo9zq8yHWr6IXgDjdHNMiCNE+XA3BARnPeob7RfBet65d6vNqLtNrtlPpBVXwjeXnzSoK8OAmCTxhBxSvZJ+X42T/AOB6Mej+/wDDX/h/kQ3/AMQdQjs5LqKTRrG1l1Se0trvUJWAMcXylhGDulZnDgBcAAZNU9M+I/iDXl0a10m10wXl9eXtpNNMJfJHkAESKvDYYH7p5561P/Zvg2HRdGk03xNd6f8A2Dp3nwX9u6GQ20x2l33xsrb2XJO3OfSrOjaD4S0PWrQ2+t3c15a6pOqpcTBy11cxBnRjtycqNw57nntVJWdn/WqX9eehLel/66v/AC+R3yb/AC18zaXwN20cZ74p1Y48W6EcY1KHn7Rjr/yw4l7fw96STxdoMUbSSanCqLBDcEnPEczbY26dGPApbj2Nmisv/hJdH3Bft8WTe/2fjn/j4xny+nXFQx+L9AliEsepwsht5rkNz/qom2yN06KeKOl/67/kBtUVjnxZoQJB1KHINuD16z/6rt/F2pw8U6I04hGoxGQzTW4Xn/WRLukXp1UcmjbcNzWorEbxl4fS1Fy2qQiE2aX2/nHkM21X6dCeKnfxLo6NIHv4gYrxLF+vyzuAVTp1O4fnR5f12/MP6/U1Kgvr610yxmvdQuI7a1gUvLNKwVUUdyT0qjb+J9Fup4obfUIpJJjOI1Gfm8ltsvb+E8Gue+Ieo2mqfBrWdQsJ1ntJ7EyRzL0Zcjnmk9rjSu7HR6P4k0TxAJDoerWeoeVjzBbTq5TPTIByPxrQmmjt4XmnkSKKNSzu7AKoHUknoK84u9a0vW/Helar4XmXUk0zT7ttSu9OIkUxFBsi3rwzlxkLnIwTxXHRai+vaX4jtbW7mexu/C0t59ng124vmWYEEb2bGx8Nho1OCOCMdRuy/rz/AMv63CKvb5fp/me9KyuoZCGVhkEHIIpa8Rv9TQy6RY6d4hgj0RtG821u7vxHPbI1zvIf98u4uyDbiNjgAnj09Vs9TTSfB1jfeIdSt5CltCLi9jOY5XYKu5eOjMRjjvVtb+v6tfoQne39dv8AM2a8L1PVTo0V9qV5JrC+MoNbHB8/yfsxuAqqB/qvJMRA/wB4+tewJ4l0eS9W0S/iNw109msfOTMqb2Tp1C81xr2fhea8N3ceLLyfSTNNqw0yR1MAaGT94+dnmFEfnZuxntjipWkk/wCuj/Ip6xa/rqvz/rQlvNOj8Taz4hvr7VZdP0uznhs5XjlMYkhhUySqXBBVS8mGIPSPFR+DLPUbvTdek8MXc+maNeTx/wBjSXqvOUQKBLKiO2QrHJQE4/ixg4KazovhbUvDI0C78SXdtFFexXs8kBTdNJcSs8QcPGysrO3Ax2Ga2vD97pukkwy+Lb3WGuLiS3iF/wCVlJIQTIi+XEnQA5znpxQtE0/62v8Aj0/zB6tNf1vb8DmtCvry2+BLKLua41C6nuLCG4mfdI8st08SsT6jdn8Kg8X+HrbTB9j0zUL+98V3rRrosUNy6fYYkCqG2q20RLglmYfNnHJxW1ZL4PsdE01IdcZ7DSmOtgyHO9JWk2u2FHy7nJGBnKjNVX8PaKvi7UtQsvHWtWWo6jfLazxwtbnEvl70hUvAxChOQM4/Gmr82v8AW363/IHt/X9bWZjaxHPe6D418Vz3t0mraHfSx2Dx3DokCwIhChAdpDktuyDnd9Kv+OtOt2We5+26heeKNXRV0Oztrl42s2CD5lVWwEDZd3YYxwewq1qOj+FdSv7qQ+J7uGx1KWSa/wBOiZPJu3tcCUsSm5cbVDhWAbFMvNI8PjxHqHiK38davp1zeW9vNKYDblUgkOyELvgYqhPQZ6nJqVqkvT8v1tuG2vr+ez9Cr8RtF1DTdHuNeU6pf6kEjIvoLsxxaQsYXfIIlYFwTuYgKxPIOBXqFtMlzaRTwyCWORA6uOjAjINcBqPh/wAP6hdXoTxXqFrbapdrp2pWkLoEvLlUClCTGWRmUANsKgj0rp7XxT4cjsoltdQgW3S1lmjCg4EMJ2Ow46KeKd9P67a/5/mK2qX9eX+X5dTdorHPizQgSDqUOQbcHr1n/wBV2/i7U4eKdEacQjUYjIZprcLz/rIl3SL06qOTRtuPc1qKxX8YaBHaJcvqcIhksTqCvzg24xmTp05HvzUjeKNFSWSNtQiDx3EVs454llAMa9OrAj86PL+u35ga1FZVv4n0W6niht9QikkmM4jUZ+byW2y9v4Twag/4TTw79k+0/wBqw+T9lS83848l22K/ToW4o3A3KKy38S6Ol41o9/EJ1u1synORMyb1Tp1K81GnivQ5ILaZNShMd2k0kDc/OsX+sI4/hxzR0uHWxsUVinxhoC28k51OERRQw3Dtz8scxxE3Tox6VMniXR3vFtEv4jO109mE5yZkTeydOoXmgPM1KKwv+E18O/Y/tX9qw+R9la83848lW2s/ToG4rcVg6hlOQRkH1oAWiiigAooooAKKKKACiiigAooooAK5v4cf8ks8Kf8AYFs//RCV0lc38OP+SWeFP+wLZ/8AohKAOkooooAKKKKACiiigAooooAK43SrTxjoMF1Z2ek6HeW76heXUU0usTQuyzXMkwDILVgCBJg4Y9K7KigDm/t3jf8A6F7w/wD+D6f/AOQ6Pt3jf/oXvD//AIPp/wD5DrpKKAOb+3eN/wDoXvD/AP4Pp/8A5Do+3eN/+he8P/8Ag+n/APkOukooA5v7d43/AOhe8P8A/g+n/wDkOj7d43/6F7w//wCD6f8A+Q66SigDm/t3jf8A6F7w/wD+D6f/AOQ6Pt3jf/oXvD//AIPp/wD5DrpKKAOb+3eN/wDoXvD/AP4Pp/8A5Do+3eN/+he8P/8Ag+n/APkOukooA5v7d43/AOhe8P8A/g+n/wDkOmC68aCQyDw34dDsMFhrs2SPr9jrp6KAPOdY8N+LNX1Oe+Gm6fYy3VutrdC08SSqJ4gWIVs2Rx99uVweetbdm3jDT7GCzs/DXh6K3t41iiQa9P8AKqjAH/Hn6Curoo2Dd3OYa58aO6u3hrw6zL91jrs2R9P9DpftfjUSFx4b8PbyMFv7dmzj0z9jrpqKAOb+3eN/+he8P/8Ag+n/APkOj7d43/6F7w//AOD6f/5DrpKKAOb+3eN/+he8P/8Ag+n/APkOj7d43/6F7w//AOD6f/5DrpKKAOb+3eN/+he8P/8Ag+n/APkOj7d43/6F7w//AOD6f/5DrpKKAOb+3eN/+he8P/8Ag+n/APkOj7d43/6F7w//AOD6f/5DrpKKAOb+3eN/+he8P/8Ag+n/APkOj7d43/6F7w//AOD6f/5DrpKKAOb+3eN/+he8P/8Ag+n/APkOj7d43/6F7w//AOD6f/5DrpKKAOb+3eN/+he8P/8Ag+n/APkOj7d43/6F7w//AOD6f/5DrpKKAOb+3eN/+he8P/8Ag+n/APkOj7d43/6F7w//AOD6f/5DrpKKAOb+3eN/+he8P/8Ag+n/APkOj7d43/6F7w//AOD6f/5DrpKKAOb+3eN/+he8P/8Ag+n/APkOj7d43/6F7w//AOD6f/5DrpKKAOb+3eN/+he8P/8Ag+n/APkOj7d43/6F7w//AOD6f/5DrpKKAOb+3eN/+he8P/8Ag+n/APkOj7d43/6F7w//AOD6f/5DrpKKAOb+3eN/+he8P/8Ag+n/APkOmpd+NY1ITw34eUE5IGuzDn/wDrpqKAOXM3jExiM+GPDexTkL/bk2Afp9jqT7d43/AOhe8P8A/g+n/wDkOukooA5v7d43/wChe8P/APg+n/8AkOj7d43/AOhe8P8A/g+n/wDkOukooA5v7d43/wChe8P/APg+n/8AkOj7d43/AOhe8P8A/g+n/wDkOukooA5v7d43/wChe8P/APg+n/8AkOj7d43/AOhe8P8A/g+n/wDkOukooA5v7d43/wChe8P/APg+n/8AkOj7d43/AOhe8P8A/g+n/wDkOukooA5v7d43/wChe8P/APg+n/8AkOj7d43/AOhe8P8A/g+n/wDkOukooA5v7d43/wChe8P/APg+n/8AkOj7d43/AOhe8P8A/g+n/wDkOukooA5v7d43/wChe8P/APg+n/8AkOj7d43/AOhe8P8A/g+n/wDkOukooA5v7d43/wChe8P/APg+n/8AkOj7d43/AOhe8P8A/g+n/wDkOukooA5v7d43/wChe8P/APg+n/8AkOj7d43/AOhe8P8A/g+n/wDkOukooA5v7d43/wChe8P/APg+n/8AkOj7d43/AOhe8P8A/g+n/wDkOukooA5v7d43/wChe8P/APg+n/8AkOj7d43/AOhe8P8A/g+n/wDkOukooA5v7d43/wChe8P/APg+n/8AkOj7d43/AOhe8P8A/g+n/wDkOukooA5v7d43/wChe8P/APg+n/8AkOj7d43/AOhe8P8A/g+n/wDkOukooA5v7d43/wChe8P/APg+n/8AkOj7d43/AOhe8P8A/g+n/wDkOukooA5v7d43/wChe8P/APg+n/8AkOj7d43/AOhe8P8A/g+n/wDkOukooA5v7d43/wChe8P/APg+n/8AkOj7d43/AOhe8P8A/g+n/wDkOukooA5v7d43/wChe8P/APg+n/8AkOrvhPSp9B8F6JpF40b3Gn6fBaytESUZkjVSVJAOMjjIFa9FABRRRQAUUUUAFFFFAH//2Q==)"
      ],
      "metadata": {
        "id": "MuSfFiEiaaFb"
      }
    },
    {
      "cell_type": "code",
      "source": [
        "%%shell\n",
        "jupyter nbconvert --to html ML_PROJECT_AKSHAY_TANWAR_GH1023397.ipynb"
      ],
      "metadata": {
        "colab": {
          "base_uri": "https://localhost:8080/"
        },
        "id": "BdR04NSkcI6r",
        "outputId": "c7fc2014-4877-4bb2-becb-b8a7a94e1b23"
      },
      "execution_count": 1,
      "outputs": [
        {
          "output_type": "stream",
          "name": "stdout",
          "text": [
            "[NbConvertApp] Converting notebook ML_PROJECT_AKSHAY_TANWAR_GH1023397.ipynb to html\n",
            "[NbConvertApp] Writing 976420 bytes to ML_PROJECT_AKSHAY_TANWAR_GH1023397.html\n"
          ]
        },
        {
          "output_type": "execute_result",
          "data": {
            "text/plain": []
          },
          "metadata": {},
          "execution_count": 1
        }
      ]
    },
    {
      "cell_type": "code",
      "source": [],
      "metadata": {
        "id": "F2HlY7aicQ6K"
      },
      "execution_count": null,
      "outputs": []
    }
  ]
}